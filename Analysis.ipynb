{
 "cells": [
  {
   "cell_type": "code",
   "execution_count": 1,
   "metadata": {},
   "outputs": [],
   "source": [
    "\n",
    "import followthemoney as ftm\n",
    "import followthemoney.model as model\n",
    "import pandas\n",
    "import json\n",
    "import numpy as np\n",
    "import math\n",
    "from urllib import parse as url_parse\n",
    "from pprint import pprint\n",
    "import matplotlib.pyplot as plt\n",
    "import sklearn\n",
    "import sklearn.metrics as metrics \n",
    "from sklearn.preprocessing import OneHotEncoder\n",
    "from sklearn.linear_model import LinearRegression\n",
    "import seaborn as sb"
   ]
  },
  {
   "cell_type": "markdown",
   "metadata": {},
   "source": [
    "# Importing and preprocessing"
   ]
  },
  {
   "cell_type": "code",
   "execution_count": 2,
   "metadata": {},
   "outputs": [],
   "source": [
    "# local import for easier reproducibility \n",
    "json_path = \"./data/meineabgeordneten_agg.json\"\n",
    "\n",
    "def read_ftm_json(path):\n",
    "    entity_dicts = []\n",
    "    with open(path) as f:\n",
    "        for line in f:\n",
    "            entity_dicts.append(json.loads(line))\n",
    "    return entity_dicts\n",
    "\n",
    "entity_dicts = read_ftm_json(json_path)"
   ]
  },
  {
   "cell_type": "code",
   "execution_count": 3,
   "metadata": {},
   "outputs": [],
   "source": [
    "person_dicts = [entity for entity in entity_dicts if entity[\"schema\"] == \"Person\"]\n",
    "ftm_proxies =[model.get_proxy(entity) for entity in entity_dicts]\n",
    "ftm_persons = [proxy for proxy in ftm_proxies if proxy.schema.name == \"Person\"]\n",
    "ftm_organizations = [proxy for proxy in ftm_proxies if proxy.schema.name == \"Organization\"]\n",
    "ftm_companies = [proxy for proxy in ftm_proxies if proxy.schema.name == \"Company\"]\n",
    "person_assignments = pandas.read_csv(\"./data/csv/new/Person_wikidata.csv\")[[\"id\", \"wikidata\"]]"
   ]
  },
  {
   "cell_type": "code",
   "execution_count": 4,
   "metadata": {},
   "outputs": [],
   "source": [
    "#ftm_persons_wd = {proxy.id: proxy.clone() for proxy in ftm_proxies}"
   ]
  },
  {
   "cell_type": "code",
   "execution_count": 5,
   "metadata": {
    "tags": []
   },
   "outputs": [],
   "source": [
    "#dicts = []\n",
    "#output_json = open(\"./data/output/meineabgeordneten_wikidata.json\",\"w\")\n",
    "#for index, row in person_assignments.iterrows():\n",
    "#    ftm_ent = ftm_persons_wd[row.id]\n",
    "#    ftm_ent.add(\"wikidataId\", row[\"wikidata\"])\n",
    "#    \n",
    "\n",
    "#for _, ftm_ent in ftm_persons_wd.items():\n",
    "#    json_ent = json.dumps(ftm_ent.to_dict(), sort_keys=True)\n",
    "#    output_json.write(json_ent + \"\\n\")\n"
   ]
  },
  {
   "cell_type": "code",
   "execution_count": 6,
   "metadata": {},
   "outputs": [
    {
     "output_type": "execute_result",
     "data": {
      "text/plain": [
       "                                         id    wikidata\n",
       "0  00023638949ec143e690ae151d28e389574f07dc   Q51533040\n",
       "1  001d48bf2913572202d88f00e35262f490771b40   Q81526090\n",
       "2  00ad3c5b5a651f6e00080803ffefb1d306c6d027   Q20752545\n",
       "3  00def69ad3d13efe8151da80f1485a692954d183  Q102353097\n",
       "4  00e70efc17aff680e675349ca87d7b80be04c452   Q50843964"
      ],
      "text/html": "<div>\n<style scoped>\n    .dataframe tbody tr th:only-of-type {\n        vertical-align: middle;\n    }\n\n    .dataframe tbody tr th {\n        vertical-align: top;\n    }\n\n    .dataframe thead th {\n        text-align: right;\n    }\n</style>\n<table border=\"1\" class=\"dataframe\">\n  <thead>\n    <tr style=\"text-align: right;\">\n      <th></th>\n      <th>id</th>\n      <th>wikidata</th>\n    </tr>\n  </thead>\n  <tbody>\n    <tr>\n      <th>0</th>\n      <td>00023638949ec143e690ae151d28e389574f07dc</td>\n      <td>Q51533040</td>\n    </tr>\n    <tr>\n      <th>1</th>\n      <td>001d48bf2913572202d88f00e35262f490771b40</td>\n      <td>Q81526090</td>\n    </tr>\n    <tr>\n      <th>2</th>\n      <td>00ad3c5b5a651f6e00080803ffefb1d306c6d027</td>\n      <td>Q20752545</td>\n    </tr>\n    <tr>\n      <th>3</th>\n      <td>00def69ad3d13efe8151da80f1485a692954d183</td>\n      <td>Q102353097</td>\n    </tr>\n    <tr>\n      <th>4</th>\n      <td>00e70efc17aff680e675349ca87d7b80be04c452</td>\n      <td>Q50843964</td>\n    </tr>\n  </tbody>\n</table>\n</div>"
     },
     "metadata": {},
     "execution_count": 6
    }
   ],
   "source": [
    "person_assignments.head()"
   ]
  },
  {
   "source": [
    "print(len(ftm_persons), len(person_assignments))"
   ],
   "cell_type": "code",
   "metadata": {},
   "execution_count": 7,
   "outputs": [
    {
     "output_type": "stream",
     "name": "stdout",
     "text": [
      "766 766\n"
     ]
    }
   ]
  },
  {
   "source": [
    "All properties of entities are multivalued, although they mostly hold only one single value. I transform the data in order to call the API with single-valued properties."
   ],
   "cell_type": "markdown",
   "metadata": {}
  },
  {
   "cell_type": "code",
   "execution_count": 8,
   "metadata": {},
   "outputs": [],
   "source": [
    "def entity2df(entities):   \n",
    "    flat_entities = []\n",
    "    for entity in entities:\n",
    "        prop_dict ={}\n",
    "        for prop, val in entity.properties.items():\n",
    "            prop_dict[\"id\"] = entity.id\n",
    "            prop_dict[prop] = val[0] if len(val)== 1 else  val\n",
    "        flat_entities.append(prop_dict)\n",
    "    return pandas.DataFrame.from_dict(flat_entities)\n",
    "\n",
    "\n"
   ]
  },
  {
   "cell_type": "code",
   "execution_count": 9,
   "metadata": {},
   "outputs": [
    {
     "output_type": "execute_result",
     "data": {
      "text/plain": [
       "                                           id   birthDate       birthPlace  \\\n",
       "0    00023638949ec143e690ae151d28e389574f07dc  1987-02-23        Innsbruck   \n",
       "1    001d48bf2913572202d88f00e35262f490771b40  1976-06-25  Wiener Neustadt   \n",
       "2    00ad3c5b5a651f6e00080803ffefb1d306c6d027  1971-02-27       Rottenmann   \n",
       "3    00def69ad3d13efe8151da80f1485a692954d183  1980-10-20             Wien   \n",
       "4    00e70efc17aff680e675349ca87d7b80be04c452  1970-07-10       Eisenstadt   \n",
       "..                                        ...         ...              ...   \n",
       "761  fcc94a122228733902b6f601abc54631aa205a4b  1963-01-16         Radstadt   \n",
       "762  fd6b5ddebf7ed34449bac5a96eb2acbdbf5e4a3e  1966-11-04             Wien   \n",
       "763  fdc8f2275cf8bea8331ea4a779755915d0c29363         NaN              NaN   \n",
       "764  fe532c498a07fc06380579af855e68389239c43b  1964-06-30             Graz   \n",
       "765  fea62afd157dd3f7ec3253d21547bb3b0a6f30bf  1974-12-17  Wiener Neustadt   \n",
       "\n",
       "    country                                     email        firstName  \\\n",
       "0        at                  buero.wohlgemuth@oegb.at           Philip   \n",
       "1        at           waltraud.ungersboeck@noel.gv.at         Waltraud   \n",
       "2        at                    armin.forstner@stvp.at            Armin   \n",
       "3        at                        spassfabrik@gmx.at           Silvia   \n",
       "4        at                    elvira.schmidt@spoe.at           Elvira   \n",
       "..      ...                                       ...              ...   \n",
       "761      at                  liesl.weitgasser@neos.eu        Elisabeth   \n",
       "762      at          elisabeth.trummer.spoe@gmail.com        Elisabeth   \n",
       "763      at                    daniela.schmid@ages.at          Daniela   \n",
       "764      at  andrea-michaela.schartel@parlament.gv.at  Andrea Michaela   \n",
       "765      at                        frankenhof2@gmx.at            Irene   \n",
       "\n",
       "               lastName                      name  \\\n",
       "0            Wohlgemuth         Philip Wohlgemuth   \n",
       "1            Ungersböck       Waltraud Ungersböck   \n",
       "2              Forstner            Armin Forstner   \n",
       "3                Janoch             Silvia Janoch   \n",
       "4               Schmidt            Elvira Schmidt   \n",
       "..                  ...                       ...   \n",
       "761          Weitgasser      Elisabeth Weitgasser   \n",
       "762             Trummer         Elisabeth Trummer   \n",
       "763              Schmid            Daniela Schmid   \n",
       "764            Schartel  Andrea Michaela Schartel   \n",
       "765  Neumann-Hartberger  Irene Neumann-Hartberger   \n",
       "\n",
       "                                             sourceUrl  \\\n",
       "0    https://www.meineabgeordneten.at/Abgeordnete/p...   \n",
       "1    https://www.meineabgeordneten.at/Abgeordnete/W...   \n",
       "2    https://www.meineabgeordneten.at/Abgeordnete/a...   \n",
       "3    https://www.meineabgeordneten.at/Abgeordnete/s...   \n",
       "4    https://www.meineabgeordneten.at/Abgeordnete/e...   \n",
       "..                                                 ...   \n",
       "761  https://www.meineabgeordneten.at/Abgeordnete/e...   \n",
       "762  https://www.meineabgeordneten.at/Abgeordnete/e...   \n",
       "763  https://www.meineabgeordneten.at/Abgeordnete/d...   \n",
       "764  https://www.meineabgeordneten.at/Abgeordnete/A...   \n",
       "765  https://www.meineabgeordneten.at/Abgeordnete/i...   \n",
       "\n",
       "                                               summary  \\\n",
       "0                             Abgeordneter zum Landtag   \n",
       "1    [Vizebürgermeisterin, Abgeordnete zum Landtag,...   \n",
       "2    [Steirischer Zivilschutzverband, Abgeordneter ...   \n",
       "3    [Schriftführerin des Wiener Landtages und Geme...   \n",
       "4    [Verein der Freundinnen der \"Frau und Politik\"...   \n",
       "..                                                 ...   \n",
       "761  [S-berg Hotel Ges.m.b.H., Abgeordnete zum Land...   \n",
       "762  [\"mittelburgenland plus\", Verein zur Dynamisie...   \n",
       "763                                                NaN   \n",
       "764  [Mitglied des Bundesrates, Österreichischer Ka...   \n",
       "765  [RAIFFEISEN-HOLDING NIEDERÖSTERREICH-WIEN regi...   \n",
       "\n",
       "                                               website               title  \\\n",
       "0    [https://www.instagram.com/philip_wohlgemuth/,...                 NaN   \n",
       "1    [https://www.facebook.com/profile.php?id=10001...                 NaN   \n",
       "2                 https://www.facebook.com/a.forstner/                 NaN   \n",
       "3               https://www.facebook.com/silvia.janoch          Dipl.-Päd.   \n",
       "4               https://www.facebook.com/virli.schmidt                 NaN   \n",
       "..                                                 ...                 ...   \n",
       "761  [https://www.facebook.com/weitgasserliesl/, ht...                 NaN   \n",
       "762          https://www.facebook.com/Trummerelisabeth                 NaN   \n",
       "763                                                NaN  Priv.-Doz.in Dr.in   \n",
       "764  [https://www.facebook.com/Andrea-Michaela-Scha...                 NaN   \n",
       "765  [https://www.facebook.com/irene.neumannhartber...                 NaN   \n",
       "\n",
       "       wikidata  \n",
       "0     Q51533040  \n",
       "1     Q81526090  \n",
       "2     Q20752545  \n",
       "3    Q102353097  \n",
       "4     Q50843964  \n",
       "..          ...  \n",
       "761   Q54956531  \n",
       "762   Q84091498  \n",
       "763         NaN  \n",
       "764   Q19501935  \n",
       "765   Q81616188  \n",
       "\n",
       "[766 rows x 13 columns]"
      ],
      "text/html": "<div>\n<style scoped>\n    .dataframe tbody tr th:only-of-type {\n        vertical-align: middle;\n    }\n\n    .dataframe tbody tr th {\n        vertical-align: top;\n    }\n\n    .dataframe thead th {\n        text-align: right;\n    }\n</style>\n<table border=\"1\" class=\"dataframe\">\n  <thead>\n    <tr style=\"text-align: right;\">\n      <th></th>\n      <th>id</th>\n      <th>birthDate</th>\n      <th>birthPlace</th>\n      <th>country</th>\n      <th>email</th>\n      <th>firstName</th>\n      <th>lastName</th>\n      <th>name</th>\n      <th>sourceUrl</th>\n      <th>summary</th>\n      <th>website</th>\n      <th>title</th>\n      <th>wikidata</th>\n    </tr>\n  </thead>\n  <tbody>\n    <tr>\n      <th>0</th>\n      <td>00023638949ec143e690ae151d28e389574f07dc</td>\n      <td>1987-02-23</td>\n      <td>Innsbruck</td>\n      <td>at</td>\n      <td>buero.wohlgemuth@oegb.at</td>\n      <td>Philip</td>\n      <td>Wohlgemuth</td>\n      <td>Philip Wohlgemuth</td>\n      <td>https://www.meineabgeordneten.at/Abgeordnete/p...</td>\n      <td>Abgeordneter zum Landtag</td>\n      <td>[https://www.instagram.com/philip_wohlgemuth/,...</td>\n      <td>NaN</td>\n      <td>Q51533040</td>\n    </tr>\n    <tr>\n      <th>1</th>\n      <td>001d48bf2913572202d88f00e35262f490771b40</td>\n      <td>1976-06-25</td>\n      <td>Wiener Neustadt</td>\n      <td>at</td>\n      <td>waltraud.ungersboeck@noel.gv.at</td>\n      <td>Waltraud</td>\n      <td>Ungersböck</td>\n      <td>Waltraud Ungersböck</td>\n      <td>https://www.meineabgeordneten.at/Abgeordnete/W...</td>\n      <td>[Vizebürgermeisterin, Abgeordnete zum Landtag,...</td>\n      <td>[https://www.facebook.com/profile.php?id=10001...</td>\n      <td>NaN</td>\n      <td>Q81526090</td>\n    </tr>\n    <tr>\n      <th>2</th>\n      <td>00ad3c5b5a651f6e00080803ffefb1d306c6d027</td>\n      <td>1971-02-27</td>\n      <td>Rottenmann</td>\n      <td>at</td>\n      <td>armin.forstner@stvp.at</td>\n      <td>Armin</td>\n      <td>Forstner</td>\n      <td>Armin Forstner</td>\n      <td>https://www.meineabgeordneten.at/Abgeordnete/a...</td>\n      <td>[Steirischer Zivilschutzverband, Abgeordneter ...</td>\n      <td>https://www.facebook.com/a.forstner/</td>\n      <td>NaN</td>\n      <td>Q20752545</td>\n    </tr>\n    <tr>\n      <th>3</th>\n      <td>00def69ad3d13efe8151da80f1485a692954d183</td>\n      <td>1980-10-20</td>\n      <td>Wien</td>\n      <td>at</td>\n      <td>spassfabrik@gmx.at</td>\n      <td>Silvia</td>\n      <td>Janoch</td>\n      <td>Silvia Janoch</td>\n      <td>https://www.meineabgeordneten.at/Abgeordnete/s...</td>\n      <td>[Schriftführerin des Wiener Landtages und Geme...</td>\n      <td>https://www.facebook.com/silvia.janoch</td>\n      <td>Dipl.-Päd.</td>\n      <td>Q102353097</td>\n    </tr>\n    <tr>\n      <th>4</th>\n      <td>00e70efc17aff680e675349ca87d7b80be04c452</td>\n      <td>1970-07-10</td>\n      <td>Eisenstadt</td>\n      <td>at</td>\n      <td>elvira.schmidt@spoe.at</td>\n      <td>Elvira</td>\n      <td>Schmidt</td>\n      <td>Elvira Schmidt</td>\n      <td>https://www.meineabgeordneten.at/Abgeordnete/e...</td>\n      <td>[Verein der Freundinnen der \"Frau und Politik\"...</td>\n      <td>https://www.facebook.com/virli.schmidt</td>\n      <td>NaN</td>\n      <td>Q50843964</td>\n    </tr>\n    <tr>\n      <th>...</th>\n      <td>...</td>\n      <td>...</td>\n      <td>...</td>\n      <td>...</td>\n      <td>...</td>\n      <td>...</td>\n      <td>...</td>\n      <td>...</td>\n      <td>...</td>\n      <td>...</td>\n      <td>...</td>\n      <td>...</td>\n      <td>...</td>\n    </tr>\n    <tr>\n      <th>761</th>\n      <td>fcc94a122228733902b6f601abc54631aa205a4b</td>\n      <td>1963-01-16</td>\n      <td>Radstadt</td>\n      <td>at</td>\n      <td>liesl.weitgasser@neos.eu</td>\n      <td>Elisabeth</td>\n      <td>Weitgasser</td>\n      <td>Elisabeth Weitgasser</td>\n      <td>https://www.meineabgeordneten.at/Abgeordnete/e...</td>\n      <td>[S-berg Hotel Ges.m.b.H., Abgeordnete zum Land...</td>\n      <td>[https://www.facebook.com/weitgasserliesl/, ht...</td>\n      <td>NaN</td>\n      <td>Q54956531</td>\n    </tr>\n    <tr>\n      <th>762</th>\n      <td>fd6b5ddebf7ed34449bac5a96eb2acbdbf5e4a3e</td>\n      <td>1966-11-04</td>\n      <td>Wien</td>\n      <td>at</td>\n      <td>elisabeth.trummer.spoe@gmail.com</td>\n      <td>Elisabeth</td>\n      <td>Trummer</td>\n      <td>Elisabeth Trummer</td>\n      <td>https://www.meineabgeordneten.at/Abgeordnete/e...</td>\n      <td>[\"mittelburgenland plus\", Verein zur Dynamisie...</td>\n      <td>https://www.facebook.com/Trummerelisabeth</td>\n      <td>NaN</td>\n      <td>Q84091498</td>\n    </tr>\n    <tr>\n      <th>763</th>\n      <td>fdc8f2275cf8bea8331ea4a779755915d0c29363</td>\n      <td>NaN</td>\n      <td>NaN</td>\n      <td>at</td>\n      <td>daniela.schmid@ages.at</td>\n      <td>Daniela</td>\n      <td>Schmid</td>\n      <td>Daniela Schmid</td>\n      <td>https://www.meineabgeordneten.at/Abgeordnete/d...</td>\n      <td>NaN</td>\n      <td>NaN</td>\n      <td>Priv.-Doz.in Dr.in</td>\n      <td>NaN</td>\n    </tr>\n    <tr>\n      <th>764</th>\n      <td>fe532c498a07fc06380579af855e68389239c43b</td>\n      <td>1964-06-30</td>\n      <td>Graz</td>\n      <td>at</td>\n      <td>andrea-michaela.schartel@parlament.gv.at</td>\n      <td>Andrea Michaela</td>\n      <td>Schartel</td>\n      <td>Andrea Michaela Schartel</td>\n      <td>https://www.meineabgeordneten.at/Abgeordnete/A...</td>\n      <td>[Mitglied des Bundesrates, Österreichischer Ka...</td>\n      <td>[https://www.facebook.com/Andrea-Michaela-Scha...</td>\n      <td>NaN</td>\n      <td>Q19501935</td>\n    </tr>\n    <tr>\n      <th>765</th>\n      <td>fea62afd157dd3f7ec3253d21547bb3b0a6f30bf</td>\n      <td>1974-12-17</td>\n      <td>Wiener Neustadt</td>\n      <td>at</td>\n      <td>frankenhof2@gmx.at</td>\n      <td>Irene</td>\n      <td>Neumann-Hartberger</td>\n      <td>Irene Neumann-Hartberger</td>\n      <td>https://www.meineabgeordneten.at/Abgeordnete/i...</td>\n      <td>[RAIFFEISEN-HOLDING NIEDERÖSTERREICH-WIEN regi...</td>\n      <td>[https://www.facebook.com/irene.neumannhartber...</td>\n      <td>NaN</td>\n      <td>Q81616188</td>\n    </tr>\n  </tbody>\n</table>\n<p>766 rows × 13 columns</p>\n</div>"
     },
     "metadata": {},
     "execution_count": 9
    }
   ],
   "source": [
    "# Dataframe with Wikidata Cells\n",
    "clean_person_df = entity2df(ftm_persons).merge(person_assignments,on=\"id\")\n",
    "clean_person_df"
   ]
  },
  {
   "cell_type": "markdown",
   "metadata": {},
   "source": [
    "# Reconciliation"
   ]
  },
  {
   "cell_type": "code",
   "execution_count": 10,
   "metadata": {},
   "outputs": [],
   "source": [
    "import requests\n",
    "import urllib\n",
    "reconciliation_endpoint = urllib.parse.urlparse(\"https://wikidata.reconci.link/de/api\")\n"
   ]
  },
  {
   "cell_type": "markdown",
   "metadata": {},
   "source": [
    "Ontology alignment was statically performed with 3 variations. At the first mapping (mapping_full) all available properties are mapped according to Wikidata, if a corresponding property existed. In the second one, properties that are seldomoly existent in Wikidata were omitted. In the last one, a minimal set of properties were mapped to evaluate the scoring mechanism."
   ]
  },
  {
   "cell_type": "code",
   "execution_count": 11,
   "metadata": {},
   "outputs": [],
   "source": [
    "mapping_full = {\n",
    "    \"birthDate\" : \"P569\",\n",
    "    \"birthPlace\" : \"P19\",\n",
    "    \"email\" : \"P968\",\n",
    "    \"firstName\" : \"P735\",\n",
    "    \"lastName\" : \"P734\",\n",
    "    \"title\" : \"P512\",\n",
    "    \"website\" : \"P856\"\n",
    "}"
   ]
  },
  {
   "cell_type": "code",
   "execution_count": 12,
   "metadata": {},
   "outputs": [],
   "source": [
    "mapping_refined = {\n",
    "    \"birthDate\" : \"P569\",\n",
    "    \"birthPlace\" : \"P19\",\n",
    "    #\"email\" : \"P968\",\n",
    "    \"firstName\" : \"P735\",\n",
    "    \"lastName\" : \"P734\",\n",
    "    \"title\" : \"P512\",\n",
    "    #\"website\" : \"P856\"\n",
    "}"
   ]
  },
  {
   "cell_type": "code",
   "execution_count": 13,
   "metadata": {},
   "outputs": [],
   "source": [
    "mapping_sparse = {\n",
    "    \"birthDate\" : \"P569\",\n",
    "}"
   ]
  },
  {
   "cell_type": "code",
   "execution_count": 14,
   "metadata": {},
   "outputs": [],
   "source": [
    "def createQuery(entity, type, mapping, limit = 10):\n",
    "    query_params = {}\n",
    "    query_params[\"query\"] = entity.first(\"name\")\n",
    "    query_params[\"type\"] = type\n",
    "    query_params[\"properties\"] = []\n",
    "    query_params[\"limit\"] = limit # candidate limit\n",
    "    for prop, value in entity.properties.items():\n",
    "        #print(prop, mapping.get(prop))\n",
    "        wikidataId = mapping.get(prop)\n",
    "        if wikidataId:\n",
    "            prop = {\"pid\": wikidataId, \"v\": value[0] if len(value)== 1 else  value}\n",
    "            query_params[\"properties\"].append(prop)   \n",
    " \n",
    "    return query_params\n",
    "    \n"
   ]
  },
  {
   "cell_type": "code",
   "execution_count": 15,
   "metadata": {},
   "outputs": [
    {
     "output_type": "execute_result",
     "data": {
      "text/plain": [
       "{'query': 'Silvia Janoch',\n",
       " 'type': 'Q5',\n",
       " 'properties': [{'pid': 'P569', 'v': '1980-10-20'}],\n",
       " 'limit': 10}"
      ]
     },
     "metadata": {},
     "execution_count": 15
    }
   ],
   "source": [
    "createQuery(ftm_persons[3], \"Q5\", mapping_sparse)"
   ]
  },
  {
   "cell_type": "code",
   "execution_count": 16,
   "metadata": {},
   "outputs": [],
   "source": [
    "def create_batch_queries(entities, type, mapping, batch_size = 10):\n",
    "    start = 0\n",
    "    end = 0 + batch_size\n",
    "    batches =[]\n",
    "    for batch_nr in range(math.ceil(len(entities)/batch_size)):\n",
    "        queries = {\"q\"+str(i):createQuery(entity, type, mapping) for i, entity in enumerate(ftm_persons[start:end])}\n",
    "        batches.append(queries)\n",
    "        start += batch_size\n",
    "        end += batch_size\n",
    "    return batches\n",
    "    "
   ]
  },
  {
   "cell_type": "code",
   "execution_count": 17,
   "metadata": {},
   "outputs": [],
   "source": [
    "def query_endpoint(query_batches):\n",
    "    results = []\n",
    "    for batch_query in query_batches:\n",
    "        response = requests.post(reconciliation_endpoint.geturl(), data = {\"queries\": json.dumps(batch_query)})\n",
    "        results.extend([resp for index, resp in response.json().items()])\n",
    "    return results"
   ]
  },
  {
   "source": [
    "For each mapping a distinct dataset is created. Due to reproducibility reasons, the API results are persisted. Also, each batch query processing takes approximately 3 minutes, making 9 minutes in total."
   ],
   "cell_type": "markdown",
   "metadata": {}
  },
  {
   "cell_type": "code",
   "execution_count": 18,
   "metadata": {},
   "outputs": [],
   "source": [
    "get_path =  lambda name: \"./data/intermediate/api_responses_{}.json\".format(name)\n",
    "\n",
    "def query_and_persist(entities, type, mapping, name):\n",
    "    batch_queries = create_batch_queries(ftm_persons, \"Q5\", mapping) \n",
    "    results = query_endpoint(batch_queries)\n",
    "    json.dump(results, open(get_path(name),\"w\"))\n",
    "    return results"
   ]
  },
  {
   "cell_type": "code",
   "execution_count": 19,
   "metadata": {},
   "outputs": [
    {
     "output_type": "stream",
     "name": "stdout",
     "text": [
      "CPU times: user 107 ms, sys: 11 ms, total: 118 ms\nWall time: 122 ms\n"
     ]
    }
   ],
   "source": [
    "%%time\n",
    "\n",
    "if False:\n",
    "    # Q5 is the Wikidata ID for type \"Human\".\n",
    "    results_full = query_and_persist(ftm_persons, \"Q5\", mapping_full, \"mapping_full\") \n",
    "    results_refined = query_and_persist(ftm_persons, \"Q5\", mapping_refined, \"mapping_refined\") \n",
    "    results_sparse = query_and_persist(ftm_persons, \"Q5\", mapping_sparse, \"mapping_sparse\") \n",
    "    \n",
    "else:\n",
    "    \n",
    "    results_full = json.load(open(get_path(\"mapping_full\")))\n",
    "    results_refined = json.load(open(get_path(\"mapping_refined\")))\n",
    "    results_sparse = json.load(open(get_path(\"mapping_sparse\")))\n",
    "    #results = json.load(open(\"./data/intermediate/api_responses_without_email.json\"))"
   ]
  },
  {
   "cell_type": "markdown",
   "metadata": {},
   "source": [
    "# Analysis of the Record Linkage"
   ]
  },
  {
   "source": [
    "\n",
    "Knitting together API response and data to create a pandas table for further processing. "
   ],
   "cell_type": "markdown",
   "metadata": {}
  },
  {
   "cell_type": "code",
   "execution_count": 42,
   "metadata": {
    "tags": []
   },
   "outputs": [],
   "source": [
    "def create_cd_table(results, entities):\n",
    "    intermed_table = []\n",
    "    header = [\"id\", \"name\", \"cd_wd_id\", \"cd_name\",\"cd_match_pred\", \"cd_score\", \"comparison_vec\"]\n",
    "    for result, entity in zip(results, entities):\n",
    "        candidates = result[\"result\"]\n",
    "        if len(candidates) > 0: \n",
    "            for candidate in candidates:\n",
    "                intermed_table.append([entity.id,entity.first(\"name\"), candidate[\"id\"], candidate[\"name\"], \\\n",
    "                    candidate[\"match\"], candidate[\"score\"], candidate[\"features\"]])\n",
    "        # If no results in response\n",
    "        else: \n",
    "            intermed_table.append([entity.id,entity.first(\"name\"), None, None, \\\n",
    "                False, None, None]) # implicit false made explicit\n",
    "\n",
    "    cd_table = pandas.DataFrame(intermed_table, columns= header).merge(person_assignments,on=\"id\")\n",
    "    \n",
    "    cd_table = cd_table.assign(match =  lambda x: x[\"wikidata\"] == x[\"cd_wd_id\"], \n",
    "                    # tp = lambda x: x[\"match\"] & x[\"cd_match_pred\"],\n",
    "                    # fp = lambda x: ~x[\"match\"] & x[\"cd_match_pred\"],\n",
    "                     rank = lambda x: x.groupby(\"id\").cumcount().values + 1,\n",
    "                     prop_count = lambda x: x[\"comparison_vec\"].apply(lambda y: len(y) if y else 0),\n",
    "                     threshold = lambda x: 95 - 5*(x[\"prop_count\"]-1))\n",
    "    \n",
    "    return cd_table\n",
    "\n",
    "cd_table_full = create_cd_table(results_full, ftm_persons)\n",
    "cd_table_refined = create_cd_table(results_refined, ftm_persons)\n",
    "cd_table_sparse = create_cd_table(results_sparse, ftm_persons)"
   ]
  },
  {
   "source": [
    "Before calculating scores based on similarity measures, the Wikidata Reconciliation API performs a candidate selection based on the WikiMedia API Elasticsearch search-engine by querying the value in the \"query\" property inside the request, which corresponds to the name of an item (at least in the OpenRefine implementation, as well as here). Obviously, there is a high tendency to return just one matching result."
   ],
   "cell_type": "markdown",
   "metadata": {}
  },
  {
   "cell_type": "code",
   "execution_count": 190,
   "metadata": {},
   "outputs": [
    {
     "output_type": "execute_result",
     "data": {
      "text/plain": [
       "                                                              name  \\\n",
       "id                                                                   \n",
       "00023638949ec143e690ae151d28e389574f07dc         Philip Wohlgemuth   \n",
       "001d48bf2913572202d88f00e35262f490771b40       Waltraud Ungersböck   \n",
       "00ad3c5b5a651f6e00080803ffefb1d306c6d027            Armin Forstner   \n",
       "00def69ad3d13efe8151da80f1485a692954d183             Silvia Janoch   \n",
       "00e70efc17aff680e675349ca87d7b80be04c452            Elvira Schmidt   \n",
       "...                                                            ...   \n",
       "fcc94a122228733902b6f601abc54631aa205a4b      Elisabeth Weitgasser   \n",
       "fd6b5ddebf7ed34449bac5a96eb2acbdbf5e4a3e         Elisabeth Trummer   \n",
       "fdc8f2275cf8bea8331ea4a779755915d0c29363            Daniela Schmid   \n",
       "fe532c498a07fc06380579af855e68389239c43b  Andrea Michaela Schartel   \n",
       "fea62afd157dd3f7ec3253d21547bb3b0a6f30bf  Irene Neumann-Hartberger   \n",
       "\n",
       "                                            cd_wd_id  \\\n",
       "id                                                     \n",
       "00023638949ec143e690ae151d28e389574f07dc   Q51533040   \n",
       "001d48bf2913572202d88f00e35262f490771b40   Q81526090   \n",
       "00ad3c5b5a651f6e00080803ffefb1d306c6d027   Q20752545   \n",
       "00def69ad3d13efe8151da80f1485a692954d183  Q102353097   \n",
       "00e70efc17aff680e675349ca87d7b80be04c452   Q50843964   \n",
       "...                                              ...   \n",
       "fcc94a122228733902b6f601abc54631aa205a4b   Q54956531   \n",
       "fd6b5ddebf7ed34449bac5a96eb2acbdbf5e4a3e   Q84091498   \n",
       "fdc8f2275cf8bea8331ea4a779755915d0c29363   Q87653139   \n",
       "fe532c498a07fc06380579af855e68389239c43b   Q19501935   \n",
       "fea62afd157dd3f7ec3253d21547bb3b0a6f30bf   Q81616188   \n",
       "\n",
       "                                                           cd_name  \\\n",
       "id                                                                   \n",
       "00023638949ec143e690ae151d28e389574f07dc         Philip Wohlgemuth   \n",
       "001d48bf2913572202d88f00e35262f490771b40       Waltraud Ungersböck   \n",
       "00ad3c5b5a651f6e00080803ffefb1d306c6d027            Armin Forstner   \n",
       "00def69ad3d13efe8151da80f1485a692954d183             Silvia Janoch   \n",
       "00e70efc17aff680e675349ca87d7b80be04c452            Elvira Schmidt   \n",
       "...                                                            ...   \n",
       "fcc94a122228733902b6f601abc54631aa205a4b      Elisabeth Weitgasser   \n",
       "fd6b5ddebf7ed34449bac5a96eb2acbdbf5e4a3e         Elisabeth Trummer   \n",
       "fdc8f2275cf8bea8331ea4a779755915d0c29363            Daniela Schmid   \n",
       "fe532c498a07fc06380579af855e68389239c43b  Andrea-Michaela Schartel   \n",
       "fea62afd157dd3f7ec3253d21547bb3b0a6f30bf  Irene Neumann-Hartberger   \n",
       "\n",
       "                                          cd_match_pred   cd_score  \\\n",
       "id                                                                   \n",
       "00023638949ec143e690ae151d28e389574f07dc           True  86.666667   \n",
       "001d48bf2913572202d88f00e35262f490771b40           True  86.666667   \n",
       "00ad3c5b5a651f6e00080803ffefb1d306c6d027           True  73.333333   \n",
       "00def69ad3d13efe8151da80f1485a692954d183          False  52.941176   \n",
       "00e70efc17aff680e675349ca87d7b80be04c452           True  86.666667   \n",
       "...                                                 ...        ...   \n",
       "fcc94a122228733902b6f601abc54631aa205a4b           True  73.333333   \n",
       "fd6b5ddebf7ed34449bac5a96eb2acbdbf5e4a3e           True  86.666667   \n",
       "fdc8f2275cf8bea8331ea4a779755915d0c29363          False  81.818182   \n",
       "fe532c498a07fc06380579af855e68389239c43b           True  86.666667   \n",
       "fea62afd157dd3f7ec3253d21547bb3b0a6f30bf           True  86.666667   \n",
       "\n",
       "                                            wikidata  match  \n",
       "id                                                           \n",
       "00023638949ec143e690ae151d28e389574f07dc   Q51533040   True  \n",
       "001d48bf2913572202d88f00e35262f490771b40   Q81526090   True  \n",
       "00ad3c5b5a651f6e00080803ffefb1d306c6d027   Q20752545   True  \n",
       "00def69ad3d13efe8151da80f1485a692954d183  Q102353097   True  \n",
       "00e70efc17aff680e675349ca87d7b80be04c452   Q50843964   True  \n",
       "...                                              ...    ...  \n",
       "fcc94a122228733902b6f601abc54631aa205a4b   Q54956531   True  \n",
       "fd6b5ddebf7ed34449bac5a96eb2acbdbf5e4a3e   Q84091498   True  \n",
       "fdc8f2275cf8bea8331ea4a779755915d0c29363         NaN  False  \n",
       "fe532c498a07fc06380579af855e68389239c43b   Q19501935   True  \n",
       "fea62afd157dd3f7ec3253d21547bb3b0a6f30bf   Q81616188   True  \n",
       "\n",
       "[766 rows x 7 columns]"
      ],
      "text/html": "<div>\n<style scoped>\n    .dataframe tbody tr th:only-of-type {\n        vertical-align: middle;\n    }\n\n    .dataframe tbody tr th {\n        vertical-align: top;\n    }\n\n    .dataframe thead th {\n        text-align: right;\n    }\n</style>\n<table border=\"1\" class=\"dataframe\">\n  <thead>\n    <tr style=\"text-align: right;\">\n      <th></th>\n      <th>name</th>\n      <th>cd_wd_id</th>\n      <th>cd_name</th>\n      <th>cd_match_pred</th>\n      <th>cd_score</th>\n      <th>wikidata</th>\n      <th>match</th>\n    </tr>\n    <tr>\n      <th>id</th>\n      <th></th>\n      <th></th>\n      <th></th>\n      <th></th>\n      <th></th>\n      <th></th>\n      <th></th>\n    </tr>\n  </thead>\n  <tbody>\n    <tr>\n      <th>00023638949ec143e690ae151d28e389574f07dc</th>\n      <td>Philip Wohlgemuth</td>\n      <td>Q51533040</td>\n      <td>Philip Wohlgemuth</td>\n      <td>True</td>\n      <td>86.666667</td>\n      <td>Q51533040</td>\n      <td>True</td>\n    </tr>\n    <tr>\n      <th>001d48bf2913572202d88f00e35262f490771b40</th>\n      <td>Waltraud Ungersböck</td>\n      <td>Q81526090</td>\n      <td>Waltraud Ungersböck</td>\n      <td>True</td>\n      <td>86.666667</td>\n      <td>Q81526090</td>\n      <td>True</td>\n    </tr>\n    <tr>\n      <th>00ad3c5b5a651f6e00080803ffefb1d306c6d027</th>\n      <td>Armin Forstner</td>\n      <td>Q20752545</td>\n      <td>Armin Forstner</td>\n      <td>True</td>\n      <td>73.333333</td>\n      <td>Q20752545</td>\n      <td>True</td>\n    </tr>\n    <tr>\n      <th>00def69ad3d13efe8151da80f1485a692954d183</th>\n      <td>Silvia Janoch</td>\n      <td>Q102353097</td>\n      <td>Silvia Janoch</td>\n      <td>False</td>\n      <td>52.941176</td>\n      <td>Q102353097</td>\n      <td>True</td>\n    </tr>\n    <tr>\n      <th>00e70efc17aff680e675349ca87d7b80be04c452</th>\n      <td>Elvira Schmidt</td>\n      <td>Q50843964</td>\n      <td>Elvira Schmidt</td>\n      <td>True</td>\n      <td>86.666667</td>\n      <td>Q50843964</td>\n      <td>True</td>\n    </tr>\n    <tr>\n      <th>...</th>\n      <td>...</td>\n      <td>...</td>\n      <td>...</td>\n      <td>...</td>\n      <td>...</td>\n      <td>...</td>\n      <td>...</td>\n    </tr>\n    <tr>\n      <th>fcc94a122228733902b6f601abc54631aa205a4b</th>\n      <td>Elisabeth Weitgasser</td>\n      <td>Q54956531</td>\n      <td>Elisabeth Weitgasser</td>\n      <td>True</td>\n      <td>73.333333</td>\n      <td>Q54956531</td>\n      <td>True</td>\n    </tr>\n    <tr>\n      <th>fd6b5ddebf7ed34449bac5a96eb2acbdbf5e4a3e</th>\n      <td>Elisabeth Trummer</td>\n      <td>Q84091498</td>\n      <td>Elisabeth Trummer</td>\n      <td>True</td>\n      <td>86.666667</td>\n      <td>Q84091498</td>\n      <td>True</td>\n    </tr>\n    <tr>\n      <th>fdc8f2275cf8bea8331ea4a779755915d0c29363</th>\n      <td>Daniela Schmid</td>\n      <td>Q87653139</td>\n      <td>Daniela Schmid</td>\n      <td>False</td>\n      <td>81.818182</td>\n      <td>NaN</td>\n      <td>False</td>\n    </tr>\n    <tr>\n      <th>fe532c498a07fc06380579af855e68389239c43b</th>\n      <td>Andrea Michaela Schartel</td>\n      <td>Q19501935</td>\n      <td>Andrea-Michaela Schartel</td>\n      <td>True</td>\n      <td>86.666667</td>\n      <td>Q19501935</td>\n      <td>True</td>\n    </tr>\n    <tr>\n      <th>fea62afd157dd3f7ec3253d21547bb3b0a6f30bf</th>\n      <td>Irene Neumann-Hartberger</td>\n      <td>Q81616188</td>\n      <td>Irene Neumann-Hartberger</td>\n      <td>True</td>\n      <td>86.666667</td>\n      <td>Q81616188</td>\n      <td>True</td>\n    </tr>\n  </tbody>\n</table>\n<p>766 rows × 7 columns</p>\n</div>"
     },
     "metadata": {},
     "execution_count": 190
    }
   ],
   "source": []
  },
  {
   "source": [
    "As the data is about person of interests, it is heavly biased towards well known entities that actually have a Wikidata (and Wikipedia) page, which corresponds to the scenario layed out in the thesis."
   ],
   "cell_type": "markdown",
   "metadata": {}
  },
  {
   "cell_type": "code",
   "execution_count": 43,
   "metadata": {},
   "outputs": [
    {
     "output_type": "stream",
     "name": "stdout",
     "text": [
      "True     745\nFalse     21\nName: wikidata, dtype: int64\n"
     ]
    },
    {
     "output_type": "display_data",
     "data": {
      "text/plain": "<Figure size 432x288 with 1 Axes>",
      "image/svg+xml": "<?xml version=\"1.0\" encoding=\"utf-8\" standalone=\"no\"?>\n<!DOCTYPE svg PUBLIC \"-//W3C//DTD SVG 1.1//EN\"\n  \"http://www.w3.org/Graphics/SVG/1.1/DTD/svg11.dtd\">\n<svg height=\"263.63625pt\" version=\"1.1\" viewBox=\"0 0 385.550312 263.63625\" width=\"385.550312pt\" xmlns=\"http://www.w3.org/2000/svg\" xmlns:xlink=\"http://www.w3.org/1999/xlink\">\n <metadata>\n  <rdf:RDF xmlns:cc=\"http://creativecommons.org/ns#\" xmlns:dc=\"http://purl.org/dc/elements/1.1/\" xmlns:rdf=\"http://www.w3.org/1999/02/22-rdf-syntax-ns#\">\n   <cc:Work>\n    <dc:type rdf:resource=\"http://purl.org/dc/dcmitype/StillImage\"/>\n    <dc:date>2021-04-27T09:25:46.503479</dc:date>\n    <dc:format>image/svg+xml</dc:format>\n    <dc:creator>\n     <cc:Agent>\n      <dc:title>Matplotlib v3.4.1, https://matplotlib.org/</dc:title>\n     </cc:Agent>\n    </dc:creator>\n   </cc:Work>\n  </rdf:RDF>\n </metadata>\n <defs>\n  <style type=\"text/css\">*{stroke-linecap:butt;stroke-linejoin:round;}</style>\n </defs>\n <g id=\"figure_1\">\n  <g id=\"patch_1\">\n   <path d=\"M 0 263.63625 \nL 385.550312 263.63625 \nL 385.550312 0 \nL 0 0 \nz\n\" style=\"fill:none;\"/>\n  </g>\n  <g id=\"axes_1\">\n   <g id=\"patch_2\">\n    <path d=\"M 33.2875 239.758125 \nL 368.0875 239.758125 \nL 368.0875 22.318125 \nL 33.2875 22.318125 \nz\n\" style=\"fill:#ffffff;\"/>\n   </g>\n   <g id=\"patch_3\">\n    <path clip-path=\"url(#p694c463659)\" d=\"M 48.505682 239.758125 \nL 183.778409 239.758125 \nL 183.778409 32.672411 \nL 48.505682 32.672411 \nz\n\" style=\"fill:#1f77b4;\"/>\n   </g>\n   <g id=\"patch_4\">\n    <path clip-path=\"url(#p694c463659)\" d=\"M 217.596591 239.758125 \nL 352.869318 239.758125 \nL 352.869318 233.92081 \nL 217.596591 233.92081 \nz\n\" style=\"fill:#1f77b4;\"/>\n   </g>\n   <g id=\"matplotlib.axis_1\">\n    <g id=\"xtick_1\">\n     <g id=\"line2d_1\">\n      <defs>\n       <path d=\"M 0 0 \nL 0 3.5 \n\" id=\"md8eca87525\" style=\"stroke:#000000;stroke-width:0.8;\"/>\n      </defs>\n      <g>\n       <use style=\"stroke:#000000;stroke-width:0.8;\" x=\"116.142045\" xlink:href=\"#md8eca87525\" y=\"239.758125\"/>\n      </g>\n     </g>\n     <g id=\"text_1\">\n      <!-- Exists in WD -->\n      <g transform=\"translate(84.935014 254.356563)scale(0.1 -0.1)\">\n       <defs>\n        <path d=\"M 628 4666 \nL 3578 4666 \nL 3578 4134 \nL 1259 4134 \nL 1259 2753 \nL 3481 2753 \nL 3481 2222 \nL 1259 2222 \nL 1259 531 \nL 3634 531 \nL 3634 0 \nL 628 0 \nL 628 4666 \nz\n\" id=\"DejaVuSans-45\" transform=\"scale(0.015625)\"/>\n        <path d=\"M 3513 3500 \nL 2247 1797 \nL 3578 0 \nL 2900 0 \nL 1881 1375 \nL 863 0 \nL 184 0 \nL 1544 1831 \nL 300 3500 \nL 978 3500 \nL 1906 2253 \nL 2834 3500 \nL 3513 3500 \nz\n\" id=\"DejaVuSans-78\" transform=\"scale(0.015625)\"/>\n        <path d=\"M 603 3500 \nL 1178 3500 \nL 1178 0 \nL 603 0 \nL 603 3500 \nz\nM 603 4863 \nL 1178 4863 \nL 1178 4134 \nL 603 4134 \nL 603 4863 \nz\n\" id=\"DejaVuSans-69\" transform=\"scale(0.015625)\"/>\n        <path d=\"M 2834 3397 \nL 2834 2853 \nQ 2591 2978 2328 3040 \nQ 2066 3103 1784 3103 \nQ 1356 3103 1142 2972 \nQ 928 2841 928 2578 \nQ 928 2378 1081 2264 \nQ 1234 2150 1697 2047 \nL 1894 2003 \nQ 2506 1872 2764 1633 \nQ 3022 1394 3022 966 \nQ 3022 478 2636 193 \nQ 2250 -91 1575 -91 \nQ 1294 -91 989 -36 \nQ 684 19 347 128 \nL 347 722 \nQ 666 556 975 473 \nQ 1284 391 1588 391 \nQ 1994 391 2212 530 \nQ 2431 669 2431 922 \nQ 2431 1156 2273 1281 \nQ 2116 1406 1581 1522 \nL 1381 1569 \nQ 847 1681 609 1914 \nQ 372 2147 372 2553 \nQ 372 3047 722 3315 \nQ 1072 3584 1716 3584 \nQ 2034 3584 2315 3537 \nQ 2597 3491 2834 3397 \nz\n\" id=\"DejaVuSans-73\" transform=\"scale(0.015625)\"/>\n        <path d=\"M 1172 4494 \nL 1172 3500 \nL 2356 3500 \nL 2356 3053 \nL 1172 3053 \nL 1172 1153 \nQ 1172 725 1289 603 \nQ 1406 481 1766 481 \nL 2356 481 \nL 2356 0 \nL 1766 0 \nQ 1100 0 847 248 \nQ 594 497 594 1153 \nL 594 3053 \nL 172 3053 \nL 172 3500 \nL 594 3500 \nL 594 4494 \nL 1172 4494 \nz\n\" id=\"DejaVuSans-74\" transform=\"scale(0.015625)\"/>\n        <path id=\"DejaVuSans-20\" transform=\"scale(0.015625)\"/>\n        <path d=\"M 3513 2113 \nL 3513 0 \nL 2938 0 \nL 2938 2094 \nQ 2938 2591 2744 2837 \nQ 2550 3084 2163 3084 \nQ 1697 3084 1428 2787 \nQ 1159 2491 1159 1978 \nL 1159 0 \nL 581 0 \nL 581 3500 \nL 1159 3500 \nL 1159 2956 \nQ 1366 3272 1645 3428 \nQ 1925 3584 2291 3584 \nQ 2894 3584 3203 3211 \nQ 3513 2838 3513 2113 \nz\n\" id=\"DejaVuSans-6e\" transform=\"scale(0.015625)\"/>\n        <path d=\"M 213 4666 \nL 850 4666 \nL 1831 722 \nL 2809 4666 \nL 3519 4666 \nL 4500 722 \nL 5478 4666 \nL 6119 4666 \nL 4947 0 \nL 4153 0 \nL 3169 4050 \nL 2175 0 \nL 1381 0 \nL 213 4666 \nz\n\" id=\"DejaVuSans-57\" transform=\"scale(0.015625)\"/>\n        <path d=\"M 1259 4147 \nL 1259 519 \nL 2022 519 \nQ 2988 519 3436 956 \nQ 3884 1394 3884 2338 \nQ 3884 3275 3436 3711 \nQ 2988 4147 2022 4147 \nL 1259 4147 \nz\nM 628 4666 \nL 1925 4666 \nQ 3281 4666 3915 4102 \nQ 4550 3538 4550 2338 \nQ 4550 1131 3912 565 \nQ 3275 0 1925 0 \nL 628 0 \nL 628 4666 \nz\n\" id=\"DejaVuSans-44\" transform=\"scale(0.015625)\"/>\n       </defs>\n       <use xlink:href=\"#DejaVuSans-45\"/>\n       <use x=\"63.183594\" xlink:href=\"#DejaVuSans-78\"/>\n       <use x=\"122.363281\" xlink:href=\"#DejaVuSans-69\"/>\n       <use x=\"150.146484\" xlink:href=\"#DejaVuSans-73\"/>\n       <use x=\"202.246094\" xlink:href=\"#DejaVuSans-74\"/>\n       <use x=\"241.455078\" xlink:href=\"#DejaVuSans-73\"/>\n       <use x=\"293.554688\" xlink:href=\"#DejaVuSans-20\"/>\n       <use x=\"325.341797\" xlink:href=\"#DejaVuSans-69\"/>\n       <use x=\"353.125\" xlink:href=\"#DejaVuSans-6e\"/>\n       <use x=\"416.503906\" xlink:href=\"#DejaVuSans-20\"/>\n       <use x=\"448.291016\" xlink:href=\"#DejaVuSans-57\"/>\n       <use x=\"547.167969\" xlink:href=\"#DejaVuSans-44\"/>\n      </g>\n     </g>\n    </g>\n    <g id=\"xtick_2\">\n     <g id=\"line2d_2\">\n      <g>\n       <use style=\"stroke:#000000;stroke-width:0.8;\" x=\"285.232955\" xlink:href=\"#md8eca87525\" y=\"239.758125\"/>\n      </g>\n     </g>\n     <g id=\"text_2\">\n      <!-- Not existing -->\n      <g transform=\"translate(255.249361 254.356563)scale(0.1 -0.1)\">\n       <defs>\n        <path d=\"M 628 4666 \nL 1478 4666 \nL 3547 763 \nL 3547 4666 \nL 4159 4666 \nL 4159 0 \nL 3309 0 \nL 1241 3903 \nL 1241 0 \nL 628 0 \nL 628 4666 \nz\n\" id=\"DejaVuSans-4e\" transform=\"scale(0.015625)\"/>\n        <path d=\"M 1959 3097 \nQ 1497 3097 1228 2736 \nQ 959 2375 959 1747 \nQ 959 1119 1226 758 \nQ 1494 397 1959 397 \nQ 2419 397 2687 759 \nQ 2956 1122 2956 1747 \nQ 2956 2369 2687 2733 \nQ 2419 3097 1959 3097 \nz\nM 1959 3584 \nQ 2709 3584 3137 3096 \nQ 3566 2609 3566 1747 \nQ 3566 888 3137 398 \nQ 2709 -91 1959 -91 \nQ 1206 -91 779 398 \nQ 353 888 353 1747 \nQ 353 2609 779 3096 \nQ 1206 3584 1959 3584 \nz\n\" id=\"DejaVuSans-6f\" transform=\"scale(0.015625)\"/>\n        <path d=\"M 3597 1894 \nL 3597 1613 \nL 953 1613 \nQ 991 1019 1311 708 \nQ 1631 397 2203 397 \nQ 2534 397 2845 478 \nQ 3156 559 3463 722 \nL 3463 178 \nQ 3153 47 2828 -22 \nQ 2503 -91 2169 -91 \nQ 1331 -91 842 396 \nQ 353 884 353 1716 \nQ 353 2575 817 3079 \nQ 1281 3584 2069 3584 \nQ 2775 3584 3186 3129 \nQ 3597 2675 3597 1894 \nz\nM 3022 2063 \nQ 3016 2534 2758 2815 \nQ 2500 3097 2075 3097 \nQ 1594 3097 1305 2825 \nQ 1016 2553 972 2059 \nL 3022 2063 \nz\n\" id=\"DejaVuSans-65\" transform=\"scale(0.015625)\"/>\n        <path d=\"M 2906 1791 \nQ 2906 2416 2648 2759 \nQ 2391 3103 1925 3103 \nQ 1463 3103 1205 2759 \nQ 947 2416 947 1791 \nQ 947 1169 1205 825 \nQ 1463 481 1925 481 \nQ 2391 481 2648 825 \nQ 2906 1169 2906 1791 \nz\nM 3481 434 \nQ 3481 -459 3084 -895 \nQ 2688 -1331 1869 -1331 \nQ 1566 -1331 1297 -1286 \nQ 1028 -1241 775 -1147 \nL 775 -588 \nQ 1028 -725 1275 -790 \nQ 1522 -856 1778 -856 \nQ 2344 -856 2625 -561 \nQ 2906 -266 2906 331 \nL 2906 616 \nQ 2728 306 2450 153 \nQ 2172 0 1784 0 \nQ 1141 0 747 490 \nQ 353 981 353 1791 \nQ 353 2603 747 3093 \nQ 1141 3584 1784 3584 \nQ 2172 3584 2450 3431 \nQ 2728 3278 2906 2969 \nL 2906 3500 \nL 3481 3500 \nL 3481 434 \nz\n\" id=\"DejaVuSans-67\" transform=\"scale(0.015625)\"/>\n       </defs>\n       <use xlink:href=\"#DejaVuSans-4e\"/>\n       <use x=\"74.804688\" xlink:href=\"#DejaVuSans-6f\"/>\n       <use x=\"135.986328\" xlink:href=\"#DejaVuSans-74\"/>\n       <use x=\"175.195312\" xlink:href=\"#DejaVuSans-20\"/>\n       <use x=\"206.982422\" xlink:href=\"#DejaVuSans-65\"/>\n       <use x=\"266.755859\" xlink:href=\"#DejaVuSans-78\"/>\n       <use x=\"325.935547\" xlink:href=\"#DejaVuSans-69\"/>\n       <use x=\"353.71875\" xlink:href=\"#DejaVuSans-73\"/>\n       <use x=\"405.818359\" xlink:href=\"#DejaVuSans-74\"/>\n       <use x=\"445.027344\" xlink:href=\"#DejaVuSans-69\"/>\n       <use x=\"472.810547\" xlink:href=\"#DejaVuSans-6e\"/>\n       <use x=\"536.189453\" xlink:href=\"#DejaVuSans-67\"/>\n      </g>\n     </g>\n    </g>\n   </g>\n   <g id=\"matplotlib.axis_2\">\n    <g id=\"ytick_1\">\n     <g id=\"line2d_3\">\n      <defs>\n       <path d=\"M 0 0 \nL -3.5 0 \n\" id=\"m3df1a87259\" style=\"stroke:#000000;stroke-width:0.8;\"/>\n      </defs>\n      <g>\n       <use style=\"stroke:#000000;stroke-width:0.8;\" x=\"33.2875\" xlink:href=\"#m3df1a87259\" y=\"239.758125\"/>\n      </g>\n     </g>\n     <g id=\"text_3\">\n      <!-- 0 -->\n      <g transform=\"translate(19.925 243.557344)scale(0.1 -0.1)\">\n       <defs>\n        <path d=\"M 2034 4250 \nQ 1547 4250 1301 3770 \nQ 1056 3291 1056 2328 \nQ 1056 1369 1301 889 \nQ 1547 409 2034 409 \nQ 2525 409 2770 889 \nQ 3016 1369 3016 2328 \nQ 3016 3291 2770 3770 \nQ 2525 4250 2034 4250 \nz\nM 2034 4750 \nQ 2819 4750 3233 4129 \nQ 3647 3509 3647 2328 \nQ 3647 1150 3233 529 \nQ 2819 -91 2034 -91 \nQ 1250 -91 836 529 \nQ 422 1150 422 2328 \nQ 422 3509 836 4129 \nQ 1250 4750 2034 4750 \nz\n\" id=\"DejaVuSans-30\" transform=\"scale(0.015625)\"/>\n       </defs>\n       <use xlink:href=\"#DejaVuSans-30\"/>\n      </g>\n     </g>\n    </g>\n    <g id=\"ytick_2\">\n     <g id=\"line2d_4\">\n      <g>\n       <use style=\"stroke:#000000;stroke-width:0.8;\" x=\"33.2875\" xlink:href=\"#m3df1a87259\" y=\"211.961385\"/>\n      </g>\n     </g>\n     <g id=\"text_4\">\n      <!-- 100 -->\n      <g transform=\"translate(7.2 215.760604)scale(0.1 -0.1)\">\n       <defs>\n        <path d=\"M 794 531 \nL 1825 531 \nL 1825 4091 \nL 703 3866 \nL 703 4441 \nL 1819 4666 \nL 2450 4666 \nL 2450 531 \nL 3481 531 \nL 3481 0 \nL 794 0 \nL 794 531 \nz\n\" id=\"DejaVuSans-31\" transform=\"scale(0.015625)\"/>\n       </defs>\n       <use xlink:href=\"#DejaVuSans-31\"/>\n       <use x=\"63.623047\" xlink:href=\"#DejaVuSans-30\"/>\n       <use x=\"127.246094\" xlink:href=\"#DejaVuSans-30\"/>\n      </g>\n     </g>\n    </g>\n    <g id=\"ytick_3\">\n     <g id=\"line2d_5\">\n      <g>\n       <use style=\"stroke:#000000;stroke-width:0.8;\" x=\"33.2875\" xlink:href=\"#m3df1a87259\" y=\"184.164645\"/>\n      </g>\n     </g>\n     <g id=\"text_5\">\n      <!-- 200 -->\n      <g transform=\"translate(7.2 187.963863)scale(0.1 -0.1)\">\n       <defs>\n        <path d=\"M 1228 531 \nL 3431 531 \nL 3431 0 \nL 469 0 \nL 469 531 \nQ 828 903 1448 1529 \nQ 2069 2156 2228 2338 \nQ 2531 2678 2651 2914 \nQ 2772 3150 2772 3378 \nQ 2772 3750 2511 3984 \nQ 2250 4219 1831 4219 \nQ 1534 4219 1204 4116 \nQ 875 4013 500 3803 \nL 500 4441 \nQ 881 4594 1212 4672 \nQ 1544 4750 1819 4750 \nQ 2544 4750 2975 4387 \nQ 3406 4025 3406 3419 \nQ 3406 3131 3298 2873 \nQ 3191 2616 2906 2266 \nQ 2828 2175 2409 1742 \nQ 1991 1309 1228 531 \nz\n\" id=\"DejaVuSans-32\" transform=\"scale(0.015625)\"/>\n       </defs>\n       <use xlink:href=\"#DejaVuSans-32\"/>\n       <use x=\"63.623047\" xlink:href=\"#DejaVuSans-30\"/>\n       <use x=\"127.246094\" xlink:href=\"#DejaVuSans-30\"/>\n      </g>\n     </g>\n    </g>\n    <g id=\"ytick_4\">\n     <g id=\"line2d_6\">\n      <g>\n       <use style=\"stroke:#000000;stroke-width:0.8;\" x=\"33.2875\" xlink:href=\"#m3df1a87259\" y=\"156.367904\"/>\n      </g>\n     </g>\n     <g id=\"text_6\">\n      <!-- 300 -->\n      <g transform=\"translate(7.2 160.167123)scale(0.1 -0.1)\">\n       <defs>\n        <path d=\"M 2597 2516 \nQ 3050 2419 3304 2112 \nQ 3559 1806 3559 1356 \nQ 3559 666 3084 287 \nQ 2609 -91 1734 -91 \nQ 1441 -91 1130 -33 \nQ 819 25 488 141 \nL 488 750 \nQ 750 597 1062 519 \nQ 1375 441 1716 441 \nQ 2309 441 2620 675 \nQ 2931 909 2931 1356 \nQ 2931 1769 2642 2001 \nQ 2353 2234 1838 2234 \nL 1294 2234 \nL 1294 2753 \nL 1863 2753 \nQ 2328 2753 2575 2939 \nQ 2822 3125 2822 3475 \nQ 2822 3834 2567 4026 \nQ 2313 4219 1838 4219 \nQ 1578 4219 1281 4162 \nQ 984 4106 628 3988 \nL 628 4550 \nQ 988 4650 1302 4700 \nQ 1616 4750 1894 4750 \nQ 2613 4750 3031 4423 \nQ 3450 4097 3450 3541 \nQ 3450 3153 3228 2886 \nQ 3006 2619 2597 2516 \nz\n\" id=\"DejaVuSans-33\" transform=\"scale(0.015625)\"/>\n       </defs>\n       <use xlink:href=\"#DejaVuSans-33\"/>\n       <use x=\"63.623047\" xlink:href=\"#DejaVuSans-30\"/>\n       <use x=\"127.246094\" xlink:href=\"#DejaVuSans-30\"/>\n      </g>\n     </g>\n    </g>\n    <g id=\"ytick_5\">\n     <g id=\"line2d_7\">\n      <g>\n       <use style=\"stroke:#000000;stroke-width:0.8;\" x=\"33.2875\" xlink:href=\"#m3df1a87259\" y=\"128.571164\"/>\n      </g>\n     </g>\n     <g id=\"text_7\">\n      <!-- 400 -->\n      <g transform=\"translate(7.2 132.370383)scale(0.1 -0.1)\">\n       <defs>\n        <path d=\"M 2419 4116 \nL 825 1625 \nL 2419 1625 \nL 2419 4116 \nz\nM 2253 4666 \nL 3047 4666 \nL 3047 1625 \nL 3713 1625 \nL 3713 1100 \nL 3047 1100 \nL 3047 0 \nL 2419 0 \nL 2419 1100 \nL 313 1100 \nL 313 1709 \nL 2253 4666 \nz\n\" id=\"DejaVuSans-34\" transform=\"scale(0.015625)\"/>\n       </defs>\n       <use xlink:href=\"#DejaVuSans-34\"/>\n       <use x=\"63.623047\" xlink:href=\"#DejaVuSans-30\"/>\n       <use x=\"127.246094\" xlink:href=\"#DejaVuSans-30\"/>\n      </g>\n     </g>\n    </g>\n    <g id=\"ytick_6\">\n     <g id=\"line2d_8\">\n      <g>\n       <use style=\"stroke:#000000;stroke-width:0.8;\" x=\"33.2875\" xlink:href=\"#m3df1a87259\" y=\"100.774424\"/>\n      </g>\n     </g>\n     <g id=\"text_8\">\n      <!-- 500 -->\n      <g transform=\"translate(7.2 104.573643)scale(0.1 -0.1)\">\n       <defs>\n        <path d=\"M 691 4666 \nL 3169 4666 \nL 3169 4134 \nL 1269 4134 \nL 1269 2991 \nQ 1406 3038 1543 3061 \nQ 1681 3084 1819 3084 \nQ 2600 3084 3056 2656 \nQ 3513 2228 3513 1497 \nQ 3513 744 3044 326 \nQ 2575 -91 1722 -91 \nQ 1428 -91 1123 -41 \nQ 819 9 494 109 \nL 494 744 \nQ 775 591 1075 516 \nQ 1375 441 1709 441 \nQ 2250 441 2565 725 \nQ 2881 1009 2881 1497 \nQ 2881 1984 2565 2268 \nQ 2250 2553 1709 2553 \nQ 1456 2553 1204 2497 \nQ 953 2441 691 2322 \nL 691 4666 \nz\n\" id=\"DejaVuSans-35\" transform=\"scale(0.015625)\"/>\n       </defs>\n       <use xlink:href=\"#DejaVuSans-35\"/>\n       <use x=\"63.623047\" xlink:href=\"#DejaVuSans-30\"/>\n       <use x=\"127.246094\" xlink:href=\"#DejaVuSans-30\"/>\n      </g>\n     </g>\n    </g>\n    <g id=\"ytick_7\">\n     <g id=\"line2d_9\">\n      <g>\n       <use style=\"stroke:#000000;stroke-width:0.8;\" x=\"33.2875\" xlink:href=\"#m3df1a87259\" y=\"72.977684\"/>\n      </g>\n     </g>\n     <g id=\"text_9\">\n      <!-- 600 -->\n      <g transform=\"translate(7.2 76.776903)scale(0.1 -0.1)\">\n       <defs>\n        <path d=\"M 2113 2584 \nQ 1688 2584 1439 2293 \nQ 1191 2003 1191 1497 \nQ 1191 994 1439 701 \nQ 1688 409 2113 409 \nQ 2538 409 2786 701 \nQ 3034 994 3034 1497 \nQ 3034 2003 2786 2293 \nQ 2538 2584 2113 2584 \nz\nM 3366 4563 \nL 3366 3988 \nQ 3128 4100 2886 4159 \nQ 2644 4219 2406 4219 \nQ 1781 4219 1451 3797 \nQ 1122 3375 1075 2522 \nQ 1259 2794 1537 2939 \nQ 1816 3084 2150 3084 \nQ 2853 3084 3261 2657 \nQ 3669 2231 3669 1497 \nQ 3669 778 3244 343 \nQ 2819 -91 2113 -91 \nQ 1303 -91 875 529 \nQ 447 1150 447 2328 \nQ 447 3434 972 4092 \nQ 1497 4750 2381 4750 \nQ 2619 4750 2861 4703 \nQ 3103 4656 3366 4563 \nz\n\" id=\"DejaVuSans-36\" transform=\"scale(0.015625)\"/>\n       </defs>\n       <use xlink:href=\"#DejaVuSans-36\"/>\n       <use x=\"63.623047\" xlink:href=\"#DejaVuSans-30\"/>\n       <use x=\"127.246094\" xlink:href=\"#DejaVuSans-30\"/>\n      </g>\n     </g>\n    </g>\n    <g id=\"ytick_8\">\n     <g id=\"line2d_10\">\n      <g>\n       <use style=\"stroke:#000000;stroke-width:0.8;\" x=\"33.2875\" xlink:href=\"#m3df1a87259\" y=\"45.180944\"/>\n      </g>\n     </g>\n     <g id=\"text_10\">\n      <!-- 700 -->\n      <g transform=\"translate(7.2 48.980163)scale(0.1 -0.1)\">\n       <defs>\n        <path d=\"M 525 4666 \nL 3525 4666 \nL 3525 4397 \nL 1831 0 \nL 1172 0 \nL 2766 4134 \nL 525 4134 \nL 525 4666 \nz\n\" id=\"DejaVuSans-37\" transform=\"scale(0.015625)\"/>\n       </defs>\n       <use xlink:href=\"#DejaVuSans-37\"/>\n       <use x=\"63.623047\" xlink:href=\"#DejaVuSans-30\"/>\n       <use x=\"127.246094\" xlink:href=\"#DejaVuSans-30\"/>\n      </g>\n     </g>\n    </g>\n   </g>\n   <g id=\"patch_5\">\n    <path d=\"M 33.2875 239.758125 \nL 33.2875 22.318125 \n\" style=\"fill:none;stroke:#000000;stroke-linecap:square;stroke-linejoin:miter;stroke-width:0.8;\"/>\n   </g>\n   <g id=\"patch_6\">\n    <path d=\"M 368.0875 239.758125 \nL 368.0875 22.318125 \n\" style=\"fill:none;stroke:#000000;stroke-linecap:square;stroke-linejoin:miter;stroke-width:0.8;\"/>\n   </g>\n   <g id=\"patch_7\">\n    <path d=\"M 33.2875 239.758125 \nL 368.0875 239.758125 \n\" style=\"fill:none;stroke:#000000;stroke-linecap:square;stroke-linejoin:miter;stroke-width:0.8;\"/>\n   </g>\n   <g id=\"patch_8\">\n    <path d=\"M 33.2875 22.318125 \nL 368.0875 22.318125 \n\" style=\"fill:none;stroke:#000000;stroke-linecap:square;stroke-linejoin:miter;stroke-width:0.8;\"/>\n   </g>\n   <g id=\"text_11\">\n    <!-- Well known entities - Number of items existing on Wikidata -->\n    <g transform=\"translate(23.024687 16.318125)scale(0.12 -0.12)\">\n     <defs>\n      <path d=\"M 603 4863 \nL 1178 4863 \nL 1178 0 \nL 603 0 \nL 603 4863 \nz\n\" id=\"DejaVuSans-6c\" transform=\"scale(0.015625)\"/>\n      <path d=\"M 581 4863 \nL 1159 4863 \nL 1159 1991 \nL 2875 3500 \nL 3609 3500 \nL 1753 1863 \nL 3688 0 \nL 2938 0 \nL 1159 1709 \nL 1159 0 \nL 581 0 \nL 581 4863 \nz\n\" id=\"DejaVuSans-6b\" transform=\"scale(0.015625)\"/>\n      <path d=\"M 269 3500 \nL 844 3500 \nL 1563 769 \nL 2278 3500 \nL 2956 3500 \nL 3675 769 \nL 4391 3500 \nL 4966 3500 \nL 4050 0 \nL 3372 0 \nL 2619 2869 \nL 1863 0 \nL 1184 0 \nL 269 3500 \nz\n\" id=\"DejaVuSans-77\" transform=\"scale(0.015625)\"/>\n      <path d=\"M 313 2009 \nL 1997 2009 \nL 1997 1497 \nL 313 1497 \nL 313 2009 \nz\n\" id=\"DejaVuSans-2d\" transform=\"scale(0.015625)\"/>\n      <path d=\"M 544 1381 \nL 544 3500 \nL 1119 3500 \nL 1119 1403 \nQ 1119 906 1312 657 \nQ 1506 409 1894 409 \nQ 2359 409 2629 706 \nQ 2900 1003 2900 1516 \nL 2900 3500 \nL 3475 3500 \nL 3475 0 \nL 2900 0 \nL 2900 538 \nQ 2691 219 2414 64 \nQ 2138 -91 1772 -91 \nQ 1169 -91 856 284 \nQ 544 659 544 1381 \nz\nM 1991 3584 \nL 1991 3584 \nz\n\" id=\"DejaVuSans-75\" transform=\"scale(0.015625)\"/>\n      <path d=\"M 3328 2828 \nQ 3544 3216 3844 3400 \nQ 4144 3584 4550 3584 \nQ 5097 3584 5394 3201 \nQ 5691 2819 5691 2113 \nL 5691 0 \nL 5113 0 \nL 5113 2094 \nQ 5113 2597 4934 2840 \nQ 4756 3084 4391 3084 \nQ 3944 3084 3684 2787 \nQ 3425 2491 3425 1978 \nL 3425 0 \nL 2847 0 \nL 2847 2094 \nQ 2847 2600 2669 2842 \nQ 2491 3084 2119 3084 \nQ 1678 3084 1418 2786 \nQ 1159 2488 1159 1978 \nL 1159 0 \nL 581 0 \nL 581 3500 \nL 1159 3500 \nL 1159 2956 \nQ 1356 3278 1631 3431 \nQ 1906 3584 2284 3584 \nQ 2666 3584 2933 3390 \nQ 3200 3197 3328 2828 \nz\n\" id=\"DejaVuSans-6d\" transform=\"scale(0.015625)\"/>\n      <path d=\"M 3116 1747 \nQ 3116 2381 2855 2742 \nQ 2594 3103 2138 3103 \nQ 1681 3103 1420 2742 \nQ 1159 2381 1159 1747 \nQ 1159 1113 1420 752 \nQ 1681 391 2138 391 \nQ 2594 391 2855 752 \nQ 3116 1113 3116 1747 \nz\nM 1159 2969 \nQ 1341 3281 1617 3432 \nQ 1894 3584 2278 3584 \nQ 2916 3584 3314 3078 \nQ 3713 2572 3713 1747 \nQ 3713 922 3314 415 \nQ 2916 -91 2278 -91 \nQ 1894 -91 1617 61 \nQ 1341 213 1159 525 \nL 1159 0 \nL 581 0 \nL 581 4863 \nL 1159 4863 \nL 1159 2969 \nz\n\" id=\"DejaVuSans-62\" transform=\"scale(0.015625)\"/>\n      <path d=\"M 2631 2963 \nQ 2534 3019 2420 3045 \nQ 2306 3072 2169 3072 \nQ 1681 3072 1420 2755 \nQ 1159 2438 1159 1844 \nL 1159 0 \nL 581 0 \nL 581 3500 \nL 1159 3500 \nL 1159 2956 \nQ 1341 3275 1631 3429 \nQ 1922 3584 2338 3584 \nQ 2397 3584 2469 3576 \nQ 2541 3569 2628 3553 \nL 2631 2963 \nz\n\" id=\"DejaVuSans-72\" transform=\"scale(0.015625)\"/>\n      <path d=\"M 2375 4863 \nL 2375 4384 \nL 1825 4384 \nQ 1516 4384 1395 4259 \nQ 1275 4134 1275 3809 \nL 1275 3500 \nL 2222 3500 \nL 2222 3053 \nL 1275 3053 \nL 1275 0 \nL 697 0 \nL 697 3053 \nL 147 3053 \nL 147 3500 \nL 697 3500 \nL 697 3744 \nQ 697 4328 969 4595 \nQ 1241 4863 1831 4863 \nL 2375 4863 \nz\n\" id=\"DejaVuSans-66\" transform=\"scale(0.015625)\"/>\n      <path d=\"M 2906 2969 \nL 2906 4863 \nL 3481 4863 \nL 3481 0 \nL 2906 0 \nL 2906 525 \nQ 2725 213 2448 61 \nQ 2172 -91 1784 -91 \nQ 1150 -91 751 415 \nQ 353 922 353 1747 \nQ 353 2572 751 3078 \nQ 1150 3584 1784 3584 \nQ 2172 3584 2448 3432 \nQ 2725 3281 2906 2969 \nz\nM 947 1747 \nQ 947 1113 1208 752 \nQ 1469 391 1925 391 \nQ 2381 391 2643 752 \nQ 2906 1113 2906 1747 \nQ 2906 2381 2643 2742 \nQ 2381 3103 1925 3103 \nQ 1469 3103 1208 2742 \nQ 947 2381 947 1747 \nz\n\" id=\"DejaVuSans-64\" transform=\"scale(0.015625)\"/>\n      <path d=\"M 2194 1759 \nQ 1497 1759 1228 1600 \nQ 959 1441 959 1056 \nQ 959 750 1161 570 \nQ 1363 391 1709 391 \nQ 2188 391 2477 730 \nQ 2766 1069 2766 1631 \nL 2766 1759 \nL 2194 1759 \nz\nM 3341 1997 \nL 3341 0 \nL 2766 0 \nL 2766 531 \nQ 2569 213 2275 61 \nQ 1981 -91 1556 -91 \nQ 1019 -91 701 211 \nQ 384 513 384 1019 \nQ 384 1609 779 1909 \nQ 1175 2209 1959 2209 \nL 2766 2209 \nL 2766 2266 \nQ 2766 2663 2505 2880 \nQ 2244 3097 1772 3097 \nQ 1472 3097 1187 3025 \nQ 903 2953 641 2809 \nL 641 3341 \nQ 956 3463 1253 3523 \nQ 1550 3584 1831 3584 \nQ 2591 3584 2966 3190 \nQ 3341 2797 3341 1997 \nz\n\" id=\"DejaVuSans-61\" transform=\"scale(0.015625)\"/>\n     </defs>\n     <use xlink:href=\"#DejaVuSans-57\"/>\n     <use x=\"93.001953\" xlink:href=\"#DejaVuSans-65\"/>\n     <use x=\"154.525391\" xlink:href=\"#DejaVuSans-6c\"/>\n     <use x=\"182.308594\" xlink:href=\"#DejaVuSans-6c\"/>\n     <use x=\"210.091797\" xlink:href=\"#DejaVuSans-20\"/>\n     <use x=\"241.878906\" xlink:href=\"#DejaVuSans-6b\"/>\n     <use x=\"299.789062\" xlink:href=\"#DejaVuSans-6e\"/>\n     <use x=\"363.167969\" xlink:href=\"#DejaVuSans-6f\"/>\n     <use x=\"424.349609\" xlink:href=\"#DejaVuSans-77\"/>\n     <use x=\"506.136719\" xlink:href=\"#DejaVuSans-6e\"/>\n     <use x=\"569.515625\" xlink:href=\"#DejaVuSans-20\"/>\n     <use x=\"601.302734\" xlink:href=\"#DejaVuSans-65\"/>\n     <use x=\"662.826172\" xlink:href=\"#DejaVuSans-6e\"/>\n     <use x=\"726.205078\" xlink:href=\"#DejaVuSans-74\"/>\n     <use x=\"765.414062\" xlink:href=\"#DejaVuSans-69\"/>\n     <use x=\"793.197266\" xlink:href=\"#DejaVuSans-74\"/>\n     <use x=\"832.40625\" xlink:href=\"#DejaVuSans-69\"/>\n     <use x=\"860.189453\" xlink:href=\"#DejaVuSans-65\"/>\n     <use x=\"921.712891\" xlink:href=\"#DejaVuSans-73\"/>\n     <use x=\"973.8125\" xlink:href=\"#DejaVuSans-20\"/>\n     <use x=\"1005.599609\" xlink:href=\"#DejaVuSans-2d\"/>\n     <use x=\"1041.683594\" xlink:href=\"#DejaVuSans-20\"/>\n     <use x=\"1073.470703\" xlink:href=\"#DejaVuSans-4e\"/>\n     <use x=\"1148.275391\" xlink:href=\"#DejaVuSans-75\"/>\n     <use x=\"1211.654297\" xlink:href=\"#DejaVuSans-6d\"/>\n     <use x=\"1309.066406\" xlink:href=\"#DejaVuSans-62\"/>\n     <use x=\"1372.542969\" xlink:href=\"#DejaVuSans-65\"/>\n     <use x=\"1434.066406\" xlink:href=\"#DejaVuSans-72\"/>\n     <use x=\"1475.179688\" xlink:href=\"#DejaVuSans-20\"/>\n     <use x=\"1506.966797\" xlink:href=\"#DejaVuSans-6f\"/>\n     <use x=\"1568.148438\" xlink:href=\"#DejaVuSans-66\"/>\n     <use x=\"1603.353516\" xlink:href=\"#DejaVuSans-20\"/>\n     <use x=\"1635.140625\" xlink:href=\"#DejaVuSans-69\"/>\n     <use x=\"1662.923828\" xlink:href=\"#DejaVuSans-74\"/>\n     <use x=\"1702.132812\" xlink:href=\"#DejaVuSans-65\"/>\n     <use x=\"1763.65625\" xlink:href=\"#DejaVuSans-6d\"/>\n     <use x=\"1861.068359\" xlink:href=\"#DejaVuSans-73\"/>\n     <use x=\"1913.167969\" xlink:href=\"#DejaVuSans-20\"/>\n     <use x=\"1944.955078\" xlink:href=\"#DejaVuSans-65\"/>\n     <use x=\"2004.728516\" xlink:href=\"#DejaVuSans-78\"/>\n     <use x=\"2063.908203\" xlink:href=\"#DejaVuSans-69\"/>\n     <use x=\"2091.691406\" xlink:href=\"#DejaVuSans-73\"/>\n     <use x=\"2143.791016\" xlink:href=\"#DejaVuSans-74\"/>\n     <use x=\"2183\" xlink:href=\"#DejaVuSans-69\"/>\n     <use x=\"2210.783203\" xlink:href=\"#DejaVuSans-6e\"/>\n     <use x=\"2274.162109\" xlink:href=\"#DejaVuSans-67\"/>\n     <use x=\"2337.638672\" xlink:href=\"#DejaVuSans-20\"/>\n     <use x=\"2369.425781\" xlink:href=\"#DejaVuSans-6f\"/>\n     <use x=\"2430.607422\" xlink:href=\"#DejaVuSans-6e\"/>\n     <use x=\"2493.986328\" xlink:href=\"#DejaVuSans-20\"/>\n     <use x=\"2525.773438\" xlink:href=\"#DejaVuSans-57\"/>\n     <use x=\"2622.400391\" xlink:href=\"#DejaVuSans-69\"/>\n     <use x=\"2650.183594\" xlink:href=\"#DejaVuSans-6b\"/>\n     <use x=\"2708.09375\" xlink:href=\"#DejaVuSans-69\"/>\n     <use x=\"2735.876953\" xlink:href=\"#DejaVuSans-64\"/>\n     <use x=\"2799.353516\" xlink:href=\"#DejaVuSans-61\"/>\n     <use x=\"2860.632812\" xlink:href=\"#DejaVuSans-74\"/>\n     <use x=\"2899.841797\" xlink:href=\"#DejaVuSans-61\"/>\n    </g>\n   </g>\n  </g>\n </g>\n <defs>\n  <clipPath id=\"p694c463659\">\n   <rect height=\"217.44\" width=\"334.8\" x=\"33.2875\" y=\"22.318125\"/>\n  </clipPath>\n </defs>\n</svg>\n",
      "image/png": "[encoded data removed]"
     },
     "metadata": {
      "needs_background": "light"
     }
    }
   ],
   "source": [
    "\n",
    "def well_known_count(cd_table):\n",
    "    cd_first_candidate = cd_table.groupby(\"id\").first()\n",
    "    has_match = ~cd_first_candidate[\"wikidata\"].isna()\n",
    "    print(has_match.value_counts())\n",
    "    plt.bar([\"Exists in WD\", \"Not existing\"],has_match.value_counts())\n",
    "    plt.title(\"Well known entities - Number of items existing on Wikidata\")\n",
    "well_known_count(cd_table_full)\n"
   ]
  },
  {
   "source": [
    "## Overview \n",
    "The threshold of Wikidata's Reconciliation Service was automatically set by the service, following this equation:\n",
    "\n",
    "$t = t_{val} - d \\cdot |p| = 95 - 5 \\cdot |p|$\n",
    "\n",
    "where:<br>\n",
    "$t_{val}$ ... the fixed validation threshold set by the service. This value is statically set to 95<br>\n",
    "$d$ ... The fixed validation discount set by the service. This value is statically set to 5 <br>\n",
    "$p$ ... The set of properties queried\n",
    "\n",
    "\n",
    "Candidates that exceeded this threshold are considered as a match. Other candidates returned demand further human judgment. The service does not offer partial matches, which would require a second (lower) threshold. However, the service reveals candidate to the user for further judgement. The size of candidates is limited to 10 Candidates for this case. \n",
    "\n",
    "Record Linkage regarding Wikidata may return a maximum of 1 match, as Wikidata itself generally does not hold duplicates (although there are exceptions).\n"
   ],
   "cell_type": "markdown",
   "metadata": {}
  },
  {
   "source": [
    "### Overview regarding matching decision\n",
    "Overview on the decisions of the service: Most decisions are true positives. If not in virtually any case, the true entity was in the set of candidate revealed by the service. There are major differences regarding the data."
   ],
   "cell_type": "markdown",
   "metadata": {}
  },
  {
   "cell_type": "code",
   "execution_count": 44,
   "metadata": {},
   "outputs": [
    {
     "output_type": "error",
     "ename": "KeyError",
     "evalue": "\"['tp'] not in index\"",
     "traceback": [
      "\u001b[0;31m---------------------------------------------------------------------------\u001b[0m",
      "\u001b[0;31mKeyError\u001b[0m                                  Traceback (most recent call last)",
      "\u001b[0;32m<ipython-input-44-9024c75907e9>\u001b[0m in \u001b[0;36m<module>\u001b[0;34m\u001b[0m\n\u001b[1;32m     11\u001b[0m     \u001b[0mplt\u001b[0m\u001b[0;34m.\u001b[0m\u001b[0mbar\u001b[0m\u001b[0;34m(\u001b[0m\u001b[0mmatch_category\u001b[0m\u001b[0;34m.\u001b[0m\u001b[0mindex\u001b[0m\u001b[0;34m,\u001b[0m\u001b[0mmatch_category\u001b[0m\u001b[0;34m)\u001b[0m\u001b[0;34m\u001b[0m\u001b[0;34m\u001b[0m\u001b[0m\n\u001b[1;32m     12\u001b[0m \u001b[0;31m#TODO erste grafik FP anschauen\u001b[0m\u001b[0;34m\u001b[0m\u001b[0;34m\u001b[0m\u001b[0;34m\u001b[0m\u001b[0m\n\u001b[0;32m---> 13\u001b[0;31m \u001b[0mmatching_overview\u001b[0m\u001b[0;34m(\u001b[0m\u001b[0mcd_table_full\u001b[0m\u001b[0;34m)\u001b[0m\u001b[0;34m\u001b[0m\u001b[0;34m\u001b[0m\u001b[0m\n\u001b[0m\u001b[1;32m     14\u001b[0m \u001b[0mplt\u001b[0m\u001b[0;34m.\u001b[0m\u001b[0mshow\u001b[0m\u001b[0;34m(\u001b[0m\u001b[0;34m)\u001b[0m\u001b[0;34m\u001b[0m\u001b[0;34m\u001b[0m\u001b[0m\n\u001b[1;32m     15\u001b[0m \u001b[0mmatching_overview\u001b[0m\u001b[0;34m(\u001b[0m\u001b[0mcd_table_refined\u001b[0m\u001b[0;34m)\u001b[0m\u001b[0;34m\u001b[0m\u001b[0;34m\u001b[0m\u001b[0m\n",
      "\u001b[0;32m<ipython-input-44-9024c75907e9>\u001b[0m in \u001b[0;36mmatching_overview\u001b[0;34m(cd)\u001b[0m\n\u001b[1;32m      1\u001b[0m \u001b[0;32mdef\u001b[0m \u001b[0mmatching_overview\u001b[0m\u001b[0;34m(\u001b[0m\u001b[0mcd\u001b[0m\u001b[0;34m)\u001b[0m\u001b[0;34m:\u001b[0m\u001b[0;34m\u001b[0m\u001b[0;34m\u001b[0m\u001b[0m\n\u001b[1;32m      2\u001b[0m     \u001b[0mcd\u001b[0m \u001b[0;34m=\u001b[0m \u001b[0mcd\u001b[0m\u001b[0;34m[\u001b[0m\u001b[0;34m~\u001b[0m\u001b[0mcd\u001b[0m\u001b[0;34m[\u001b[0m\u001b[0;34m\"wikidata\"\u001b[0m\u001b[0;34m]\u001b[0m\u001b[0;34m.\u001b[0m\u001b[0misna\u001b[0m\u001b[0;34m(\u001b[0m\u001b[0;34m)\u001b[0m\u001b[0;34m]\u001b[0m\u001b[0;34m\u001b[0m\u001b[0;34m\u001b[0m\u001b[0m\n\u001b[0;32m----> 3\u001b[0;31m     \u001b[0many_cd_match\u001b[0m \u001b[0;34m=\u001b[0m \u001b[0mcd\u001b[0m\u001b[0;34m[\u001b[0m\u001b[0;34m[\u001b[0m\u001b[0;34m\"match\"\u001b[0m\u001b[0;34m,\u001b[0m \u001b[0;34m\"tp\"\u001b[0m\u001b[0;34m]\u001b[0m\u001b[0;34m]\u001b[0m\u001b[0;34m.\u001b[0m\u001b[0mgroupby\u001b[0m\u001b[0;34m(\u001b[0m\u001b[0mcd\u001b[0m\u001b[0;34m[\u001b[0m\u001b[0;34m\"id\"\u001b[0m\u001b[0;34m]\u001b[0m\u001b[0;34m)\u001b[0m\u001b[0;34m.\u001b[0m\u001b[0many\u001b[0m\u001b[0;34m(\u001b[0m\u001b[0;34m)\u001b[0m\u001b[0;31m#.to_frame(\"any_cd_match\")\u001b[0m\u001b[0;34m\u001b[0m\u001b[0;34m\u001b[0m\u001b[0m\n\u001b[0m\u001b[1;32m      4\u001b[0m     any_cd_match[\"match_category\"] = np.select([\n\u001b[1;32m      5\u001b[0m         \u001b[0many_cd_match\u001b[0m\u001b[0;34m[\u001b[0m\u001b[0;34m\"match\"\u001b[0m\u001b[0;34m]\u001b[0m \u001b[0;34m&\u001b[0m \u001b[0many_cd_match\u001b[0m\u001b[0;34m[\u001b[0m\u001b[0;34m\"tp\"\u001b[0m\u001b[0;34m]\u001b[0m\u001b[0;34m,\u001b[0m\u001b[0;34m\u001b[0m\u001b[0;34m\u001b[0m\u001b[0m\n",
      "\u001b[0;32m~/anaconda3/envs/bachelor_thesis/lib/python3.9/site-packages/pandas/core/frame.py\u001b[0m in \u001b[0;36m__getitem__\u001b[0;34m(self, key)\u001b[0m\n\u001b[1;32m   3028\u001b[0m             \u001b[0;32mif\u001b[0m \u001b[0mis_iterator\u001b[0m\u001b[0;34m(\u001b[0m\u001b[0mkey\u001b[0m\u001b[0;34m)\u001b[0m\u001b[0;34m:\u001b[0m\u001b[0;34m\u001b[0m\u001b[0;34m\u001b[0m\u001b[0m\n\u001b[1;32m   3029\u001b[0m                 \u001b[0mkey\u001b[0m \u001b[0;34m=\u001b[0m \u001b[0mlist\u001b[0m\u001b[0;34m(\u001b[0m\u001b[0mkey\u001b[0m\u001b[0;34m)\u001b[0m\u001b[0;34m\u001b[0m\u001b[0;34m\u001b[0m\u001b[0m\n\u001b[0;32m-> 3030\u001b[0;31m             \u001b[0mindexer\u001b[0m \u001b[0;34m=\u001b[0m \u001b[0mself\u001b[0m\u001b[0;34m.\u001b[0m\u001b[0mloc\u001b[0m\u001b[0;34m.\u001b[0m\u001b[0m_get_listlike_indexer\u001b[0m\u001b[0;34m(\u001b[0m\u001b[0mkey\u001b[0m\u001b[0;34m,\u001b[0m \u001b[0maxis\u001b[0m\u001b[0;34m=\u001b[0m\u001b[0;36m1\u001b[0m\u001b[0;34m,\u001b[0m \u001b[0mraise_missing\u001b[0m\u001b[0;34m=\u001b[0m\u001b[0;32mTrue\u001b[0m\u001b[0;34m)\u001b[0m\u001b[0;34m[\u001b[0m\u001b[0;36m1\u001b[0m\u001b[0;34m]\u001b[0m\u001b[0;34m\u001b[0m\u001b[0;34m\u001b[0m\u001b[0m\n\u001b[0m\u001b[1;32m   3031\u001b[0m \u001b[0;34m\u001b[0m\u001b[0m\n\u001b[1;32m   3032\u001b[0m         \u001b[0;31m# take() does not accept boolean indexers\u001b[0m\u001b[0;34m\u001b[0m\u001b[0;34m\u001b[0m\u001b[0;34m\u001b[0m\u001b[0m\n",
      "\u001b[0;32m~/anaconda3/envs/bachelor_thesis/lib/python3.9/site-packages/pandas/core/indexing.py\u001b[0m in \u001b[0;36m_get_listlike_indexer\u001b[0;34m(self, key, axis, raise_missing)\u001b[0m\n\u001b[1;32m   1264\u001b[0m             \u001b[0mkeyarr\u001b[0m\u001b[0;34m,\u001b[0m \u001b[0mindexer\u001b[0m\u001b[0;34m,\u001b[0m \u001b[0mnew_indexer\u001b[0m \u001b[0;34m=\u001b[0m \u001b[0max\u001b[0m\u001b[0;34m.\u001b[0m\u001b[0m_reindex_non_unique\u001b[0m\u001b[0;34m(\u001b[0m\u001b[0mkeyarr\u001b[0m\u001b[0;34m)\u001b[0m\u001b[0;34m\u001b[0m\u001b[0;34m\u001b[0m\u001b[0m\n\u001b[1;32m   1265\u001b[0m \u001b[0;34m\u001b[0m\u001b[0m\n\u001b[0;32m-> 1266\u001b[0;31m         \u001b[0mself\u001b[0m\u001b[0;34m.\u001b[0m\u001b[0m_validate_read_indexer\u001b[0m\u001b[0;34m(\u001b[0m\u001b[0mkeyarr\u001b[0m\u001b[0;34m,\u001b[0m \u001b[0mindexer\u001b[0m\u001b[0;34m,\u001b[0m \u001b[0maxis\u001b[0m\u001b[0;34m,\u001b[0m \u001b[0mraise_missing\u001b[0m\u001b[0;34m=\u001b[0m\u001b[0mraise_missing\u001b[0m\u001b[0;34m)\u001b[0m\u001b[0;34m\u001b[0m\u001b[0;34m\u001b[0m\u001b[0m\n\u001b[0m\u001b[1;32m   1267\u001b[0m         \u001b[0;32mreturn\u001b[0m \u001b[0mkeyarr\u001b[0m\u001b[0;34m,\u001b[0m \u001b[0mindexer\u001b[0m\u001b[0;34m\u001b[0m\u001b[0;34m\u001b[0m\u001b[0m\n\u001b[1;32m   1268\u001b[0m \u001b[0;34m\u001b[0m\u001b[0m\n",
      "\u001b[0;32m~/anaconda3/envs/bachelor_thesis/lib/python3.9/site-packages/pandas/core/indexing.py\u001b[0m in \u001b[0;36m_validate_read_indexer\u001b[0;34m(self, key, indexer, axis, raise_missing)\u001b[0m\n\u001b[1;32m   1314\u001b[0m             \u001b[0;32mif\u001b[0m \u001b[0mraise_missing\u001b[0m\u001b[0;34m:\u001b[0m\u001b[0;34m\u001b[0m\u001b[0;34m\u001b[0m\u001b[0m\n\u001b[1;32m   1315\u001b[0m                 \u001b[0mnot_found\u001b[0m \u001b[0;34m=\u001b[0m \u001b[0mlist\u001b[0m\u001b[0;34m(\u001b[0m\u001b[0mset\u001b[0m\u001b[0;34m(\u001b[0m\u001b[0mkey\u001b[0m\u001b[0;34m)\u001b[0m \u001b[0;34m-\u001b[0m \u001b[0mset\u001b[0m\u001b[0;34m(\u001b[0m\u001b[0max\u001b[0m\u001b[0;34m)\u001b[0m\u001b[0;34m)\u001b[0m\u001b[0;34m\u001b[0m\u001b[0;34m\u001b[0m\u001b[0m\n\u001b[0;32m-> 1316\u001b[0;31m                 \u001b[0;32mraise\u001b[0m \u001b[0mKeyError\u001b[0m\u001b[0;34m(\u001b[0m\u001b[0;34mf\"{not_found} not in index\"\u001b[0m\u001b[0;34m)\u001b[0m\u001b[0;34m\u001b[0m\u001b[0;34m\u001b[0m\u001b[0m\n\u001b[0m\u001b[1;32m   1317\u001b[0m \u001b[0;34m\u001b[0m\u001b[0m\n\u001b[1;32m   1318\u001b[0m             \u001b[0mnot_found\u001b[0m \u001b[0;34m=\u001b[0m \u001b[0mkey\u001b[0m\u001b[0;34m[\u001b[0m\u001b[0mmissing_mask\u001b[0m\u001b[0;34m]\u001b[0m\u001b[0;34m\u001b[0m\u001b[0;34m\u001b[0m\u001b[0m\n",
      "\u001b[0;31mKeyError\u001b[0m: \"['tp'] not in index\""
     ]
    }
   ],
   "source": [
    "def matching_overview(cd):\n",
    "    cd = cd[~cd[\"wikidata\"].isna()]\n",
    "    any_cd_match = cd[[\"match\", \"tp\"]].groupby(cd[\"id\"]).any()#.to_frame(\"any_cd_match\")\n",
    "    any_cd_match[\"match_category\"] = np.select([\n",
    "        any_cd_match[\"match\"] & any_cd_match[\"tp\"],\n",
    "        any_cd_match[\"match\"]\n",
    "    ],[ \"true_positive\", \"candidate_match\"], default=\"false_positive\")\n",
    "    any_cd_match[\"match_category\"].value_counts()\n",
    "\n",
    "    match_category = any_cd_match[\"match_category\"].value_counts()\n",
    "    plt.bar(match_category.index,match_category)\n",
    "#TODO erste grafik FP anschauen\n",
    "matching_overview(cd_table_full)\n",
    "plt.show()\n",
    "matching_overview(cd_table_refined)\n",
    "plt.show()\n",
    "matching_overview(cd_table_sparse)\n",
    "plt.show()\n"
   ]
  },
  {
   "source": [
    "# Evaluating Matching decisions \n",
    "The matching decision is evaluated seperatly from the ranking of candidates.\n",
    "The API marks at most one as a match, never two ore more items. This leads to following consequences:\n",
    "\n",
    "$PRECISION = \\frac{TP}{TP + FP}$\n",
    "\n",
    "$RECALL = \\frac{TP}{TP + FN}$\n",
    "<hr>\n",
    "\n",
    "### Case 1 (correct match): \n",
    "$TP = 1 => FP = 0, FN = 0$ \n",
    "\n",
    "RECALL = PRECISION = 1\n",
    "\n",
    "### Case 2 (uncorrect match, but item exists)\n",
    "\n",
    "$TP = 0,  FP = 1, FN = 1$\n",
    "\n",
    "RECALL = PRECISION = 0\n",
    "\n",
    "\n",
    "### Case 3 (no match, but item exists);\n",
    "$TP = 0, FP = 0,  FN = 1 $\n",
    "\n",
    "PRECISION is undefined\n",
    "\n",
    "RECALL = 0\n",
    "\n",
    "### Case 4 (uncorrect match, and item does not exist)\n",
    "$TP = 0,  FP = 1,   FN = 0 $\n",
    "\n",
    "PRECISION = 0 \n",
    "\n",
    "RECALL is undefined\n",
    "\n",
    "### Case 5 (no match and item does not exist)\n",
    "$TP = FP = FN = 0 $\n",
    "\n",
    "PRECISION and RECALL undefined\n",
    "\n",
    "<hr>\n",
    "\n",
    "As I am conviced that those edge cases contain valid information I will set both, precision and recall, to 1 (in case of 5) and 0 (in case of 3 or 4). Note that the separation of non-match cases between the retrieval in the candidate set versus missing entity in the candidate set is not performed here, as we are looking into the MATCHING decision and not the retrieval at this point.\n"
   ],
   "cell_type": "markdown",
   "metadata": {}
  },
  {
   "cell_type": "code",
   "execution_count": 46,
   "metadata": {},
   "outputs": [],
   "source": [
    "#cd_full = cd_table_full[~(cd_table_full[\"wikidata\"].isna() & cd_table_full[\"cd_wd_id\"].isna())]\n",
    "#cd_refined = cd_table_refined[~(cd_table_refined[\"wikidata\"].isna() & cd_table_refined[\"cd_wd_id\"].isna())]\n",
    "#cd_sparse = cd_table_sparse[~(cd_table_sparse[\"wikidata\"].isna() & cd_table_sparse[\"cd_wd_id\"].isna())]"
   ]
  },
  {
   "source": [
    "## Macro Averaged Precision and Recall"
   ],
   "cell_type": "markdown",
   "metadata": {}
  },
  {
   "cell_type": "code",
   "execution_count": 47,
   "metadata": {},
   "outputs": [
    {
     "output_type": "execute_result",
     "data": {
      "text/plain": [
       "                      full     refined      sparse\n",
       "micro_avg_prec    1.000000    1.000000    1.000000\n",
       "micro_avg_rec     0.602685    0.884564    0.953020\n",
       "macro_avg_prec    0.613577    0.887728    0.954308\n",
       "macro_avg_rec     0.613577    0.887728    0.954308\n",
       "macro_f1          0.613577    0.887728    0.954308\n",
       "micro_f1          0.752094    0.938746    0.975945\n",
       "micro_f0.5        0.883510    0.974564    0.990237\n",
       "tp              449.000000  659.000000  710.000000\n",
       "fn              296.000000   86.000000   35.000000\n",
       "fp                0.000000    0.000000    0.000000"
      ],
      "text/html": "<div>\n<style scoped>\n    .dataframe tbody tr th:only-of-type {\n        vertical-align: middle;\n    }\n\n    .dataframe tbody tr th {\n        vertical-align: top;\n    }\n\n    .dataframe thead th {\n        text-align: right;\n    }\n</style>\n<table border=\"1\" class=\"dataframe\">\n  <thead>\n    <tr style=\"text-align: right;\">\n      <th></th>\n      <th>full</th>\n      <th>refined</th>\n      <th>sparse</th>\n    </tr>\n  </thead>\n  <tbody>\n    <tr>\n      <th>micro_avg_prec</th>\n      <td>1.000000</td>\n      <td>1.000000</td>\n      <td>1.000000</td>\n    </tr>\n    <tr>\n      <th>micro_avg_rec</th>\n      <td>0.602685</td>\n      <td>0.884564</td>\n      <td>0.953020</td>\n    </tr>\n    <tr>\n      <th>macro_avg_prec</th>\n      <td>0.613577</td>\n      <td>0.887728</td>\n      <td>0.954308</td>\n    </tr>\n    <tr>\n      <th>macro_avg_rec</th>\n      <td>0.613577</td>\n      <td>0.887728</td>\n      <td>0.954308</td>\n    </tr>\n    <tr>\n      <th>macro_f1</th>\n      <td>0.613577</td>\n      <td>0.887728</td>\n      <td>0.954308</td>\n    </tr>\n    <tr>\n      <th>micro_f1</th>\n      <td>0.752094</td>\n      <td>0.938746</td>\n      <td>0.975945</td>\n    </tr>\n    <tr>\n      <th>micro_f0.5</th>\n      <td>0.883510</td>\n      <td>0.974564</td>\n      <td>0.990237</td>\n    </tr>\n    <tr>\n      <th>tp</th>\n      <td>449.000000</td>\n      <td>659.000000</td>\n      <td>710.000000</td>\n    </tr>\n    <tr>\n      <th>fn</th>\n      <td>296.000000</td>\n      <td>86.000000</td>\n      <td>35.000000</td>\n    </tr>\n    <tr>\n      <th>fp</th>\n      <td>0.000000</td>\n      <td>0.000000</td>\n      <td>0.000000</td>\n    </tr>\n  </tbody>\n</table>\n</div>"
     },
     "metadata": {},
     "execution_count": 47
    }
   ],
   "source": [
    "f_beta = lambda b,prec, rec: (1+b**2) * (prec * rec)/((b**2) * prec + rec)\n",
    "def performance_metrics(cd):\n",
    "        pred =cd[\"cd_match_pred\"]\n",
    "        truth = cd[\"match\"]\n",
    "\n",
    "        # Count TP, FP, FN per query and add one to FN if \n",
    "        # wikidata item exists and  is not in candidates.\n",
    "        cd_metrs = (cd.assign(tp = pred & truth,\n",
    "                        fp = pred & ~truth,\n",
    "                        fn = (~pred & truth))\n",
    "                .filter([\"id\", \"tp\", \"fp\", \"fn\"])\n",
    "                .groupby(\"id\")\n",
    "                .sum()\n",
    "                .merge(person_assignments, on = \"id\")\n",
    "                .assign(match_exists = lambda x: ~x[\"wikidata\"].isna())\n",
    "                .drop(\"wikidata\", axis = 1)\n",
    "                .assign(all_zero = lambda x: (x[\"tp\"]==0) & (x[\"fp\"] == 0) & (x[\"fn\"] == 0),     \n",
    "                        missing_relevant = lambda x: x[\"all_zero\"] & x[\"match_exists\"],\n",
    "                        fn = lambda x: np.where(x[\"missing_relevant\"], 1, x[\"fn\"])))\n",
    "\n",
    "        # Calculate precision and recall per query and manually set edge cases.\n",
    "        cd_metrs = (cd_metrs.assign(precision = lambda x:  x[\"tp\"] / (x[\"tp\"] + x[\"fp\"]))\n",
    "                        .assign(precision = lambda x: np.select([\n",
    "                                x[\"precision\"].isna() & (x[\"fp\"] == 0) & (x[\"fn\"] == 0), # Case 5\n",
    "                                x[\"precision\"].isna()], # Case 3 or 4\n",
    "                                [1, 0],\n",
    "                                default=x[\"precision\"]))\n",
    "                        .assign(recall = lambda x:  x[\"tp\"] / (x[\"tp\"] + x[\"fn\"]))\n",
    "                        .assign(recall = lambda x: np.select([\n",
    "                                x[\"recall\"].isna() & (x[\"fp\"] == 0) & (x[\"fn\"] == 0),   # Case 5     \n",
    "                                x[\"recall\"].isna()], # Case 3 or 4\n",
    "                                [1, 0],\n",
    "                                default=x[\"precision\"]))\n",
    "                        )\n",
    "\n",
    "        micro = cd_metrs.filter([\"tp\", \"fp\", \"fn\"]).sum().to_frame().T\n",
    "        macro = cd_metrs.filter([\"precision\", \"recall\"]).mean()\n",
    "        micro_prec = micro[\"tp\"] / (micro[\"tp\"] + micro[\"fp\"])\n",
    "        micro_rec = micro[\"tp\"] / (micro[\"tp\"] + micro[\"fn\"]) \n",
    "        return {\n",
    "                \"micro_avg_prec\" : micro_prec[0],\n",
    "                \"micro_avg_rec\" :  micro_rec[0],\n",
    "                \"macro_avg_prec\" : macro[\"precision\"],\n",
    "                \"macro_avg_rec\" : macro[\"recall\"],\n",
    "                \"macro_f1\" : f_beta(1, macro[\"precision\"], macro[\"recall\"]),\n",
    "                \"micro_f1\" : f_beta(1,micro_prec[0], micro_rec[0]),\n",
    "                \"micro_f0.5\": f_beta(0.5,micro_prec[0], micro_rec[0]),\n",
    "                \"tp\": micro[\"tp\"][0],\n",
    "                \"fn\": micro[\"fn\"][0],\n",
    "                \"fp\": micro[\"fp\"][0]\n",
    "        }\n",
    "perf_metrics = {\n",
    "        \"full\" :performance_metrics(cd_table_full),\n",
    "        \"refined\" :performance_metrics(cd_table_refined),\n",
    "        \"sparse\" : performance_metrics(cd_table_sparse)}\n",
    "       \n",
    "pandas.DataFrame(perf_metrics)\n"
   ]
  },
  {
   "source": [
    "As we can see, the matching algorithm is poor. The more data is transmitted to the reconciliation API, the weaker are the results, due to more comparison scores evaluate to 0 even though it should be the opposite. However, as we can see at the micro averaged precision, when the algorithm decides that a pair is a match, it is accurate. Hence, there are no false positives, which is extremely important."
   ],
   "cell_type": "markdown",
   "metadata": {}
  },
  {
   "source": [
    "# Evaluating the Ranking\n",
    "The Wikidata Reconciliation API makes rather conservative decisions, surfacing no false positives, but many false negatives. In this case, false positives would be worse, as we would create an inconsistent entity instead of just an incomplete one. Still, in many cases the right item was inside the list of candidates - mostly at the very top. As the service was built for additional human judgement, the ranking of the candidates is of utmost importance."
   ],
   "cell_type": "markdown",
   "metadata": {}
  },
  {
   "source": [
    "## Mean Reciprocal Rank\n",
    "The [mean reciprocal rank](https://en.wikipedia.org/wiki/Mean_reciprocal_rank) takes the positition of the FIRST relevant item into account. This makes sense here, as we have a maximum of 1 match. We want to score higher if the match is at position 1 (mrr= 1/1) than if it is at rank 3 (mrr = 1/3).\n",
    "\n",
    "$MRR = \\frac{1}{|Q|} \\sum_{i=1}^{|Q|} \\frac{1}{rank_i}$\n",
    "\n",
    "Considering this, the reconciliation API returns good results, which indicates that the scoring threshold could be lower.\n",
    "\n",
    "TODO When there is only one relevant answer in your dataset, the MRR and the MAP are exactly equivalent under the standard definition of MAP. https://stats.stackexchange.com/questions/127041/mean-average-precision-vs-mean-reciprocal-rank\n",
    "\n",
    "https://link.springer.com/referenceworkentry/10.1007%2F978-0-387-39940-9_488"
   ],
   "cell_type": "markdown",
   "metadata": {}
  },
  {
   "cell_type": "code",
   "execution_count": 31,
   "metadata": {},
   "outputs": [
    {
     "output_type": "stream",
     "name": "stdout",
     "text": [
      "1\n1\n1\n"
     ]
    },
    {
     "output_type": "execute_result",
     "data": {
      "text/plain": [
       "{'full': 0.9973154362416108,\n",
       " 'refined': 0.9973154362416108,\n",
       " 'sparse': 0.9969127516778524}"
      ]
     },
     "metadata": {},
     "execution_count": 31
    }
   ],
   "source": [
    "def mrr(cd):\n",
    "    cd_first =  cd[~cd[\"wikidata\"].isna()].groupby(\"id\").first()\n",
    "    hits = cd[cd[\"match\"]]\n",
    "    # Hits eliminates cases, no candidates where retrieved, but item exists in wikidata. We need it when dividing though, diff = len(cd_first) - len(hits) \n",
    "    print(len(cd_first) - len(hits))\n",
    "    mrr = (1 / hits[\"rank\"]).sum() / len(cd_first)\n",
    "    return mrr\n",
    "\n",
    "mrr_metrics = {\n",
    "    \"full\": mrr(cd_table_full), \n",
    "\"refined\": mrr(cd_table_refined),\n",
    "\"sparse\": mrr(cd_table_sparse)}\n",
    "mrr_metrics"
   ]
  },
  {
   "source": [
    "### Compare to Search API\n",
    "To assess the ranking compared to a straight search against the API we will query the names of the entities against the MediaWiki search API, which also is used by the reconciliation API internally.\n",
    "Again, for reasons of time and reproducibility, the responses are persisted."
   ],
   "cell_type": "markdown",
   "metadata": {}
  },
  {
   "cell_type": "code",
   "execution_count": 32,
   "metadata": {},
   "outputs": [
    {
     "output_type": "stream",
     "name": "stdout",
     "text": [
      "CPU times: user 7.57 ms, sys: 0 ns, total: 7.57 ms\nWall time: 6.11 ms\n"
     ]
    }
   ],
   "source": [
    "%%time\n",
    "\n",
    "search_endpoint = url_parse.urlparse(\"https://www.wikidata.org/w/api.php?action=wbsearchentities\")\n",
    "params = {\n",
    "    \"search\": \"\",\n",
    "    \"language\": \"de\",\n",
    "    \"strictlanguage\": \"false\",\n",
    "    \"type\": \"item\",\n",
    "    \"limit\": 10,\n",
    "    \"format\": \"json\"\n",
    "}\n",
    "def mediawikiSearch(entities):\n",
    "    search_dicts = []\n",
    "    for person in entities:\n",
    "        params[\"search\"] = person.first(\"name\")\n",
    "        results = requests.get(search_endpoint.geturl(), params=params)\n",
    "        candidates = results.json()[\"search\"]\n",
    "        if len(candidates):\n",
    "            for candidate in candidates:\n",
    "                mapped = {\n",
    "                    \"id\": person.id,\n",
    "                    \"name\": person.first(\"name\"),\n",
    "                    \"cd_wd_id\": candidate[\"id\"],\n",
    "                    \"cd_name\": candidate[\"label\"]}\n",
    "                search_dicts.append(mapped)\n",
    "        else: \n",
    "            mapped = {\n",
    "                \"id\": person.id,\n",
    "                \"name\": person.first(\"name\")}\n",
    "            search_dicts.append(mapped)\n",
    "    return pandas.DataFrame(search_dicts)\n",
    "\n",
    "# mw = mediawiki\n",
    "mw_csv_path = \"./data/intermediate/media_wiki_results.csv\"\n",
    "if False: # reproducibility/replicability\n",
    "    __cd_mw = mediawikiSearch(ftm_persons)\n",
    "    __cd_mw.to_csv(mw_csv_path)\n",
    "else:\n",
    "    __cd_mw = pandas.read_csv(mw_csv_path)\n",
    "\n",
    "#for "
   ]
  },
  {
   "source": [
    "The search API already returns okayish results."
   ],
   "cell_type": "markdown",
   "metadata": {}
  },
  {
   "cell_type": "code",
   "execution_count": 33,
   "metadata": {},
   "outputs": [
    {
     "output_type": "stream",
     "name": "stdout",
     "text": [
      "2\n"
     ]
    },
    {
     "output_type": "execute_result",
     "data": {
      "text/plain": [
       "         full   refined    sparse    search\n",
       "mrr  0.997315  0.997315  0.996913  0.967315"
      ],
      "text/html": "<div>\n<style scoped>\n    .dataframe tbody tr th:only-of-type {\n        vertical-align: middle;\n    }\n\n    .dataframe tbody tr th {\n        vertical-align: top;\n    }\n\n    .dataframe thead th {\n        text-align: right;\n    }\n</style>\n<table border=\"1\" class=\"dataframe\">\n  <thead>\n    <tr style=\"text-align: right;\">\n      <th></th>\n      <th>full</th>\n      <th>refined</th>\n      <th>sparse</th>\n      <th>search</th>\n    </tr>\n  </thead>\n  <tbody>\n    <tr>\n      <th>mrr</th>\n      <td>0.997315</td>\n      <td>0.997315</td>\n      <td>0.996913</td>\n      <td>0.967315</td>\n    </tr>\n  </tbody>\n</table>\n</div>"
     },
     "metadata": {},
     "execution_count": 33
    }
   ],
   "source": [
    "cd_mw = (__cd_mw\n",
    "            .merge(person_assignments, on=\"id\", how = \"left\")\n",
    "            .assign(match = lambda x: x[\"cd_wd_id\"] == x[\"wikidata\"],\n",
    "                    rank = lambda x: x.groupby(\"id\").cumcount().values + 1)\n",
    "            )\n",
    "#cd_mw = cd_mw[~cd_mw[\"wikidata\"].isna()]\n",
    "mrr_metrics[\"search\"] = mrr(cd_mw)\n",
    "pandas.DataFrame(mrr_metrics, index= [\"mrr\"])"
   ]
  },
  {
   "source": [
    "# Back to Classification\n",
    "### Metrics @1\n",
    "I define a primitive classifier, which queries the name in the API and marks the first result as a match. "
   ],
   "cell_type": "markdown",
   "metadata": {}
  },
  {
   "cell_type": "code",
   "execution_count": 34,
   "metadata": {},
   "outputs": [],
   "source": [
    "def comp_metrics_at_1(cd):\n",
    "    cd_first= cd.groupby(\"id\").first()\n",
    "    return performance_metrics(cd_first)\n",
    "    "
   ]
  },
  {
   "cell_type": "code",
   "execution_count": 38,
   "metadata": {},
   "outputs": [
    {
     "output_type": "stream",
     "name": "stdout",
     "text": [
      "\\begin{tabular}{lrrrr}\n\\toprule\n{} &        full &     refined &      sparse &    search@1 \\\\\n\\midrule\nmicro\\_avg\\_prec &    1.000000 &    1.000000 &    1.000000 &    0.920366 \\\\\nmicro\\_avg\\_rec  &    0.602685 &    0.884564 &    0.953020 &    1.000000 \\\\\nmacro\\_avg\\_prec &    0.613577 &    0.887728 &    0.954308 &    0.920366 \\\\\nmacro\\_avg\\_rec  &    0.613577 &    0.887728 &    0.954308 &    0.920366 \\\\\nmacro\\_f1       &    0.613577 &    0.887728 &    0.954308 &    0.920366 \\\\\nmicro\\_f1       &    0.752094 &    0.938746 &    0.975945 &    0.958532 \\\\\nmicro\\_f0.5     &    0.883510 &    0.974564 &    0.990237 &    0.935261 \\\\\ntp             &  449.000000 &  659.000000 &  710.000000 &  705.000000 \\\\\nfn             &  296.000000 &   86.000000 &   35.000000 &    0.000000 \\\\\nfp             &    0.000000 &    0.000000 &    0.000000 &   61.000000 \\\\\n\\bottomrule\n\\end{tabular}\n\n"
     ]
    }
   ],
   "source": [
    "cd_mw_first_match = cd_mw.assign(cd_match_pred = True)\n",
    "perf_metrics[\"search@1\"] = comp_metrics_at_1(cd_mw_first_match)\n",
    "perf_metr_df = pandas.DataFrame(perf_metrics)\n",
    "print(perf_metr_df.to_latex())"
   ]
  },
  {
   "source": [
    "## Enhancing the Threshold?"
   ],
   "cell_type": "markdown",
   "metadata": {}
  },
  {
   "source": [
    "We clearly see that the scoring capability is somewhat off. Here we can try if a lower threshold could fix the discrepancies by plotting the resulting F1 value. However, this is a simplification, as the Wikidata scoring algorithm does not decide a match if the gap between both scores is smaller than 10."
   ],
   "cell_type": "markdown",
   "metadata": {}
  },
  {
   "cell_type": "code",
   "execution_count": 35,
   "metadata": {
    "tags": []
   },
   "outputs": [],
   "source": [
    "def simulate_th_to_f1(cd):\n",
    "    adapted_ths = []\n",
    "    debug = []\n",
    "    cd_first = cd.groupby(\"id\").first()\n",
    "    for i in range(-25,60,1):\n",
    "        \n",
    "        adapted_th= cd_first.assign(threshold = lambda x: x[\"threshold\"] - i \n",
    "            ,cd_match_pred = lambda x: x[\"cd_score\"] >= x[\"threshold\"])\n",
    "\n",
    "        adapted_match = cd.merge(adapted_th.filter([\"id\",\"cd_wd_id\",\"cd_match_pred\"]), on=[\"id\", \"cd_wd_id\"], how=\"left\").assign(cd_match_pred = lambda x: np.where(x[\"cd_match_pred_y\"].isna(), x[\"cd_match_pred_x\"], x[\"cd_match_pred_y\"]))\n",
    "        debug.append(adapted_match)\n",
    "        adapted_ths.append([-i, performance_metrics(adapted_match)])\n",
    "    return adapted_ths\n",
    "\n",
    "adapted_ths = simulate_th_to_f1(cd_table_full)"
   ]
  },
  {
   "cell_type": "code",
   "execution_count": 36,
   "metadata": {},
   "outputs": [],
   "source": [
    "th2df = lambda y: pandas.DataFrame([{\"th_offset\": metr[0], y: metr[1][y]} for metr in adapted_ths ])\n",
    "\n",
    "ths_prec = th2df(\"micro_avg_prec\")\n",
    "ths_rec = th2df(\"micro_avg_rec\")\n",
    "ths_f1 = th2df(\"micro_f1\")\n",
    "ths_f0_5 = th2df(\"micro_f0.5\")\n"
   ]
  },
  {
   "source": [
    "## F1 and threshold adaption"
   ],
   "cell_type": "markdown",
   "metadata": {}
  },
  {
   "cell_type": "code",
   "execution_count": 37,
   "metadata": {},
   "outputs": [
    {
     "output_type": "stream",
     "name": "stdout",
     "text": [
      "th_offset   -37.000000\nmicro_f1      0.991979\nName: 62, dtype: float64\n"
     ]
    },
    {
     "output_type": "display_data",
     "data": {
      "text/plain": "<Figure size 432x288 with 1 Axes>",
      "image/svg+xml": "<?xml version=\"1.0\" encoding=\"utf-8\" standalone=\"no\"?>\n<!DOCTYPE svg PUBLIC \"-//W3C//DTD SVG 1.1//EN\"\n  \"http://www.w3.org/Graphics/SVG/1.1/DTD/svg11.dtd\">\n<!-- Created with matplotlib (https://matplotlib.org/) -->\n<svg height=\"262.19625pt\" version=\"1.1\" viewBox=\"0 0 386.059375 262.19625\" width=\"386.059375pt\" xmlns=\"http://www.w3.org/2000/svg\" xmlns:xlink=\"http://www.w3.org/1999/xlink\">\n <metadata>\n  <rdf:RDF xmlns:cc=\"http://creativecommons.org/ns#\" xmlns:dc=\"http://purl.org/dc/elements/1.1/\" xmlns:rdf=\"http://www.w3.org/1999/02/22-rdf-syntax-ns#\">\n   <cc:Work>\n    <dc:type rdf:resource=\"http://purl.org/dc/dcmitype/StillImage\"/>\n    <dc:date>2021-04-23T08:41:56.198596</dc:date>\n    <dc:format>image/svg+xml</dc:format>\n    <dc:creator>\n     <cc:Agent>\n      <dc:title>Matplotlib v3.3.3, https://matplotlib.org/</dc:title>\n     </cc:Agent>\n    </dc:creator>\n   </cc:Work>\n  </rdf:RDF>\n </metadata>\n <defs>\n  <style type=\"text/css\">*{stroke-linecap:butt;stroke-linejoin:round;}</style>\n </defs>\n <g id=\"figure_1\">\n  <g id=\"patch_1\">\n   <path d=\"M 0 262.19625 \nL 386.059375 262.19625 \nL 386.059375 0 \nL 0 0 \nz\n\" style=\"fill:none;\"/>\n  </g>\n  <g id=\"axes_1\">\n   <g id=\"patch_2\">\n    <path d=\"M 44.059375 224.64 \nL 378.859375 224.64 \nL 378.859375 7.2 \nL 44.059375 7.2 \nz\n\" style=\"fill:#ffffff;\"/>\n   </g>\n   <g id=\"PathCollection_1\">\n    <defs>\n     <path d=\"M 0 3 \nC 0.795609 3 1.55874 2.683901 2.12132 2.12132 \nC 2.683901 1.55874 3 0.795609 3 0 \nC 3 -0.795609 2.683901 -1.55874 2.12132 -2.12132 \nC 1.55874 -2.683901 0.795609 -3 0 -3 \nC -0.795609 -3 -1.55874 -2.683901 -2.12132 -2.12132 \nC -2.683901 -1.55874 -3 -0.795609 -3 0 \nC -3 0.795609 -2.683901 1.55874 -2.12132 2.12132 \nC -1.55874 2.683901 -0.795609 3 0 3 \nz\n\" id=\"m3c02772452\" style=\"stroke:#1f77b4;\"/>\n    </defs>\n    <g clip-path=\"url(#pe06e2d87a6)\">\n     <use style=\"fill:#1f77b4;stroke:#1f77b4;\" x=\"138.991843\" xlink:href=\"#m3c02772452\" y=\"17.083636\"/>\n    </g>\n   </g>\n   <g id=\"matplotlib.axis_1\">\n    <g id=\"xtick_1\">\n     <g id=\"line2d_1\">\n      <defs>\n       <path d=\"M 0 0 \nL 0 3.5 \n\" id=\"m6df43f948b\" style=\"stroke:#000000;stroke-width:0.8;\"/>\n      </defs>\n      <g>\n       <use style=\"stroke:#000000;stroke-width:0.8;\" x=\"55.65418\" xlink:href=\"#m6df43f948b\" y=\"224.64\"/>\n      </g>\n     </g>\n     <g id=\"text_1\">\n      <!-- −60 -->\n      <g transform=\"translate(45.101836 239.238437)scale(0.1 -0.1)\">\n       <defs>\n        <path d=\"M 10.59375 35.5 \nL 73.1875 35.5 \nL 73.1875 27.203125 \nL 10.59375 27.203125 \nz\n\" id=\"DejaVuSans-8722\"/>\n        <path d=\"M 33.015625 40.375 \nQ 26.375 40.375 22.484375 35.828125 \nQ 18.609375 31.296875 18.609375 23.390625 \nQ 18.609375 15.53125 22.484375 10.953125 \nQ 26.375 6.390625 33.015625 6.390625 \nQ 39.65625 6.390625 43.53125 10.953125 \nQ 47.40625 15.53125 47.40625 23.390625 \nQ 47.40625 31.296875 43.53125 35.828125 \nQ 39.65625 40.375 33.015625 40.375 \nz\nM 52.59375 71.296875 \nL 52.59375 62.3125 \nQ 48.875 64.0625 45.09375 64.984375 \nQ 41.3125 65.921875 37.59375 65.921875 \nQ 27.828125 65.921875 22.671875 59.328125 \nQ 17.53125 52.734375 16.796875 39.40625 \nQ 19.671875 43.65625 24.015625 45.921875 \nQ 28.375 48.1875 33.59375 48.1875 \nQ 44.578125 48.1875 50.953125 41.515625 \nQ 57.328125 34.859375 57.328125 23.390625 \nQ 57.328125 12.15625 50.6875 5.359375 \nQ 44.046875 -1.421875 33.015625 -1.421875 \nQ 20.359375 -1.421875 13.671875 8.265625 \nQ 6.984375 17.96875 6.984375 36.375 \nQ 6.984375 53.65625 15.1875 63.9375 \nQ 23.390625 74.21875 37.203125 74.21875 \nQ 40.921875 74.21875 44.703125 73.484375 \nQ 48.484375 72.75 52.59375 71.296875 \nz\n\" id=\"DejaVuSans-54\"/>\n        <path d=\"M 31.78125 66.40625 \nQ 24.171875 66.40625 20.328125 58.90625 \nQ 16.5 51.421875 16.5 36.375 \nQ 16.5 21.390625 20.328125 13.890625 \nQ 24.171875 6.390625 31.78125 6.390625 \nQ 39.453125 6.390625 43.28125 13.890625 \nQ 47.125 21.390625 47.125 36.375 \nQ 47.125 51.421875 43.28125 58.90625 \nQ 39.453125 66.40625 31.78125 66.40625 \nz\nM 31.78125 74.21875 \nQ 44.046875 74.21875 50.515625 64.515625 \nQ 56.984375 54.828125 56.984375 36.375 \nQ 56.984375 17.96875 50.515625 8.265625 \nQ 44.046875 -1.421875 31.78125 -1.421875 \nQ 19.53125 -1.421875 13.0625 8.265625 \nQ 6.59375 17.96875 6.59375 36.375 \nQ 6.59375 54.828125 13.0625 64.515625 \nQ 19.53125 74.21875 31.78125 74.21875 \nz\n\" id=\"DejaVuSans-48\"/>\n       </defs>\n       <use xlink:href=\"#DejaVuSans-8722\"/>\n       <use x=\"83.789062\" xlink:href=\"#DejaVuSans-54\"/>\n       <use x=\"147.412109\" xlink:href=\"#DejaVuSans-48\"/>\n      </g>\n     </g>\n    </g>\n    <g id=\"xtick_2\">\n     <g id=\"line2d_2\">\n      <g>\n       <use style=\"stroke:#000000;stroke-width:0.8;\" x=\"128.121713\" xlink:href=\"#m6df43f948b\" y=\"224.64\"/>\n      </g>\n     </g>\n     <g id=\"text_2\">\n      <!-- −40 -->\n      <g transform=\"translate(117.569369 239.238437)scale(0.1 -0.1)\">\n       <defs>\n        <path d=\"M 37.796875 64.3125 \nL 12.890625 25.390625 \nL 37.796875 25.390625 \nz\nM 35.203125 72.90625 \nL 47.609375 72.90625 \nL 47.609375 25.390625 \nL 58.015625 25.390625 \nL 58.015625 17.1875 \nL 47.609375 17.1875 \nL 47.609375 0 \nL 37.796875 0 \nL 37.796875 17.1875 \nL 4.890625 17.1875 \nL 4.890625 26.703125 \nz\n\" id=\"DejaVuSans-52\"/>\n       </defs>\n       <use xlink:href=\"#DejaVuSans-8722\"/>\n       <use x=\"83.789062\" xlink:href=\"#DejaVuSans-52\"/>\n       <use x=\"147.412109\" xlink:href=\"#DejaVuSans-48\"/>\n      </g>\n     </g>\n    </g>\n    <g id=\"xtick_3\">\n     <g id=\"line2d_3\">\n      <g>\n       <use style=\"stroke:#000000;stroke-width:0.8;\" x=\"200.589245\" xlink:href=\"#m6df43f948b\" y=\"224.64\"/>\n      </g>\n     </g>\n     <g id=\"text_3\">\n      <!-- −20 -->\n      <g transform=\"translate(190.036901 239.238437)scale(0.1 -0.1)\">\n       <defs>\n        <path d=\"M 19.1875 8.296875 \nL 53.609375 8.296875 \nL 53.609375 0 \nL 7.328125 0 \nL 7.328125 8.296875 \nQ 12.9375 14.109375 22.625 23.890625 \nQ 32.328125 33.6875 34.8125 36.53125 \nQ 39.546875 41.84375 41.421875 45.53125 \nQ 43.3125 49.21875 43.3125 52.78125 \nQ 43.3125 58.59375 39.234375 62.25 \nQ 35.15625 65.921875 28.609375 65.921875 \nQ 23.96875 65.921875 18.8125 64.3125 \nQ 13.671875 62.703125 7.8125 59.421875 \nL 7.8125 69.390625 \nQ 13.765625 71.78125 18.9375 73 \nQ 24.125 74.21875 28.421875 74.21875 \nQ 39.75 74.21875 46.484375 68.546875 \nQ 53.21875 62.890625 53.21875 53.421875 \nQ 53.21875 48.921875 51.53125 44.890625 \nQ 49.859375 40.875 45.40625 35.40625 \nQ 44.1875 33.984375 37.640625 27.21875 \nQ 31.109375 20.453125 19.1875 8.296875 \nz\n\" id=\"DejaVuSans-50\"/>\n       </defs>\n       <use xlink:href=\"#DejaVuSans-8722\"/>\n       <use x=\"83.789062\" xlink:href=\"#DejaVuSans-50\"/>\n       <use x=\"147.412109\" xlink:href=\"#DejaVuSans-48\"/>\n      </g>\n     </g>\n    </g>\n    <g id=\"xtick_4\">\n     <g id=\"line2d_4\">\n      <g>\n       <use style=\"stroke:#000000;stroke-width:0.8;\" x=\"273.056778\" xlink:href=\"#m6df43f948b\" y=\"224.64\"/>\n      </g>\n     </g>\n     <g id=\"text_4\">\n      <!-- 0 -->\n      <g transform=\"translate(269.875528 239.238437)scale(0.1 -0.1)\">\n       <use xlink:href=\"#DejaVuSans-48\"/>\n      </g>\n     </g>\n    </g>\n    <g id=\"xtick_5\">\n     <g id=\"line2d_5\">\n      <g>\n       <use style=\"stroke:#000000;stroke-width:0.8;\" x=\"345.52431\" xlink:href=\"#m6df43f948b\" y=\"224.64\"/>\n      </g>\n     </g>\n     <g id=\"text_5\">\n      <!-- 20 -->\n      <g transform=\"translate(339.16181 239.238437)scale(0.1 -0.1)\">\n       <use xlink:href=\"#DejaVuSans-50\"/>\n       <use x=\"63.623047\" xlink:href=\"#DejaVuSans-48\"/>\n      </g>\n     </g>\n    </g>\n    <g id=\"text_6\">\n     <!-- threshold offset -->\n     <g transform=\"translate(172.104688 252.916562)scale(0.1 -0.1)\">\n      <defs>\n       <path d=\"M 18.3125 70.21875 \nL 18.3125 54.6875 \nL 36.8125 54.6875 \nL 36.8125 47.703125 \nL 18.3125 47.703125 \nL 18.3125 18.015625 \nQ 18.3125 11.328125 20.140625 9.421875 \nQ 21.96875 7.515625 27.59375 7.515625 \nL 36.8125 7.515625 \nL 36.8125 0 \nL 27.59375 0 \nQ 17.1875 0 13.234375 3.875 \nQ 9.28125 7.765625 9.28125 18.015625 \nL 9.28125 47.703125 \nL 2.6875 47.703125 \nL 2.6875 54.6875 \nL 9.28125 54.6875 \nL 9.28125 70.21875 \nz\n\" id=\"DejaVuSans-116\"/>\n       <path d=\"M 54.890625 33.015625 \nL 54.890625 0 \nL 45.90625 0 \nL 45.90625 32.71875 \nQ 45.90625 40.484375 42.875 44.328125 \nQ 39.84375 48.1875 33.796875 48.1875 \nQ 26.515625 48.1875 22.3125 43.546875 \nQ 18.109375 38.921875 18.109375 30.90625 \nL 18.109375 0 \nL 9.078125 0 \nL 9.078125 75.984375 \nL 18.109375 75.984375 \nL 18.109375 46.1875 \nQ 21.34375 51.125 25.703125 53.5625 \nQ 30.078125 56 35.796875 56 \nQ 45.21875 56 50.046875 50.171875 \nQ 54.890625 44.34375 54.890625 33.015625 \nz\n\" id=\"DejaVuSans-104\"/>\n       <path d=\"M 41.109375 46.296875 \nQ 39.59375 47.171875 37.8125 47.578125 \nQ 36.03125 48 33.890625 48 \nQ 26.265625 48 22.1875 43.046875 \nQ 18.109375 38.09375 18.109375 28.8125 \nL 18.109375 0 \nL 9.078125 0 \nL 9.078125 54.6875 \nL 18.109375 54.6875 \nL 18.109375 46.1875 \nQ 20.953125 51.171875 25.484375 53.578125 \nQ 30.03125 56 36.53125 56 \nQ 37.453125 56 38.578125 55.875 \nQ 39.703125 55.765625 41.0625 55.515625 \nz\n\" id=\"DejaVuSans-114\"/>\n       <path d=\"M 56.203125 29.59375 \nL 56.203125 25.203125 \nL 14.890625 25.203125 \nQ 15.484375 15.921875 20.484375 11.0625 \nQ 25.484375 6.203125 34.421875 6.203125 \nQ 39.59375 6.203125 44.453125 7.46875 \nQ 49.3125 8.734375 54.109375 11.28125 \nL 54.109375 2.78125 \nQ 49.265625 0.734375 44.1875 -0.34375 \nQ 39.109375 -1.421875 33.890625 -1.421875 \nQ 20.796875 -1.421875 13.15625 6.1875 \nQ 5.515625 13.8125 5.515625 26.8125 \nQ 5.515625 40.234375 12.765625 48.109375 \nQ 20.015625 56 32.328125 56 \nQ 43.359375 56 49.78125 48.890625 \nQ 56.203125 41.796875 56.203125 29.59375 \nz\nM 47.21875 32.234375 \nQ 47.125 39.59375 43.09375 43.984375 \nQ 39.0625 48.390625 32.421875 48.390625 \nQ 24.90625 48.390625 20.390625 44.140625 \nQ 15.875 39.890625 15.1875 32.171875 \nz\n\" id=\"DejaVuSans-101\"/>\n       <path d=\"M 44.28125 53.078125 \nL 44.28125 44.578125 \nQ 40.484375 46.53125 36.375 47.5 \nQ 32.28125 48.484375 27.875 48.484375 \nQ 21.1875 48.484375 17.84375 46.4375 \nQ 14.5 44.390625 14.5 40.28125 \nQ 14.5 37.15625 16.890625 35.375 \nQ 19.28125 33.59375 26.515625 31.984375 \nL 29.59375 31.296875 \nQ 39.15625 29.25 43.1875 25.515625 \nQ 47.21875 21.78125 47.21875 15.09375 \nQ 47.21875 7.46875 41.1875 3.015625 \nQ 35.15625 -1.421875 24.609375 -1.421875 \nQ 20.21875 -1.421875 15.453125 -0.5625 \nQ 10.6875 0.296875 5.421875 2 \nL 5.421875 11.28125 \nQ 10.40625 8.6875 15.234375 7.390625 \nQ 20.0625 6.109375 24.8125 6.109375 \nQ 31.15625 6.109375 34.5625 8.28125 \nQ 37.984375 10.453125 37.984375 14.40625 \nQ 37.984375 18.0625 35.515625 20.015625 \nQ 33.0625 21.96875 24.703125 23.78125 \nL 21.578125 24.515625 \nQ 13.234375 26.265625 9.515625 29.90625 \nQ 5.8125 33.546875 5.8125 39.890625 \nQ 5.8125 47.609375 11.28125 51.796875 \nQ 16.75 56 26.8125 56 \nQ 31.78125 56 36.171875 55.265625 \nQ 40.578125 54.546875 44.28125 53.078125 \nz\n\" id=\"DejaVuSans-115\"/>\n       <path d=\"M 30.609375 48.390625 \nQ 23.390625 48.390625 19.1875 42.75 \nQ 14.984375 37.109375 14.984375 27.296875 \nQ 14.984375 17.484375 19.15625 11.84375 \nQ 23.34375 6.203125 30.609375 6.203125 \nQ 37.796875 6.203125 41.984375 11.859375 \nQ 46.1875 17.53125 46.1875 27.296875 \nQ 46.1875 37.015625 41.984375 42.703125 \nQ 37.796875 48.390625 30.609375 48.390625 \nz\nM 30.609375 56 \nQ 42.328125 56 49.015625 48.375 \nQ 55.71875 40.765625 55.71875 27.296875 \nQ 55.71875 13.875 49.015625 6.21875 \nQ 42.328125 -1.421875 30.609375 -1.421875 \nQ 18.84375 -1.421875 12.171875 6.21875 \nQ 5.515625 13.875 5.515625 27.296875 \nQ 5.515625 40.765625 12.171875 48.375 \nQ 18.84375 56 30.609375 56 \nz\n\" id=\"DejaVuSans-111\"/>\n       <path d=\"M 9.421875 75.984375 \nL 18.40625 75.984375 \nL 18.40625 0 \nL 9.421875 0 \nz\n\" id=\"DejaVuSans-108\"/>\n       <path d=\"M 45.40625 46.390625 \nL 45.40625 75.984375 \nL 54.390625 75.984375 \nL 54.390625 0 \nL 45.40625 0 \nL 45.40625 8.203125 \nQ 42.578125 3.328125 38.25 0.953125 \nQ 33.9375 -1.421875 27.875 -1.421875 \nQ 17.96875 -1.421875 11.734375 6.484375 \nQ 5.515625 14.40625 5.515625 27.296875 \nQ 5.515625 40.1875 11.734375 48.09375 \nQ 17.96875 56 27.875 56 \nQ 33.9375 56 38.25 53.625 \nQ 42.578125 51.265625 45.40625 46.390625 \nz\nM 14.796875 27.296875 \nQ 14.796875 17.390625 18.875 11.75 \nQ 22.953125 6.109375 30.078125 6.109375 \nQ 37.203125 6.109375 41.296875 11.75 \nQ 45.40625 17.390625 45.40625 27.296875 \nQ 45.40625 37.203125 41.296875 42.84375 \nQ 37.203125 48.484375 30.078125 48.484375 \nQ 22.953125 48.484375 18.875 42.84375 \nQ 14.796875 37.203125 14.796875 27.296875 \nz\n\" id=\"DejaVuSans-100\"/>\n       <path id=\"DejaVuSans-32\"/>\n       <path d=\"M 37.109375 75.984375 \nL 37.109375 68.5 \nL 28.515625 68.5 \nQ 23.6875 68.5 21.796875 66.546875 \nQ 19.921875 64.59375 19.921875 59.515625 \nL 19.921875 54.6875 \nL 34.71875 54.6875 \nL 34.71875 47.703125 \nL 19.921875 47.703125 \nL 19.921875 0 \nL 10.890625 0 \nL 10.890625 47.703125 \nL 2.296875 47.703125 \nL 2.296875 54.6875 \nL 10.890625 54.6875 \nL 10.890625 58.5 \nQ 10.890625 67.625 15.140625 71.796875 \nQ 19.390625 75.984375 28.609375 75.984375 \nz\n\" id=\"DejaVuSans-102\"/>\n      </defs>\n      <use xlink:href=\"#DejaVuSans-116\"/>\n      <use x=\"39.208984\" xlink:href=\"#DejaVuSans-104\"/>\n      <use x=\"102.587891\" xlink:href=\"#DejaVuSans-114\"/>\n      <use x=\"141.451172\" xlink:href=\"#DejaVuSans-101\"/>\n      <use x=\"202.974609\" xlink:href=\"#DejaVuSans-115\"/>\n      <use x=\"255.074219\" xlink:href=\"#DejaVuSans-104\"/>\n      <use x=\"318.453125\" xlink:href=\"#DejaVuSans-111\"/>\n      <use x=\"379.634766\" xlink:href=\"#DejaVuSans-108\"/>\n      <use x=\"407.417969\" xlink:href=\"#DejaVuSans-100\"/>\n      <use x=\"470.894531\" xlink:href=\"#DejaVuSans-32\"/>\n      <use x=\"502.681641\" xlink:href=\"#DejaVuSans-111\"/>\n      <use x=\"563.863281\" xlink:href=\"#DejaVuSans-102\"/>\n      <use x=\"599.068359\" xlink:href=\"#DejaVuSans-102\"/>\n      <use x=\"634.273438\" xlink:href=\"#DejaVuSans-115\"/>\n      <use x=\"686.373047\" xlink:href=\"#DejaVuSans-101\"/>\n      <use x=\"747.896484\" xlink:href=\"#DejaVuSans-116\"/>\n     </g>\n    </g>\n   </g>\n   <g id=\"matplotlib.axis_2\">\n    <g id=\"ytick_1\">\n     <g id=\"line2d_6\">\n      <defs>\n       <path d=\"M 0 0 \nL -3.5 0 \n\" id=\"m0c8a70f21d\" style=\"stroke:#000000;stroke-width:0.8;\"/>\n      </defs>\n      <g>\n       <use style=\"stroke:#000000;stroke-width:0.8;\" x=\"44.059375\" xlink:href=\"#m0c8a70f21d\" y=\"215.29205\"/>\n      </g>\n     </g>\n     <g id=\"text_7\">\n      <!-- 0.0 -->\n      <g transform=\"translate(21.15625 219.091269)scale(0.1 -0.1)\">\n       <defs>\n        <path d=\"M 10.6875 12.40625 \nL 21 12.40625 \nL 21 0 \nL 10.6875 0 \nz\n\" id=\"DejaVuSans-46\"/>\n       </defs>\n       <use xlink:href=\"#DejaVuSans-48\"/>\n       <use x=\"63.623047\" xlink:href=\"#DejaVuSans-46\"/>\n       <use x=\"95.410156\" xlink:href=\"#DejaVuSans-48\"/>\n      </g>\n     </g>\n    </g>\n    <g id=\"ytick_2\">\n     <g id=\"line2d_7\">\n      <g>\n       <use style=\"stroke:#000000;stroke-width:0.8;\" x=\"44.059375\" xlink:href=\"#m0c8a70f21d\" y=\"175.329815\"/>\n      </g>\n     </g>\n     <g id=\"text_8\">\n      <!-- 0.2 -->\n      <g transform=\"translate(21.15625 179.129034)scale(0.1 -0.1)\">\n       <use xlink:href=\"#DejaVuSans-48\"/>\n       <use x=\"63.623047\" xlink:href=\"#DejaVuSans-46\"/>\n       <use x=\"95.410156\" xlink:href=\"#DejaVuSans-50\"/>\n      </g>\n     </g>\n    </g>\n    <g id=\"ytick_3\">\n     <g id=\"line2d_8\">\n      <g>\n       <use style=\"stroke:#000000;stroke-width:0.8;\" x=\"44.059375\" xlink:href=\"#m0c8a70f21d\" y=\"135.367579\"/>\n      </g>\n     </g>\n     <g id=\"text_9\">\n      <!-- 0.4 -->\n      <g transform=\"translate(21.15625 139.166798)scale(0.1 -0.1)\">\n       <use xlink:href=\"#DejaVuSans-48\"/>\n       <use x=\"63.623047\" xlink:href=\"#DejaVuSans-46\"/>\n       <use x=\"95.410156\" xlink:href=\"#DejaVuSans-52\"/>\n      </g>\n     </g>\n    </g>\n    <g id=\"ytick_4\">\n     <g id=\"line2d_9\">\n      <g>\n       <use style=\"stroke:#000000;stroke-width:0.8;\" x=\"44.059375\" xlink:href=\"#m0c8a70f21d\" y=\"95.405344\"/>\n      </g>\n     </g>\n     <g id=\"text_10\">\n      <!-- 0.6 -->\n      <g transform=\"translate(21.15625 99.204563)scale(0.1 -0.1)\">\n       <use xlink:href=\"#DejaVuSans-48\"/>\n       <use x=\"63.623047\" xlink:href=\"#DejaVuSans-46\"/>\n       <use x=\"95.410156\" xlink:href=\"#DejaVuSans-54\"/>\n      </g>\n     </g>\n    </g>\n    <g id=\"ytick_5\">\n     <g id=\"line2d_10\">\n      <g>\n       <use style=\"stroke:#000000;stroke-width:0.8;\" x=\"44.059375\" xlink:href=\"#m0c8a70f21d\" y=\"55.443108\"/>\n      </g>\n     </g>\n     <g id=\"text_11\">\n      <!-- 0.8 -->\n      <g transform=\"translate(21.15625 59.242327)scale(0.1 -0.1)\">\n       <defs>\n        <path d=\"M 31.78125 34.625 \nQ 24.75 34.625 20.71875 30.859375 \nQ 16.703125 27.09375 16.703125 20.515625 \nQ 16.703125 13.921875 20.71875 10.15625 \nQ 24.75 6.390625 31.78125 6.390625 \nQ 38.8125 6.390625 42.859375 10.171875 \nQ 46.921875 13.96875 46.921875 20.515625 \nQ 46.921875 27.09375 42.890625 30.859375 \nQ 38.875 34.625 31.78125 34.625 \nz\nM 21.921875 38.8125 \nQ 15.578125 40.375 12.03125 44.71875 \nQ 8.5 49.078125 8.5 55.328125 \nQ 8.5 64.0625 14.71875 69.140625 \nQ 20.953125 74.21875 31.78125 74.21875 \nQ 42.671875 74.21875 48.875 69.140625 \nQ 55.078125 64.0625 55.078125 55.328125 \nQ 55.078125 49.078125 51.53125 44.71875 \nQ 48 40.375 41.703125 38.8125 \nQ 48.828125 37.15625 52.796875 32.3125 \nQ 56.78125 27.484375 56.78125 20.515625 \nQ 56.78125 9.90625 50.3125 4.234375 \nQ 43.84375 -1.421875 31.78125 -1.421875 \nQ 19.734375 -1.421875 13.25 4.234375 \nQ 6.78125 9.90625 6.78125 20.515625 \nQ 6.78125 27.484375 10.78125 32.3125 \nQ 14.796875 37.15625 21.921875 38.8125 \nz\nM 18.3125 54.390625 \nQ 18.3125 48.734375 21.84375 45.5625 \nQ 25.390625 42.390625 31.78125 42.390625 \nQ 38.140625 42.390625 41.71875 45.5625 \nQ 45.3125 48.734375 45.3125 54.390625 \nQ 45.3125 60.0625 41.71875 63.234375 \nQ 38.140625 66.40625 31.78125 66.40625 \nQ 25.390625 66.40625 21.84375 63.234375 \nQ 18.3125 60.0625 18.3125 54.390625 \nz\n\" id=\"DejaVuSans-56\"/>\n       </defs>\n       <use xlink:href=\"#DejaVuSans-48\"/>\n       <use x=\"63.623047\" xlink:href=\"#DejaVuSans-46\"/>\n       <use x=\"95.410156\" xlink:href=\"#DejaVuSans-56\"/>\n      </g>\n     </g>\n    </g>\n    <g id=\"ytick_6\">\n     <g id=\"line2d_11\">\n      <g>\n       <use style=\"stroke:#000000;stroke-width:0.8;\" x=\"44.059375\" xlink:href=\"#m0c8a70f21d\" y=\"15.480873\"/>\n      </g>\n     </g>\n     <g id=\"text_12\">\n      <!-- 1.0 -->\n      <g transform=\"translate(21.15625 19.280092)scale(0.1 -0.1)\">\n       <defs>\n        <path d=\"M 12.40625 8.296875 \nL 28.515625 8.296875 \nL 28.515625 63.921875 \nL 10.984375 60.40625 \nL 10.984375 69.390625 \nL 28.421875 72.90625 \nL 38.28125 72.90625 \nL 38.28125 8.296875 \nL 54.390625 8.296875 \nL 54.390625 0 \nL 12.40625 0 \nz\n\" id=\"DejaVuSans-49\"/>\n       </defs>\n       <use xlink:href=\"#DejaVuSans-49\"/>\n       <use x=\"63.623047\" xlink:href=\"#DejaVuSans-46\"/>\n       <use x=\"95.410156\" xlink:href=\"#DejaVuSans-48\"/>\n      </g>\n     </g>\n    </g>\n    <g id=\"text_13\">\n     <!-- micro_f1 -->\n     <g transform=\"translate(14.798438 137.372344)rotate(-90)scale(0.1 -0.1)\">\n      <defs>\n       <path d=\"M 52 44.1875 \nQ 55.375 50.25 60.0625 53.125 \nQ 64.75 56 71.09375 56 \nQ 79.640625 56 84.28125 50.015625 \nQ 88.921875 44.046875 88.921875 33.015625 \nL 88.921875 0 \nL 79.890625 0 \nL 79.890625 32.71875 \nQ 79.890625 40.578125 77.09375 44.375 \nQ 74.3125 48.1875 68.609375 48.1875 \nQ 61.625 48.1875 57.5625 43.546875 \nQ 53.515625 38.921875 53.515625 30.90625 \nL 53.515625 0 \nL 44.484375 0 \nL 44.484375 32.71875 \nQ 44.484375 40.625 41.703125 44.40625 \nQ 38.921875 48.1875 33.109375 48.1875 \nQ 26.21875 48.1875 22.15625 43.53125 \nQ 18.109375 38.875 18.109375 30.90625 \nL 18.109375 0 \nL 9.078125 0 \nL 9.078125 54.6875 \nL 18.109375 54.6875 \nL 18.109375 46.1875 \nQ 21.1875 51.21875 25.484375 53.609375 \nQ 29.78125 56 35.6875 56 \nQ 41.65625 56 45.828125 52.96875 \nQ 50 49.953125 52 44.1875 \nz\n\" id=\"DejaVuSans-109\"/>\n       <path d=\"M 9.421875 54.6875 \nL 18.40625 54.6875 \nL 18.40625 0 \nL 9.421875 0 \nz\nM 9.421875 75.984375 \nL 18.40625 75.984375 \nL 18.40625 64.59375 \nL 9.421875 64.59375 \nz\n\" id=\"DejaVuSans-105\"/>\n       <path d=\"M 48.78125 52.59375 \nL 48.78125 44.1875 \nQ 44.96875 46.296875 41.140625 47.34375 \nQ 37.3125 48.390625 33.40625 48.390625 \nQ 24.65625 48.390625 19.8125 42.84375 \nQ 14.984375 37.3125 14.984375 27.296875 \nQ 14.984375 17.28125 19.8125 11.734375 \nQ 24.65625 6.203125 33.40625 6.203125 \nQ 37.3125 6.203125 41.140625 7.25 \nQ 44.96875 8.296875 48.78125 10.40625 \nL 48.78125 2.09375 \nQ 45.015625 0.34375 40.984375 -0.53125 \nQ 36.96875 -1.421875 32.421875 -1.421875 \nQ 20.0625 -1.421875 12.78125 6.34375 \nQ 5.515625 14.109375 5.515625 27.296875 \nQ 5.515625 40.671875 12.859375 48.328125 \nQ 20.21875 56 33.015625 56 \nQ 37.15625 56 41.109375 55.140625 \nQ 45.0625 54.296875 48.78125 52.59375 \nz\n\" id=\"DejaVuSans-99\"/>\n       <path d=\"M 50.984375 -16.609375 \nL 50.984375 -23.578125 \nL -0.984375 -23.578125 \nL -0.984375 -16.609375 \nz\n\" id=\"DejaVuSans-95\"/>\n      </defs>\n      <use xlink:href=\"#DejaVuSans-109\"/>\n      <use x=\"97.412109\" xlink:href=\"#DejaVuSans-105\"/>\n      <use x=\"125.195312\" xlink:href=\"#DejaVuSans-99\"/>\n      <use x=\"180.175781\" xlink:href=\"#DejaVuSans-114\"/>\n      <use x=\"219.039062\" xlink:href=\"#DejaVuSans-111\"/>\n      <use x=\"280.220703\" xlink:href=\"#DejaVuSans-95\"/>\n      <use x=\"330.220703\" xlink:href=\"#DejaVuSans-102\"/>\n      <use x=\"365.425781\" xlink:href=\"#DejaVuSans-49\"/>\n     </g>\n    </g>\n   </g>\n   <g id=\"line2d_12\">\n    <path clip-path=\"url(#pe06e2d87a6)\" d=\"M 363.641193 214.756364 \nL 360.017817 214.756364 \nL 356.39444 214.756364 \nL 352.771063 214.756364 \nL 349.147687 214.756364 \nL 345.52431 214.756364 \nL 341.900933 214.756364 \nL 338.277557 214.222111 \nL 334.65418 214.222111 \nL 331.030804 207.404767 \nL 327.407427 204.336346 \nL 323.78405 203.82961 \nL 320.160674 202.820091 \nL 316.537297 201.315621 \nL 312.91392 135.110312 \nL 309.290544 134.426285 \nL 305.667167 133.066982 \nL 302.043791 90.064769 \nL 298.420414 85.831814 \nL 294.797037 81.489923 \nL 291.173661 78.439911 \nL 287.550284 74.780796 \nL 283.926907 66.274623 \nL 280.303531 65.015302 \nL 276.680154 64.598336 \nL 273.056778 64.390376 \nL 269.433401 44.112819 \nL 265.810024 43.763251 \nL 262.186648 29.989089 \nL 258.563271 29.68138 \nL 254.939894 29.201812 \nL 251.316518 27.517691 \nL 247.693141 27.068225 \nL 244.069765 26.471897 \nL 240.446388 26.471897 \nL 236.823011 23.974588 \nL 233.199635 23.829529 \nL 229.576258 23.829529 \nL 225.952881 18.32179 \nL 222.329505 18.32179 \nL 218.706128 18.455058 \nL 215.082752 18.317948 \nL 211.459375 18.317948 \nL 207.835998 18.451039 \nL 204.212622 18.451039 \nL 200.589245 18.451039 \nL 196.965869 18.451039 \nL 193.342492 18.451039 \nL 189.719115 18.451039 \nL 186.095739 17.353267 \nL 182.472362 17.353267 \nL 178.848985 17.353267 \nL 175.225609 17.353267 \nL 171.602232 17.218361 \nL 167.978856 17.218361 \nL 164.355479 17.218361 \nL 160.732102 17.218361 \nL 157.108726 17.218361 \nL 153.485349 17.218361 \nL 149.861972 17.218361 \nL 146.238596 17.218361 \nL 142.615219 17.218361 \nL 138.991843 17.083636 \nL 135.368466 17.083636 \nL 131.745089 17.083636 \nL 128.121713 17.083636 \nL 124.498336 17.083636 \nL 120.874959 17.083636 \nL 117.251583 17.083636 \nL 113.628206 17.083636 \nL 110.00483 17.083636 \nL 106.381453 17.083636 \nL 102.758076 17.083636 \nL 99.1347 17.083636 \nL 95.511323 17.083636 \nL 91.887946 17.083636 \nL 88.26457 17.083636 \nL 84.641193 17.083636 \nL 81.017817 17.083636 \nL 77.39444 17.083636 \nL 73.771063 17.083636 \nL 70.147687 17.083636 \nL 66.52431 17.083636 \nL 62.900933 17.083636 \nL 59.277557 17.083636 \n\" style=\"fill:none;stroke:#1f77b4;stroke-linecap:square;stroke-width:1.5;\"/>\n   </g>\n   <g id=\"patch_3\">\n    <path d=\"M 44.059375 224.64 \nL 44.059375 7.2 \n\" style=\"fill:none;stroke:#000000;stroke-linecap:square;stroke-linejoin:miter;stroke-width:0.8;\"/>\n   </g>\n   <g id=\"patch_4\">\n    <path d=\"M 378.859375 224.64 \nL 378.859375 7.2 \n\" style=\"fill:none;stroke:#000000;stroke-linecap:square;stroke-linejoin:miter;stroke-width:0.8;\"/>\n   </g>\n   <g id=\"patch_5\">\n    <path d=\"M 44.059375 224.64 \nL 378.859375 224.64 \n\" style=\"fill:none;stroke:#000000;stroke-linecap:square;stroke-linejoin:miter;stroke-width:0.8;\"/>\n   </g>\n   <g id=\"patch_6\">\n    <path d=\"M 44.059375 7.2 \nL 378.859375 7.2 \n\" style=\"fill:none;stroke:#000000;stroke-linecap:square;stroke-linejoin:miter;stroke-width:0.8;\"/>\n   </g>\n   <g id=\"text_14\">\n    <!-- (-37.0, 0.99) -->\n    <g transform=\"translate(164.355479 25.866942)scale(0.1 -0.1)\">\n     <defs>\n      <path d=\"M 31 75.875 \nQ 24.46875 64.65625 21.28125 53.65625 \nQ 18.109375 42.671875 18.109375 31.390625 \nQ 18.109375 20.125 21.3125 9.0625 \nQ 24.515625 -2 31 -13.1875 \nL 23.1875 -13.1875 \nQ 15.875 -1.703125 12.234375 9.375 \nQ 8.59375 20.453125 8.59375 31.390625 \nQ 8.59375 42.28125 12.203125 53.3125 \nQ 15.828125 64.359375 23.1875 75.875 \nz\n\" id=\"DejaVuSans-40\"/>\n      <path d=\"M 4.890625 31.390625 \nL 31.203125 31.390625 \nL 31.203125 23.390625 \nL 4.890625 23.390625 \nz\n\" id=\"DejaVuSans-45\"/>\n      <path d=\"M 40.578125 39.3125 \nQ 47.65625 37.796875 51.625 33 \nQ 55.609375 28.21875 55.609375 21.1875 \nQ 55.609375 10.40625 48.1875 4.484375 \nQ 40.765625 -1.421875 27.09375 -1.421875 \nQ 22.515625 -1.421875 17.65625 -0.515625 \nQ 12.796875 0.390625 7.625 2.203125 \nL 7.625 11.71875 \nQ 11.71875 9.328125 16.59375 8.109375 \nQ 21.484375 6.890625 26.8125 6.890625 \nQ 36.078125 6.890625 40.9375 10.546875 \nQ 45.796875 14.203125 45.796875 21.1875 \nQ 45.796875 27.640625 41.28125 31.265625 \nQ 36.765625 34.90625 28.71875 34.90625 \nL 20.21875 34.90625 \nL 20.21875 43.015625 \nL 29.109375 43.015625 \nQ 36.375 43.015625 40.234375 45.921875 \nQ 44.09375 48.828125 44.09375 54.296875 \nQ 44.09375 59.90625 40.109375 62.90625 \nQ 36.140625 65.921875 28.71875 65.921875 \nQ 24.65625 65.921875 20.015625 65.03125 \nQ 15.375 64.15625 9.8125 62.3125 \nL 9.8125 71.09375 \nQ 15.4375 72.65625 20.34375 73.4375 \nQ 25.25 74.21875 29.59375 74.21875 \nQ 40.828125 74.21875 47.359375 69.109375 \nQ 53.90625 64.015625 53.90625 55.328125 \nQ 53.90625 49.265625 50.4375 45.09375 \nQ 46.96875 40.921875 40.578125 39.3125 \nz\n\" id=\"DejaVuSans-51\"/>\n      <path d=\"M 8.203125 72.90625 \nL 55.078125 72.90625 \nL 55.078125 68.703125 \nL 28.609375 0 \nL 18.3125 0 \nL 43.21875 64.59375 \nL 8.203125 64.59375 \nz\n\" id=\"DejaVuSans-55\"/>\n      <path d=\"M 11.71875 12.40625 \nL 22.015625 12.40625 \nL 22.015625 4 \nL 14.015625 -11.625 \nL 7.71875 -11.625 \nL 11.71875 4 \nz\n\" id=\"DejaVuSans-44\"/>\n      <path d=\"M 10.984375 1.515625 \nL 10.984375 10.5 \nQ 14.703125 8.734375 18.5 7.8125 \nQ 22.3125 6.890625 25.984375 6.890625 \nQ 35.75 6.890625 40.890625 13.453125 \nQ 46.046875 20.015625 46.78125 33.40625 \nQ 43.953125 29.203125 39.59375 26.953125 \nQ 35.25 24.703125 29.984375 24.703125 \nQ 19.046875 24.703125 12.671875 31.3125 \nQ 6.296875 37.9375 6.296875 49.421875 \nQ 6.296875 60.640625 12.9375 67.421875 \nQ 19.578125 74.21875 30.609375 74.21875 \nQ 43.265625 74.21875 49.921875 64.515625 \nQ 56.59375 54.828125 56.59375 36.375 \nQ 56.59375 19.140625 48.40625 8.859375 \nQ 40.234375 -1.421875 26.421875 -1.421875 \nQ 22.703125 -1.421875 18.890625 -0.6875 \nQ 15.09375 0.046875 10.984375 1.515625 \nz\nM 30.609375 32.421875 \nQ 37.25 32.421875 41.125 36.953125 \nQ 45.015625 41.5 45.015625 49.421875 \nQ 45.015625 57.28125 41.125 61.84375 \nQ 37.25 66.40625 30.609375 66.40625 \nQ 23.96875 66.40625 20.09375 61.84375 \nQ 16.21875 57.28125 16.21875 49.421875 \nQ 16.21875 41.5 20.09375 36.953125 \nQ 23.96875 32.421875 30.609375 32.421875 \nz\n\" id=\"DejaVuSans-57\"/>\n      <path d=\"M 8.015625 75.875 \nL 15.828125 75.875 \nQ 23.140625 64.359375 26.78125 53.3125 \nQ 30.421875 42.28125 30.421875 31.390625 \nQ 30.421875 20.453125 26.78125 9.375 \nQ 23.140625 -1.703125 15.828125 -13.1875 \nL 8.015625 -13.1875 \nQ 14.5 -2 17.703125 9.0625 \nQ 20.90625 20.125 20.90625 31.390625 \nQ 20.90625 42.671875 17.703125 53.65625 \nQ 14.5 64.65625 8.015625 75.875 \nz\n\" id=\"DejaVuSans-41\"/>\n     </defs>\n     <use xlink:href=\"#DejaVuSans-40\"/>\n     <use x=\"39.013672\" xlink:href=\"#DejaVuSans-45\"/>\n     <use x=\"75.097656\" xlink:href=\"#DejaVuSans-51\"/>\n     <use x=\"138.720703\" xlink:href=\"#DejaVuSans-55\"/>\n     <use x=\"202.34375\" xlink:href=\"#DejaVuSans-46\"/>\n     <use x=\"234.130859\" xlink:href=\"#DejaVuSans-48\"/>\n     <use x=\"297.753906\" xlink:href=\"#DejaVuSans-44\"/>\n     <use x=\"329.541016\" xlink:href=\"#DejaVuSans-32\"/>\n     <use x=\"361.328125\" xlink:href=\"#DejaVuSans-48\"/>\n     <use x=\"424.951172\" xlink:href=\"#DejaVuSans-46\"/>\n     <use x=\"456.738281\" xlink:href=\"#DejaVuSans-57\"/>\n     <use x=\"520.361328\" xlink:href=\"#DejaVuSans-57\"/>\n     <use x=\"583.984375\" xlink:href=\"#DejaVuSans-41\"/>\n    </g>\n    <!-- ideal threshold -->\n    <g transform=\"translate(164.355479 37.064754)scale(0.1 -0.1)\">\n     <defs>\n      <path d=\"M 34.28125 27.484375 \nQ 23.390625 27.484375 19.1875 25 \nQ 14.984375 22.515625 14.984375 16.5 \nQ 14.984375 11.71875 18.140625 8.90625 \nQ 21.296875 6.109375 26.703125 6.109375 \nQ 34.1875 6.109375 38.703125 11.40625 \nQ 43.21875 16.703125 43.21875 25.484375 \nL 43.21875 27.484375 \nz\nM 52.203125 31.203125 \nL 52.203125 0 \nL 43.21875 0 \nL 43.21875 8.296875 \nQ 40.140625 3.328125 35.546875 0.953125 \nQ 30.953125 -1.421875 24.3125 -1.421875 \nQ 15.921875 -1.421875 10.953125 3.296875 \nQ 6 8.015625 6 15.921875 \nQ 6 25.140625 12.171875 29.828125 \nQ 18.359375 34.515625 30.609375 34.515625 \nL 43.21875 34.515625 \nL 43.21875 35.40625 \nQ 43.21875 41.609375 39.140625 45 \nQ 35.0625 48.390625 27.6875 48.390625 \nQ 23 48.390625 18.546875 47.265625 \nQ 14.109375 46.140625 10.015625 43.890625 \nL 10.015625 52.203125 \nQ 14.9375 54.109375 19.578125 55.046875 \nQ 24.21875 56 28.609375 56 \nQ 40.484375 56 46.34375 49.84375 \nQ 52.203125 43.703125 52.203125 31.203125 \nz\n\" id=\"DejaVuSans-97\"/>\n     </defs>\n     <use xlink:href=\"#DejaVuSans-105\"/>\n     <use x=\"27.783203\" xlink:href=\"#DejaVuSans-100\"/>\n     <use x=\"91.259766\" xlink:href=\"#DejaVuSans-101\"/>\n     <use x=\"152.783203\" xlink:href=\"#DejaVuSans-97\"/>\n     <use x=\"214.0625\" xlink:href=\"#DejaVuSans-108\"/>\n     <use x=\"241.845703\" xlink:href=\"#DejaVuSans-32\"/>\n     <use x=\"273.632812\" xlink:href=\"#DejaVuSans-116\"/>\n     <use x=\"312.841797\" xlink:href=\"#DejaVuSans-104\"/>\n     <use x=\"376.220703\" xlink:href=\"#DejaVuSans-114\"/>\n     <use x=\"415.083984\" xlink:href=\"#DejaVuSans-101\"/>\n     <use x=\"476.607422\" xlink:href=\"#DejaVuSans-115\"/>\n     <use x=\"528.707031\" xlink:href=\"#DejaVuSans-104\"/>\n     <use x=\"592.085938\" xlink:href=\"#DejaVuSans-111\"/>\n     <use x=\"653.267578\" xlink:href=\"#DejaVuSans-108\"/>\n     <use x=\"681.050781\" xlink:href=\"#DejaVuSans-100\"/>\n    </g>\n   </g>\n  </g>\n </g>\n <defs>\n  <clipPath id=\"pe06e2d87a6\">\n   <rect height=\"217.44\" width=\"334.8\" x=\"44.059375\" y=\"7.2\"/>\n  </clipPath>\n </defs>\n</svg>\n",
      "image/png": "[encoded data removed]"
     },
     "metadata": {
      "needs_background": "light"
     }
    },
    {
     "output_type": "stream",
     "name": "stdout",
     "text": [
      "th_offset    -13.000000\nmicro_f0.5     0.991016\nName: 38, dtype: float64\n"
     ]
    },
    {
     "output_type": "display_data",
     "data": {
      "text/plain": "<Figure size 432x288 with 1 Axes>",
      "image/svg+xml": "<?xml version=\"1.0\" encoding=\"utf-8\" standalone=\"no\"?>\n<!DOCTYPE svg PUBLIC \"-//W3C//DTD SVG 1.1//EN\"\n  \"http://www.w3.org/Graphics/SVG/1.1/DTD/svg11.dtd\">\n<!-- Created with matplotlib (https://matplotlib.org/) -->\n<svg height=\"262.19625pt\" version=\"1.1\" viewBox=\"0 0 386.059375 262.19625\" width=\"386.059375pt\" xmlns=\"http://www.w3.org/2000/svg\" xmlns:xlink=\"http://www.w3.org/1999/xlink\">\n <metadata>\n  <rdf:RDF xmlns:cc=\"http://creativecommons.org/ns#\" xmlns:dc=\"http://purl.org/dc/elements/1.1/\" xmlns:rdf=\"http://www.w3.org/1999/02/22-rdf-syntax-ns#\">\n   <cc:Work>\n    <dc:type rdf:resource=\"http://purl.org/dc/dcmitype/StillImage\"/>\n    <dc:date>2021-04-23T08:41:56.421630</dc:date>\n    <dc:format>image/svg+xml</dc:format>\n    <dc:creator>\n     <cc:Agent>\n      <dc:title>Matplotlib v3.3.3, https://matplotlib.org/</dc:title>\n     </cc:Agent>\n    </dc:creator>\n   </cc:Work>\n  </rdf:RDF>\n </metadata>\n <defs>\n  <style type=\"text/css\">*{stroke-linecap:butt;stroke-linejoin:round;}</style>\n </defs>\n <g id=\"figure_1\">\n  <g id=\"patch_1\">\n   <path d=\"M 0 262.19625 \nL 386.059375 262.19625 \nL 386.059375 0 \nL 0 0 \nz\n\" style=\"fill:none;\"/>\n  </g>\n  <g id=\"axes_1\">\n   <g id=\"patch_2\">\n    <path d=\"M 44.059375 224.64 \nL 378.859375 224.64 \nL 378.859375 7.2 \nL 44.059375 7.2 \nz\n\" style=\"fill:#ffffff;\"/>\n   </g>\n   <g id=\"PathCollection_1\">\n    <defs>\n     <path d=\"M 0 3 \nC 0.795609 3 1.55874 2.683901 2.12132 2.12132 \nC 2.683901 1.55874 3 0.795609 3 0 \nC 3 -0.795609 2.683901 -1.55874 2.12132 -2.12132 \nC 1.55874 -2.683901 0.795609 -3 0 -3 \nC -0.795609 -3 -1.55874 -2.683901 -2.12132 -2.12132 \nC -2.683901 -1.55874 -3 -0.795609 -3 0 \nC -3 0.795609 -2.683901 1.55874 -2.12132 2.12132 \nC -1.55874 2.683901 -0.795609 3 0 3 \nz\n\" id=\"m4d9a82dba3\" style=\"stroke:#1f77b4;\"/>\n    </defs>\n    <g clip-path=\"url(#pd0be6ab212)\">\n     <use style=\"fill:#1f77b4;stroke:#1f77b4;\" x=\"225.952881\" xlink:href=\"#m4d9a82dba3\" y=\"17.083636\"/>\n    </g>\n   </g>\n   <g id=\"matplotlib.axis_1\">\n    <g id=\"xtick_1\">\n     <g id=\"line2d_1\">\n      <defs>\n       <path d=\"M 0 0 \nL 0 3.5 \n\" id=\"macfa0de347\" style=\"stroke:#000000;stroke-width:0.8;\"/>\n      </defs>\n      <g>\n       <use style=\"stroke:#000000;stroke-width:0.8;\" x=\"55.65418\" xlink:href=\"#macfa0de347\" y=\"224.64\"/>\n      </g>\n     </g>\n     <g id=\"text_1\">\n      <!-- −60 -->\n      <g transform=\"translate(45.101836 239.238438)scale(0.1 -0.1)\">\n       <defs>\n        <path d=\"M 10.59375 35.5 \nL 73.1875 35.5 \nL 73.1875 27.203125 \nL 10.59375 27.203125 \nz\n\" id=\"DejaVuSans-8722\"/>\n        <path d=\"M 33.015625 40.375 \nQ 26.375 40.375 22.484375 35.828125 \nQ 18.609375 31.296875 18.609375 23.390625 \nQ 18.609375 15.53125 22.484375 10.953125 \nQ 26.375 6.390625 33.015625 6.390625 \nQ 39.65625 6.390625 43.53125 10.953125 \nQ 47.40625 15.53125 47.40625 23.390625 \nQ 47.40625 31.296875 43.53125 35.828125 \nQ 39.65625 40.375 33.015625 40.375 \nz\nM 52.59375 71.296875 \nL 52.59375 62.3125 \nQ 48.875 64.0625 45.09375 64.984375 \nQ 41.3125 65.921875 37.59375 65.921875 \nQ 27.828125 65.921875 22.671875 59.328125 \nQ 17.53125 52.734375 16.796875 39.40625 \nQ 19.671875 43.65625 24.015625 45.921875 \nQ 28.375 48.1875 33.59375 48.1875 \nQ 44.578125 48.1875 50.953125 41.515625 \nQ 57.328125 34.859375 57.328125 23.390625 \nQ 57.328125 12.15625 50.6875 5.359375 \nQ 44.046875 -1.421875 33.015625 -1.421875 \nQ 20.359375 -1.421875 13.671875 8.265625 \nQ 6.984375 17.96875 6.984375 36.375 \nQ 6.984375 53.65625 15.1875 63.9375 \nQ 23.390625 74.21875 37.203125 74.21875 \nQ 40.921875 74.21875 44.703125 73.484375 \nQ 48.484375 72.75 52.59375 71.296875 \nz\n\" id=\"DejaVuSans-54\"/>\n        <path d=\"M 31.78125 66.40625 \nQ 24.171875 66.40625 20.328125 58.90625 \nQ 16.5 51.421875 16.5 36.375 \nQ 16.5 21.390625 20.328125 13.890625 \nQ 24.171875 6.390625 31.78125 6.390625 \nQ 39.453125 6.390625 43.28125 13.890625 \nQ 47.125 21.390625 47.125 36.375 \nQ 47.125 51.421875 43.28125 58.90625 \nQ 39.453125 66.40625 31.78125 66.40625 \nz\nM 31.78125 74.21875 \nQ 44.046875 74.21875 50.515625 64.515625 \nQ 56.984375 54.828125 56.984375 36.375 \nQ 56.984375 17.96875 50.515625 8.265625 \nQ 44.046875 -1.421875 31.78125 -1.421875 \nQ 19.53125 -1.421875 13.0625 8.265625 \nQ 6.59375 17.96875 6.59375 36.375 \nQ 6.59375 54.828125 13.0625 64.515625 \nQ 19.53125 74.21875 31.78125 74.21875 \nz\n\" id=\"DejaVuSans-48\"/>\n       </defs>\n       <use xlink:href=\"#DejaVuSans-8722\"/>\n       <use x=\"83.789062\" xlink:href=\"#DejaVuSans-54\"/>\n       <use x=\"147.412109\" xlink:href=\"#DejaVuSans-48\"/>\n      </g>\n     </g>\n    </g>\n    <g id=\"xtick_2\">\n     <g id=\"line2d_2\">\n      <g>\n       <use style=\"stroke:#000000;stroke-width:0.8;\" x=\"128.121713\" xlink:href=\"#macfa0de347\" y=\"224.64\"/>\n      </g>\n     </g>\n     <g id=\"text_2\">\n      <!-- −40 -->\n      <g transform=\"translate(117.569369 239.238438)scale(0.1 -0.1)\">\n       <defs>\n        <path d=\"M 37.796875 64.3125 \nL 12.890625 25.390625 \nL 37.796875 25.390625 \nz\nM 35.203125 72.90625 \nL 47.609375 72.90625 \nL 47.609375 25.390625 \nL 58.015625 25.390625 \nL 58.015625 17.1875 \nL 47.609375 17.1875 \nL 47.609375 0 \nL 37.796875 0 \nL 37.796875 17.1875 \nL 4.890625 17.1875 \nL 4.890625 26.703125 \nz\n\" id=\"DejaVuSans-52\"/>\n       </defs>\n       <use xlink:href=\"#DejaVuSans-8722\"/>\n       <use x=\"83.789062\" xlink:href=\"#DejaVuSans-52\"/>\n       <use x=\"147.412109\" xlink:href=\"#DejaVuSans-48\"/>\n      </g>\n     </g>\n    </g>\n    <g id=\"xtick_3\">\n     <g id=\"line2d_3\">\n      <g>\n       <use style=\"stroke:#000000;stroke-width:0.8;\" x=\"200.589245\" xlink:href=\"#macfa0de347\" y=\"224.64\"/>\n      </g>\n     </g>\n     <g id=\"text_3\">\n      <!-- −20 -->\n      <g transform=\"translate(190.036901 239.238438)scale(0.1 -0.1)\">\n       <defs>\n        <path d=\"M 19.1875 8.296875 \nL 53.609375 8.296875 \nL 53.609375 0 \nL 7.328125 0 \nL 7.328125 8.296875 \nQ 12.9375 14.109375 22.625 23.890625 \nQ 32.328125 33.6875 34.8125 36.53125 \nQ 39.546875 41.84375 41.421875 45.53125 \nQ 43.3125 49.21875 43.3125 52.78125 \nQ 43.3125 58.59375 39.234375 62.25 \nQ 35.15625 65.921875 28.609375 65.921875 \nQ 23.96875 65.921875 18.8125 64.3125 \nQ 13.671875 62.703125 7.8125 59.421875 \nL 7.8125 69.390625 \nQ 13.765625 71.78125 18.9375 73 \nQ 24.125 74.21875 28.421875 74.21875 \nQ 39.75 74.21875 46.484375 68.546875 \nQ 53.21875 62.890625 53.21875 53.421875 \nQ 53.21875 48.921875 51.53125 44.890625 \nQ 49.859375 40.875 45.40625 35.40625 \nQ 44.1875 33.984375 37.640625 27.21875 \nQ 31.109375 20.453125 19.1875 8.296875 \nz\n\" id=\"DejaVuSans-50\"/>\n       </defs>\n       <use xlink:href=\"#DejaVuSans-8722\"/>\n       <use x=\"83.789062\" xlink:href=\"#DejaVuSans-50\"/>\n       <use x=\"147.412109\" xlink:href=\"#DejaVuSans-48\"/>\n      </g>\n     </g>\n    </g>\n    <g id=\"xtick_4\">\n     <g id=\"line2d_4\">\n      <g>\n       <use style=\"stroke:#000000;stroke-width:0.8;\" x=\"273.056778\" xlink:href=\"#macfa0de347\" y=\"224.64\"/>\n      </g>\n     </g>\n     <g id=\"text_4\">\n      <!-- 0 -->\n      <g transform=\"translate(269.875528 239.238438)scale(0.1 -0.1)\">\n       <use xlink:href=\"#DejaVuSans-48\"/>\n      </g>\n     </g>\n    </g>\n    <g id=\"xtick_5\">\n     <g id=\"line2d_5\">\n      <g>\n       <use style=\"stroke:#000000;stroke-width:0.8;\" x=\"345.52431\" xlink:href=\"#macfa0de347\" y=\"224.64\"/>\n      </g>\n     </g>\n     <g id=\"text_5\">\n      <!-- 20 -->\n      <g transform=\"translate(339.16181 239.238438)scale(0.1 -0.1)\">\n       <use xlink:href=\"#DejaVuSans-50\"/>\n       <use x=\"63.623047\" xlink:href=\"#DejaVuSans-48\"/>\n      </g>\n     </g>\n    </g>\n    <g id=\"text_6\">\n     <!-- threshold offset -->\n     <g transform=\"translate(172.104688 252.916563)scale(0.1 -0.1)\">\n      <defs>\n       <path d=\"M 18.3125 70.21875 \nL 18.3125 54.6875 \nL 36.8125 54.6875 \nL 36.8125 47.703125 \nL 18.3125 47.703125 \nL 18.3125 18.015625 \nQ 18.3125 11.328125 20.140625 9.421875 \nQ 21.96875 7.515625 27.59375 7.515625 \nL 36.8125 7.515625 \nL 36.8125 0 \nL 27.59375 0 \nQ 17.1875 0 13.234375 3.875 \nQ 9.28125 7.765625 9.28125 18.015625 \nL 9.28125 47.703125 \nL 2.6875 47.703125 \nL 2.6875 54.6875 \nL 9.28125 54.6875 \nL 9.28125 70.21875 \nz\n\" id=\"DejaVuSans-116\"/>\n       <path d=\"M 54.890625 33.015625 \nL 54.890625 0 \nL 45.90625 0 \nL 45.90625 32.71875 \nQ 45.90625 40.484375 42.875 44.328125 \nQ 39.84375 48.1875 33.796875 48.1875 \nQ 26.515625 48.1875 22.3125 43.546875 \nQ 18.109375 38.921875 18.109375 30.90625 \nL 18.109375 0 \nL 9.078125 0 \nL 9.078125 75.984375 \nL 18.109375 75.984375 \nL 18.109375 46.1875 \nQ 21.34375 51.125 25.703125 53.5625 \nQ 30.078125 56 35.796875 56 \nQ 45.21875 56 50.046875 50.171875 \nQ 54.890625 44.34375 54.890625 33.015625 \nz\n\" id=\"DejaVuSans-104\"/>\n       <path d=\"M 41.109375 46.296875 \nQ 39.59375 47.171875 37.8125 47.578125 \nQ 36.03125 48 33.890625 48 \nQ 26.265625 48 22.1875 43.046875 \nQ 18.109375 38.09375 18.109375 28.8125 \nL 18.109375 0 \nL 9.078125 0 \nL 9.078125 54.6875 \nL 18.109375 54.6875 \nL 18.109375 46.1875 \nQ 20.953125 51.171875 25.484375 53.578125 \nQ 30.03125 56 36.53125 56 \nQ 37.453125 56 38.578125 55.875 \nQ 39.703125 55.765625 41.0625 55.515625 \nz\n\" id=\"DejaVuSans-114\"/>\n       <path d=\"M 56.203125 29.59375 \nL 56.203125 25.203125 \nL 14.890625 25.203125 \nQ 15.484375 15.921875 20.484375 11.0625 \nQ 25.484375 6.203125 34.421875 6.203125 \nQ 39.59375 6.203125 44.453125 7.46875 \nQ 49.3125 8.734375 54.109375 11.28125 \nL 54.109375 2.78125 \nQ 49.265625 0.734375 44.1875 -0.34375 \nQ 39.109375 -1.421875 33.890625 -1.421875 \nQ 20.796875 -1.421875 13.15625 6.1875 \nQ 5.515625 13.8125 5.515625 26.8125 \nQ 5.515625 40.234375 12.765625 48.109375 \nQ 20.015625 56 32.328125 56 \nQ 43.359375 56 49.78125 48.890625 \nQ 56.203125 41.796875 56.203125 29.59375 \nz\nM 47.21875 32.234375 \nQ 47.125 39.59375 43.09375 43.984375 \nQ 39.0625 48.390625 32.421875 48.390625 \nQ 24.90625 48.390625 20.390625 44.140625 \nQ 15.875 39.890625 15.1875 32.171875 \nz\n\" id=\"DejaVuSans-101\"/>\n       <path d=\"M 44.28125 53.078125 \nL 44.28125 44.578125 \nQ 40.484375 46.53125 36.375 47.5 \nQ 32.28125 48.484375 27.875 48.484375 \nQ 21.1875 48.484375 17.84375 46.4375 \nQ 14.5 44.390625 14.5 40.28125 \nQ 14.5 37.15625 16.890625 35.375 \nQ 19.28125 33.59375 26.515625 31.984375 \nL 29.59375 31.296875 \nQ 39.15625 29.25 43.1875 25.515625 \nQ 47.21875 21.78125 47.21875 15.09375 \nQ 47.21875 7.46875 41.1875 3.015625 \nQ 35.15625 -1.421875 24.609375 -1.421875 \nQ 20.21875 -1.421875 15.453125 -0.5625 \nQ 10.6875 0.296875 5.421875 2 \nL 5.421875 11.28125 \nQ 10.40625 8.6875 15.234375 7.390625 \nQ 20.0625 6.109375 24.8125 6.109375 \nQ 31.15625 6.109375 34.5625 8.28125 \nQ 37.984375 10.453125 37.984375 14.40625 \nQ 37.984375 18.0625 35.515625 20.015625 \nQ 33.0625 21.96875 24.703125 23.78125 \nL 21.578125 24.515625 \nQ 13.234375 26.265625 9.515625 29.90625 \nQ 5.8125 33.546875 5.8125 39.890625 \nQ 5.8125 47.609375 11.28125 51.796875 \nQ 16.75 56 26.8125 56 \nQ 31.78125 56 36.171875 55.265625 \nQ 40.578125 54.546875 44.28125 53.078125 \nz\n\" id=\"DejaVuSans-115\"/>\n       <path d=\"M 30.609375 48.390625 \nQ 23.390625 48.390625 19.1875 42.75 \nQ 14.984375 37.109375 14.984375 27.296875 \nQ 14.984375 17.484375 19.15625 11.84375 \nQ 23.34375 6.203125 30.609375 6.203125 \nQ 37.796875 6.203125 41.984375 11.859375 \nQ 46.1875 17.53125 46.1875 27.296875 \nQ 46.1875 37.015625 41.984375 42.703125 \nQ 37.796875 48.390625 30.609375 48.390625 \nz\nM 30.609375 56 \nQ 42.328125 56 49.015625 48.375 \nQ 55.71875 40.765625 55.71875 27.296875 \nQ 55.71875 13.875 49.015625 6.21875 \nQ 42.328125 -1.421875 30.609375 -1.421875 \nQ 18.84375 -1.421875 12.171875 6.21875 \nQ 5.515625 13.875 5.515625 27.296875 \nQ 5.515625 40.765625 12.171875 48.375 \nQ 18.84375 56 30.609375 56 \nz\n\" id=\"DejaVuSans-111\"/>\n       <path d=\"M 9.421875 75.984375 \nL 18.40625 75.984375 \nL 18.40625 0 \nL 9.421875 0 \nz\n\" id=\"DejaVuSans-108\"/>\n       <path d=\"M 45.40625 46.390625 \nL 45.40625 75.984375 \nL 54.390625 75.984375 \nL 54.390625 0 \nL 45.40625 0 \nL 45.40625 8.203125 \nQ 42.578125 3.328125 38.25 0.953125 \nQ 33.9375 -1.421875 27.875 -1.421875 \nQ 17.96875 -1.421875 11.734375 6.484375 \nQ 5.515625 14.40625 5.515625 27.296875 \nQ 5.515625 40.1875 11.734375 48.09375 \nQ 17.96875 56 27.875 56 \nQ 33.9375 56 38.25 53.625 \nQ 42.578125 51.265625 45.40625 46.390625 \nz\nM 14.796875 27.296875 \nQ 14.796875 17.390625 18.875 11.75 \nQ 22.953125 6.109375 30.078125 6.109375 \nQ 37.203125 6.109375 41.296875 11.75 \nQ 45.40625 17.390625 45.40625 27.296875 \nQ 45.40625 37.203125 41.296875 42.84375 \nQ 37.203125 48.484375 30.078125 48.484375 \nQ 22.953125 48.484375 18.875 42.84375 \nQ 14.796875 37.203125 14.796875 27.296875 \nz\n\" id=\"DejaVuSans-100\"/>\n       <path id=\"DejaVuSans-32\"/>\n       <path d=\"M 37.109375 75.984375 \nL 37.109375 68.5 \nL 28.515625 68.5 \nQ 23.6875 68.5 21.796875 66.546875 \nQ 19.921875 64.59375 19.921875 59.515625 \nL 19.921875 54.6875 \nL 34.71875 54.6875 \nL 34.71875 47.703125 \nL 19.921875 47.703125 \nL 19.921875 0 \nL 10.890625 0 \nL 10.890625 47.703125 \nL 2.296875 47.703125 \nL 2.296875 54.6875 \nL 10.890625 54.6875 \nL 10.890625 58.5 \nQ 10.890625 67.625 15.140625 71.796875 \nQ 19.390625 75.984375 28.609375 75.984375 \nz\n\" id=\"DejaVuSans-102\"/>\n      </defs>\n      <use xlink:href=\"#DejaVuSans-116\"/>\n      <use x=\"39.208984\" xlink:href=\"#DejaVuSans-104\"/>\n      <use x=\"102.587891\" xlink:href=\"#DejaVuSans-114\"/>\n      <use x=\"141.451172\" xlink:href=\"#DejaVuSans-101\"/>\n      <use x=\"202.974609\" xlink:href=\"#DejaVuSans-115\"/>\n      <use x=\"255.074219\" xlink:href=\"#DejaVuSans-104\"/>\n      <use x=\"318.453125\" xlink:href=\"#DejaVuSans-111\"/>\n      <use x=\"379.634766\" xlink:href=\"#DejaVuSans-108\"/>\n      <use x=\"407.417969\" xlink:href=\"#DejaVuSans-100\"/>\n      <use x=\"470.894531\" xlink:href=\"#DejaVuSans-32\"/>\n      <use x=\"502.681641\" xlink:href=\"#DejaVuSans-111\"/>\n      <use x=\"563.863281\" xlink:href=\"#DejaVuSans-102\"/>\n      <use x=\"599.068359\" xlink:href=\"#DejaVuSans-102\"/>\n      <use x=\"634.273438\" xlink:href=\"#DejaVuSans-115\"/>\n      <use x=\"686.373047\" xlink:href=\"#DejaVuSans-101\"/>\n      <use x=\"747.896484\" xlink:href=\"#DejaVuSans-116\"/>\n     </g>\n    </g>\n   </g>\n   <g id=\"matplotlib.axis_2\">\n    <g id=\"ytick_1\">\n     <g id=\"line2d_6\">\n      <defs>\n       <path d=\"M 0 0 \nL -3.5 0 \n\" id=\"m8d733d74b3\" style=\"stroke:#000000;stroke-width:0.8;\"/>\n      </defs>\n      <g>\n       <use style=\"stroke:#000000;stroke-width:0.8;\" x=\"44.059375\" xlink:href=\"#m8d733d74b3\" y=\"216.096935\"/>\n      </g>\n     </g>\n     <g id=\"text_7\">\n      <!-- 0.0 -->\n      <g transform=\"translate(21.15625 219.896153)scale(0.1 -0.1)\">\n       <defs>\n        <path d=\"M 10.6875 12.40625 \nL 21 12.40625 \nL 21 0 \nL 10.6875 0 \nz\n\" id=\"DejaVuSans-46\"/>\n       </defs>\n       <use xlink:href=\"#DejaVuSans-48\"/>\n       <use x=\"63.623047\" xlink:href=\"#DejaVuSans-46\"/>\n       <use x=\"95.410156\" xlink:href=\"#DejaVuSans-48\"/>\n      </g>\n     </g>\n    </g>\n    <g id=\"ytick_2\">\n     <g id=\"line2d_7\">\n      <g>\n       <use style=\"stroke:#000000;stroke-width:0.8;\" x=\"44.059375\" xlink:href=\"#m8d733d74b3\" y=\"175.933427\"/>\n      </g>\n     </g>\n     <g id=\"text_8\">\n      <!-- 0.2 -->\n      <g transform=\"translate(21.15625 179.732645)scale(0.1 -0.1)\">\n       <use xlink:href=\"#DejaVuSans-48\"/>\n       <use x=\"63.623047\" xlink:href=\"#DejaVuSans-46\"/>\n       <use x=\"95.410156\" xlink:href=\"#DejaVuSans-50\"/>\n      </g>\n     </g>\n    </g>\n    <g id=\"ytick_3\">\n     <g id=\"line2d_8\">\n      <g>\n       <use style=\"stroke:#000000;stroke-width:0.8;\" x=\"44.059375\" xlink:href=\"#m8d733d74b3\" y=\"135.769919\"/>\n      </g>\n     </g>\n     <g id=\"text_9\">\n      <!-- 0.4 -->\n      <g transform=\"translate(21.15625 139.569138)scale(0.1 -0.1)\">\n       <use xlink:href=\"#DejaVuSans-48\"/>\n       <use x=\"63.623047\" xlink:href=\"#DejaVuSans-46\"/>\n       <use x=\"95.410156\" xlink:href=\"#DejaVuSans-52\"/>\n      </g>\n     </g>\n    </g>\n    <g id=\"ytick_4\">\n     <g id=\"line2d_9\">\n      <g>\n       <use style=\"stroke:#000000;stroke-width:0.8;\" x=\"44.059375\" xlink:href=\"#m8d733d74b3\" y=\"95.606411\"/>\n      </g>\n     </g>\n     <g id=\"text_10\">\n      <!-- 0.6 -->\n      <g transform=\"translate(21.15625 99.40563)scale(0.1 -0.1)\">\n       <use xlink:href=\"#DejaVuSans-48\"/>\n       <use x=\"63.623047\" xlink:href=\"#DejaVuSans-46\"/>\n       <use x=\"95.410156\" xlink:href=\"#DejaVuSans-54\"/>\n      </g>\n     </g>\n    </g>\n    <g id=\"ytick_5\">\n     <g id=\"line2d_10\">\n      <g>\n       <use style=\"stroke:#000000;stroke-width:0.8;\" x=\"44.059375\" xlink:href=\"#m8d733d74b3\" y=\"55.442903\"/>\n      </g>\n     </g>\n     <g id=\"text_11\">\n      <!-- 0.8 -->\n      <g transform=\"translate(21.15625 59.242122)scale(0.1 -0.1)\">\n       <defs>\n        <path d=\"M 31.78125 34.625 \nQ 24.75 34.625 20.71875 30.859375 \nQ 16.703125 27.09375 16.703125 20.515625 \nQ 16.703125 13.921875 20.71875 10.15625 \nQ 24.75 6.390625 31.78125 6.390625 \nQ 38.8125 6.390625 42.859375 10.171875 \nQ 46.921875 13.96875 46.921875 20.515625 \nQ 46.921875 27.09375 42.890625 30.859375 \nQ 38.875 34.625 31.78125 34.625 \nz\nM 21.921875 38.8125 \nQ 15.578125 40.375 12.03125 44.71875 \nQ 8.5 49.078125 8.5 55.328125 \nQ 8.5 64.0625 14.71875 69.140625 \nQ 20.953125 74.21875 31.78125 74.21875 \nQ 42.671875 74.21875 48.875 69.140625 \nQ 55.078125 64.0625 55.078125 55.328125 \nQ 55.078125 49.078125 51.53125 44.71875 \nQ 48 40.375 41.703125 38.8125 \nQ 48.828125 37.15625 52.796875 32.3125 \nQ 56.78125 27.484375 56.78125 20.515625 \nQ 56.78125 9.90625 50.3125 4.234375 \nQ 43.84375 -1.421875 31.78125 -1.421875 \nQ 19.734375 -1.421875 13.25 4.234375 \nQ 6.78125 9.90625 6.78125 20.515625 \nQ 6.78125 27.484375 10.78125 32.3125 \nQ 14.796875 37.15625 21.921875 38.8125 \nz\nM 18.3125 54.390625 \nQ 18.3125 48.734375 21.84375 45.5625 \nQ 25.390625 42.390625 31.78125 42.390625 \nQ 38.140625 42.390625 41.71875 45.5625 \nQ 45.3125 48.734375 45.3125 54.390625 \nQ 45.3125 60.0625 41.71875 63.234375 \nQ 38.140625 66.40625 31.78125 66.40625 \nQ 25.390625 66.40625 21.84375 63.234375 \nQ 18.3125 60.0625 18.3125 54.390625 \nz\n\" id=\"DejaVuSans-56\"/>\n       </defs>\n       <use xlink:href=\"#DejaVuSans-48\"/>\n       <use x=\"63.623047\" xlink:href=\"#DejaVuSans-46\"/>\n       <use x=\"95.410156\" xlink:href=\"#DejaVuSans-56\"/>\n      </g>\n     </g>\n    </g>\n    <g id=\"ytick_6\">\n     <g id=\"line2d_11\">\n      <g>\n       <use style=\"stroke:#000000;stroke-width:0.8;\" x=\"44.059375\" xlink:href=\"#m8d733d74b3\" y=\"15.279395\"/>\n      </g>\n     </g>\n     <g id=\"text_12\">\n      <!-- 1.0 -->\n      <g transform=\"translate(21.15625 19.078614)scale(0.1 -0.1)\">\n       <defs>\n        <path d=\"M 12.40625 8.296875 \nL 28.515625 8.296875 \nL 28.515625 63.921875 \nL 10.984375 60.40625 \nL 10.984375 69.390625 \nL 28.421875 72.90625 \nL 38.28125 72.90625 \nL 38.28125 8.296875 \nL 54.390625 8.296875 \nL 54.390625 0 \nL 12.40625 0 \nz\n\" id=\"DejaVuSans-49\"/>\n       </defs>\n       <use xlink:href=\"#DejaVuSans-49\"/>\n       <use x=\"63.623047\" xlink:href=\"#DejaVuSans-46\"/>\n       <use x=\"95.410156\" xlink:href=\"#DejaVuSans-48\"/>\n      </g>\n     </g>\n    </g>\n    <g id=\"text_13\">\n     <!-- micro_f0.5 -->\n     <g transform=\"translate(14.798438 142.142656)rotate(-90)scale(0.1 -0.1)\">\n      <defs>\n       <path d=\"M 52 44.1875 \nQ 55.375 50.25 60.0625 53.125 \nQ 64.75 56 71.09375 56 \nQ 79.640625 56 84.28125 50.015625 \nQ 88.921875 44.046875 88.921875 33.015625 \nL 88.921875 0 \nL 79.890625 0 \nL 79.890625 32.71875 \nQ 79.890625 40.578125 77.09375 44.375 \nQ 74.3125 48.1875 68.609375 48.1875 \nQ 61.625 48.1875 57.5625 43.546875 \nQ 53.515625 38.921875 53.515625 30.90625 \nL 53.515625 0 \nL 44.484375 0 \nL 44.484375 32.71875 \nQ 44.484375 40.625 41.703125 44.40625 \nQ 38.921875 48.1875 33.109375 48.1875 \nQ 26.21875 48.1875 22.15625 43.53125 \nQ 18.109375 38.875 18.109375 30.90625 \nL 18.109375 0 \nL 9.078125 0 \nL 9.078125 54.6875 \nL 18.109375 54.6875 \nL 18.109375 46.1875 \nQ 21.1875 51.21875 25.484375 53.609375 \nQ 29.78125 56 35.6875 56 \nQ 41.65625 56 45.828125 52.96875 \nQ 50 49.953125 52 44.1875 \nz\n\" id=\"DejaVuSans-109\"/>\n       <path d=\"M 9.421875 54.6875 \nL 18.40625 54.6875 \nL 18.40625 0 \nL 9.421875 0 \nz\nM 9.421875 75.984375 \nL 18.40625 75.984375 \nL 18.40625 64.59375 \nL 9.421875 64.59375 \nz\n\" id=\"DejaVuSans-105\"/>\n       <path d=\"M 48.78125 52.59375 \nL 48.78125 44.1875 \nQ 44.96875 46.296875 41.140625 47.34375 \nQ 37.3125 48.390625 33.40625 48.390625 \nQ 24.65625 48.390625 19.8125 42.84375 \nQ 14.984375 37.3125 14.984375 27.296875 \nQ 14.984375 17.28125 19.8125 11.734375 \nQ 24.65625 6.203125 33.40625 6.203125 \nQ 37.3125 6.203125 41.140625 7.25 \nQ 44.96875 8.296875 48.78125 10.40625 \nL 48.78125 2.09375 \nQ 45.015625 0.34375 40.984375 -0.53125 \nQ 36.96875 -1.421875 32.421875 -1.421875 \nQ 20.0625 -1.421875 12.78125 6.34375 \nQ 5.515625 14.109375 5.515625 27.296875 \nQ 5.515625 40.671875 12.859375 48.328125 \nQ 20.21875 56 33.015625 56 \nQ 37.15625 56 41.109375 55.140625 \nQ 45.0625 54.296875 48.78125 52.59375 \nz\n\" id=\"DejaVuSans-99\"/>\n       <path d=\"M 50.984375 -16.609375 \nL 50.984375 -23.578125 \nL -0.984375 -23.578125 \nL -0.984375 -16.609375 \nz\n\" id=\"DejaVuSans-95\"/>\n       <path d=\"M 10.796875 72.90625 \nL 49.515625 72.90625 \nL 49.515625 64.59375 \nL 19.828125 64.59375 \nL 19.828125 46.734375 \nQ 21.96875 47.46875 24.109375 47.828125 \nQ 26.265625 48.1875 28.421875 48.1875 \nQ 40.625 48.1875 47.75 41.5 \nQ 54.890625 34.8125 54.890625 23.390625 \nQ 54.890625 11.625 47.5625 5.09375 \nQ 40.234375 -1.421875 26.90625 -1.421875 \nQ 22.3125 -1.421875 17.546875 -0.640625 \nQ 12.796875 0.140625 7.71875 1.703125 \nL 7.71875 11.625 \nQ 12.109375 9.234375 16.796875 8.0625 \nQ 21.484375 6.890625 26.703125 6.890625 \nQ 35.15625 6.890625 40.078125 11.328125 \nQ 45.015625 15.765625 45.015625 23.390625 \nQ 45.015625 31 40.078125 35.4375 \nQ 35.15625 39.890625 26.703125 39.890625 \nQ 22.75 39.890625 18.8125 39.015625 \nQ 14.890625 38.140625 10.796875 36.28125 \nz\n\" id=\"DejaVuSans-53\"/>\n      </defs>\n      <use xlink:href=\"#DejaVuSans-109\"/>\n      <use x=\"97.412109\" xlink:href=\"#DejaVuSans-105\"/>\n      <use x=\"125.195312\" xlink:href=\"#DejaVuSans-99\"/>\n      <use x=\"180.175781\" xlink:href=\"#DejaVuSans-114\"/>\n      <use x=\"219.039062\" xlink:href=\"#DejaVuSans-111\"/>\n      <use x=\"280.220703\" xlink:href=\"#DejaVuSans-95\"/>\n      <use x=\"330.220703\" xlink:href=\"#DejaVuSans-102\"/>\n      <use x=\"365.425781\" xlink:href=\"#DejaVuSans-48\"/>\n      <use x=\"429.048828\" xlink:href=\"#DejaVuSans-46\"/>\n      <use x=\"460.835938\" xlink:href=\"#DejaVuSans-53\"/>\n     </g>\n    </g>\n   </g>\n   <g id=\"line2d_12\">\n    <path clip-path=\"url(#pd0be6ab212)\" d=\"M 363.641193 214.756364 \nL 360.017817 214.756364 \nL 356.39444 214.756364 \nL 352.771063 214.756364 \nL 349.147687 214.756364 \nL 345.52431 214.756364 \nL 341.900933 214.756364 \nL 338.277557 213.430035 \nL 334.65418 213.430035 \nL 331.030804 197.387226 \nL 327.407427 190.661661 \nL 323.78405 189.578412 \nL 320.160674 187.442827 \nL 316.537297 184.314557 \nL 312.91392 90.333773 \nL 309.290544 89.666172 \nL 305.667167 88.352092 \nL 302.043791 53.916499 \nL 298.420414 51.136369 \nL 294.797037 48.376272 \nL 291.173661 46.49048 \nL 287.550284 44.283538 \nL 283.926907 39.374308 \nL 280.303531 38.672544 \nL 276.680154 38.441559 \nL 273.056778 38.32661 \nL 269.433401 28.061751 \nL 265.810024 27.893393 \nL 262.186648 21.553058 \nL 258.563271 21.41766 \nL 254.939894 21.38109 \nL 251.316518 20.816752 \nL 247.693141 20.621224 \nL 244.069765 20.362644 \nL 240.446388 20.362644 \nL 236.823011 19.290016 \nL 233.199635 19.228215 \nL 229.576258 19.228215 \nL 225.952881 17.083636 \nL 222.329505 17.083636 \nL 218.706128 17.300132 \nL 215.082752 17.243381 \nL 211.459375 17.243381 \nL 207.835998 17.459233 \nL 204.212622 17.459233 \nL 200.589245 17.459233 \nL 196.965869 17.459233 \nL 193.342492 17.459233 \nL 189.719115 17.459233 \nL 186.095739 17.480282 \nL 182.472362 17.480282 \nL 178.848985 17.480282 \nL 175.225609 17.480282 \nL 171.602232 17.424309 \nL 167.978856 17.424309 \nL 164.355479 17.424309 \nL 160.732102 17.424309 \nL 157.108726 17.424309 \nL 153.485349 17.424309 \nL 149.861972 17.424309 \nL 146.238596 17.424309 \nL 142.615219 17.424309 \nL 138.991843 17.368454 \nL 135.368466 17.368454 \nL 131.745089 17.368454 \nL 128.121713 17.368454 \nL 124.498336 17.368454 \nL 120.874959 17.368454 \nL 117.251583 17.368454 \nL 113.628206 17.368454 \nL 110.00483 17.368454 \nL 106.381453 17.368454 \nL 102.758076 17.368454 \nL 99.1347 17.368454 \nL 95.511323 17.368454 \nL 91.887946 17.368454 \nL 88.26457 17.368454 \nL 84.641193 17.368454 \nL 81.017817 17.368454 \nL 77.39444 17.368454 \nL 73.771063 17.368454 \nL 70.147687 17.368454 \nL 66.52431 17.368454 \nL 62.900933 17.368454 \nL 59.277557 17.368454 \n\" style=\"fill:none;stroke:#1f77b4;stroke-linecap:square;stroke-width:1.5;\"/>\n   </g>\n   <g id=\"patch_3\">\n    <path d=\"M 44.059375 224.64 \nL 44.059375 7.2 \n\" style=\"fill:none;stroke:#000000;stroke-linecap:square;stroke-linejoin:miter;stroke-width:0.8;\"/>\n   </g>\n   <g id=\"patch_4\">\n    <path d=\"M 378.859375 224.64 \nL 378.859375 7.2 \n\" style=\"fill:none;stroke:#000000;stroke-linecap:square;stroke-linejoin:miter;stroke-width:0.8;\"/>\n   </g>\n   <g id=\"patch_5\">\n    <path d=\"M 44.059375 224.64 \nL 378.859375 224.64 \n\" style=\"fill:none;stroke:#000000;stroke-linecap:square;stroke-linejoin:miter;stroke-width:0.8;\"/>\n   </g>\n   <g id=\"patch_6\">\n    <path d=\"M 44.059375 7.2 \nL 378.859375 7.2 \n\" style=\"fill:none;stroke:#000000;stroke-linecap:square;stroke-linejoin:miter;stroke-width:0.8;\"/>\n   </g>\n   <g id=\"text_14\">\n    <!-- (-13.0, 0.99) -->\n    <g transform=\"translate(251.316518 25.967578)scale(0.1 -0.1)\">\n     <defs>\n      <path d=\"M 31 75.875 \nQ 24.46875 64.65625 21.28125 53.65625 \nQ 18.109375 42.671875 18.109375 31.390625 \nQ 18.109375 20.125 21.3125 9.0625 \nQ 24.515625 -2 31 -13.1875 \nL 23.1875 -13.1875 \nQ 15.875 -1.703125 12.234375 9.375 \nQ 8.59375 20.453125 8.59375 31.390625 \nQ 8.59375 42.28125 12.203125 53.3125 \nQ 15.828125 64.359375 23.1875 75.875 \nz\n\" id=\"DejaVuSans-40\"/>\n      <path d=\"M 4.890625 31.390625 \nL 31.203125 31.390625 \nL 31.203125 23.390625 \nL 4.890625 23.390625 \nz\n\" id=\"DejaVuSans-45\"/>\n      <path d=\"M 40.578125 39.3125 \nQ 47.65625 37.796875 51.625 33 \nQ 55.609375 28.21875 55.609375 21.1875 \nQ 55.609375 10.40625 48.1875 4.484375 \nQ 40.765625 -1.421875 27.09375 -1.421875 \nQ 22.515625 -1.421875 17.65625 -0.515625 \nQ 12.796875 0.390625 7.625 2.203125 \nL 7.625 11.71875 \nQ 11.71875 9.328125 16.59375 8.109375 \nQ 21.484375 6.890625 26.8125 6.890625 \nQ 36.078125 6.890625 40.9375 10.546875 \nQ 45.796875 14.203125 45.796875 21.1875 \nQ 45.796875 27.640625 41.28125 31.265625 \nQ 36.765625 34.90625 28.71875 34.90625 \nL 20.21875 34.90625 \nL 20.21875 43.015625 \nL 29.109375 43.015625 \nQ 36.375 43.015625 40.234375 45.921875 \nQ 44.09375 48.828125 44.09375 54.296875 \nQ 44.09375 59.90625 40.109375 62.90625 \nQ 36.140625 65.921875 28.71875 65.921875 \nQ 24.65625 65.921875 20.015625 65.03125 \nQ 15.375 64.15625 9.8125 62.3125 \nL 9.8125 71.09375 \nQ 15.4375 72.65625 20.34375 73.4375 \nQ 25.25 74.21875 29.59375 74.21875 \nQ 40.828125 74.21875 47.359375 69.109375 \nQ 53.90625 64.015625 53.90625 55.328125 \nQ 53.90625 49.265625 50.4375 45.09375 \nQ 46.96875 40.921875 40.578125 39.3125 \nz\n\" id=\"DejaVuSans-51\"/>\n      <path d=\"M 11.71875 12.40625 \nL 22.015625 12.40625 \nL 22.015625 4 \nL 14.015625 -11.625 \nL 7.71875 -11.625 \nL 11.71875 4 \nz\n\" id=\"DejaVuSans-44\"/>\n      <path d=\"M 10.984375 1.515625 \nL 10.984375 10.5 \nQ 14.703125 8.734375 18.5 7.8125 \nQ 22.3125 6.890625 25.984375 6.890625 \nQ 35.75 6.890625 40.890625 13.453125 \nQ 46.046875 20.015625 46.78125 33.40625 \nQ 43.953125 29.203125 39.59375 26.953125 \nQ 35.25 24.703125 29.984375 24.703125 \nQ 19.046875 24.703125 12.671875 31.3125 \nQ 6.296875 37.9375 6.296875 49.421875 \nQ 6.296875 60.640625 12.9375 67.421875 \nQ 19.578125 74.21875 30.609375 74.21875 \nQ 43.265625 74.21875 49.921875 64.515625 \nQ 56.59375 54.828125 56.59375 36.375 \nQ 56.59375 19.140625 48.40625 8.859375 \nQ 40.234375 -1.421875 26.421875 -1.421875 \nQ 22.703125 -1.421875 18.890625 -0.6875 \nQ 15.09375 0.046875 10.984375 1.515625 \nz\nM 30.609375 32.421875 \nQ 37.25 32.421875 41.125 36.953125 \nQ 45.015625 41.5 45.015625 49.421875 \nQ 45.015625 57.28125 41.125 61.84375 \nQ 37.25 66.40625 30.609375 66.40625 \nQ 23.96875 66.40625 20.09375 61.84375 \nQ 16.21875 57.28125 16.21875 49.421875 \nQ 16.21875 41.5 20.09375 36.953125 \nQ 23.96875 32.421875 30.609375 32.421875 \nz\n\" id=\"DejaVuSans-57\"/>\n      <path d=\"M 8.015625 75.875 \nL 15.828125 75.875 \nQ 23.140625 64.359375 26.78125 53.3125 \nQ 30.421875 42.28125 30.421875 31.390625 \nQ 30.421875 20.453125 26.78125 9.375 \nQ 23.140625 -1.703125 15.828125 -13.1875 \nL 8.015625 -13.1875 \nQ 14.5 -2 17.703125 9.0625 \nQ 20.90625 20.125 20.90625 31.390625 \nQ 20.90625 42.671875 17.703125 53.65625 \nQ 14.5 64.65625 8.015625 75.875 \nz\n\" id=\"DejaVuSans-41\"/>\n     </defs>\n     <use xlink:href=\"#DejaVuSans-40\"/>\n     <use x=\"39.013672\" xlink:href=\"#DejaVuSans-45\"/>\n     <use x=\"75.097656\" xlink:href=\"#DejaVuSans-49\"/>\n     <use x=\"138.720703\" xlink:href=\"#DejaVuSans-51\"/>\n     <use x=\"202.34375\" xlink:href=\"#DejaVuSans-46\"/>\n     <use x=\"234.130859\" xlink:href=\"#DejaVuSans-48\"/>\n     <use x=\"297.753906\" xlink:href=\"#DejaVuSans-44\"/>\n     <use x=\"329.541016\" xlink:href=\"#DejaVuSans-32\"/>\n     <use x=\"361.328125\" xlink:href=\"#DejaVuSans-48\"/>\n     <use x=\"424.951172\" xlink:href=\"#DejaVuSans-46\"/>\n     <use x=\"456.738281\" xlink:href=\"#DejaVuSans-57\"/>\n     <use x=\"520.361328\" xlink:href=\"#DejaVuSans-57\"/>\n     <use x=\"583.984375\" xlink:href=\"#DejaVuSans-41\"/>\n    </g>\n    <!-- ideal threshold -->\n    <g transform=\"translate(251.316518 37.16539)scale(0.1 -0.1)\">\n     <defs>\n      <path d=\"M 34.28125 27.484375 \nQ 23.390625 27.484375 19.1875 25 \nQ 14.984375 22.515625 14.984375 16.5 \nQ 14.984375 11.71875 18.140625 8.90625 \nQ 21.296875 6.109375 26.703125 6.109375 \nQ 34.1875 6.109375 38.703125 11.40625 \nQ 43.21875 16.703125 43.21875 25.484375 \nL 43.21875 27.484375 \nz\nM 52.203125 31.203125 \nL 52.203125 0 \nL 43.21875 0 \nL 43.21875 8.296875 \nQ 40.140625 3.328125 35.546875 0.953125 \nQ 30.953125 -1.421875 24.3125 -1.421875 \nQ 15.921875 -1.421875 10.953125 3.296875 \nQ 6 8.015625 6 15.921875 \nQ 6 25.140625 12.171875 29.828125 \nQ 18.359375 34.515625 30.609375 34.515625 \nL 43.21875 34.515625 \nL 43.21875 35.40625 \nQ 43.21875 41.609375 39.140625 45 \nQ 35.0625 48.390625 27.6875 48.390625 \nQ 23 48.390625 18.546875 47.265625 \nQ 14.109375 46.140625 10.015625 43.890625 \nL 10.015625 52.203125 \nQ 14.9375 54.109375 19.578125 55.046875 \nQ 24.21875 56 28.609375 56 \nQ 40.484375 56 46.34375 49.84375 \nQ 52.203125 43.703125 52.203125 31.203125 \nz\n\" id=\"DejaVuSans-97\"/>\n     </defs>\n     <use xlink:href=\"#DejaVuSans-105\"/>\n     <use x=\"27.783203\" xlink:href=\"#DejaVuSans-100\"/>\n     <use x=\"91.259766\" xlink:href=\"#DejaVuSans-101\"/>\n     <use x=\"152.783203\" xlink:href=\"#DejaVuSans-97\"/>\n     <use x=\"214.0625\" xlink:href=\"#DejaVuSans-108\"/>\n     <use x=\"241.845703\" xlink:href=\"#DejaVuSans-32\"/>\n     <use x=\"273.632812\" xlink:href=\"#DejaVuSans-116\"/>\n     <use x=\"312.841797\" xlink:href=\"#DejaVuSans-104\"/>\n     <use x=\"376.220703\" xlink:href=\"#DejaVuSans-114\"/>\n     <use x=\"415.083984\" xlink:href=\"#DejaVuSans-101\"/>\n     <use x=\"476.607422\" xlink:href=\"#DejaVuSans-115\"/>\n     <use x=\"528.707031\" xlink:href=\"#DejaVuSans-104\"/>\n     <use x=\"592.085938\" xlink:href=\"#DejaVuSans-111\"/>\n     <use x=\"653.267578\" xlink:href=\"#DejaVuSans-108\"/>\n     <use x=\"681.050781\" xlink:href=\"#DejaVuSans-100\"/>\n    </g>\n   </g>\n  </g>\n </g>\n <defs>\n  <clipPath id=\"pd0be6ab212\">\n   <rect height=\"217.44\" width=\"334.8\" x=\"44.059375\" y=\"7.2\"/>\n  </clipPath>\n </defs>\n</svg>\n",
      "image/png": "[encoded data removed]"
     },
     "metadata": {
      "needs_background": "light"
     }
    }
   ],
   "source": [
    "#f1_ths\n",
    "def plt_f1_th(ths_f1, col):\n",
    "    max_f1 = ths_f1.loc[ths_f1[col].idxmax()]\n",
    "    print(max_f1)\n",
    "    plt.plot(ths_f1[\"th_offset\"], ths_f1[col])\n",
    "    plt.scatter(max_f1[0], max_f1[1])\n",
    "    plt.annotate(f'({max_f1[0]}, {round(max_f1[1],2)})' +\"\\nideal threshold\", max_f1,xytext = (max_f1[0] + 7, max_f1[1]-0.1))#[0], max_f1[1])\n",
    "    plt.xlabel(\"threshold offset\")\n",
    "    plt.ylabel(col)\n",
    "\n",
    "    plt.show()\n",
    "plt_f1_th(ths_f1, \"micro_f1\")\n",
    "plt_f1_th(ths_f0_5, \"micro_f0.5\")\n"
   ]
  },
  {
   "source": [
    "## Precision and Recall in threshold adaption"
   ],
   "cell_type": "markdown",
   "metadata": {}
  },
  {
   "cell_type": "code",
   "execution_count": 38,
   "metadata": {},
   "outputs": [
    {
     "output_type": "execute_result",
     "data": {
      "text/plain": [
       "Text(0, 0.5, 'micro_avg_prec')"
      ]
     },
     "metadata": {},
     "execution_count": 38
    },
    {
     "output_type": "display_data",
     "data": {
      "text/plain": "<Figure size 432x288 with 1 Axes>",
      "image/svg+xml": "<?xml version=\"1.0\" encoding=\"utf-8\" standalone=\"no\"?>\n<!DOCTYPE svg PUBLIC \"-//W3C//DTD SVG 1.1//EN\"\n  \"http://www.w3.org/Graphics/SVG/1.1/DTD/svg11.dtd\">\n<!-- Created with matplotlib (https://matplotlib.org/) -->\n<svg height=\"262.474375pt\" version=\"1.1\" viewBox=\"0 0 398.784375 262.474375\" width=\"398.784375pt\" xmlns=\"http://www.w3.org/2000/svg\" xmlns:xlink=\"http://www.w3.org/1999/xlink\">\n <metadata>\n  <rdf:RDF xmlns:cc=\"http://creativecommons.org/ns#\" xmlns:dc=\"http://purl.org/dc/elements/1.1/\" xmlns:rdf=\"http://www.w3.org/1999/02/22-rdf-syntax-ns#\">\n   <cc:Work>\n    <dc:type rdf:resource=\"http://purl.org/dc/dcmitype/StillImage\"/>\n    <dc:date>2021-04-23T08:41:57.501121</dc:date>\n    <dc:format>image/svg+xml</dc:format>\n    <dc:creator>\n     <cc:Agent>\n      <dc:title>Matplotlib v3.3.3, https://matplotlib.org/</dc:title>\n     </cc:Agent>\n    </dc:creator>\n   </cc:Work>\n  </rdf:RDF>\n </metadata>\n <defs>\n  <style type=\"text/css\">*{stroke-linecap:butt;stroke-linejoin:round;}</style>\n </defs>\n <g id=\"figure_1\">\n  <g id=\"patch_1\">\n   <path d=\"M 0 262.474375 \nL 398.784375 262.474375 \nL 398.784375 0 \nL 0 0 \nz\n\" style=\"fill:none;\"/>\n  </g>\n  <g id=\"axes_1\">\n   <g id=\"patch_2\">\n    <path d=\"M 56.784375 224.64 \nL 391.584375 224.64 \nL 391.584375 7.2 \nL 56.784375 7.2 \nz\n\" style=\"fill:#ffffff;\"/>\n   </g>\n   <g id=\"matplotlib.axis_1\">\n    <g id=\"xtick_1\">\n     <g id=\"line2d_1\">\n      <defs>\n       <path d=\"M 0 0 \nL 0 3.5 \n\" id=\"m12f23695b0\" style=\"stroke:#000000;stroke-width:0.8;\"/>\n      </defs>\n      <g>\n       <use style=\"stroke:#000000;stroke-width:0.8;\" x=\"71.59181\" xlink:href=\"#m12f23695b0\" y=\"224.64\"/>\n      </g>\n     </g>\n     <g id=\"text_1\">\n      <!-- 0.0 -->\n      <g transform=\"translate(63.640247 239.238438)scale(0.1 -0.1)\">\n       <defs>\n        <path d=\"M 31.78125 66.40625 \nQ 24.171875 66.40625 20.328125 58.90625 \nQ 16.5 51.421875 16.5 36.375 \nQ 16.5 21.390625 20.328125 13.890625 \nQ 24.171875 6.390625 31.78125 6.390625 \nQ 39.453125 6.390625 43.28125 13.890625 \nQ 47.125 21.390625 47.125 36.375 \nQ 47.125 51.421875 43.28125 58.90625 \nQ 39.453125 66.40625 31.78125 66.40625 \nz\nM 31.78125 74.21875 \nQ 44.046875 74.21875 50.515625 64.515625 \nQ 56.984375 54.828125 56.984375 36.375 \nQ 56.984375 17.96875 50.515625 8.265625 \nQ 44.046875 -1.421875 31.78125 -1.421875 \nQ 19.53125 -1.421875 13.0625 8.265625 \nQ 6.59375 17.96875 6.59375 36.375 \nQ 6.59375 54.828125 13.0625 64.515625 \nQ 19.53125 74.21875 31.78125 74.21875 \nz\n\" id=\"DejaVuSans-48\"/>\n        <path d=\"M 10.6875 12.40625 \nL 21 12.40625 \nL 21 0 \nL 10.6875 0 \nz\n\" id=\"DejaVuSans-46\"/>\n       </defs>\n       <use xlink:href=\"#DejaVuSans-48\"/>\n       <use x=\"63.623047\" xlink:href=\"#DejaVuSans-46\"/>\n       <use x=\"95.410156\" xlink:href=\"#DejaVuSans-48\"/>\n      </g>\n     </g>\n    </g>\n    <g id=\"xtick_2\">\n     <g id=\"line2d_2\">\n      <g>\n       <use style=\"stroke:#000000;stroke-width:0.8;\" x=\"132.793135\" xlink:href=\"#m12f23695b0\" y=\"224.64\"/>\n      </g>\n     </g>\n     <g id=\"text_2\">\n      <!-- 0.2 -->\n      <g transform=\"translate(124.841572 239.238438)scale(0.1 -0.1)\">\n       <defs>\n        <path d=\"M 19.1875 8.296875 \nL 53.609375 8.296875 \nL 53.609375 0 \nL 7.328125 0 \nL 7.328125 8.296875 \nQ 12.9375 14.109375 22.625 23.890625 \nQ 32.328125 33.6875 34.8125 36.53125 \nQ 39.546875 41.84375 41.421875 45.53125 \nQ 43.3125 49.21875 43.3125 52.78125 \nQ 43.3125 58.59375 39.234375 62.25 \nQ 35.15625 65.921875 28.609375 65.921875 \nQ 23.96875 65.921875 18.8125 64.3125 \nQ 13.671875 62.703125 7.8125 59.421875 \nL 7.8125 69.390625 \nQ 13.765625 71.78125 18.9375 73 \nQ 24.125 74.21875 28.421875 74.21875 \nQ 39.75 74.21875 46.484375 68.546875 \nQ 53.21875 62.890625 53.21875 53.421875 \nQ 53.21875 48.921875 51.53125 44.890625 \nQ 49.859375 40.875 45.40625 35.40625 \nQ 44.1875 33.984375 37.640625 27.21875 \nQ 31.109375 20.453125 19.1875 8.296875 \nz\n\" id=\"DejaVuSans-50\"/>\n       </defs>\n       <use xlink:href=\"#DejaVuSans-48\"/>\n       <use x=\"63.623047\" xlink:href=\"#DejaVuSans-46\"/>\n       <use x=\"95.410156\" xlink:href=\"#DejaVuSans-50\"/>\n      </g>\n     </g>\n    </g>\n    <g id=\"xtick_3\">\n     <g id=\"line2d_3\">\n      <g>\n       <use style=\"stroke:#000000;stroke-width:0.8;\" x=\"193.99446\" xlink:href=\"#m12f23695b0\" y=\"224.64\"/>\n      </g>\n     </g>\n     <g id=\"text_3\">\n      <!-- 0.4 -->\n      <g transform=\"translate(186.042897 239.238438)scale(0.1 -0.1)\">\n       <defs>\n        <path d=\"M 37.796875 64.3125 \nL 12.890625 25.390625 \nL 37.796875 25.390625 \nz\nM 35.203125 72.90625 \nL 47.609375 72.90625 \nL 47.609375 25.390625 \nL 58.015625 25.390625 \nL 58.015625 17.1875 \nL 47.609375 17.1875 \nL 47.609375 0 \nL 37.796875 0 \nL 37.796875 17.1875 \nL 4.890625 17.1875 \nL 4.890625 26.703125 \nz\n\" id=\"DejaVuSans-52\"/>\n       </defs>\n       <use xlink:href=\"#DejaVuSans-48\"/>\n       <use x=\"63.623047\" xlink:href=\"#DejaVuSans-46\"/>\n       <use x=\"95.410156\" xlink:href=\"#DejaVuSans-52\"/>\n      </g>\n     </g>\n    </g>\n    <g id=\"xtick_4\">\n     <g id=\"line2d_4\">\n      <g>\n       <use style=\"stroke:#000000;stroke-width:0.8;\" x=\"255.195785\" xlink:href=\"#m12f23695b0\" y=\"224.64\"/>\n      </g>\n     </g>\n     <g id=\"text_4\">\n      <!-- 0.6 -->\n      <g transform=\"translate(247.244222 239.238438)scale(0.1 -0.1)\">\n       <defs>\n        <path d=\"M 33.015625 40.375 \nQ 26.375 40.375 22.484375 35.828125 \nQ 18.609375 31.296875 18.609375 23.390625 \nQ 18.609375 15.53125 22.484375 10.953125 \nQ 26.375 6.390625 33.015625 6.390625 \nQ 39.65625 6.390625 43.53125 10.953125 \nQ 47.40625 15.53125 47.40625 23.390625 \nQ 47.40625 31.296875 43.53125 35.828125 \nQ 39.65625 40.375 33.015625 40.375 \nz\nM 52.59375 71.296875 \nL 52.59375 62.3125 \nQ 48.875 64.0625 45.09375 64.984375 \nQ 41.3125 65.921875 37.59375 65.921875 \nQ 27.828125 65.921875 22.671875 59.328125 \nQ 17.53125 52.734375 16.796875 39.40625 \nQ 19.671875 43.65625 24.015625 45.921875 \nQ 28.375 48.1875 33.59375 48.1875 \nQ 44.578125 48.1875 50.953125 41.515625 \nQ 57.328125 34.859375 57.328125 23.390625 \nQ 57.328125 12.15625 50.6875 5.359375 \nQ 44.046875 -1.421875 33.015625 -1.421875 \nQ 20.359375 -1.421875 13.671875 8.265625 \nQ 6.984375 17.96875 6.984375 36.375 \nQ 6.984375 53.65625 15.1875 63.9375 \nQ 23.390625 74.21875 37.203125 74.21875 \nQ 40.921875 74.21875 44.703125 73.484375 \nQ 48.484375 72.75 52.59375 71.296875 \nz\n\" id=\"DejaVuSans-54\"/>\n       </defs>\n       <use xlink:href=\"#DejaVuSans-48\"/>\n       <use x=\"63.623047\" xlink:href=\"#DejaVuSans-46\"/>\n       <use x=\"95.410156\" xlink:href=\"#DejaVuSans-54\"/>\n      </g>\n     </g>\n    </g>\n    <g id=\"xtick_5\">\n     <g id=\"line2d_5\">\n      <g>\n       <use style=\"stroke:#000000;stroke-width:0.8;\" x=\"316.39711\" xlink:href=\"#m12f23695b0\" y=\"224.64\"/>\n      </g>\n     </g>\n     <g id=\"text_5\">\n      <!-- 0.8 -->\n      <g transform=\"translate(308.445547 239.238438)scale(0.1 -0.1)\">\n       <defs>\n        <path d=\"M 31.78125 34.625 \nQ 24.75 34.625 20.71875 30.859375 \nQ 16.703125 27.09375 16.703125 20.515625 \nQ 16.703125 13.921875 20.71875 10.15625 \nQ 24.75 6.390625 31.78125 6.390625 \nQ 38.8125 6.390625 42.859375 10.171875 \nQ 46.921875 13.96875 46.921875 20.515625 \nQ 46.921875 27.09375 42.890625 30.859375 \nQ 38.875 34.625 31.78125 34.625 \nz\nM 21.921875 38.8125 \nQ 15.578125 40.375 12.03125 44.71875 \nQ 8.5 49.078125 8.5 55.328125 \nQ 8.5 64.0625 14.71875 69.140625 \nQ 20.953125 74.21875 31.78125 74.21875 \nQ 42.671875 74.21875 48.875 69.140625 \nQ 55.078125 64.0625 55.078125 55.328125 \nQ 55.078125 49.078125 51.53125 44.71875 \nQ 48 40.375 41.703125 38.8125 \nQ 48.828125 37.15625 52.796875 32.3125 \nQ 56.78125 27.484375 56.78125 20.515625 \nQ 56.78125 9.90625 50.3125 4.234375 \nQ 43.84375 -1.421875 31.78125 -1.421875 \nQ 19.734375 -1.421875 13.25 4.234375 \nQ 6.78125 9.90625 6.78125 20.515625 \nQ 6.78125 27.484375 10.78125 32.3125 \nQ 14.796875 37.15625 21.921875 38.8125 \nz\nM 18.3125 54.390625 \nQ 18.3125 48.734375 21.84375 45.5625 \nQ 25.390625 42.390625 31.78125 42.390625 \nQ 38.140625 42.390625 41.71875 45.5625 \nQ 45.3125 48.734375 45.3125 54.390625 \nQ 45.3125 60.0625 41.71875 63.234375 \nQ 38.140625 66.40625 31.78125 66.40625 \nQ 25.390625 66.40625 21.84375 63.234375 \nQ 18.3125 60.0625 18.3125 54.390625 \nz\n\" id=\"DejaVuSans-56\"/>\n       </defs>\n       <use xlink:href=\"#DejaVuSans-48\"/>\n       <use x=\"63.623047\" xlink:href=\"#DejaVuSans-46\"/>\n       <use x=\"95.410156\" xlink:href=\"#DejaVuSans-56\"/>\n      </g>\n     </g>\n    </g>\n    <g id=\"xtick_6\">\n     <g id=\"line2d_6\">\n      <g>\n       <use style=\"stroke:#000000;stroke-width:0.8;\" x=\"377.598435\" xlink:href=\"#m12f23695b0\" y=\"224.64\"/>\n      </g>\n     </g>\n     <g id=\"text_6\">\n      <!-- 1.0 -->\n      <g transform=\"translate(369.646872 239.238438)scale(0.1 -0.1)\">\n       <defs>\n        <path d=\"M 12.40625 8.296875 \nL 28.515625 8.296875 \nL 28.515625 63.921875 \nL 10.984375 60.40625 \nL 10.984375 69.390625 \nL 28.421875 72.90625 \nL 38.28125 72.90625 \nL 38.28125 8.296875 \nL 54.390625 8.296875 \nL 54.390625 0 \nL 12.40625 0 \nz\n\" id=\"DejaVuSans-49\"/>\n       </defs>\n       <use xlink:href=\"#DejaVuSans-49\"/>\n       <use x=\"63.623047\" xlink:href=\"#DejaVuSans-46\"/>\n       <use x=\"95.410156\" xlink:href=\"#DejaVuSans-48\"/>\n      </g>\n     </g>\n    </g>\n    <g id=\"text_7\">\n     <!-- micro_avg_rec -->\n     <g transform=\"translate(188.207031 252.916563)scale(0.1 -0.1)\">\n      <defs>\n       <path d=\"M 52 44.1875 \nQ 55.375 50.25 60.0625 53.125 \nQ 64.75 56 71.09375 56 \nQ 79.640625 56 84.28125 50.015625 \nQ 88.921875 44.046875 88.921875 33.015625 \nL 88.921875 0 \nL 79.890625 0 \nL 79.890625 32.71875 \nQ 79.890625 40.578125 77.09375 44.375 \nQ 74.3125 48.1875 68.609375 48.1875 \nQ 61.625 48.1875 57.5625 43.546875 \nQ 53.515625 38.921875 53.515625 30.90625 \nL 53.515625 0 \nL 44.484375 0 \nL 44.484375 32.71875 \nQ 44.484375 40.625 41.703125 44.40625 \nQ 38.921875 48.1875 33.109375 48.1875 \nQ 26.21875 48.1875 22.15625 43.53125 \nQ 18.109375 38.875 18.109375 30.90625 \nL 18.109375 0 \nL 9.078125 0 \nL 9.078125 54.6875 \nL 18.109375 54.6875 \nL 18.109375 46.1875 \nQ 21.1875 51.21875 25.484375 53.609375 \nQ 29.78125 56 35.6875 56 \nQ 41.65625 56 45.828125 52.96875 \nQ 50 49.953125 52 44.1875 \nz\n\" id=\"DejaVuSans-109\"/>\n       <path d=\"M 9.421875 54.6875 \nL 18.40625 54.6875 \nL 18.40625 0 \nL 9.421875 0 \nz\nM 9.421875 75.984375 \nL 18.40625 75.984375 \nL 18.40625 64.59375 \nL 9.421875 64.59375 \nz\n\" id=\"DejaVuSans-105\"/>\n       <path d=\"M 48.78125 52.59375 \nL 48.78125 44.1875 \nQ 44.96875 46.296875 41.140625 47.34375 \nQ 37.3125 48.390625 33.40625 48.390625 \nQ 24.65625 48.390625 19.8125 42.84375 \nQ 14.984375 37.3125 14.984375 27.296875 \nQ 14.984375 17.28125 19.8125 11.734375 \nQ 24.65625 6.203125 33.40625 6.203125 \nQ 37.3125 6.203125 41.140625 7.25 \nQ 44.96875 8.296875 48.78125 10.40625 \nL 48.78125 2.09375 \nQ 45.015625 0.34375 40.984375 -0.53125 \nQ 36.96875 -1.421875 32.421875 -1.421875 \nQ 20.0625 -1.421875 12.78125 6.34375 \nQ 5.515625 14.109375 5.515625 27.296875 \nQ 5.515625 40.671875 12.859375 48.328125 \nQ 20.21875 56 33.015625 56 \nQ 37.15625 56 41.109375 55.140625 \nQ 45.0625 54.296875 48.78125 52.59375 \nz\n\" id=\"DejaVuSans-99\"/>\n       <path d=\"M 41.109375 46.296875 \nQ 39.59375 47.171875 37.8125 47.578125 \nQ 36.03125 48 33.890625 48 \nQ 26.265625 48 22.1875 43.046875 \nQ 18.109375 38.09375 18.109375 28.8125 \nL 18.109375 0 \nL 9.078125 0 \nL 9.078125 54.6875 \nL 18.109375 54.6875 \nL 18.109375 46.1875 \nQ 20.953125 51.171875 25.484375 53.578125 \nQ 30.03125 56 36.53125 56 \nQ 37.453125 56 38.578125 55.875 \nQ 39.703125 55.765625 41.0625 55.515625 \nz\n\" id=\"DejaVuSans-114\"/>\n       <path d=\"M 30.609375 48.390625 \nQ 23.390625 48.390625 19.1875 42.75 \nQ 14.984375 37.109375 14.984375 27.296875 \nQ 14.984375 17.484375 19.15625 11.84375 \nQ 23.34375 6.203125 30.609375 6.203125 \nQ 37.796875 6.203125 41.984375 11.859375 \nQ 46.1875 17.53125 46.1875 27.296875 \nQ 46.1875 37.015625 41.984375 42.703125 \nQ 37.796875 48.390625 30.609375 48.390625 \nz\nM 30.609375 56 \nQ 42.328125 56 49.015625 48.375 \nQ 55.71875 40.765625 55.71875 27.296875 \nQ 55.71875 13.875 49.015625 6.21875 \nQ 42.328125 -1.421875 30.609375 -1.421875 \nQ 18.84375 -1.421875 12.171875 6.21875 \nQ 5.515625 13.875 5.515625 27.296875 \nQ 5.515625 40.765625 12.171875 48.375 \nQ 18.84375 56 30.609375 56 \nz\n\" id=\"DejaVuSans-111\"/>\n       <path d=\"M 50.984375 -16.609375 \nL 50.984375 -23.578125 \nL -0.984375 -23.578125 \nL -0.984375 -16.609375 \nz\n\" id=\"DejaVuSans-95\"/>\n       <path d=\"M 34.28125 27.484375 \nQ 23.390625 27.484375 19.1875 25 \nQ 14.984375 22.515625 14.984375 16.5 \nQ 14.984375 11.71875 18.140625 8.90625 \nQ 21.296875 6.109375 26.703125 6.109375 \nQ 34.1875 6.109375 38.703125 11.40625 \nQ 43.21875 16.703125 43.21875 25.484375 \nL 43.21875 27.484375 \nz\nM 52.203125 31.203125 \nL 52.203125 0 \nL 43.21875 0 \nL 43.21875 8.296875 \nQ 40.140625 3.328125 35.546875 0.953125 \nQ 30.953125 -1.421875 24.3125 -1.421875 \nQ 15.921875 -1.421875 10.953125 3.296875 \nQ 6 8.015625 6 15.921875 \nQ 6 25.140625 12.171875 29.828125 \nQ 18.359375 34.515625 30.609375 34.515625 \nL 43.21875 34.515625 \nL 43.21875 35.40625 \nQ 43.21875 41.609375 39.140625 45 \nQ 35.0625 48.390625 27.6875 48.390625 \nQ 23 48.390625 18.546875 47.265625 \nQ 14.109375 46.140625 10.015625 43.890625 \nL 10.015625 52.203125 \nQ 14.9375 54.109375 19.578125 55.046875 \nQ 24.21875 56 28.609375 56 \nQ 40.484375 56 46.34375 49.84375 \nQ 52.203125 43.703125 52.203125 31.203125 \nz\n\" id=\"DejaVuSans-97\"/>\n       <path d=\"M 2.984375 54.6875 \nL 12.5 54.6875 \nL 29.59375 8.796875 \nL 46.6875 54.6875 \nL 56.203125 54.6875 \nL 35.6875 0 \nL 23.484375 0 \nz\n\" id=\"DejaVuSans-118\"/>\n       <path d=\"M 45.40625 27.984375 \nQ 45.40625 37.75 41.375 43.109375 \nQ 37.359375 48.484375 30.078125 48.484375 \nQ 22.859375 48.484375 18.828125 43.109375 \nQ 14.796875 37.75 14.796875 27.984375 \nQ 14.796875 18.265625 18.828125 12.890625 \nQ 22.859375 7.515625 30.078125 7.515625 \nQ 37.359375 7.515625 41.375 12.890625 \nQ 45.40625 18.265625 45.40625 27.984375 \nz\nM 54.390625 6.78125 \nQ 54.390625 -7.171875 48.1875 -13.984375 \nQ 42 -20.796875 29.203125 -20.796875 \nQ 24.46875 -20.796875 20.265625 -20.09375 \nQ 16.0625 -19.390625 12.109375 -17.921875 \nL 12.109375 -9.1875 \nQ 16.0625 -11.328125 19.921875 -12.34375 \nQ 23.78125 -13.375 27.78125 -13.375 \nQ 36.625 -13.375 41.015625 -8.765625 \nQ 45.40625 -4.15625 45.40625 5.171875 \nL 45.40625 9.625 \nQ 42.625 4.78125 38.28125 2.390625 \nQ 33.9375 0 27.875 0 \nQ 17.828125 0 11.671875 7.65625 \nQ 5.515625 15.328125 5.515625 27.984375 \nQ 5.515625 40.671875 11.671875 48.328125 \nQ 17.828125 56 27.875 56 \nQ 33.9375 56 38.28125 53.609375 \nQ 42.625 51.21875 45.40625 46.390625 \nL 45.40625 54.6875 \nL 54.390625 54.6875 \nz\n\" id=\"DejaVuSans-103\"/>\n       <path d=\"M 56.203125 29.59375 \nL 56.203125 25.203125 \nL 14.890625 25.203125 \nQ 15.484375 15.921875 20.484375 11.0625 \nQ 25.484375 6.203125 34.421875 6.203125 \nQ 39.59375 6.203125 44.453125 7.46875 \nQ 49.3125 8.734375 54.109375 11.28125 \nL 54.109375 2.78125 \nQ 49.265625 0.734375 44.1875 -0.34375 \nQ 39.109375 -1.421875 33.890625 -1.421875 \nQ 20.796875 -1.421875 13.15625 6.1875 \nQ 5.515625 13.8125 5.515625 26.8125 \nQ 5.515625 40.234375 12.765625 48.109375 \nQ 20.015625 56 32.328125 56 \nQ 43.359375 56 49.78125 48.890625 \nQ 56.203125 41.796875 56.203125 29.59375 \nz\nM 47.21875 32.234375 \nQ 47.125 39.59375 43.09375 43.984375 \nQ 39.0625 48.390625 32.421875 48.390625 \nQ 24.90625 48.390625 20.390625 44.140625 \nQ 15.875 39.890625 15.1875 32.171875 \nz\n\" id=\"DejaVuSans-101\"/>\n      </defs>\n      <use xlink:href=\"#DejaVuSans-109\"/>\n      <use x=\"97.412109\" xlink:href=\"#DejaVuSans-105\"/>\n      <use x=\"125.195312\" xlink:href=\"#DejaVuSans-99\"/>\n      <use x=\"180.175781\" xlink:href=\"#DejaVuSans-114\"/>\n      <use x=\"219.039062\" xlink:href=\"#DejaVuSans-111\"/>\n      <use x=\"280.220703\" xlink:href=\"#DejaVuSans-95\"/>\n      <use x=\"330.220703\" xlink:href=\"#DejaVuSans-97\"/>\n      <use x=\"391.5\" xlink:href=\"#DejaVuSans-118\"/>\n      <use x=\"450.679688\" xlink:href=\"#DejaVuSans-103\"/>\n      <use x=\"514.15625\" xlink:href=\"#DejaVuSans-95\"/>\n      <use x=\"564.15625\" xlink:href=\"#DejaVuSans-114\"/>\n      <use x=\"603.019531\" xlink:href=\"#DejaVuSans-101\"/>\n      <use x=\"664.542969\" xlink:href=\"#DejaVuSans-99\"/>\n     </g>\n    </g>\n   </g>\n   <g id=\"matplotlib.axis_2\">\n    <g id=\"ytick_1\">\n     <g id=\"line2d_7\">\n      <defs>\n       <path d=\"M 0 0 \nL -3.5 0 \n\" id=\"m811ecb12bb\" style=\"stroke:#000000;stroke-width:0.8;\"/>\n      </defs>\n      <g>\n       <use style=\"stroke:#000000;stroke-width:0.8;\" x=\"56.784375\" xlink:href=\"#m811ecb12bb\" y=\"214.4928\"/>\n      </g>\n     </g>\n     <g id=\"text_8\">\n      <!-- 0.988 -->\n      <g transform=\"translate(21.15625 218.292019)scale(0.1 -0.1)\">\n       <defs>\n        <path d=\"M 10.984375 1.515625 \nL 10.984375 10.5 \nQ 14.703125 8.734375 18.5 7.8125 \nQ 22.3125 6.890625 25.984375 6.890625 \nQ 35.75 6.890625 40.890625 13.453125 \nQ 46.046875 20.015625 46.78125 33.40625 \nQ 43.953125 29.203125 39.59375 26.953125 \nQ 35.25 24.703125 29.984375 24.703125 \nQ 19.046875 24.703125 12.671875 31.3125 \nQ 6.296875 37.9375 6.296875 49.421875 \nQ 6.296875 60.640625 12.9375 67.421875 \nQ 19.578125 74.21875 30.609375 74.21875 \nQ 43.265625 74.21875 49.921875 64.515625 \nQ 56.59375 54.828125 56.59375 36.375 \nQ 56.59375 19.140625 48.40625 8.859375 \nQ 40.234375 -1.421875 26.421875 -1.421875 \nQ 22.703125 -1.421875 18.890625 -0.6875 \nQ 15.09375 0.046875 10.984375 1.515625 \nz\nM 30.609375 32.421875 \nQ 37.25 32.421875 41.125 36.953125 \nQ 45.015625 41.5 45.015625 49.421875 \nQ 45.015625 57.28125 41.125 61.84375 \nQ 37.25 66.40625 30.609375 66.40625 \nQ 23.96875 66.40625 20.09375 61.84375 \nQ 16.21875 57.28125 16.21875 49.421875 \nQ 16.21875 41.5 20.09375 36.953125 \nQ 23.96875 32.421875 30.609375 32.421875 \nz\n\" id=\"DejaVuSans-57\"/>\n       </defs>\n       <use xlink:href=\"#DejaVuSans-48\"/>\n       <use x=\"63.623047\" xlink:href=\"#DejaVuSans-46\"/>\n       <use x=\"95.410156\" xlink:href=\"#DejaVuSans-57\"/>\n       <use x=\"159.033203\" xlink:href=\"#DejaVuSans-56\"/>\n       <use x=\"222.65625\" xlink:href=\"#DejaVuSans-56\"/>\n      </g>\n     </g>\n    </g>\n    <g id=\"ytick_2\">\n     <g id=\"line2d_8\">\n      <g>\n       <use style=\"stroke:#000000;stroke-width:0.8;\" x=\"56.784375\" xlink:href=\"#m811ecb12bb\" y=\"181.591273\"/>\n      </g>\n     </g>\n     <g id=\"text_9\">\n      <!-- 0.990 -->\n      <g transform=\"translate(21.15625 185.390491)scale(0.1 -0.1)\">\n       <use xlink:href=\"#DejaVuSans-48\"/>\n       <use x=\"63.623047\" xlink:href=\"#DejaVuSans-46\"/>\n       <use x=\"95.410156\" xlink:href=\"#DejaVuSans-57\"/>\n       <use x=\"159.033203\" xlink:href=\"#DejaVuSans-57\"/>\n       <use x=\"222.65625\" xlink:href=\"#DejaVuSans-48\"/>\n      </g>\n     </g>\n    </g>\n    <g id=\"ytick_3\">\n     <g id=\"line2d_9\">\n      <g>\n       <use style=\"stroke:#000000;stroke-width:0.8;\" x=\"56.784375\" xlink:href=\"#m811ecb12bb\" y=\"148.689745\"/>\n      </g>\n     </g>\n     <g id=\"text_10\">\n      <!-- 0.992 -->\n      <g transform=\"translate(21.15625 152.488964)scale(0.1 -0.1)\">\n       <use xlink:href=\"#DejaVuSans-48\"/>\n       <use x=\"63.623047\" xlink:href=\"#DejaVuSans-46\"/>\n       <use x=\"95.410156\" xlink:href=\"#DejaVuSans-57\"/>\n       <use x=\"159.033203\" xlink:href=\"#DejaVuSans-57\"/>\n       <use x=\"222.65625\" xlink:href=\"#DejaVuSans-50\"/>\n      </g>\n     </g>\n    </g>\n    <g id=\"ytick_4\">\n     <g id=\"line2d_10\">\n      <g>\n       <use style=\"stroke:#000000;stroke-width:0.8;\" x=\"56.784375\" xlink:href=\"#m811ecb12bb\" y=\"115.788218\"/>\n      </g>\n     </g>\n     <g id=\"text_11\">\n      <!-- 0.994 -->\n      <g transform=\"translate(21.15625 119.587437)scale(0.1 -0.1)\">\n       <use xlink:href=\"#DejaVuSans-48\"/>\n       <use x=\"63.623047\" xlink:href=\"#DejaVuSans-46\"/>\n       <use x=\"95.410156\" xlink:href=\"#DejaVuSans-57\"/>\n       <use x=\"159.033203\" xlink:href=\"#DejaVuSans-57\"/>\n       <use x=\"222.65625\" xlink:href=\"#DejaVuSans-52\"/>\n      </g>\n     </g>\n    </g>\n    <g id=\"ytick_5\">\n     <g id=\"line2d_11\">\n      <g>\n       <use style=\"stroke:#000000;stroke-width:0.8;\" x=\"56.784375\" xlink:href=\"#m811ecb12bb\" y=\"82.886691\"/>\n      </g>\n     </g>\n     <g id=\"text_12\">\n      <!-- 0.996 -->\n      <g transform=\"translate(21.15625 86.68591)scale(0.1 -0.1)\">\n       <use xlink:href=\"#DejaVuSans-48\"/>\n       <use x=\"63.623047\" xlink:href=\"#DejaVuSans-46\"/>\n       <use x=\"95.410156\" xlink:href=\"#DejaVuSans-57\"/>\n       <use x=\"159.033203\" xlink:href=\"#DejaVuSans-57\"/>\n       <use x=\"222.65625\" xlink:href=\"#DejaVuSans-54\"/>\n      </g>\n     </g>\n    </g>\n    <g id=\"ytick_6\">\n     <g id=\"line2d_12\">\n      <g>\n       <use style=\"stroke:#000000;stroke-width:0.8;\" x=\"56.784375\" xlink:href=\"#m811ecb12bb\" y=\"49.985164\"/>\n      </g>\n     </g>\n     <g id=\"text_13\">\n      <!-- 0.998 -->\n      <g transform=\"translate(21.15625 53.784382)scale(0.1 -0.1)\">\n       <use xlink:href=\"#DejaVuSans-48\"/>\n       <use x=\"63.623047\" xlink:href=\"#DejaVuSans-46\"/>\n       <use x=\"95.410156\" xlink:href=\"#DejaVuSans-57\"/>\n       <use x=\"159.033203\" xlink:href=\"#DejaVuSans-57\"/>\n       <use x=\"222.65625\" xlink:href=\"#DejaVuSans-56\"/>\n      </g>\n     </g>\n    </g>\n    <g id=\"ytick_7\">\n     <g id=\"line2d_13\">\n      <g>\n       <use style=\"stroke:#000000;stroke-width:0.8;\" x=\"56.784375\" xlink:href=\"#m811ecb12bb\" y=\"17.083636\"/>\n      </g>\n     </g>\n     <g id=\"text_14\">\n      <!-- 1.000 -->\n      <g transform=\"translate(21.15625 20.882855)scale(0.1 -0.1)\">\n       <use xlink:href=\"#DejaVuSans-49\"/>\n       <use x=\"63.623047\" xlink:href=\"#DejaVuSans-46\"/>\n       <use x=\"95.410156\" xlink:href=\"#DejaVuSans-48\"/>\n       <use x=\"159.033203\" xlink:href=\"#DejaVuSans-48\"/>\n       <use x=\"222.65625\" xlink:href=\"#DejaVuSans-48\"/>\n      </g>\n     </g>\n    </g>\n    <g id=\"text_15\">\n     <!-- micro_avg_prec -->\n     <g transform=\"translate(14.798438 155.071563)rotate(-90)scale(0.1 -0.1)\">\n      <defs>\n       <path d=\"M 18.109375 8.203125 \nL 18.109375 -20.796875 \nL 9.078125 -20.796875 \nL 9.078125 54.6875 \nL 18.109375 54.6875 \nL 18.109375 46.390625 \nQ 20.953125 51.265625 25.265625 53.625 \nQ 29.59375 56 35.59375 56 \nQ 45.5625 56 51.78125 48.09375 \nQ 58.015625 40.1875 58.015625 27.296875 \nQ 58.015625 14.40625 51.78125 6.484375 \nQ 45.5625 -1.421875 35.59375 -1.421875 \nQ 29.59375 -1.421875 25.265625 0.953125 \nQ 20.953125 3.328125 18.109375 8.203125 \nz\nM 48.6875 27.296875 \nQ 48.6875 37.203125 44.609375 42.84375 \nQ 40.53125 48.484375 33.40625 48.484375 \nQ 26.265625 48.484375 22.1875 42.84375 \nQ 18.109375 37.203125 18.109375 27.296875 \nQ 18.109375 17.390625 22.1875 11.75 \nQ 26.265625 6.109375 33.40625 6.109375 \nQ 40.53125 6.109375 44.609375 11.75 \nQ 48.6875 17.390625 48.6875 27.296875 \nz\n\" id=\"DejaVuSans-112\"/>\n      </defs>\n      <use xlink:href=\"#DejaVuSans-109\"/>\n      <use x=\"97.412109\" xlink:href=\"#DejaVuSans-105\"/>\n      <use x=\"125.195312\" xlink:href=\"#DejaVuSans-99\"/>\n      <use x=\"180.175781\" xlink:href=\"#DejaVuSans-114\"/>\n      <use x=\"219.039062\" xlink:href=\"#DejaVuSans-111\"/>\n      <use x=\"280.220703\" xlink:href=\"#DejaVuSans-95\"/>\n      <use x=\"330.220703\" xlink:href=\"#DejaVuSans-97\"/>\n      <use x=\"391.5\" xlink:href=\"#DejaVuSans-118\"/>\n      <use x=\"450.679688\" xlink:href=\"#DejaVuSans-103\"/>\n      <use x=\"514.15625\" xlink:href=\"#DejaVuSans-95\"/>\n      <use x=\"564.15625\" xlink:href=\"#DejaVuSans-112\"/>\n      <use x=\"627.632812\" xlink:href=\"#DejaVuSans-114\"/>\n      <use x=\"666.496094\" xlink:href=\"#DejaVuSans-101\"/>\n      <use x=\"728.019531\" xlink:href=\"#DejaVuSans-99\"/>\n     </g>\n    </g>\n   </g>\n   <g id=\"line2d_14\">\n    <path clip-path=\"url(#p11da6ac3d2)\" d=\"M 72.002557 17.083636 \nL 72.002557 17.083636 \nL 72.002557 17.083636 \nL 72.002557 17.083636 \nL 72.002557 17.083636 \nL 72.002557 17.083636 \nL 72.002557 17.083636 \nL 72.413304 17.083636 \nL 72.413304 17.083636 \nL 77.753017 17.083636 \nL 80.2175 17.083636 \nL 80.628247 17.083636 \nL 81.449741 17.083636 \nL 82.681983 17.083636 \nL 148.401526 17.083636 \nL 149.223021 17.083636 \nL 150.866009 17.083636 \nL 211.24584 17.083636 \nL 218.228541 17.083636 \nL 225.62199 17.083636 \nL 230.961703 17.083636 \nL 237.533657 17.083636 \nL 253.552796 17.083636 \nL 256.017279 17.083636 \nL 256.838773 17.083636 \nL 257.24952 17.083636 \nL 301.199465 46.46 \nL 302.020959 46.355458 \nL 336.52372 42.549215 \nL 337.345214 42.470617 \nL 338.988203 67.468824 \nL 343.917169 91.186175 \nL 345.14941 90.853877 \nL 346.792399 90.415421 \nL 346.792399 90.415421 \nL 353.7751 88.608696 \nL 354.185847 88.505186 \nL 354.185847 88.505186 \nL 370.615733 106.97852 \nL 370.615733 106.97852 \nL 370.615733 129.298941 \nL 371.02648 129.146059 \nL 371.02648 129.146059 \nL 371.02648 151.375584 \nL 371.02648 151.375584 \nL 371.02648 151.375584 \nL 371.02648 151.375584 \nL 371.02648 151.375584 \nL 371.02648 151.375584 \nL 375.544699 214.756364 \nL 375.544699 214.756364 \nL 375.544699 214.756364 \nL 375.544699 214.756364 \nL 375.955446 214.4928 \nL 375.955446 214.4928 \nL 375.955446 214.4928 \nL 375.955446 214.4928 \nL 375.955446 214.4928 \nL 375.955446 214.4928 \nL 375.955446 214.4928 \nL 375.955446 214.4928 \nL 375.955446 214.4928 \nL 376.366193 214.229938 \nL 376.366193 214.229938 \nL 376.366193 214.229938 \nL 376.366193 214.229938 \nL 376.366193 214.229938 \nL 376.366193 214.229938 \nL 376.366193 214.229938 \nL 376.366193 214.229938 \nL 376.366193 214.229938 \nL 376.366193 214.229938 \nL 376.366193 214.229938 \nL 376.366193 214.229938 \nL 376.366193 214.229938 \nL 376.366193 214.229938 \nL 376.366193 214.229938 \nL 376.366193 214.229938 \nL 376.366193 214.229938 \nL 376.366193 214.229938 \nL 376.366193 214.229938 \nL 376.366193 214.229938 \nL 376.366193 214.229938 \nL 376.366193 214.229938 \nL 376.366193 214.229938 \n\" style=\"fill:none;stroke:#1f77b4;stroke-linecap:square;stroke-width:1.5;\"/>\n   </g>\n   <g id=\"patch_3\">\n    <path d=\"M 56.784375 224.64 \nL 56.784375 7.2 \n\" style=\"fill:none;stroke:#000000;stroke-linecap:square;stroke-linejoin:miter;stroke-width:0.8;\"/>\n   </g>\n   <g id=\"patch_4\">\n    <path d=\"M 391.584375 224.64 \nL 391.584375 7.2 \n\" style=\"fill:none;stroke:#000000;stroke-linecap:square;stroke-linejoin:miter;stroke-width:0.8;\"/>\n   </g>\n   <g id=\"patch_5\">\n    <path d=\"M 56.784375 224.64 \nL 391.584375 224.64 \n\" style=\"fill:none;stroke:#000000;stroke-linecap:square;stroke-linejoin:miter;stroke-width:0.8;\"/>\n   </g>\n   <g id=\"patch_6\">\n    <path d=\"M 56.784375 7.2 \nL 391.584375 7.2 \n\" style=\"fill:none;stroke:#000000;stroke-linecap:square;stroke-linejoin:miter;stroke-width:0.8;\"/>\n   </g>\n  </g>\n </g>\n <defs>\n  <clipPath id=\"p11da6ac3d2\">\n   <rect height=\"217.44\" width=\"334.8\" x=\"56.784375\" y=\"7.2\"/>\n  </clipPath>\n </defs>\n</svg>\n",
      "image/png": "[encoded data removed]"
     },
     "metadata": {
      "needs_background": "light"
     }
    }
   ],
   "source": [
    "th_rec_prec = ths_prec.merge(ths_rec)\n",
    "plt.plot(th_rec_prec[\"micro_avg_rec\"], th_rec_prec[\"micro_avg_prec\"])\n",
    "plt.xlabel(\"micro_avg_rec\")\n",
    "plt.ylabel(\"micro_avg_prec\")"
   ]
  },
  {
   "source": [
    "Unfortunately, lowering threshold introduces false positives."
   ],
   "cell_type": "markdown",
   "metadata": {}
  },
  {
   "cell_type": "code",
   "execution_count": 39,
   "metadata": {},
   "outputs": [
    {
     "output_type": "execute_result",
     "data": {
      "text/plain": [
       "    th_offset  micro_avg_prec  micro_avg_rec\n",
       "24          1        1.000000       0.605369\n",
       "25          0        1.000000       0.606711\n",
       "26         -1        0.998214       0.750336\n",
       "27         -2        0.998221       0.753020"
      ],
      "text/html": "<div>\n<style scoped>\n    .dataframe tbody tr th:only-of-type {\n        vertical-align: middle;\n    }\n\n    .dataframe tbody tr th {\n        vertical-align: top;\n    }\n\n    .dataframe thead th {\n        text-align: right;\n    }\n</style>\n<table border=\"1\" class=\"dataframe\">\n  <thead>\n    <tr style=\"text-align: right;\">\n      <th></th>\n      <th>th_offset</th>\n      <th>micro_avg_prec</th>\n      <th>micro_avg_rec</th>\n    </tr>\n  </thead>\n  <tbody>\n    <tr>\n      <th>24</th>\n      <td>1</td>\n      <td>1.000000</td>\n      <td>0.605369</td>\n    </tr>\n    <tr>\n      <th>25</th>\n      <td>0</td>\n      <td>1.000000</td>\n      <td>0.606711</td>\n    </tr>\n    <tr>\n      <th>26</th>\n      <td>-1</td>\n      <td>0.998214</td>\n      <td>0.750336</td>\n    </tr>\n    <tr>\n      <th>27</th>\n      <td>-2</td>\n      <td>0.998221</td>\n      <td>0.753020</td>\n    </tr>\n  </tbody>\n</table>\n</div>"
     },
     "metadata": {},
     "execution_count": 39
    }
   ],
   "source": [
    "th_rec_prec[24:28]"
   ]
  },
  {
   "source": [
    "## Quick overview over the linear dependencies"
   ],
   "cell_type": "markdown",
   "metadata": {}
  },
  {
   "cell_type": "code",
   "execution_count": 40,
   "metadata": {
    "tags": []
   },
   "outputs": [],
   "source": [
    "def list2dict(row):\n",
    "    dic = {}\n",
    "    #dic[\"name\"] = row[\"name\"] \n",
    "    #dic[\"cd_name\"] = row[\"cd_name\"] \n",
    "    \n",
    "    if not row[\"comparison_vec\"]:\n",
    "        return\n",
    "    dic[\"prop_count\"] = row[\"prop_count\"]\n",
    "    for el in row[\"comparison_vec\"]:\n",
    "        dic[el[\"id\"]] = el[\"value\"]\n",
    "        \n",
    "\n",
    "    return dic\n",
    "\n",
    "comparison_dicts =  cd_table_full.apply(lambda x: list2dict(x), axis=1)#.to_list()\n",
    "comparison_vecs = pandas.DataFrame(comparison_dicts[~comparison_dicts.isna()].to_list())#.assign(match = cd_table_full[\"match\"].astype"
   ]
  },
  {
   "source": [
    "As one may expect, the date of birth contribute strongest to the decision, followed by the name (found in \"all_labels\"). This rather low contribution of the name results from the bias introduced by the search beforhand, which queried the name."
   ],
   "cell_type": "markdown",
   "metadata": {}
  },
  {
   "cell_type": "code",
   "execution_count": 41,
   "metadata": {},
   "outputs": [
    {
     "output_type": "execute_result",
     "data": {
      "text/plain": [
       "   prop_count      P569       P19          P968      P735      P734  P856  \\\n",
       "0   -1.947187  0.889649  0.067192 -1.387779e-17  0.001786 -0.004953   0.0   \n",
       "\n",
       "   all_labels      P512  \n",
       "0    0.247095 -0.022353  "
      ],
      "text/html": "<div>\n<style scoped>\n    .dataframe tbody tr th:only-of-type {\n        vertical-align: middle;\n    }\n\n    .dataframe tbody tr th {\n        vertical-align: top;\n    }\n\n    .dataframe thead th {\n        text-align: right;\n    }\n</style>\n<table border=\"1\" class=\"dataframe\">\n  <thead>\n    <tr style=\"text-align: right;\">\n      <th></th>\n      <th>prop_count</th>\n      <th>P569</th>\n      <th>P19</th>\n      <th>P968</th>\n      <th>P735</th>\n      <th>P734</th>\n      <th>P856</th>\n      <th>all_labels</th>\n      <th>P512</th>\n    </tr>\n  </thead>\n  <tbody>\n    <tr>\n      <th>0</th>\n      <td>-1.947187</td>\n      <td>0.889649</td>\n      <td>0.067192</td>\n      <td>-1.387779e-17</td>\n      <td>0.001786</td>\n      <td>-0.004953</td>\n      <td>0.0</td>\n      <td>0.247095</td>\n      <td>-0.022353</td>\n    </tr>\n  </tbody>\n</table>\n</div>"
     },
     "metadata": {},
     "execution_count": 41
    }
   ],
   "source": [
    "lm = LinearRegression().fit(comparison_vecs.fillna(0)/100, \n",
    "        cd_table_full[\"match\"][~cd_table_full[\"comparison_vec\"].isna()])\n",
    "pandas.DataFrame(lm.coef_, index=comparison_vecs.columns).T\n"
   ]
  },
  {
   "source": [
    "# Merge Entities"
   ],
   "cell_type": "markdown",
   "metadata": {}
  },
  {
   "cell_type": "code",
   "execution_count": 17,
   "metadata": {},
   "outputs": [],
   "source": [
    "everypolitician_dicts = read_ftm_json(\"./data/output/everypolitician.json\")\n",
    "ftm_everypolitician =[model.get_proxy(entity) for entity in everypolitician_dicts] \n",
    "#if entity[\"schema\"] == \"Person\"]\n",
    "\n"
   ]
  },
  {
   "cell_type": "code",
   "execution_count": 21,
   "metadata": {},
   "outputs": [
    {
     "output_type": "execute_result",
     "data": {
      "text/plain": [
       "0         False\n",
       "1          True\n",
       "2          True\n",
       "3          True\n",
       "4          True\n",
       "          ...  \n",
       "277375    False\n",
       "277376    False\n",
       "277377     True\n",
       "277378     True\n",
       "277379     True\n",
       "Name: wikidataId, Length: 277380, dtype: bool"
      ]
     },
     "metadata": {},
     "execution_count": 21
    }
   ],
   "source": [
    "df_evplt = entity2df(ftm_everypolitician)\n",
    "df_evplt[\"wikidataId\"].duplicated()"
   ]
  },
  {
   "cell_type": "code",
   "execution_count": 28,
   "metadata": {},
   "outputs": [
    {
     "output_type": "execute_result",
     "data": {
      "text/plain": [
       "4533       Q327591\n",
       "4942       Q327591\n",
       "5743       Q327591\n",
       "7727       Q969757\n",
       "8941       Q373047\n",
       "            ...   \n",
       "276586    Q3379784\n",
       "276666    Q2934607\n",
       "276991    Q1757843\n",
       "277169      Q10691\n",
       "277180    Q3396810\n",
       "Name: wikidataId, Length: 589, dtype: object"
      ]
     },
     "metadata": {},
     "execution_count": 28
    }
   ],
   "source": [
    "df_evplt[\"wikidataId\"][~df_evplt[\"wikidataId\"].isna()][df_evplt[\"wikidataId\"][~df_evplt[\"wikidataId\"].isna()].duplicated()]"
   ]
  },
  {
   "cell_type": "code",
   "execution_count": 32,
   "metadata": {},
   "outputs": [],
   "source": [
    "a = df_evplt[df_evplt[\"id\"] == \"2e685fde839d0217b1ac6455d406e9aef6991da9\"]"
   ]
  },
  {
   "cell_type": "code",
   "execution_count": 55,
   "metadata": {},
   "outputs": [],
   "source": [
    "intersection = clean_person_df[np.in1d(clean_person_df[\"wikidata\"],df_evplt[\"wikidataId\"])]"
   ]
  },
  {
   "cell_type": "code",
   "execution_count": 56,
   "metadata": {},
   "outputs": [
    {
     "output_type": "execute_result",
     "data": {
      "text/plain": [
       "                                           id   birthDate  \\\n",
       "8    034bf9079555c4722e42de16b6b0c9dc3bef12ca  1981-10-16   \n",
       "12   0481dce38b1207403942d8bdfe7c21fea65c422b  1985-03-19   \n",
       "17   05f306ebe8d37ce924b72b1520cff592093907c4  1976-02-27   \n",
       "24   079f985b4d42a1f0c710b529f5d237007f1ee569  1966-01-04   \n",
       "27   07ec13b200e35f2ab851c3853b897102d745d90a  1967-08-21   \n",
       "..                                        ...         ...   \n",
       "698  e91ee97e5e74be32acf69dce1d2b423bb84e772c  1956-10-07   \n",
       "699  e929bcf4f4571033026213714b7733d6d432aa33  1961-10-14   \n",
       "734  f3ed38b4bc091f39b1596232109b73149f0e4af3  1968-06-19   \n",
       "738  f6311c1d51c86d3ec3c8b9438d0092cfcb4cfe96  1956-01-28   \n",
       "752  f95f06b8a4448f5c694a150c88d7ea8e2733f890  1960-01-02   \n",
       "\n",
       "                        birthPlace country                            email  \\\n",
       "8                     Kulu, Türkei      at       dialogbuero.wien@gruene.at   \n",
       "12                             Rum      at            sigi.maurer@gruene.at   \n",
       "17                        Salzburg      at            conny.ecker@gmail.com   \n",
       "24                        Friesach      at             kassegger@bloomix.at   \n",
       "27               Lang (Steiermark)      at  josef.muchitsch@parlament.gv.at   \n",
       "..                             ...     ...                              ...   \n",
       "698                           Wien      at         johannes.huebner@fpoe.at   \n",
       "699  St. Pölten (Niederösterreich)      at  wolfgang.gerstl@parlament.gv.at   \n",
       "734                 Waidhofen/Ybbs      at           mail@andreas-hanger.at   \n",
       "738                           Wien      at      ruth.becher@parlament.gv.at   \n",
       "752                       Salzburg      at    peter.haubner@parlament.gv.at   \n",
       "\n",
       "         firstName   lastName                 name  \\\n",
       "8    Aygül Berîvan      Aslan  Aygül Berîvan Aslan   \n",
       "12          Sigrid     Maurer        Sigrid Maurer   \n",
       "17        Cornelia      Ecker       Cornelia Ecker   \n",
       "24            Axel  Kassegger       Axel Kassegger   \n",
       "27           Josef  Muchitsch      Josef Muchitsch   \n",
       "..             ...        ...                  ...   \n",
       "698       Johannes     Hübner      Johannes Hübner   \n",
       "699       Wolfgang     Gerstl      Wolfgang Gerstl   \n",
       "734        Andreas     Hanger       Andreas Hanger   \n",
       "738           Ruth     Becher          Ruth Becher   \n",
       "752          Peter    Haubner        Peter Haubner   \n",
       "\n",
       "                                             sourceUrl  \\\n",
       "8    https://www.meineabgeordneten.at/Abgeordnete/A...   \n",
       "12   https://www.meineabgeordneten.at/Abgeordnete/S...   \n",
       "17   https://www.meineabgeordneten.at/Abgeordnete/C...   \n",
       "24   https://www.meineabgeordneten.at/Abgeordnete/A...   \n",
       "27   https://www.meineabgeordneten.at/Abgeordnete/J...   \n",
       "..                                                 ...   \n",
       "698  https://www.meineabgeordneten.at/Abgeordnete/J...   \n",
       "699  https://www.meineabgeordneten.at/Abgeordnete/W...   \n",
       "734  https://www.meineabgeordneten.at/Abgeordnete/A...   \n",
       "738  https://www.meineabgeordneten.at/Abgeordnete/R...   \n",
       "752  https://www.meineabgeordneten.at/Abgeordnete/P...   \n",
       "\n",
       "                                               summary  \\\n",
       "8    [Österreichische Gesellschaft zur Förderung de...   \n",
       "12                         Abgeordnete zum Nationalrat   \n",
       "17   [Mitglied der Gemeindevertretung, Jugend am We...   \n",
       "24   [Holding Graz-Kommunale Dienstleistungen GmbH,...   \n",
       "27   [BUAK Betriebliche Vorsorgekasse GesmbH, Abgeo...   \n",
       "..                                                 ...   \n",
       "698  [PHB Immobilienverwertungsgesellschaft m.b.H.,...   \n",
       "699  [Österreichische Blindenwohlfahrt, Abgeordnete...   \n",
       "734  [Wirtschaftspark Ybbstal GmbH, Österreichische...   \n",
       "738  [Verein Donaustädter Sport- und Kulturwochen, ...   \n",
       "752  [Club der Salzburger in Wien, kurz \"Club Salzb...   \n",
       "\n",
       "                                               website       title   wikidata  \n",
       "8    [https://www.instagram.com/berivan_aslan/, htt...       Mag.a  Q15792244  \n",
       "12   [https://www.facebook.com/sigrid.maurer, https...         NaN   Q1618939  \n",
       "17   [https://www.facebook.com/conny.ecker.spoe, ht...         NaN  Q15616501  \n",
       "24   https://www.facebook.com/profile.php?id=100010...  MMMag. Dr.  Q15784856  \n",
       "27   [https://twitter.com/JosefMuchitsch, https://w...         NaN   Q1705321  \n",
       "..                                                 ...         ...        ...  \n",
       "698                                                NaN         Dr.   Q1522895  \n",
       "699  [https://www.facebook.com/wgerstl/, https://tw...        Mag.   Q2589687  \n",
       "734  [https://www.instagram.com/andreas_hanger/, ht...        Mag.  Q15783312  \n",
       "738                                                NaN       Mag.a   Q2177565  \n",
       "752     https://www.facebook.com/PeterHaubnerSalzburg/         NaN   Q2075504  \n",
       "\n",
       "[77 rows x 13 columns]"
      ],
      "text/html": "<div>\n<style scoped>\n    .dataframe tbody tr th:only-of-type {\n        vertical-align: middle;\n    }\n\n    .dataframe tbody tr th {\n        vertical-align: top;\n    }\n\n    .dataframe thead th {\n        text-align: right;\n    }\n</style>\n<table border=\"1\" class=\"dataframe\">\n  <thead>\n    <tr style=\"text-align: right;\">\n      <th></th>\n      <th>id</th>\n      <th>birthDate</th>\n      <th>birthPlace</th>\n      <th>country</th>\n      <th>email</th>\n      <th>firstName</th>\n      <th>lastName</th>\n      <th>name</th>\n      <th>sourceUrl</th>\n      <th>summary</th>\n      <th>website</th>\n      <th>title</th>\n      <th>wikidata</th>\n    </tr>\n  </thead>\n  <tbody>\n    <tr>\n      <th>8</th>\n      <td>034bf9079555c4722e42de16b6b0c9dc3bef12ca</td>\n      <td>1981-10-16</td>\n      <td>Kulu, Türkei</td>\n      <td>at</td>\n      <td>dialogbuero.wien@gruene.at</td>\n      <td>Aygül Berîvan</td>\n      <td>Aslan</td>\n      <td>Aygül Berîvan Aslan</td>\n      <td>https://www.meineabgeordneten.at/Abgeordnete/A...</td>\n      <td>[Österreichische Gesellschaft zur Förderung de...</td>\n      <td>[https://www.instagram.com/berivan_aslan/, htt...</td>\n      <td>Mag.a</td>\n      <td>Q15792244</td>\n    </tr>\n    <tr>\n      <th>12</th>\n      <td>0481dce38b1207403942d8bdfe7c21fea65c422b</td>\n      <td>1985-03-19</td>\n      <td>Rum</td>\n      <td>at</td>\n      <td>sigi.maurer@gruene.at</td>\n      <td>Sigrid</td>\n      <td>Maurer</td>\n      <td>Sigrid Maurer</td>\n      <td>https://www.meineabgeordneten.at/Abgeordnete/S...</td>\n      <td>Abgeordnete zum Nationalrat</td>\n      <td>[https://www.facebook.com/sigrid.maurer, https...</td>\n      <td>NaN</td>\n      <td>Q1618939</td>\n    </tr>\n    <tr>\n      <th>17</th>\n      <td>05f306ebe8d37ce924b72b1520cff592093907c4</td>\n      <td>1976-02-27</td>\n      <td>Salzburg</td>\n      <td>at</td>\n      <td>conny.ecker@gmail.com</td>\n      <td>Cornelia</td>\n      <td>Ecker</td>\n      <td>Cornelia Ecker</td>\n      <td>https://www.meineabgeordneten.at/Abgeordnete/C...</td>\n      <td>[Mitglied der Gemeindevertretung, Jugend am We...</td>\n      <td>[https://www.facebook.com/conny.ecker.spoe, ht...</td>\n      <td>NaN</td>\n      <td>Q15616501</td>\n    </tr>\n    <tr>\n      <th>24</th>\n      <td>079f985b4d42a1f0c710b529f5d237007f1ee569</td>\n      <td>1966-01-04</td>\n      <td>Friesach</td>\n      <td>at</td>\n      <td>kassegger@bloomix.at</td>\n      <td>Axel</td>\n      <td>Kassegger</td>\n      <td>Axel Kassegger</td>\n      <td>https://www.meineabgeordneten.at/Abgeordnete/A...</td>\n      <td>[Holding Graz-Kommunale Dienstleistungen GmbH,...</td>\n      <td>https://www.facebook.com/profile.php?id=100010...</td>\n      <td>MMMag. Dr.</td>\n      <td>Q15784856</td>\n    </tr>\n    <tr>\n      <th>27</th>\n      <td>07ec13b200e35f2ab851c3853b897102d745d90a</td>\n      <td>1967-08-21</td>\n      <td>Lang (Steiermark)</td>\n      <td>at</td>\n      <td>josef.muchitsch@parlament.gv.at</td>\n      <td>Josef</td>\n      <td>Muchitsch</td>\n      <td>Josef Muchitsch</td>\n      <td>https://www.meineabgeordneten.at/Abgeordnete/J...</td>\n      <td>[BUAK Betriebliche Vorsorgekasse GesmbH, Abgeo...</td>\n      <td>[https://twitter.com/JosefMuchitsch, https://w...</td>\n      <td>NaN</td>\n      <td>Q1705321</td>\n    </tr>\n    <tr>\n      <th>...</th>\n      <td>...</td>\n      <td>...</td>\n      <td>...</td>\n      <td>...</td>\n      <td>...</td>\n      <td>...</td>\n      <td>...</td>\n      <td>...</td>\n      <td>...</td>\n      <td>...</td>\n      <td>...</td>\n      <td>...</td>\n      <td>...</td>\n    </tr>\n    <tr>\n      <th>698</th>\n      <td>e91ee97e5e74be32acf69dce1d2b423bb84e772c</td>\n      <td>1956-10-07</td>\n      <td>Wien</td>\n      <td>at</td>\n      <td>johannes.huebner@fpoe.at</td>\n      <td>Johannes</td>\n      <td>Hübner</td>\n      <td>Johannes Hübner</td>\n      <td>https://www.meineabgeordneten.at/Abgeordnete/J...</td>\n      <td>[PHB Immobilienverwertungsgesellschaft m.b.H.,...</td>\n      <td>NaN</td>\n      <td>Dr.</td>\n      <td>Q1522895</td>\n    </tr>\n    <tr>\n      <th>699</th>\n      <td>e929bcf4f4571033026213714b7733d6d432aa33</td>\n      <td>1961-10-14</td>\n      <td>St. Pölten (Niederösterreich)</td>\n      <td>at</td>\n      <td>wolfgang.gerstl@parlament.gv.at</td>\n      <td>Wolfgang</td>\n      <td>Gerstl</td>\n      <td>Wolfgang Gerstl</td>\n      <td>https://www.meineabgeordneten.at/Abgeordnete/W...</td>\n      <td>[Österreichische Blindenwohlfahrt, Abgeordnete...</td>\n      <td>[https://www.facebook.com/wgerstl/, https://tw...</td>\n      <td>Mag.</td>\n      <td>Q2589687</td>\n    </tr>\n    <tr>\n      <th>734</th>\n      <td>f3ed38b4bc091f39b1596232109b73149f0e4af3</td>\n      <td>1968-06-19</td>\n      <td>Waidhofen/Ybbs</td>\n      <td>at</td>\n      <td>mail@andreas-hanger.at</td>\n      <td>Andreas</td>\n      <td>Hanger</td>\n      <td>Andreas Hanger</td>\n      <td>https://www.meineabgeordneten.at/Abgeordnete/A...</td>\n      <td>[Wirtschaftspark Ybbstal GmbH, Österreichische...</td>\n      <td>[https://www.instagram.com/andreas_hanger/, ht...</td>\n      <td>Mag.</td>\n      <td>Q15783312</td>\n    </tr>\n    <tr>\n      <th>738</th>\n      <td>f6311c1d51c86d3ec3c8b9438d0092cfcb4cfe96</td>\n      <td>1956-01-28</td>\n      <td>Wien</td>\n      <td>at</td>\n      <td>ruth.becher@parlament.gv.at</td>\n      <td>Ruth</td>\n      <td>Becher</td>\n      <td>Ruth Becher</td>\n      <td>https://www.meineabgeordneten.at/Abgeordnete/R...</td>\n      <td>[Verein Donaustädter Sport- und Kulturwochen, ...</td>\n      <td>NaN</td>\n      <td>Mag.a</td>\n      <td>Q2177565</td>\n    </tr>\n    <tr>\n      <th>752</th>\n      <td>f95f06b8a4448f5c694a150c88d7ea8e2733f890</td>\n      <td>1960-01-02</td>\n      <td>Salzburg</td>\n      <td>at</td>\n      <td>peter.haubner@parlament.gv.at</td>\n      <td>Peter</td>\n      <td>Haubner</td>\n      <td>Peter Haubner</td>\n      <td>https://www.meineabgeordneten.at/Abgeordnete/P...</td>\n      <td>[Club der Salzburger in Wien, kurz \"Club Salzb...</td>\n      <td>https://www.facebook.com/PeterHaubnerSalzburg/</td>\n      <td>NaN</td>\n      <td>Q2075504</td>\n    </tr>\n  </tbody>\n</table>\n<p>77 rows × 13 columns</p>\n</div>"
     },
     "metadata": {},
     "execution_count": 56
    }
   ],
   "source": [
    "intersection"
   ]
  },
  {
   "cell_type": "code",
   "execution_count": 62,
   "metadata": {},
   "outputs": [],
   "source": [
    "import followthemoney.dedupe as dedupe\n",
    "match = dedupe.Match(ftm.model, {})"
   ]
  },
  {
   "cell_type": "code",
   "execution_count": 770,
   "metadata": {},
   "outputs": [],
   "source": [
    "response = requests.get(suggest_endpoint.geturl() + \"/type\" + \"?prefix=entity\" )"
   ]
  },
  {
   "cell_type": "code",
   "execution_count": 771,
   "metadata": {},
   "outputs": [
    {
     "output_type": "execute_result",
     "data": {
      "text/plain": [
       "b'{\"result\":[{\"description\":\"Entit\\\\u00e4t mit begrenztem Territorium, die zu administrativen Zwecken bestimmt wurde\",\"id\":\"Q56061\",\"name\":\"administrativ-territoriale Entit\\\\u00e4t\"},{\"description\":\"etwas, das existiert\",\"id\":\"Q35120\",\"name\":\"Entit\\\\u00e4t\"},{\"description\":\"Wikimedia-Begriffskl\\\\u00e4rungsseite\",\"id\":\"Q395312\",\"name\":\"Entit\\\\u00e4t\"},{\"description\":\"Album von Origin\",\"id\":\"Q3055100\",\"name\":\"Entity\"},{\"description\":\"2014 debut studio album by Oscar and the Wolf\",\"id\":\"Q63020308\",\"name\":\"Entity\"},{\"description\":\"Wikimedia-Begriffskl\\\\u00e4rungsseite\",\"id\":\"Q8776407\",\"name\":\"Entity\"},{\"description\":\"thriller von 2012\",\"id\":\"Q16991800\",\"name\":\"Entity\"}]}'"
      ]
     },
     "metadata": {},
     "execution_count": 771
    }
   ],
   "source": [
    "response.content"
   ]
  },
  {
   "cell_type": "code",
   "execution_count": 736,
   "metadata": {},
   "outputs": [],
   "source": [
    "import followthemoney_enrich as enrich"
   ]
  },
  {
   "cell_type": "code",
   "execution_count": 742,
   "metadata": {},
   "outputs": [],
   "source": [
    "wd_enrich = enrich.get_enricher(\"opencorporates\")"
   ]
  },
  {
   "cell_type": "code",
   "execution_count": 748,
   "metadata": {},
   "outputs": [],
   "source": [
    "p = enrich.AlephEnricher().convert_entity(ftm_persons)"
   ]
  },
  {
   "cell_type": "code",
   "execution_count": 750,
   "metadata": {},
   "outputs": [
    {
     "output_type": "execute_result",
     "data": {
      "text/plain": [
       "True"
      ]
     },
     "metadata": {},
     "execution_count": 750
    }
   ],
   "source": [
    "p == None"
   ]
  }
 ],
 "metadata": {
  "kernelspec": {
   "name": "python392jvsc74a57bd0bb03fd57f0abe20aaa44405faada2d45c76eeb8f5b4a3cb120ceb3cb1a26d008",
   "display_name": "Python 3.9.2 64-bit ('bachelor_thesis': conda)"
  },
  "language_info": {
   "codemirror_mode": {
    "name": "ipython",
    "version": 3
   },
   "file_extension": ".py",
   "mimetype": "text/x-python",
   "name": "python",
   "nbconvert_exporter": "python",
   "pygments_lexer": "ipython3",
   "version": "3.9.2"
  }
 },
 "nbformat": 4,
 "nbformat_minor": 5
}