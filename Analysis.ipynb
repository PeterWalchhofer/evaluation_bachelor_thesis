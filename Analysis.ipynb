{
 "cells": [
  {
   "cell_type": "code",
   "execution_count": 110,
   "metadata": {},
   "outputs": [
    {
     "output_type": "stream",
     "name": "stdout",
     "text": [
      "CPU times: user 2 µs, sys: 0 ns, total: 2 µs\nWall time: 4.53 µs\n"
     ]
    }
   ],
   "source": [
    "\n",
    "%time\n",
    "import followthemoney as ftm\n",
    "import followthemoney.model as model\n",
    "import pandas\n",
    "import json\n",
    "import numpy as np\n",
    "import math\n",
    "from urllib import parse as url_parse\n",
    "from pprint import pprint\n",
    "import matplotlib.pyplot as plt\n",
    "import sklearn\n",
    "import sklearn.metrics as metrics \n",
    "from sklearn.preprocessing import OneHotEncoder"
   ]
  },
  {
   "cell_type": "markdown",
   "metadata": {},
   "source": [
    "# Importing and preprocessing"
   ]
  },
  {
   "cell_type": "code",
   "execution_count": 2,
   "metadata": {},
   "outputs": [],
   "source": [
    "# local import for easier reproducibility \n",
    "json_path = \"./data/meineabgeordneten_3.json\"\n",
    "\n",
    "entity_dicts = []\n",
    "with open(json_path) as f:\n",
    "    for line in f:\n",
    "        entity_dicts.append(json.loads(line))"
   ]
  },
  {
   "cell_type": "code",
   "execution_count": 309,
   "metadata": {},
   "outputs": [],
   "source": [
    "person_dicts = [entity for entity in entity_dicts if entity[\"schema\"] == \"Person\"]\n",
    "ftm_proxies =[model.get_proxy(entity) for entity in entity_dicts]\n",
    "ftm_persons = [proxy for proxy in ftm_proxies if proxy.schema.name == \"Person\"]\n",
    "ftm_organizations = [proxy for proxy in ftm_proxies if proxy.schema.name == \"Organization\"]\n",
    "ftm_companies = [proxy for proxy in ftm_proxies if proxy.schema.name == \"Company\"]\n",
    "person_assignments = pandas.read_csv(\"./data/csv/new/Person_wikidata.csv\")[[\"id\", \"wikidata\"]]\n",
    "#person_assignments.where(pandas.notnull(person_assignments, None))\n",
    "#person_assignments.loc[person_assignments[\"wikidata\"] == pandas.NA] = None\n",
    "#person_assignments = person_assignments[\"wikidata\"].to_frame().loc[person_assignments[\"wikidata\"] == \"na\", pandas.NA]"
   ]
  },
  {
   "cell_type": "code",
   "execution_count": 310,
   "metadata": {},
   "outputs": [
    {
     "output_type": "execute_result",
     "data": {
      "text/plain": [
       "                                           id    wikidata\n",
       "0    00023638949ec143e690ae151d28e389574f07dc   Q51533040\n",
       "1    001d48bf2913572202d88f00e35262f490771b40   Q81526090\n",
       "2    00ad3c5b5a651f6e00080803ffefb1d306c6d027   Q20752545\n",
       "3    00def69ad3d13efe8151da80f1485a692954d183  Q102353097\n",
       "4    00e70efc17aff680e675349ca87d7b80be04c452   Q50843964\n",
       "..                                        ...         ...\n",
       "761  fcc94a122228733902b6f601abc54631aa205a4b   Q54956531\n",
       "762  fd6b5ddebf7ed34449bac5a96eb2acbdbf5e4a3e   Q84091498\n",
       "763  fdc8f2275cf8bea8331ea4a779755915d0c29363         NaN\n",
       "764  fe532c498a07fc06380579af855e68389239c43b   Q19501935\n",
       "765  fea62afd157dd3f7ec3253d21547bb3b0a6f30bf   Q81616188\n",
       "\n",
       "[766 rows x 2 columns]"
      ],
      "text/html": "<div>\n<style scoped>\n    .dataframe tbody tr th:only-of-type {\n        vertical-align: middle;\n    }\n\n    .dataframe tbody tr th {\n        vertical-align: top;\n    }\n\n    .dataframe thead th {\n        text-align: right;\n    }\n</style>\n<table border=\"1\" class=\"dataframe\">\n  <thead>\n    <tr style=\"text-align: right;\">\n      <th></th>\n      <th>id</th>\n      <th>wikidata</th>\n    </tr>\n  </thead>\n  <tbody>\n    <tr>\n      <th>0</th>\n      <td>00023638949ec143e690ae151d28e389574f07dc</td>\n      <td>Q51533040</td>\n    </tr>\n    <tr>\n      <th>1</th>\n      <td>001d48bf2913572202d88f00e35262f490771b40</td>\n      <td>Q81526090</td>\n    </tr>\n    <tr>\n      <th>2</th>\n      <td>00ad3c5b5a651f6e00080803ffefb1d306c6d027</td>\n      <td>Q20752545</td>\n    </tr>\n    <tr>\n      <th>3</th>\n      <td>00def69ad3d13efe8151da80f1485a692954d183</td>\n      <td>Q102353097</td>\n    </tr>\n    <tr>\n      <th>4</th>\n      <td>00e70efc17aff680e675349ca87d7b80be04c452</td>\n      <td>Q50843964</td>\n    </tr>\n    <tr>\n      <th>...</th>\n      <td>...</td>\n      <td>...</td>\n    </tr>\n    <tr>\n      <th>761</th>\n      <td>fcc94a122228733902b6f601abc54631aa205a4b</td>\n      <td>Q54956531</td>\n    </tr>\n    <tr>\n      <th>762</th>\n      <td>fd6b5ddebf7ed34449bac5a96eb2acbdbf5e4a3e</td>\n      <td>Q84091498</td>\n    </tr>\n    <tr>\n      <th>763</th>\n      <td>fdc8f2275cf8bea8331ea4a779755915d0c29363</td>\n      <td>NaN</td>\n    </tr>\n    <tr>\n      <th>764</th>\n      <td>fe532c498a07fc06380579af855e68389239c43b</td>\n      <td>Q19501935</td>\n    </tr>\n    <tr>\n      <th>765</th>\n      <td>fea62afd157dd3f7ec3253d21547bb3b0a6f30bf</td>\n      <td>Q81616188</td>\n    </tr>\n  </tbody>\n</table>\n<p>766 rows × 2 columns</p>\n</div>"
     },
     "metadata": {},
     "execution_count": 310
    }
   ],
   "source": [
    "person_assignments"
   ]
  },
  {
   "source": [
    "len(ftm_persons)"
   ],
   "cell_type": "code",
   "metadata": {},
   "execution_count": 56,
   "outputs": [
    {
     "output_type": "execute_result",
     "data": {
      "text/plain": [
       "766"
      ]
     },
     "metadata": {},
     "execution_count": 56
    }
   ]
  },
  {
   "source": [
    "All properties of entities are multivalued, although they mostly hold only one single value. I transform the data in order to call the API with single-valued properties."
   ],
   "cell_type": "markdown",
   "metadata": {}
  },
  {
   "cell_type": "code",
   "execution_count": 311,
   "metadata": {},
   "outputs": [],
   "source": [
    "flat_entities = []\n",
    "for entity in ftm_persons:\n",
    "    prop_dict ={}\n",
    "    for prop, val in entity.properties.items():\n",
    "        prop_dict[\"id\"] = entity.id\n",
    "        prop_dict[prop] = val[0] if len(val)== 1 else  val\n",
    "    flat_entities.append(prop_dict)\n"
   ]
  },
  {
   "cell_type": "code",
   "execution_count": 312,
   "metadata": {},
   "outputs": [
    {
     "output_type": "execute_result",
     "data": {
      "text/plain": [
       "                                           id   birthDate       birthPlace  \\\n",
       "0    00023638949ec143e690ae151d28e389574f07dc  1987-02-23        Innsbruck   \n",
       "1    001d48bf2913572202d88f00e35262f490771b40  1976-06-25  Wiener Neustadt   \n",
       "2    00ad3c5b5a651f6e00080803ffefb1d306c6d027  1971-02-27       Rottenmann   \n",
       "3    00def69ad3d13efe8151da80f1485a692954d183  1980-10-20             Wien   \n",
       "4    00e70efc17aff680e675349ca87d7b80be04c452  1970-07-10       Eisenstadt   \n",
       "..                                        ...         ...              ...   \n",
       "761  fcc94a122228733902b6f601abc54631aa205a4b  1963-01-16         Radstadt   \n",
       "762  fd6b5ddebf7ed34449bac5a96eb2acbdbf5e4a3e  1966-11-04             Wien   \n",
       "763  fdc8f2275cf8bea8331ea4a779755915d0c29363         NaN              NaN   \n",
       "764  fe532c498a07fc06380579af855e68389239c43b  1964-06-30             Graz   \n",
       "765  fea62afd157dd3f7ec3253d21547bb3b0a6f30bf  1974-12-17  Wiener Neustadt   \n",
       "\n",
       "    country                                     email        firstName  \\\n",
       "0        at                  buero.wohlgemuth@oegb.at           Philip   \n",
       "1        at           waltraud.ungersboeck@noel.gv.at         Waltraud   \n",
       "2        at                    armin.forstner@stvp.at            Armin   \n",
       "3        at                        spassfabrik@gmx.at           Silvia   \n",
       "4        at                    elvira.schmidt@spoe.at           Elvira   \n",
       "..      ...                                       ...              ...   \n",
       "761      at                  liesl.weitgasser@neos.eu        Elisabeth   \n",
       "762      at          elisabeth.trummer.spoe@gmail.com        Elisabeth   \n",
       "763      at                    daniela.schmid@ages.at          Daniela   \n",
       "764      at  andrea-michaela.schartel@parlament.gv.at  Andrea Michaela   \n",
       "765      at                        frankenhof2@gmx.at            Irene   \n",
       "\n",
       "               lastName                      name  \\\n",
       "0            Wohlgemuth         Philip Wohlgemuth   \n",
       "1            Ungersböck       Waltraud Ungersböck   \n",
       "2              Forstner            Armin Forstner   \n",
       "3                Janoch             Silvia Janoch   \n",
       "4               Schmidt            Elvira Schmidt   \n",
       "..                  ...                       ...   \n",
       "761          Weitgasser      Elisabeth Weitgasser   \n",
       "762             Trummer         Elisabeth Trummer   \n",
       "763              Schmid            Daniela Schmid   \n",
       "764            Schartel  Andrea Michaela Schartel   \n",
       "765  Neumann-Hartberger  Irene Neumann-Hartberger   \n",
       "\n",
       "                                             sourceUrl  \\\n",
       "0    https://www.meineabgeordneten.at/Abgeordnete/p...   \n",
       "1    https://www.meineabgeordneten.at/Abgeordnete/W...   \n",
       "2    https://www.meineabgeordneten.at/Abgeordnete/a...   \n",
       "3    https://www.meineabgeordneten.at/Abgeordnete/s...   \n",
       "4    https://www.meineabgeordneten.at/Abgeordnete/e...   \n",
       "..                                                 ...   \n",
       "761  https://www.meineabgeordneten.at/Abgeordnete/e...   \n",
       "762  https://www.meineabgeordneten.at/Abgeordnete/e...   \n",
       "763  https://www.meineabgeordneten.at/Abgeordnete/d...   \n",
       "764  https://www.meineabgeordneten.at/Abgeordnete/A...   \n",
       "765  https://www.meineabgeordneten.at/Abgeordnete/i...   \n",
       "\n",
       "                                               summary  \\\n",
       "0                             Abgeordneter zum Landtag   \n",
       "1    [Vizebürgermeisterin, Abgeordnete zum Landtag,...   \n",
       "2    [Regionalmanagement Bezirk Liezen, Abgeordnete...   \n",
       "3    [Schriftführerin des Wiener Landtages und Geme...   \n",
       "4    [Mitglied des Gemeinderates, Ich schaff das - ...   \n",
       "..                                                 ...   \n",
       "761  [S-berg Hotel Ges.m.b.H., Abgeordnete zum Land...   \n",
       "762  [\"Sozial- und Gesundheitsplattform Oberpullend...   \n",
       "763                                                NaN   \n",
       "764  [Österreichischer Kameradschaftsbund, Ortsverb...   \n",
       "765  [Land- und forstwirtschaftliche Boden- und Gru...   \n",
       "\n",
       "                                               website               title  \\\n",
       "0    [https://www.instagram.com/philip_wohlgemuth/,...                 NaN   \n",
       "1    [https://www.facebook.com/profile.php?id=10001...                 NaN   \n",
       "2                 https://www.facebook.com/a.forstner/                 NaN   \n",
       "3               https://www.facebook.com/silvia.janoch          Dipl.-Päd.   \n",
       "4               https://www.facebook.com/virli.schmidt                 NaN   \n",
       "..                                                 ...                 ...   \n",
       "761  [https://www.instagram.com/weitgasserliesl/, h...                 NaN   \n",
       "762          https://www.facebook.com/Trummerelisabeth                 NaN   \n",
       "763                                                NaN  Priv.-Doz.in Dr.in   \n",
       "764  [https://www.facebook.com/Andrea-Michaela-Scha...                 NaN   \n",
       "765  [https://www.facebook.com/irene.neumannhartber...                 NaN   \n",
       "\n",
       "       wikidata  \n",
       "0     Q51533040  \n",
       "1     Q81526090  \n",
       "2     Q20752545  \n",
       "3    Q102353097  \n",
       "4     Q50843964  \n",
       "..          ...  \n",
       "761   Q54956531  \n",
       "762   Q84091498  \n",
       "763         NaN  \n",
       "764   Q19501935  \n",
       "765   Q81616188  \n",
       "\n",
       "[766 rows x 13 columns]"
      ],
      "text/html": "<div>\n<style scoped>\n    .dataframe tbody tr th:only-of-type {\n        vertical-align: middle;\n    }\n\n    .dataframe tbody tr th {\n        vertical-align: top;\n    }\n\n    .dataframe thead th {\n        text-align: right;\n    }\n</style>\n<table border=\"1\" class=\"dataframe\">\n  <thead>\n    <tr style=\"text-align: right;\">\n      <th></th>\n      <th>id</th>\n      <th>birthDate</th>\n      <th>birthPlace</th>\n      <th>country</th>\n      <th>email</th>\n      <th>firstName</th>\n      <th>lastName</th>\n      <th>name</th>\n      <th>sourceUrl</th>\n      <th>summary</th>\n      <th>website</th>\n      <th>title</th>\n      <th>wikidata</th>\n    </tr>\n  </thead>\n  <tbody>\n    <tr>\n      <th>0</th>\n      <td>00023638949ec143e690ae151d28e389574f07dc</td>\n      <td>1987-02-23</td>\n      <td>Innsbruck</td>\n      <td>at</td>\n      <td>buero.wohlgemuth@oegb.at</td>\n      <td>Philip</td>\n      <td>Wohlgemuth</td>\n      <td>Philip Wohlgemuth</td>\n      <td>https://www.meineabgeordneten.at/Abgeordnete/p...</td>\n      <td>Abgeordneter zum Landtag</td>\n      <td>[https://www.instagram.com/philip_wohlgemuth/,...</td>\n      <td>NaN</td>\n      <td>Q51533040</td>\n    </tr>\n    <tr>\n      <th>1</th>\n      <td>001d48bf2913572202d88f00e35262f490771b40</td>\n      <td>1976-06-25</td>\n      <td>Wiener Neustadt</td>\n      <td>at</td>\n      <td>waltraud.ungersboeck@noel.gv.at</td>\n      <td>Waltraud</td>\n      <td>Ungersböck</td>\n      <td>Waltraud Ungersböck</td>\n      <td>https://www.meineabgeordneten.at/Abgeordnete/W...</td>\n      <td>[Vizebürgermeisterin, Abgeordnete zum Landtag,...</td>\n      <td>[https://www.facebook.com/profile.php?id=10001...</td>\n      <td>NaN</td>\n      <td>Q81526090</td>\n    </tr>\n    <tr>\n      <th>2</th>\n      <td>00ad3c5b5a651f6e00080803ffefb1d306c6d027</td>\n      <td>1971-02-27</td>\n      <td>Rottenmann</td>\n      <td>at</td>\n      <td>armin.forstner@stvp.at</td>\n      <td>Armin</td>\n      <td>Forstner</td>\n      <td>Armin Forstner</td>\n      <td>https://www.meineabgeordneten.at/Abgeordnete/a...</td>\n      <td>[Regionalmanagement Bezirk Liezen, Abgeordnete...</td>\n      <td>https://www.facebook.com/a.forstner/</td>\n      <td>NaN</td>\n      <td>Q20752545</td>\n    </tr>\n    <tr>\n      <th>3</th>\n      <td>00def69ad3d13efe8151da80f1485a692954d183</td>\n      <td>1980-10-20</td>\n      <td>Wien</td>\n      <td>at</td>\n      <td>spassfabrik@gmx.at</td>\n      <td>Silvia</td>\n      <td>Janoch</td>\n      <td>Silvia Janoch</td>\n      <td>https://www.meineabgeordneten.at/Abgeordnete/s...</td>\n      <td>[Schriftführerin des Wiener Landtages und Geme...</td>\n      <td>https://www.facebook.com/silvia.janoch</td>\n      <td>Dipl.-Päd.</td>\n      <td>Q102353097</td>\n    </tr>\n    <tr>\n      <th>4</th>\n      <td>00e70efc17aff680e675349ca87d7b80be04c452</td>\n      <td>1970-07-10</td>\n      <td>Eisenstadt</td>\n      <td>at</td>\n      <td>elvira.schmidt@spoe.at</td>\n      <td>Elvira</td>\n      <td>Schmidt</td>\n      <td>Elvira Schmidt</td>\n      <td>https://www.meineabgeordneten.at/Abgeordnete/e...</td>\n      <td>[Mitglied des Gemeinderates, Ich schaff das - ...</td>\n      <td>https://www.facebook.com/virli.schmidt</td>\n      <td>NaN</td>\n      <td>Q50843964</td>\n    </tr>\n    <tr>\n      <th>...</th>\n      <td>...</td>\n      <td>...</td>\n      <td>...</td>\n      <td>...</td>\n      <td>...</td>\n      <td>...</td>\n      <td>...</td>\n      <td>...</td>\n      <td>...</td>\n      <td>...</td>\n      <td>...</td>\n      <td>...</td>\n      <td>...</td>\n    </tr>\n    <tr>\n      <th>761</th>\n      <td>fcc94a122228733902b6f601abc54631aa205a4b</td>\n      <td>1963-01-16</td>\n      <td>Radstadt</td>\n      <td>at</td>\n      <td>liesl.weitgasser@neos.eu</td>\n      <td>Elisabeth</td>\n      <td>Weitgasser</td>\n      <td>Elisabeth Weitgasser</td>\n      <td>https://www.meineabgeordneten.at/Abgeordnete/e...</td>\n      <td>[S-berg Hotel Ges.m.b.H., Abgeordnete zum Land...</td>\n      <td>[https://www.instagram.com/weitgasserliesl/, h...</td>\n      <td>NaN</td>\n      <td>Q54956531</td>\n    </tr>\n    <tr>\n      <th>762</th>\n      <td>fd6b5ddebf7ed34449bac5a96eb2acbdbf5e4a3e</td>\n      <td>1966-11-04</td>\n      <td>Wien</td>\n      <td>at</td>\n      <td>elisabeth.trummer.spoe@gmail.com</td>\n      <td>Elisabeth</td>\n      <td>Trummer</td>\n      <td>Elisabeth Trummer</td>\n      <td>https://www.meineabgeordneten.at/Abgeordnete/e...</td>\n      <td>[\"Sozial- und Gesundheitsplattform Oberpullend...</td>\n      <td>https://www.facebook.com/Trummerelisabeth</td>\n      <td>NaN</td>\n      <td>Q84091498</td>\n    </tr>\n    <tr>\n      <th>763</th>\n      <td>fdc8f2275cf8bea8331ea4a779755915d0c29363</td>\n      <td>NaN</td>\n      <td>NaN</td>\n      <td>at</td>\n      <td>daniela.schmid@ages.at</td>\n      <td>Daniela</td>\n      <td>Schmid</td>\n      <td>Daniela Schmid</td>\n      <td>https://www.meineabgeordneten.at/Abgeordnete/d...</td>\n      <td>NaN</td>\n      <td>NaN</td>\n      <td>Priv.-Doz.in Dr.in</td>\n      <td>NaN</td>\n    </tr>\n    <tr>\n      <th>764</th>\n      <td>fe532c498a07fc06380579af855e68389239c43b</td>\n      <td>1964-06-30</td>\n      <td>Graz</td>\n      <td>at</td>\n      <td>andrea-michaela.schartel@parlament.gv.at</td>\n      <td>Andrea Michaela</td>\n      <td>Schartel</td>\n      <td>Andrea Michaela Schartel</td>\n      <td>https://www.meineabgeordneten.at/Abgeordnete/A...</td>\n      <td>[Österreichischer Kameradschaftsbund, Ortsverb...</td>\n      <td>[https://www.facebook.com/Andrea-Michaela-Scha...</td>\n      <td>NaN</td>\n      <td>Q19501935</td>\n    </tr>\n    <tr>\n      <th>765</th>\n      <td>fea62afd157dd3f7ec3253d21547bb3b0a6f30bf</td>\n      <td>1974-12-17</td>\n      <td>Wiener Neustadt</td>\n      <td>at</td>\n      <td>frankenhof2@gmx.at</td>\n      <td>Irene</td>\n      <td>Neumann-Hartberger</td>\n      <td>Irene Neumann-Hartberger</td>\n      <td>https://www.meineabgeordneten.at/Abgeordnete/i...</td>\n      <td>[Land- und forstwirtschaftliche Boden- und Gru...</td>\n      <td>[https://www.facebook.com/irene.neumannhartber...</td>\n      <td>NaN</td>\n      <td>Q81616188</td>\n    </tr>\n  </tbody>\n</table>\n<p>766 rows × 13 columns</p>\n</div>"
     },
     "metadata": {},
     "execution_count": 312
    }
   ],
   "source": [
    "# Dataframe with Wikidata Cells\n",
    "clean_person_df = pandas.DataFrame.from_dict(flat_entities).merge(person_assignments,on=\"id\")\n",
    "clean_person_df"
   ]
  },
  {
   "cell_type": "markdown",
   "metadata": {},
   "source": [
    "# Reconciliation"
   ]
  },
  {
   "cell_type": "code",
   "execution_count": 10,
   "metadata": {},
   "outputs": [],
   "source": [
    "import requests\n",
    "import urllib\n",
    "reconciliation_endpoint = urllib.parse.urlparse(\"https://wikidata.reconci.link/de/api\")"
   ]
  },
  {
   "cell_type": "code",
   "execution_count": 10,
   "metadata": {},
   "outputs": [
    {
     "data": {
      "text/plain": [
       "ParseResult(scheme='https', netloc='wikidata.reconci.link', path='/en/api', params='', query='', fragment='')"
      ]
     },
     "execution_count": 10,
     "metadata": {},
     "output_type": "execute_result"
    }
   ],
   "source": [
    "reconciliation_endpoint"
   ]
  },
  {
   "cell_type": "markdown",
   "metadata": {},
   "source": [
    "Ontology alignment for subset of Person properties."
   ]
  },
  {
   "cell_type": "code",
   "execution_count": 144,
   "metadata": {},
   "outputs": [],
   "source": [
    "mapping = {\n",
    "    \"birthDate\" : \"P569\",\n",
    "    \"birthPlace\" : \"P19\",\n",
    "    \"email\" : \"P968\",\n",
    "    \"firstName\" : \"P735\",\n",
    "    \"lastName\" : \"P734\",\n",
    "    \"title\" : \"P512\",\n",
    "    \"website\" : \"P856\"\n",
    "}\n",
    "query = \"name\""
   ]
  },
  {
   "cell_type": "code",
   "execution_count": null,
   "metadata": {},
   "outputs": [],
   "source": [
    "# email field emitting leads to higher scores, but matchign decision same"
   ]
  },
  {
   "cell_type": "code",
   "execution_count": 142,
   "metadata": {},
   "outputs": [],
   "source": [
    "def createQuery(entity, type, limit = 10):\n",
    "    if entity.schema.name != \"Person\":\n",
    "        return null\n",
    "    query_params = {}\n",
    "    query_params[\"query\"] = entity.first(\"name\")\n",
    "    query_params[\"type\"] = type\n",
    "    query_params[\"properties\"] = []\n",
    "    query_params[\"limit\"] = limit # candidate limit\n",
    "    for prop, value in entity.properties.items():\n",
    "        #print(prop, mapping.get(prop))\n",
    "        wikidataId = mapping.get(prop)\n",
    "        if wikidataId:\n",
    "            prop = {\"pid\": wikidataId, \"v\": value[0] if len(value)== 1 else  value}\n",
    "            query_params[\"properties\"].append(prop)   \n",
    " \n",
    "    return query_params\n",
    "    \n"
   ]
  },
  {
   "cell_type": "code",
   "execution_count": 34,
   "metadata": {},
   "outputs": [
    {
     "data": {
      "text/plain": [
       "{'query': 'Philip Wohlgemuth',\n",
       " 'type': 'Q5',\n",
       " 'properties': [{'pid': 'P569', 'v': '1987-02-23'},\n",
       "  {'pid': 'P19', 'v': 'Innsbruck'},\n",
       "  {'pid': 'P968', 'v': 'buero.wohlgemuth@oegb.at'},\n",
       "  {'pid': 'P735', 'v': 'Philip'},\n",
       "  {'pid': 'P734', 'v': 'Wohlgemuth'},\n",
       "  {'pid': 'P856',\n",
       "   'v': ['https://www.facebook.com/philip.wohlgemuth',\n",
       "    'https://twitter.com/phwohlgemuth',\n",
       "    'https://www.instagram.com/philip_wohlgemuth/']}],\n",
       " 'limit': 10}"
      ]
     },
     "execution_count": 34,
     "metadata": {},
     "output_type": "execute_result"
    }
   ],
   "source": [
    "createQuery(ftm_persons[3], \"Q5\")"
   ]
  },
  {
   "cell_type": "code",
   "execution_count": 17,
   "metadata": {},
   "outputs": [],
   "source": [
    "def create_batch_queries(entities, type, batch_size = 10):\n",
    "    start = 0\n",
    "    end = 0 + batch_size\n",
    "    batches =[]\n",
    "    for batch_nr in range(math.ceil(len(entities)/batch_size)):\n",
    "        queries = {\"q\"+str(i):createQuery(entity, \"Q5\") for i, entity in enumerate(ftm_persons[start:end])}\n",
    "        batches.append(queries)\n",
    "        start += batch_size\n",
    "        end += batch_size\n",
    "    return batches\n",
    "    "
   ]
  },
  {
   "cell_type": "code",
   "execution_count": 18,
   "metadata": {},
   "outputs": [],
   "source": [
    "def query_endpoint(query_batches):\n",
    "    results = []\n",
    "    for batch_query in query_batches:\n",
    "        # Endpoint only accepts double quotes, not single quotes.\n",
    "        urlencoded = url_parse.quote_plus(json.dumps(batch_query))\n",
    "        response = requests.get(reconciliation_endpoint.geturl()+ \"?queries=\" + urlencoded)\n",
    "        results.extend([resp for index, resp in response.json().items()])\n",
    "    return results"
   ]
  },
  {
   "cell_type": "code",
   "execution_count": 23,
   "metadata": {},
   "outputs": [],
   "source": [
    "batch_query = create_batch_queries(ftm_persons, \"Q5\") # Q5 is the Wikidata ID for type \"Human\".\n",
    "results = query_endpoint(batch_query)\n",
    "\n"
   ]
  },
  {
   "cell_type": "code",
   "execution_count": 313,
   "metadata": {},
   "outputs": [],
   "source": [
    "#json.dump(results, open(\"./data/intermediate/api_responses.json\",\"w\"))\n",
    "results = json.load(open(\"./data/intermediate/api_responses.json\"))"
   ]
  },
  {
   "cell_type": "code",
   "execution_count": 29,
   "metadata": {},
   "outputs": [
    {
     "output_type": "execute_result",
     "data": {
      "text/plain": [
       "766"
      ]
     },
     "metadata": {},
     "execution_count": 29
    }
   ],
   "source": []
  },
  {
   "cell_type": "markdown",
   "metadata": {},
   "source": [
    "# Analysis"
   ]
  },
  {
   "cell_type": "code",
   "execution_count": 17,
   "metadata": {},
   "outputs": [
    {
     "output_type": "stream",
     "name": "stdout",
     "text": [
      "id\nbirthDate\nbirthPlace\ncountry\nemail\nfirstName\nlastName\nname\nsourceUrl\nsummary\nwebsite\ntitle\nwikidata\n"
     ]
    }
   ],
   "source": [
    "print(entity)"
   ]
  },
  {
   "source": [
    "Knitting together API response and data to create a pandas table for further processing. "
   ],
   "cell_type": "markdown",
   "metadata": {}
  },
  {
   "cell_type": "code",
   "execution_count": 410,
   "metadata": {
    "tags": []
   },
   "outputs": [
    {
     "output_type": "execute_result",
     "data": {
      "text/plain": [
       "                                            id                      name  \\\n",
       "0     00023638949ec143e690ae151d28e389574f07dc         Philip Wohlgemuth   \n",
       "1     001d48bf2913572202d88f00e35262f490771b40       Waltraud Ungersböck   \n",
       "2     00ad3c5b5a651f6e00080803ffefb1d306c6d027            Armin Forstner   \n",
       "3     00def69ad3d13efe8151da80f1485a692954d183             Silvia Janoch   \n",
       "4     00e70efc17aff680e675349ca87d7b80be04c452            Elvira Schmidt   \n",
       "...                                        ...                       ...   \n",
       "1446  fdc8f2275cf8bea8331ea4a779755915d0c29363            Daniela Schmid   \n",
       "1447  fdc8f2275cf8bea8331ea4a779755915d0c29363            Daniela Schmid   \n",
       "1448  fdc8f2275cf8bea8331ea4a779755915d0c29363            Daniela Schmid   \n",
       "1449  fe532c498a07fc06380579af855e68389239c43b  Andrea Michaela Schartel   \n",
       "1450  fea62afd157dd3f7ec3253d21547bb3b0a6f30bf  Irene Neumann-Hartberger   \n",
       "\n",
       "        cd_wd_id                   cd_name  cd_match_estimate   cd_score  \\\n",
       "0      Q51533040         Philip Wohlgemuth               True  76.470588   \n",
       "1      Q81526090       Waltraud Ungersböck               True  76.470588   \n",
       "2      Q20752545            Armin Forstner              False  64.705882   \n",
       "3     Q102353097             Silvia Janoch              False  47.368421   \n",
       "4      Q50843964            Elvira Schmidt               True  76.470588   \n",
       "...          ...                       ...                ...        ...   \n",
       "1446   Q89189322           Daniela Schmidt              False  66.846154   \n",
       "1447   Q97706069           Daniela Schmidt              False  66.846154   \n",
       "1448   Q97706899  Daniela-Felicitas Schmid              False  28.461538   \n",
       "1449   Q19501935  Andrea-Michaela Schartel               True  76.470588   \n",
       "1450   Q81616188  Irene Neumann-Hartberger               True  76.470588   \n",
       "\n",
       "        wikidata  match  \n",
       "0      Q51533040   True  \n",
       "1      Q81526090   True  \n",
       "2      Q20752545   True  \n",
       "3     Q102353097   True  \n",
       "4      Q50843964   True  \n",
       "...          ...    ...  \n",
       "1446         NaN  False  \n",
       "1447         NaN  False  \n",
       "1448         NaN  False  \n",
       "1449   Q19501935   True  \n",
       "1450   Q81616188   True  \n",
       "\n",
       "[1451 rows x 8 columns]"
      ],
      "text/html": "<div>\n<style scoped>\n    .dataframe tbody tr th:only-of-type {\n        vertical-align: middle;\n    }\n\n    .dataframe tbody tr th {\n        vertical-align: top;\n    }\n\n    .dataframe thead th {\n        text-align: right;\n    }\n</style>\n<table border=\"1\" class=\"dataframe\">\n  <thead>\n    <tr style=\"text-align: right;\">\n      <th></th>\n      <th>id</th>\n      <th>name</th>\n      <th>cd_wd_id</th>\n      <th>cd_name</th>\n      <th>cd_match_estimate</th>\n      <th>cd_score</th>\n      <th>wikidata</th>\n      <th>match</th>\n    </tr>\n  </thead>\n  <tbody>\n    <tr>\n      <th>0</th>\n      <td>00023638949ec143e690ae151d28e389574f07dc</td>\n      <td>Philip Wohlgemuth</td>\n      <td>Q51533040</td>\n      <td>Philip Wohlgemuth</td>\n      <td>True</td>\n      <td>76.470588</td>\n      <td>Q51533040</td>\n      <td>True</td>\n    </tr>\n    <tr>\n      <th>1</th>\n      <td>001d48bf2913572202d88f00e35262f490771b40</td>\n      <td>Waltraud Ungersböck</td>\n      <td>Q81526090</td>\n      <td>Waltraud Ungersböck</td>\n      <td>True</td>\n      <td>76.470588</td>\n      <td>Q81526090</td>\n      <td>True</td>\n    </tr>\n    <tr>\n      <th>2</th>\n      <td>00ad3c5b5a651f6e00080803ffefb1d306c6d027</td>\n      <td>Armin Forstner</td>\n      <td>Q20752545</td>\n      <td>Armin Forstner</td>\n      <td>False</td>\n      <td>64.705882</td>\n      <td>Q20752545</td>\n      <td>True</td>\n    </tr>\n    <tr>\n      <th>3</th>\n      <td>00def69ad3d13efe8151da80f1485a692954d183</td>\n      <td>Silvia Janoch</td>\n      <td>Q102353097</td>\n      <td>Silvia Janoch</td>\n      <td>False</td>\n      <td>47.368421</td>\n      <td>Q102353097</td>\n      <td>True</td>\n    </tr>\n    <tr>\n      <th>4</th>\n      <td>00e70efc17aff680e675349ca87d7b80be04c452</td>\n      <td>Elvira Schmidt</td>\n      <td>Q50843964</td>\n      <td>Elvira Schmidt</td>\n      <td>True</td>\n      <td>76.470588</td>\n      <td>Q50843964</td>\n      <td>True</td>\n    </tr>\n    <tr>\n      <th>...</th>\n      <td>...</td>\n      <td>...</td>\n      <td>...</td>\n      <td>...</td>\n      <td>...</td>\n      <td>...</td>\n      <td>...</td>\n      <td>...</td>\n    </tr>\n    <tr>\n      <th>1446</th>\n      <td>fdc8f2275cf8bea8331ea4a779755915d0c29363</td>\n      <td>Daniela Schmid</td>\n      <td>Q89189322</td>\n      <td>Daniela Schmidt</td>\n      <td>False</td>\n      <td>66.846154</td>\n      <td>NaN</td>\n      <td>False</td>\n    </tr>\n    <tr>\n      <th>1447</th>\n      <td>fdc8f2275cf8bea8331ea4a779755915d0c29363</td>\n      <td>Daniela Schmid</td>\n      <td>Q97706069</td>\n      <td>Daniela Schmidt</td>\n      <td>False</td>\n      <td>66.846154</td>\n      <td>NaN</td>\n      <td>False</td>\n    </tr>\n    <tr>\n      <th>1448</th>\n      <td>fdc8f2275cf8bea8331ea4a779755915d0c29363</td>\n      <td>Daniela Schmid</td>\n      <td>Q97706899</td>\n      <td>Daniela-Felicitas Schmid</td>\n      <td>False</td>\n      <td>28.461538</td>\n      <td>NaN</td>\n      <td>False</td>\n    </tr>\n    <tr>\n      <th>1449</th>\n      <td>fe532c498a07fc06380579af855e68389239c43b</td>\n      <td>Andrea Michaela Schartel</td>\n      <td>Q19501935</td>\n      <td>Andrea-Michaela Schartel</td>\n      <td>True</td>\n      <td>76.470588</td>\n      <td>Q19501935</td>\n      <td>True</td>\n    </tr>\n    <tr>\n      <th>1450</th>\n      <td>fea62afd157dd3f7ec3253d21547bb3b0a6f30bf</td>\n      <td>Irene Neumann-Hartberger</td>\n      <td>Q81616188</td>\n      <td>Irene Neumann-Hartberger</td>\n      <td>True</td>\n      <td>76.470588</td>\n      <td>Q81616188</td>\n      <td>True</td>\n    </tr>\n  </tbody>\n</table>\n<p>1451 rows × 8 columns</p>\n</div>"
     },
     "metadata": {},
     "execution_count": 410
    }
   ],
   "source": [
    "\n",
    "intermed_table = []\n",
    "header = [\"id\", \"name\", \"cd_wd_id\", \"cd_name\",\"cd_match_estimate\", \"cd_score\"]\n",
    "for result, entity in zip(results, ftm_persons):\n",
    "    candidates = result[\"result\"]\n",
    "    if len(candidates) > 0: \n",
    "        for candidate in candidates:\n",
    "            intermed_table.append([entity.id,entity.first(\"name\"), candidate[\"id\"], candidate[\"name\"], \\\n",
    "                candidate[\"match\"], candidate[\"score\"]])\n",
    "    # If no results in response\n",
    "    else: \n",
    "        intermed_table.append([entity.id,entity.first(\"name\"), None, \n",
    "            None, False, None]) # implicit false made explicit\n",
    "\n",
    "cd_table = pandas.DataFrame(intermed_table, columns= header).merge(person_assignments,on=\"id\")\n",
    "cd_table[\"match\"] = cd_table[\"wikidata\"] == cd_table[\"cd_wd_id\"]\n",
    "\n",
    "#cd_table[\"wikidata\"] = cd_table[\"wikidata\"].astype(str)\n",
    "#cd_table[\"cd_wd_id\"] = cd_table[\"cd_wd_id\"].astype(str)\n",
    "cd_table\n"
   ]
  },
  {
   "source": [
    "Before calculating scores based on similarity measures, the Wikidata Reconciliation API performs a candidate selection based on the WikiMedia API Elasticsearch search-engine by querying the value in the \"query\" property inside the request, which is the name of an item. Obviously, there is a high tendency to return just one (matching result)"
   ],
   "cell_type": "markdown",
   "metadata": {}
  },
  {
   "cell_type": "code",
   "execution_count": 411,
   "metadata": {},
   "outputs": [
    {
     "output_type": "display_data",
     "data": {
      "text/plain": "<Figure size 432x288 with 1 Axes>",
      "image/svg+xml": "<?xml version=\"1.0\" encoding=\"utf-8\" standalone=\"no\"?>\n<!DOCTYPE svg PUBLIC \"-//W3C//DTD SVG 1.1//EN\"\n  \"http://www.w3.org/Graphics/SVG/1.1/DTD/svg11.dtd\">\n<!-- Created with matplotlib (https://matplotlib.org/) -->\n<svg height=\"265.459875pt\" version=\"1.1\" viewBox=\"0 0 375.2875 265.459875\" width=\"375.2875pt\" xmlns=\"http://www.w3.org/2000/svg\" xmlns:xlink=\"http://www.w3.org/1999/xlink\">\n <metadata>\n  <rdf:RDF xmlns:cc=\"http://creativecommons.org/ns#\" xmlns:dc=\"http://purl.org/dc/elements/1.1/\" xmlns:rdf=\"http://www.w3.org/1999/02/22-rdf-syntax-ns#\">\n   <cc:Work>\n    <dc:type rdf:resource=\"http://purl.org/dc/dcmitype/StillImage\"/>\n    <dc:date>2021-04-16T22:19:06.709237</dc:date>\n    <dc:format>image/svg+xml</dc:format>\n    <dc:creator>\n     <cc:Agent>\n      <dc:title>Matplotlib v3.3.3, https://matplotlib.org/</dc:title>\n     </cc:Agent>\n    </dc:creator>\n   </cc:Work>\n  </rdf:RDF>\n </metadata>\n <defs>\n  <style type=\"text/css\">*{stroke-linecap:butt;stroke-linejoin:round;}</style>\n </defs>\n <g id=\"figure_1\">\n  <g id=\"patch_1\">\n   <path d=\"M 0 265.459875 \nL 375.2875 265.459875 \nL 375.2875 0 \nL 0 0 \nz\n\" style=\"fill:#ffffff;\"/>\n  </g>\n  <g id=\"axes_1\">\n   <g id=\"patch_2\">\n    <path d=\"M 33.2875 241.58175 \nL 368.0875 241.58175 \nL 368.0875 24.14175 \nL 33.2875 24.14175 \nz\n\" style=\"fill:#e5e5e5;\"/>\n   </g>\n   <g id=\"matplotlib.axis_1\">\n    <g id=\"xtick_1\">\n     <g id=\"line2d_1\">\n      <path clip-path=\"url(#pb176e7fe74)\" d=\"M 59.778409 241.58175 \nL 59.778409 24.14175 \n\" style=\"fill:none;stroke:#ffffff;stroke-linecap:square;stroke-width:0.8;\"/>\n     </g>\n     <g id=\"line2d_2\">\n      <defs>\n       <path d=\"M 0 0 \nL 0 3.5 \n\" id=\"m88799621fa\" style=\"stroke:#555555;stroke-width:0.8;\"/>\n      </defs>\n      <g>\n       <use style=\"fill:#555555;stroke:#555555;stroke-width:0.8;\" x=\"59.778409\" xlink:href=\"#m88799621fa\" y=\"241.58175\"/>\n      </g>\n     </g>\n     <g id=\"text_1\">\n      <!-- 0 -->\n      <g style=\"fill:#555555;\" transform=\"translate(56.597159 256.180187)scale(0.1 -0.1)\">\n       <defs>\n        <path d=\"M 31.78125 66.40625 \nQ 24.171875 66.40625 20.328125 58.90625 \nQ 16.5 51.421875 16.5 36.375 \nQ 16.5 21.390625 20.328125 13.890625 \nQ 24.171875 6.390625 31.78125 6.390625 \nQ 39.453125 6.390625 43.28125 13.890625 \nQ 47.125 21.390625 47.125 36.375 \nQ 47.125 51.421875 43.28125 58.90625 \nQ 39.453125 66.40625 31.78125 66.40625 \nz\nM 31.78125 74.21875 \nQ 44.046875 74.21875 50.515625 64.515625 \nQ 56.984375 54.828125 56.984375 36.375 \nQ 56.984375 17.96875 50.515625 8.265625 \nQ 44.046875 -1.421875 31.78125 -1.421875 \nQ 19.53125 -1.421875 13.0625 8.265625 \nQ 6.59375 17.96875 6.59375 36.375 \nQ 6.59375 54.828125 13.0625 64.515625 \nQ 19.53125 74.21875 31.78125 74.21875 \nz\n\" id=\"DejaVuSans-48\"/>\n       </defs>\n       <use xlink:href=\"#DejaVuSans-48\"/>\n      </g>\n     </g>\n    </g>\n    <g id=\"xtick_2\">\n     <g id=\"line2d_3\">\n      <path clip-path=\"url(#pb176e7fe74)\" d=\"M 116.142045 241.58175 \nL 116.142045 24.14175 \n\" style=\"fill:none;stroke:#ffffff;stroke-linecap:square;stroke-width:0.8;\"/>\n     </g>\n     <g id=\"line2d_4\">\n      <g>\n       <use style=\"fill:#555555;stroke:#555555;stroke-width:0.8;\" x=\"116.142045\" xlink:href=\"#m88799621fa\" y=\"241.58175\"/>\n      </g>\n     </g>\n     <g id=\"text_2\">\n      <!-- 2 -->\n      <g style=\"fill:#555555;\" transform=\"translate(112.960795 256.180187)scale(0.1 -0.1)\">\n       <defs>\n        <path d=\"M 19.1875 8.296875 \nL 53.609375 8.296875 \nL 53.609375 0 \nL 7.328125 0 \nL 7.328125 8.296875 \nQ 12.9375 14.109375 22.625 23.890625 \nQ 32.328125 33.6875 34.8125 36.53125 \nQ 39.546875 41.84375 41.421875 45.53125 \nQ 43.3125 49.21875 43.3125 52.78125 \nQ 43.3125 58.59375 39.234375 62.25 \nQ 35.15625 65.921875 28.609375 65.921875 \nQ 23.96875 65.921875 18.8125 64.3125 \nQ 13.671875 62.703125 7.8125 59.421875 \nL 7.8125 69.390625 \nQ 13.765625 71.78125 18.9375 73 \nQ 24.125 74.21875 28.421875 74.21875 \nQ 39.75 74.21875 46.484375 68.546875 \nQ 53.21875 62.890625 53.21875 53.421875 \nQ 53.21875 48.921875 51.53125 44.890625 \nQ 49.859375 40.875 45.40625 35.40625 \nQ 44.1875 33.984375 37.640625 27.21875 \nQ 31.109375 20.453125 19.1875 8.296875 \nz\n\" id=\"DejaVuSans-50\"/>\n       </defs>\n       <use xlink:href=\"#DejaVuSans-50\"/>\n      </g>\n     </g>\n    </g>\n    <g id=\"xtick_3\">\n     <g id=\"line2d_5\">\n      <path clip-path=\"url(#pb176e7fe74)\" d=\"M 172.505682 241.58175 \nL 172.505682 24.14175 \n\" style=\"fill:none;stroke:#ffffff;stroke-linecap:square;stroke-width:0.8;\"/>\n     </g>\n     <g id=\"line2d_6\">\n      <g>\n       <use style=\"fill:#555555;stroke:#555555;stroke-width:0.8;\" x=\"172.505682\" xlink:href=\"#m88799621fa\" y=\"241.58175\"/>\n      </g>\n     </g>\n     <g id=\"text_3\">\n      <!-- 4 -->\n      <g style=\"fill:#555555;\" transform=\"translate(169.324432 256.180187)scale(0.1 -0.1)\">\n       <defs>\n        <path d=\"M 37.796875 64.3125 \nL 12.890625 25.390625 \nL 37.796875 25.390625 \nz\nM 35.203125 72.90625 \nL 47.609375 72.90625 \nL 47.609375 25.390625 \nL 58.015625 25.390625 \nL 58.015625 17.1875 \nL 47.609375 17.1875 \nL 47.609375 0 \nL 37.796875 0 \nL 37.796875 17.1875 \nL 4.890625 17.1875 \nL 4.890625 26.703125 \nz\n\" id=\"DejaVuSans-52\"/>\n       </defs>\n       <use xlink:href=\"#DejaVuSans-52\"/>\n      </g>\n     </g>\n    </g>\n    <g id=\"xtick_4\">\n     <g id=\"line2d_7\">\n      <path clip-path=\"url(#pb176e7fe74)\" d=\"M 228.869318 241.58175 \nL 228.869318 24.14175 \n\" style=\"fill:none;stroke:#ffffff;stroke-linecap:square;stroke-width:0.8;\"/>\n     </g>\n     <g id=\"line2d_8\">\n      <g>\n       <use style=\"fill:#555555;stroke:#555555;stroke-width:0.8;\" x=\"228.869318\" xlink:href=\"#m88799621fa\" y=\"241.58175\"/>\n      </g>\n     </g>\n     <g id=\"text_4\">\n      <!-- 6 -->\n      <g style=\"fill:#555555;\" transform=\"translate(225.688068 256.180187)scale(0.1 -0.1)\">\n       <defs>\n        <path d=\"M 33.015625 40.375 \nQ 26.375 40.375 22.484375 35.828125 \nQ 18.609375 31.296875 18.609375 23.390625 \nQ 18.609375 15.53125 22.484375 10.953125 \nQ 26.375 6.390625 33.015625 6.390625 \nQ 39.65625 6.390625 43.53125 10.953125 \nQ 47.40625 15.53125 47.40625 23.390625 \nQ 47.40625 31.296875 43.53125 35.828125 \nQ 39.65625 40.375 33.015625 40.375 \nz\nM 52.59375 71.296875 \nL 52.59375 62.3125 \nQ 48.875 64.0625 45.09375 64.984375 \nQ 41.3125 65.921875 37.59375 65.921875 \nQ 27.828125 65.921875 22.671875 59.328125 \nQ 17.53125 52.734375 16.796875 39.40625 \nQ 19.671875 43.65625 24.015625 45.921875 \nQ 28.375 48.1875 33.59375 48.1875 \nQ 44.578125 48.1875 50.953125 41.515625 \nQ 57.328125 34.859375 57.328125 23.390625 \nQ 57.328125 12.15625 50.6875 5.359375 \nQ 44.046875 -1.421875 33.015625 -1.421875 \nQ 20.359375 -1.421875 13.671875 8.265625 \nQ 6.984375 17.96875 6.984375 36.375 \nQ 6.984375 53.65625 15.1875 63.9375 \nQ 23.390625 74.21875 37.203125 74.21875 \nQ 40.921875 74.21875 44.703125 73.484375 \nQ 48.484375 72.75 52.59375 71.296875 \nz\n\" id=\"DejaVuSans-54\"/>\n       </defs>\n       <use xlink:href=\"#DejaVuSans-54\"/>\n      </g>\n     </g>\n    </g>\n    <g id=\"xtick_5\">\n     <g id=\"line2d_9\">\n      <path clip-path=\"url(#pb176e7fe74)\" d=\"M 285.232955 241.58175 \nL 285.232955 24.14175 \n\" style=\"fill:none;stroke:#ffffff;stroke-linecap:square;stroke-width:0.8;\"/>\n     </g>\n     <g id=\"line2d_10\">\n      <g>\n       <use style=\"fill:#555555;stroke:#555555;stroke-width:0.8;\" x=\"285.232955\" xlink:href=\"#m88799621fa\" y=\"241.58175\"/>\n      </g>\n     </g>\n     <g id=\"text_5\">\n      <!-- 8 -->\n      <g style=\"fill:#555555;\" transform=\"translate(282.051705 256.180187)scale(0.1 -0.1)\">\n       <defs>\n        <path d=\"M 31.78125 34.625 \nQ 24.75 34.625 20.71875 30.859375 \nQ 16.703125 27.09375 16.703125 20.515625 \nQ 16.703125 13.921875 20.71875 10.15625 \nQ 24.75 6.390625 31.78125 6.390625 \nQ 38.8125 6.390625 42.859375 10.171875 \nQ 46.921875 13.96875 46.921875 20.515625 \nQ 46.921875 27.09375 42.890625 30.859375 \nQ 38.875 34.625 31.78125 34.625 \nz\nM 21.921875 38.8125 \nQ 15.578125 40.375 12.03125 44.71875 \nQ 8.5 49.078125 8.5 55.328125 \nQ 8.5 64.0625 14.71875 69.140625 \nQ 20.953125 74.21875 31.78125 74.21875 \nQ 42.671875 74.21875 48.875 69.140625 \nQ 55.078125 64.0625 55.078125 55.328125 \nQ 55.078125 49.078125 51.53125 44.71875 \nQ 48 40.375 41.703125 38.8125 \nQ 48.828125 37.15625 52.796875 32.3125 \nQ 56.78125 27.484375 56.78125 20.515625 \nQ 56.78125 9.90625 50.3125 4.234375 \nQ 43.84375 -1.421875 31.78125 -1.421875 \nQ 19.734375 -1.421875 13.25 4.234375 \nQ 6.78125 9.90625 6.78125 20.515625 \nQ 6.78125 27.484375 10.78125 32.3125 \nQ 14.796875 37.15625 21.921875 38.8125 \nz\nM 18.3125 54.390625 \nQ 18.3125 48.734375 21.84375 45.5625 \nQ 25.390625 42.390625 31.78125 42.390625 \nQ 38.140625 42.390625 41.71875 45.5625 \nQ 45.3125 48.734375 45.3125 54.390625 \nQ 45.3125 60.0625 41.71875 63.234375 \nQ 38.140625 66.40625 31.78125 66.40625 \nQ 25.390625 66.40625 21.84375 63.234375 \nQ 18.3125 60.0625 18.3125 54.390625 \nz\n\" id=\"DejaVuSans-56\"/>\n       </defs>\n       <use xlink:href=\"#DejaVuSans-56\"/>\n      </g>\n     </g>\n    </g>\n    <g id=\"xtick_6\">\n     <g id=\"line2d_11\">\n      <path clip-path=\"url(#pb176e7fe74)\" d=\"M 341.596591 241.58175 \nL 341.596591 24.14175 \n\" style=\"fill:none;stroke:#ffffff;stroke-linecap:square;stroke-width:0.8;\"/>\n     </g>\n     <g id=\"line2d_12\">\n      <g>\n       <use style=\"fill:#555555;stroke:#555555;stroke-width:0.8;\" x=\"341.596591\" xlink:href=\"#m88799621fa\" y=\"241.58175\"/>\n      </g>\n     </g>\n     <g id=\"text_6\">\n      <!-- 10 -->\n      <g style=\"fill:#555555;\" transform=\"translate(335.234091 256.180187)scale(0.1 -0.1)\">\n       <defs>\n        <path d=\"M 12.40625 8.296875 \nL 28.515625 8.296875 \nL 28.515625 63.921875 \nL 10.984375 60.40625 \nL 10.984375 69.390625 \nL 28.421875 72.90625 \nL 38.28125 72.90625 \nL 38.28125 8.296875 \nL 54.390625 8.296875 \nL 54.390625 0 \nL 12.40625 0 \nz\n\" id=\"DejaVuSans-49\"/>\n       </defs>\n       <use xlink:href=\"#DejaVuSans-49\"/>\n       <use x=\"63.623047\" xlink:href=\"#DejaVuSans-48\"/>\n      </g>\n     </g>\n    </g>\n   </g>\n   <g id=\"matplotlib.axis_2\">\n    <g id=\"ytick_1\">\n     <g id=\"line2d_13\">\n      <path clip-path=\"url(#pb176e7fe74)\" d=\"M 33.2875 241.58175 \nL 368.0875 241.58175 \n\" style=\"fill:none;stroke:#ffffff;stroke-linecap:square;stroke-width:0.8;\"/>\n     </g>\n     <g id=\"line2d_14\">\n      <defs>\n       <path d=\"M 0 0 \nL -3.5 0 \n\" id=\"mac2823ec8e\" style=\"stroke:#555555;stroke-width:0.8;\"/>\n      </defs>\n      <g>\n       <use style=\"fill:#555555;stroke:#555555;stroke-width:0.8;\" x=\"33.2875\" xlink:href=\"#mac2823ec8e\" y=\"241.58175\"/>\n      </g>\n     </g>\n     <g id=\"text_7\">\n      <!-- 0 -->\n      <g style=\"fill:#555555;\" transform=\"translate(19.925 245.380969)scale(0.1 -0.1)\">\n       <use xlink:href=\"#DejaVuSans-48\"/>\n      </g>\n     </g>\n    </g>\n    <g id=\"ytick_2\">\n     <g id=\"line2d_15\">\n      <path clip-path=\"url(#pb176e7fe74)\" d=\"M 33.2875 205.187073 \nL 368.0875 205.187073 \n\" style=\"fill:none;stroke:#ffffff;stroke-linecap:square;stroke-width:0.8;\"/>\n     </g>\n     <g id=\"line2d_16\">\n      <g>\n       <use style=\"fill:#555555;stroke:#555555;stroke-width:0.8;\" x=\"33.2875\" xlink:href=\"#mac2823ec8e\" y=\"205.187073\"/>\n      </g>\n     </g>\n     <g id=\"text_8\">\n      <!-- 100 -->\n      <g style=\"fill:#555555;\" transform=\"translate(7.2 208.986291)scale(0.1 -0.1)\">\n       <use xlink:href=\"#DejaVuSans-49\"/>\n       <use x=\"63.623047\" xlink:href=\"#DejaVuSans-48\"/>\n       <use x=\"127.246094\" xlink:href=\"#DejaVuSans-48\"/>\n      </g>\n     </g>\n    </g>\n    <g id=\"ytick_3\">\n     <g id=\"line2d_17\">\n      <path clip-path=\"url(#pb176e7fe74)\" d=\"M 33.2875 168.792395 \nL 368.0875 168.792395 \n\" style=\"fill:none;stroke:#ffffff;stroke-linecap:square;stroke-width:0.8;\"/>\n     </g>\n     <g id=\"line2d_18\">\n      <g>\n       <use style=\"fill:#555555;stroke:#555555;stroke-width:0.8;\" x=\"33.2875\" xlink:href=\"#mac2823ec8e\" y=\"168.792395\"/>\n      </g>\n     </g>\n     <g id=\"text_9\">\n      <!-- 200 -->\n      <g style=\"fill:#555555;\" transform=\"translate(7.2 172.591614)scale(0.1 -0.1)\">\n       <use xlink:href=\"#DejaVuSans-50\"/>\n       <use x=\"63.623047\" xlink:href=\"#DejaVuSans-48\"/>\n       <use x=\"127.246094\" xlink:href=\"#DejaVuSans-48\"/>\n      </g>\n     </g>\n    </g>\n    <g id=\"ytick_4\">\n     <g id=\"line2d_19\">\n      <path clip-path=\"url(#pb176e7fe74)\" d=\"M 33.2875 132.397718 \nL 368.0875 132.397718 \n\" style=\"fill:none;stroke:#ffffff;stroke-linecap:square;stroke-width:0.8;\"/>\n     </g>\n     <g id=\"line2d_20\">\n      <g>\n       <use style=\"fill:#555555;stroke:#555555;stroke-width:0.8;\" x=\"33.2875\" xlink:href=\"#mac2823ec8e\" y=\"132.397718\"/>\n      </g>\n     </g>\n     <g id=\"text_10\">\n      <!-- 300 -->\n      <g style=\"fill:#555555;\" transform=\"translate(7.2 136.196937)scale(0.1 -0.1)\">\n       <defs>\n        <path d=\"M 40.578125 39.3125 \nQ 47.65625 37.796875 51.625 33 \nQ 55.609375 28.21875 55.609375 21.1875 \nQ 55.609375 10.40625 48.1875 4.484375 \nQ 40.765625 -1.421875 27.09375 -1.421875 \nQ 22.515625 -1.421875 17.65625 -0.515625 \nQ 12.796875 0.390625 7.625 2.203125 \nL 7.625 11.71875 \nQ 11.71875 9.328125 16.59375 8.109375 \nQ 21.484375 6.890625 26.8125 6.890625 \nQ 36.078125 6.890625 40.9375 10.546875 \nQ 45.796875 14.203125 45.796875 21.1875 \nQ 45.796875 27.640625 41.28125 31.265625 \nQ 36.765625 34.90625 28.71875 34.90625 \nL 20.21875 34.90625 \nL 20.21875 43.015625 \nL 29.109375 43.015625 \nQ 36.375 43.015625 40.234375 45.921875 \nQ 44.09375 48.828125 44.09375 54.296875 \nQ 44.09375 59.90625 40.109375 62.90625 \nQ 36.140625 65.921875 28.71875 65.921875 \nQ 24.65625 65.921875 20.015625 65.03125 \nQ 15.375 64.15625 9.8125 62.3125 \nL 9.8125 71.09375 \nQ 15.4375 72.65625 20.34375 73.4375 \nQ 25.25 74.21875 29.59375 74.21875 \nQ 40.828125 74.21875 47.359375 69.109375 \nQ 53.90625 64.015625 53.90625 55.328125 \nQ 53.90625 49.265625 50.4375 45.09375 \nQ 46.96875 40.921875 40.578125 39.3125 \nz\n\" id=\"DejaVuSans-51\"/>\n       </defs>\n       <use xlink:href=\"#DejaVuSans-51\"/>\n       <use x=\"63.623047\" xlink:href=\"#DejaVuSans-48\"/>\n       <use x=\"127.246094\" xlink:href=\"#DejaVuSans-48\"/>\n      </g>\n     </g>\n    </g>\n    <g id=\"ytick_5\">\n     <g id=\"line2d_21\">\n      <path clip-path=\"url(#pb176e7fe74)\" d=\"M 33.2875 96.00304 \nL 368.0875 96.00304 \n\" style=\"fill:none;stroke:#ffffff;stroke-linecap:square;stroke-width:0.8;\"/>\n     </g>\n     <g id=\"line2d_22\">\n      <g>\n       <use style=\"fill:#555555;stroke:#555555;stroke-width:0.8;\" x=\"33.2875\" xlink:href=\"#mac2823ec8e\" y=\"96.00304\"/>\n      </g>\n     </g>\n     <g id=\"text_11\">\n      <!-- 400 -->\n      <g style=\"fill:#555555;\" transform=\"translate(7.2 99.802259)scale(0.1 -0.1)\">\n       <use xlink:href=\"#DejaVuSans-52\"/>\n       <use x=\"63.623047\" xlink:href=\"#DejaVuSans-48\"/>\n       <use x=\"127.246094\" xlink:href=\"#DejaVuSans-48\"/>\n      </g>\n     </g>\n    </g>\n    <g id=\"ytick_6\">\n     <g id=\"line2d_23\">\n      <path clip-path=\"url(#pb176e7fe74)\" d=\"M 33.2875 59.608363 \nL 368.0875 59.608363 \n\" style=\"fill:none;stroke:#ffffff;stroke-linecap:square;stroke-width:0.8;\"/>\n     </g>\n     <g id=\"line2d_24\">\n      <g>\n       <use style=\"fill:#555555;stroke:#555555;stroke-width:0.8;\" x=\"33.2875\" xlink:href=\"#mac2823ec8e\" y=\"59.608363\"/>\n      </g>\n     </g>\n     <g id=\"text_12\">\n      <!-- 500 -->\n      <g style=\"fill:#555555;\" transform=\"translate(7.2 63.407582)scale(0.1 -0.1)\">\n       <defs>\n        <path d=\"M 10.796875 72.90625 \nL 49.515625 72.90625 \nL 49.515625 64.59375 \nL 19.828125 64.59375 \nL 19.828125 46.734375 \nQ 21.96875 47.46875 24.109375 47.828125 \nQ 26.265625 48.1875 28.421875 48.1875 \nQ 40.625 48.1875 47.75 41.5 \nQ 54.890625 34.8125 54.890625 23.390625 \nQ 54.890625 11.625 47.5625 5.09375 \nQ 40.234375 -1.421875 26.90625 -1.421875 \nQ 22.3125 -1.421875 17.546875 -0.640625 \nQ 12.796875 0.140625 7.71875 1.703125 \nL 7.71875 11.625 \nQ 12.109375 9.234375 16.796875 8.0625 \nQ 21.484375 6.890625 26.703125 6.890625 \nQ 35.15625 6.890625 40.078125 11.328125 \nQ 45.015625 15.765625 45.015625 23.390625 \nQ 45.015625 31 40.078125 35.4375 \nQ 35.15625 39.890625 26.703125 39.890625 \nQ 22.75 39.890625 18.8125 39.015625 \nQ 14.890625 38.140625 10.796875 36.28125 \nz\n\" id=\"DejaVuSans-53\"/>\n       </defs>\n       <use xlink:href=\"#DejaVuSans-53\"/>\n       <use x=\"63.623047\" xlink:href=\"#DejaVuSans-48\"/>\n       <use x=\"127.246094\" xlink:href=\"#DejaVuSans-48\"/>\n      </g>\n     </g>\n    </g>\n   </g>\n   <g id=\"patch_3\">\n    <path clip-path=\"url(#pb176e7fe74)\" d=\"M 48.505682 241.58175 \nL 71.051136 241.58175 \nL 71.051136 235.758602 \nL 48.505682 235.758602 \nz\n\" style=\"fill:#e24a33;\"/>\n   </g>\n   <g id=\"patch_4\">\n    <path clip-path=\"url(#pb176e7fe74)\" d=\"M 76.6875 241.58175 \nL 99.232955 241.58175 \nL 99.232955 34.496036 \nL 76.6875 34.496036 \nz\n\" style=\"fill:#e24a33;\"/>\n   </g>\n   <g id=\"patch_5\">\n    <path clip-path=\"url(#pb176e7fe74)\" d=\"M 104.869318 241.58175 \nL 127.414773 241.58175 \nL 127.414773 219.01705 \nL 104.869318 219.01705 \nz\n\" style=\"fill:#e24a33;\"/>\n   </g>\n   <g id=\"patch_6\">\n    <path clip-path=\"url(#pb176e7fe74)\" d=\"M 133.051136 241.58175 \nL 155.596591 241.58175 \nL 155.596591 228.843613 \nL 133.051136 228.843613 \nz\n\" style=\"fill:#e24a33;\"/>\n   </g>\n   <g id=\"patch_7\">\n    <path clip-path=\"url(#pb176e7fe74)\" d=\"M 161.232955 241.58175 \nL 183.778409 241.58175 \nL 183.778409 235.030708 \nL 161.232955 235.030708 \nz\n\" style=\"fill:#e24a33;\"/>\n   </g>\n   <g id=\"patch_8\">\n    <path clip-path=\"url(#pb176e7fe74)\" d=\"M 189.414773 241.58175 \nL 211.960227 241.58175 \nL 211.960227 239.034123 \nL 189.414773 239.034123 \nz\n\" style=\"fill:#e24a33;\"/>\n   </g>\n   <g id=\"patch_9\">\n    <path clip-path=\"url(#pb176e7fe74)\" d=\"M 217.596591 241.58175 \nL 240.142045 241.58175 \nL 240.142045 239.034123 \nL 217.596591 239.034123 \nz\n\" style=\"fill:#e24a33;\"/>\n   </g>\n   <g id=\"patch_10\">\n    <path clip-path=\"url(#pb176e7fe74)\" d=\"M 245.778409 241.58175 \nL 268.323864 241.58175 \nL 268.323864 239.762016 \nL 245.778409 239.762016 \nz\n\" style=\"fill:#e24a33;\"/>\n   </g>\n   <g id=\"patch_11\">\n    <path clip-path=\"url(#pb176e7fe74)\" d=\"M 273.960227 241.58175 \nL 296.505682 241.58175 \nL 296.505682 239.398069 \nL 273.960227 239.398069 \nz\n\" style=\"fill:#e24a33;\"/>\n   </g>\n   <g id=\"patch_12\">\n    <path clip-path=\"url(#pb176e7fe74)\" d=\"M 302.142045 241.58175 \nL 324.6875 241.58175 \nL 324.6875 239.762016 \nL 302.142045 239.762016 \nz\n\" style=\"fill:#e24a33;\"/>\n   </g>\n   <g id=\"patch_13\">\n    <path clip-path=\"url(#pb176e7fe74)\" d=\"M 330.323864 241.58175 \nL 352.869318 241.58175 \nL 352.869318 228.479666 \nL 330.323864 228.479666 \nz\n\" style=\"fill:#e24a33;\"/>\n   </g>\n   <g id=\"patch_14\">\n    <path d=\"M 33.2875 241.58175 \nL 33.2875 24.14175 \n\" style=\"fill:none;stroke:#ffffff;stroke-linecap:square;stroke-linejoin:miter;\"/>\n   </g>\n   <g id=\"patch_15\">\n    <path d=\"M 368.0875 241.58175 \nL 368.0875 24.14175 \n\" style=\"fill:none;stroke:#ffffff;stroke-linecap:square;stroke-linejoin:miter;\"/>\n   </g>\n   <g id=\"patch_16\">\n    <path d=\"M 33.2875 241.58175 \nL 368.0875 241.58175 \n\" style=\"fill:none;stroke:#ffffff;stroke-linecap:square;stroke-linejoin:miter;\"/>\n   </g>\n   <g id=\"patch_17\">\n    <path d=\"M 33.2875 24.14175 \nL 368.0875 24.14175 \n\" style=\"fill:none;stroke:#ffffff;stroke-linecap:square;stroke-linejoin:miter;\"/>\n   </g>\n   <g id=\"text_13\">\n    <!-- Number of candidates -->\n    <g transform=\"translate(120.755125 18.14175)scale(0.144 -0.144)\">\n     <defs>\n      <path d=\"M 9.8125 72.90625 \nL 23.09375 72.90625 \nL 55.421875 11.921875 \nL 55.421875 72.90625 \nL 64.984375 72.90625 \nL 64.984375 0 \nL 51.703125 0 \nL 19.390625 60.984375 \nL 19.390625 0 \nL 9.8125 0 \nz\n\" id=\"DejaVuSans-78\"/>\n      <path d=\"M 8.5 21.578125 \nL 8.5 54.6875 \nL 17.484375 54.6875 \nL 17.484375 21.921875 \nQ 17.484375 14.15625 20.5 10.265625 \nQ 23.53125 6.390625 29.59375 6.390625 \nQ 36.859375 6.390625 41.078125 11.03125 \nQ 45.3125 15.671875 45.3125 23.6875 \nL 45.3125 54.6875 \nL 54.296875 54.6875 \nL 54.296875 0 \nL 45.3125 0 \nL 45.3125 8.40625 \nQ 42.046875 3.421875 37.71875 1 \nQ 33.40625 -1.421875 27.6875 -1.421875 \nQ 18.265625 -1.421875 13.375 4.4375 \nQ 8.5 10.296875 8.5 21.578125 \nz\nM 31.109375 56 \nz\n\" id=\"DejaVuSans-117\"/>\n      <path d=\"M 52 44.1875 \nQ 55.375 50.25 60.0625 53.125 \nQ 64.75 56 71.09375 56 \nQ 79.640625 56 84.28125 50.015625 \nQ 88.921875 44.046875 88.921875 33.015625 \nL 88.921875 0 \nL 79.890625 0 \nL 79.890625 32.71875 \nQ 79.890625 40.578125 77.09375 44.375 \nQ 74.3125 48.1875 68.609375 48.1875 \nQ 61.625 48.1875 57.5625 43.546875 \nQ 53.515625 38.921875 53.515625 30.90625 \nL 53.515625 0 \nL 44.484375 0 \nL 44.484375 32.71875 \nQ 44.484375 40.625 41.703125 44.40625 \nQ 38.921875 48.1875 33.109375 48.1875 \nQ 26.21875 48.1875 22.15625 43.53125 \nQ 18.109375 38.875 18.109375 30.90625 \nL 18.109375 0 \nL 9.078125 0 \nL 9.078125 54.6875 \nL 18.109375 54.6875 \nL 18.109375 46.1875 \nQ 21.1875 51.21875 25.484375 53.609375 \nQ 29.78125 56 35.6875 56 \nQ 41.65625 56 45.828125 52.96875 \nQ 50 49.953125 52 44.1875 \nz\n\" id=\"DejaVuSans-109\"/>\n      <path d=\"M 48.6875 27.296875 \nQ 48.6875 37.203125 44.609375 42.84375 \nQ 40.53125 48.484375 33.40625 48.484375 \nQ 26.265625 48.484375 22.1875 42.84375 \nQ 18.109375 37.203125 18.109375 27.296875 \nQ 18.109375 17.390625 22.1875 11.75 \nQ 26.265625 6.109375 33.40625 6.109375 \nQ 40.53125 6.109375 44.609375 11.75 \nQ 48.6875 17.390625 48.6875 27.296875 \nz\nM 18.109375 46.390625 \nQ 20.953125 51.265625 25.265625 53.625 \nQ 29.59375 56 35.59375 56 \nQ 45.5625 56 51.78125 48.09375 \nQ 58.015625 40.1875 58.015625 27.296875 \nQ 58.015625 14.40625 51.78125 6.484375 \nQ 45.5625 -1.421875 35.59375 -1.421875 \nQ 29.59375 -1.421875 25.265625 0.953125 \nQ 20.953125 3.328125 18.109375 8.203125 \nL 18.109375 0 \nL 9.078125 0 \nL 9.078125 75.984375 \nL 18.109375 75.984375 \nz\n\" id=\"DejaVuSans-98\"/>\n      <path d=\"M 56.203125 29.59375 \nL 56.203125 25.203125 \nL 14.890625 25.203125 \nQ 15.484375 15.921875 20.484375 11.0625 \nQ 25.484375 6.203125 34.421875 6.203125 \nQ 39.59375 6.203125 44.453125 7.46875 \nQ 49.3125 8.734375 54.109375 11.28125 \nL 54.109375 2.78125 \nQ 49.265625 0.734375 44.1875 -0.34375 \nQ 39.109375 -1.421875 33.890625 -1.421875 \nQ 20.796875 -1.421875 13.15625 6.1875 \nQ 5.515625 13.8125 5.515625 26.8125 \nQ 5.515625 40.234375 12.765625 48.109375 \nQ 20.015625 56 32.328125 56 \nQ 43.359375 56 49.78125 48.890625 \nQ 56.203125 41.796875 56.203125 29.59375 \nz\nM 47.21875 32.234375 \nQ 47.125 39.59375 43.09375 43.984375 \nQ 39.0625 48.390625 32.421875 48.390625 \nQ 24.90625 48.390625 20.390625 44.140625 \nQ 15.875 39.890625 15.1875 32.171875 \nz\n\" id=\"DejaVuSans-101\"/>\n      <path d=\"M 41.109375 46.296875 \nQ 39.59375 47.171875 37.8125 47.578125 \nQ 36.03125 48 33.890625 48 \nQ 26.265625 48 22.1875 43.046875 \nQ 18.109375 38.09375 18.109375 28.8125 \nL 18.109375 0 \nL 9.078125 0 \nL 9.078125 54.6875 \nL 18.109375 54.6875 \nL 18.109375 46.1875 \nQ 20.953125 51.171875 25.484375 53.578125 \nQ 30.03125 56 36.53125 56 \nQ 37.453125 56 38.578125 55.875 \nQ 39.703125 55.765625 41.0625 55.515625 \nz\n\" id=\"DejaVuSans-114\"/>\n      <path id=\"DejaVuSans-32\"/>\n      <path d=\"M 30.609375 48.390625 \nQ 23.390625 48.390625 19.1875 42.75 \nQ 14.984375 37.109375 14.984375 27.296875 \nQ 14.984375 17.484375 19.15625 11.84375 \nQ 23.34375 6.203125 30.609375 6.203125 \nQ 37.796875 6.203125 41.984375 11.859375 \nQ 46.1875 17.53125 46.1875 27.296875 \nQ 46.1875 37.015625 41.984375 42.703125 \nQ 37.796875 48.390625 30.609375 48.390625 \nz\nM 30.609375 56 \nQ 42.328125 56 49.015625 48.375 \nQ 55.71875 40.765625 55.71875 27.296875 \nQ 55.71875 13.875 49.015625 6.21875 \nQ 42.328125 -1.421875 30.609375 -1.421875 \nQ 18.84375 -1.421875 12.171875 6.21875 \nQ 5.515625 13.875 5.515625 27.296875 \nQ 5.515625 40.765625 12.171875 48.375 \nQ 18.84375 56 30.609375 56 \nz\n\" id=\"DejaVuSans-111\"/>\n      <path d=\"M 37.109375 75.984375 \nL 37.109375 68.5 \nL 28.515625 68.5 \nQ 23.6875 68.5 21.796875 66.546875 \nQ 19.921875 64.59375 19.921875 59.515625 \nL 19.921875 54.6875 \nL 34.71875 54.6875 \nL 34.71875 47.703125 \nL 19.921875 47.703125 \nL 19.921875 0 \nL 10.890625 0 \nL 10.890625 47.703125 \nL 2.296875 47.703125 \nL 2.296875 54.6875 \nL 10.890625 54.6875 \nL 10.890625 58.5 \nQ 10.890625 67.625 15.140625 71.796875 \nQ 19.390625 75.984375 28.609375 75.984375 \nz\n\" id=\"DejaVuSans-102\"/>\n      <path d=\"M 48.78125 52.59375 \nL 48.78125 44.1875 \nQ 44.96875 46.296875 41.140625 47.34375 \nQ 37.3125 48.390625 33.40625 48.390625 \nQ 24.65625 48.390625 19.8125 42.84375 \nQ 14.984375 37.3125 14.984375 27.296875 \nQ 14.984375 17.28125 19.8125 11.734375 \nQ 24.65625 6.203125 33.40625 6.203125 \nQ 37.3125 6.203125 41.140625 7.25 \nQ 44.96875 8.296875 48.78125 10.40625 \nL 48.78125 2.09375 \nQ 45.015625 0.34375 40.984375 -0.53125 \nQ 36.96875 -1.421875 32.421875 -1.421875 \nQ 20.0625 -1.421875 12.78125 6.34375 \nQ 5.515625 14.109375 5.515625 27.296875 \nQ 5.515625 40.671875 12.859375 48.328125 \nQ 20.21875 56 33.015625 56 \nQ 37.15625 56 41.109375 55.140625 \nQ 45.0625 54.296875 48.78125 52.59375 \nz\n\" id=\"DejaVuSans-99\"/>\n      <path d=\"M 34.28125 27.484375 \nQ 23.390625 27.484375 19.1875 25 \nQ 14.984375 22.515625 14.984375 16.5 \nQ 14.984375 11.71875 18.140625 8.90625 \nQ 21.296875 6.109375 26.703125 6.109375 \nQ 34.1875 6.109375 38.703125 11.40625 \nQ 43.21875 16.703125 43.21875 25.484375 \nL 43.21875 27.484375 \nz\nM 52.203125 31.203125 \nL 52.203125 0 \nL 43.21875 0 \nL 43.21875 8.296875 \nQ 40.140625 3.328125 35.546875 0.953125 \nQ 30.953125 -1.421875 24.3125 -1.421875 \nQ 15.921875 -1.421875 10.953125 3.296875 \nQ 6 8.015625 6 15.921875 \nQ 6 25.140625 12.171875 29.828125 \nQ 18.359375 34.515625 30.609375 34.515625 \nL 43.21875 34.515625 \nL 43.21875 35.40625 \nQ 43.21875 41.609375 39.140625 45 \nQ 35.0625 48.390625 27.6875 48.390625 \nQ 23 48.390625 18.546875 47.265625 \nQ 14.109375 46.140625 10.015625 43.890625 \nL 10.015625 52.203125 \nQ 14.9375 54.109375 19.578125 55.046875 \nQ 24.21875 56 28.609375 56 \nQ 40.484375 56 46.34375 49.84375 \nQ 52.203125 43.703125 52.203125 31.203125 \nz\n\" id=\"DejaVuSans-97\"/>\n      <path d=\"M 54.890625 33.015625 \nL 54.890625 0 \nL 45.90625 0 \nL 45.90625 32.71875 \nQ 45.90625 40.484375 42.875 44.328125 \nQ 39.84375 48.1875 33.796875 48.1875 \nQ 26.515625 48.1875 22.3125 43.546875 \nQ 18.109375 38.921875 18.109375 30.90625 \nL 18.109375 0 \nL 9.078125 0 \nL 9.078125 54.6875 \nL 18.109375 54.6875 \nL 18.109375 46.1875 \nQ 21.34375 51.125 25.703125 53.5625 \nQ 30.078125 56 35.796875 56 \nQ 45.21875 56 50.046875 50.171875 \nQ 54.890625 44.34375 54.890625 33.015625 \nz\n\" id=\"DejaVuSans-110\"/>\n      <path d=\"M 45.40625 46.390625 \nL 45.40625 75.984375 \nL 54.390625 75.984375 \nL 54.390625 0 \nL 45.40625 0 \nL 45.40625 8.203125 \nQ 42.578125 3.328125 38.25 0.953125 \nQ 33.9375 -1.421875 27.875 -1.421875 \nQ 17.96875 -1.421875 11.734375 6.484375 \nQ 5.515625 14.40625 5.515625 27.296875 \nQ 5.515625 40.1875 11.734375 48.09375 \nQ 17.96875 56 27.875 56 \nQ 33.9375 56 38.25 53.625 \nQ 42.578125 51.265625 45.40625 46.390625 \nz\nM 14.796875 27.296875 \nQ 14.796875 17.390625 18.875 11.75 \nQ 22.953125 6.109375 30.078125 6.109375 \nQ 37.203125 6.109375 41.296875 11.75 \nQ 45.40625 17.390625 45.40625 27.296875 \nQ 45.40625 37.203125 41.296875 42.84375 \nQ 37.203125 48.484375 30.078125 48.484375 \nQ 22.953125 48.484375 18.875 42.84375 \nQ 14.796875 37.203125 14.796875 27.296875 \nz\n\" id=\"DejaVuSans-100\"/>\n      <path d=\"M 9.421875 54.6875 \nL 18.40625 54.6875 \nL 18.40625 0 \nL 9.421875 0 \nz\nM 9.421875 75.984375 \nL 18.40625 75.984375 \nL 18.40625 64.59375 \nL 9.421875 64.59375 \nz\n\" id=\"DejaVuSans-105\"/>\n      <path d=\"M 18.3125 70.21875 \nL 18.3125 54.6875 \nL 36.8125 54.6875 \nL 36.8125 47.703125 \nL 18.3125 47.703125 \nL 18.3125 18.015625 \nQ 18.3125 11.328125 20.140625 9.421875 \nQ 21.96875 7.515625 27.59375 7.515625 \nL 36.8125 7.515625 \nL 36.8125 0 \nL 27.59375 0 \nQ 17.1875 0 13.234375 3.875 \nQ 9.28125 7.765625 9.28125 18.015625 \nL 9.28125 47.703125 \nL 2.6875 47.703125 \nL 2.6875 54.6875 \nL 9.28125 54.6875 \nL 9.28125 70.21875 \nz\n\" id=\"DejaVuSans-116\"/>\n      <path d=\"M 44.28125 53.078125 \nL 44.28125 44.578125 \nQ 40.484375 46.53125 36.375 47.5 \nQ 32.28125 48.484375 27.875 48.484375 \nQ 21.1875 48.484375 17.84375 46.4375 \nQ 14.5 44.390625 14.5 40.28125 \nQ 14.5 37.15625 16.890625 35.375 \nQ 19.28125 33.59375 26.515625 31.984375 \nL 29.59375 31.296875 \nQ 39.15625 29.25 43.1875 25.515625 \nQ 47.21875 21.78125 47.21875 15.09375 \nQ 47.21875 7.46875 41.1875 3.015625 \nQ 35.15625 -1.421875 24.609375 -1.421875 \nQ 20.21875 -1.421875 15.453125 -0.5625 \nQ 10.6875 0.296875 5.421875 2 \nL 5.421875 11.28125 \nQ 10.40625 8.6875 15.234375 7.390625 \nQ 20.0625 6.109375 24.8125 6.109375 \nQ 31.15625 6.109375 34.5625 8.28125 \nQ 37.984375 10.453125 37.984375 14.40625 \nQ 37.984375 18.0625 35.515625 20.015625 \nQ 33.0625 21.96875 24.703125 23.78125 \nL 21.578125 24.515625 \nQ 13.234375 26.265625 9.515625 29.90625 \nQ 5.8125 33.546875 5.8125 39.890625 \nQ 5.8125 47.609375 11.28125 51.796875 \nQ 16.75 56 26.8125 56 \nQ 31.78125 56 36.171875 55.265625 \nQ 40.578125 54.546875 44.28125 53.078125 \nz\n\" id=\"DejaVuSans-115\"/>\n     </defs>\n     <use xlink:href=\"#DejaVuSans-78\"/>\n     <use x=\"74.804688\" xlink:href=\"#DejaVuSans-117\"/>\n     <use x=\"138.183594\" xlink:href=\"#DejaVuSans-109\"/>\n     <use x=\"235.595703\" xlink:href=\"#DejaVuSans-98\"/>\n     <use x=\"299.072266\" xlink:href=\"#DejaVuSans-101\"/>\n     <use x=\"360.595703\" xlink:href=\"#DejaVuSans-114\"/>\n     <use x=\"401.708984\" xlink:href=\"#DejaVuSans-32\"/>\n     <use x=\"433.496094\" xlink:href=\"#DejaVuSans-111\"/>\n     <use x=\"494.677734\" xlink:href=\"#DejaVuSans-102\"/>\n     <use x=\"529.882812\" xlink:href=\"#DejaVuSans-32\"/>\n     <use x=\"561.669922\" xlink:href=\"#DejaVuSans-99\"/>\n     <use x=\"616.650391\" xlink:href=\"#DejaVuSans-97\"/>\n     <use x=\"677.929688\" xlink:href=\"#DejaVuSans-110\"/>\n     <use x=\"741.308594\" xlink:href=\"#DejaVuSans-100\"/>\n     <use x=\"804.785156\" xlink:href=\"#DejaVuSans-105\"/>\n     <use x=\"832.568359\" xlink:href=\"#DejaVuSans-100\"/>\n     <use x=\"896.044922\" xlink:href=\"#DejaVuSans-97\"/>\n     <use x=\"957.324219\" xlink:href=\"#DejaVuSans-116\"/>\n     <use x=\"996.533203\" xlink:href=\"#DejaVuSans-101\"/>\n     <use x=\"1058.056641\" xlink:href=\"#DejaVuSans-115\"/>\n    </g>\n   </g>\n  </g>\n </g>\n <defs>\n  <clipPath id=\"pb176e7fe74\">\n   <rect height=\"217.44\" width=\"334.8\" x=\"33.2875\" y=\"24.14175\"/>\n  </clipPath>\n </defs>\n</svg>\n",
      "image/png": "[encoded data removed]"
     },
     "metadata": {}
    }
   ],
   "source": [
    "cd_num_counts = pandas.DataFrame([len(result[\"result\"]) for result in results], columns=[\"cd_num\"])\n",
    "cd_occ_counts =  cd_num_counts.groupby(\"cd_num\").size().to_frame(\"count\")\n",
    "\n",
    "plt.bar(cd_occ_counts.index, cd_occ_counts[\"count\"])\n",
    "plt.title(\"Number of candidates\")\n",
    "plt.style.use(\"ggplot\")"
   ]
  },
  {
   "cell_type": "code",
   "execution_count": 412,
   "metadata": {},
   "outputs": [
    {
     "output_type": "execute_result",
     "data": {
      "text/plain": [
       "                                                              name  \\\n",
       "id                                                                   \n",
       "00023638949ec143e690ae151d28e389574f07dc         Philip Wohlgemuth   \n",
       "001d48bf2913572202d88f00e35262f490771b40       Waltraud Ungersböck   \n",
       "00ad3c5b5a651f6e00080803ffefb1d306c6d027            Armin Forstner   \n",
       "00def69ad3d13efe8151da80f1485a692954d183             Silvia Janoch   \n",
       "00e70efc17aff680e675349ca87d7b80be04c452            Elvira Schmidt   \n",
       "...                                                            ...   \n",
       "fcc94a122228733902b6f601abc54631aa205a4b      Elisabeth Weitgasser   \n",
       "fd6b5ddebf7ed34449bac5a96eb2acbdbf5e4a3e         Elisabeth Trummer   \n",
       "fdc8f2275cf8bea8331ea4a779755915d0c29363            Daniela Schmid   \n",
       "fe532c498a07fc06380579af855e68389239c43b  Andrea Michaela Schartel   \n",
       "fea62afd157dd3f7ec3253d21547bb3b0a6f30bf  Irene Neumann-Hartberger   \n",
       "\n",
       "                                            cd_wd_id  \\\n",
       "id                                                     \n",
       "00023638949ec143e690ae151d28e389574f07dc   Q51533040   \n",
       "001d48bf2913572202d88f00e35262f490771b40   Q81526090   \n",
       "00ad3c5b5a651f6e00080803ffefb1d306c6d027   Q20752545   \n",
       "00def69ad3d13efe8151da80f1485a692954d183  Q102353097   \n",
       "00e70efc17aff680e675349ca87d7b80be04c452   Q50843964   \n",
       "...                                              ...   \n",
       "fcc94a122228733902b6f601abc54631aa205a4b   Q54956531   \n",
       "fd6b5ddebf7ed34449bac5a96eb2acbdbf5e4a3e   Q84091498   \n",
       "fdc8f2275cf8bea8331ea4a779755915d0c29363   Q87653139   \n",
       "fe532c498a07fc06380579af855e68389239c43b   Q19501935   \n",
       "fea62afd157dd3f7ec3253d21547bb3b0a6f30bf   Q81616188   \n",
       "\n",
       "                                                           cd_name  \\\n",
       "id                                                                   \n",
       "00023638949ec143e690ae151d28e389574f07dc         Philip Wohlgemuth   \n",
       "001d48bf2913572202d88f00e35262f490771b40       Waltraud Ungersböck   \n",
       "00ad3c5b5a651f6e00080803ffefb1d306c6d027            Armin Forstner   \n",
       "00def69ad3d13efe8151da80f1485a692954d183             Silvia Janoch   \n",
       "00e70efc17aff680e675349ca87d7b80be04c452            Elvira Schmidt   \n",
       "...                                                            ...   \n",
       "fcc94a122228733902b6f601abc54631aa205a4b      Elisabeth Weitgasser   \n",
       "fd6b5ddebf7ed34449bac5a96eb2acbdbf5e4a3e         Elisabeth Trummer   \n",
       "fdc8f2275cf8bea8331ea4a779755915d0c29363            Daniela Schmid   \n",
       "fe532c498a07fc06380579af855e68389239c43b  Andrea-Michaela Schartel   \n",
       "fea62afd157dd3f7ec3253d21547bb3b0a6f30bf  Irene Neumann-Hartberger   \n",
       "\n",
       "                                          cd_match_estimate   cd_score  \\\n",
       "id                                                                       \n",
       "00023638949ec143e690ae151d28e389574f07dc               True  76.470588   \n",
       "001d48bf2913572202d88f00e35262f490771b40               True  76.470588   \n",
       "00ad3c5b5a651f6e00080803ffefb1d306c6d027              False  64.705882   \n",
       "00def69ad3d13efe8151da80f1485a692954d183              False  47.368421   \n",
       "00e70efc17aff680e675349ca87d7b80be04c452               True  76.470588   \n",
       "...                                                     ...        ...   \n",
       "fcc94a122228733902b6f601abc54631aa205a4b              False  64.705882   \n",
       "fd6b5ddebf7ed34449bac5a96eb2acbdbf5e4a3e               True  76.470588   \n",
       "fdc8f2275cf8bea8331ea4a779755915d0c29363              False  69.230769   \n",
       "fe532c498a07fc06380579af855e68389239c43b               True  76.470588   \n",
       "fea62afd157dd3f7ec3253d21547bb3b0a6f30bf               True  76.470588   \n",
       "\n",
       "                                            wikidata  match  \n",
       "id                                                           \n",
       "00023638949ec143e690ae151d28e389574f07dc   Q51533040   True  \n",
       "001d48bf2913572202d88f00e35262f490771b40   Q81526090   True  \n",
       "00ad3c5b5a651f6e00080803ffefb1d306c6d027   Q20752545   True  \n",
       "00def69ad3d13efe8151da80f1485a692954d183  Q102353097   True  \n",
       "00e70efc17aff680e675349ca87d7b80be04c452   Q50843964   True  \n",
       "...                                              ...    ...  \n",
       "fcc94a122228733902b6f601abc54631aa205a4b   Q54956531   True  \n",
       "fd6b5ddebf7ed34449bac5a96eb2acbdbf5e4a3e   Q84091498   True  \n",
       "fdc8f2275cf8bea8331ea4a779755915d0c29363         NaN  False  \n",
       "fe532c498a07fc06380579af855e68389239c43b   Q19501935   True  \n",
       "fea62afd157dd3f7ec3253d21547bb3b0a6f30bf   Q81616188   True  \n",
       "\n",
       "[766 rows x 7 columns]"
      ],
      "text/html": "<div>\n<style scoped>\n    .dataframe tbody tr th:only-of-type {\n        vertical-align: middle;\n    }\n\n    .dataframe tbody tr th {\n        vertical-align: top;\n    }\n\n    .dataframe thead th {\n        text-align: right;\n    }\n</style>\n<table border=\"1\" class=\"dataframe\">\n  <thead>\n    <tr style=\"text-align: right;\">\n      <th></th>\n      <th>name</th>\n      <th>cd_wd_id</th>\n      <th>cd_name</th>\n      <th>cd_match_estimate</th>\n      <th>cd_score</th>\n      <th>wikidata</th>\n      <th>match</th>\n    </tr>\n    <tr>\n      <th>id</th>\n      <th></th>\n      <th></th>\n      <th></th>\n      <th></th>\n      <th></th>\n      <th></th>\n      <th></th>\n    </tr>\n  </thead>\n  <tbody>\n    <tr>\n      <th>00023638949ec143e690ae151d28e389574f07dc</th>\n      <td>Philip Wohlgemuth</td>\n      <td>Q51533040</td>\n      <td>Philip Wohlgemuth</td>\n      <td>True</td>\n      <td>76.470588</td>\n      <td>Q51533040</td>\n      <td>True</td>\n    </tr>\n    <tr>\n      <th>001d48bf2913572202d88f00e35262f490771b40</th>\n      <td>Waltraud Ungersböck</td>\n      <td>Q81526090</td>\n      <td>Waltraud Ungersböck</td>\n      <td>True</td>\n      <td>76.470588</td>\n      <td>Q81526090</td>\n      <td>True</td>\n    </tr>\n    <tr>\n      <th>00ad3c5b5a651f6e00080803ffefb1d306c6d027</th>\n      <td>Armin Forstner</td>\n      <td>Q20752545</td>\n      <td>Armin Forstner</td>\n      <td>False</td>\n      <td>64.705882</td>\n      <td>Q20752545</td>\n      <td>True</td>\n    </tr>\n    <tr>\n      <th>00def69ad3d13efe8151da80f1485a692954d183</th>\n      <td>Silvia Janoch</td>\n      <td>Q102353097</td>\n      <td>Silvia Janoch</td>\n      <td>False</td>\n      <td>47.368421</td>\n      <td>Q102353097</td>\n      <td>True</td>\n    </tr>\n    <tr>\n      <th>00e70efc17aff680e675349ca87d7b80be04c452</th>\n      <td>Elvira Schmidt</td>\n      <td>Q50843964</td>\n      <td>Elvira Schmidt</td>\n      <td>True</td>\n      <td>76.470588</td>\n      <td>Q50843964</td>\n      <td>True</td>\n    </tr>\n    <tr>\n      <th>...</th>\n      <td>...</td>\n      <td>...</td>\n      <td>...</td>\n      <td>...</td>\n      <td>...</td>\n      <td>...</td>\n      <td>...</td>\n    </tr>\n    <tr>\n      <th>fcc94a122228733902b6f601abc54631aa205a4b</th>\n      <td>Elisabeth Weitgasser</td>\n      <td>Q54956531</td>\n      <td>Elisabeth Weitgasser</td>\n      <td>False</td>\n      <td>64.705882</td>\n      <td>Q54956531</td>\n      <td>True</td>\n    </tr>\n    <tr>\n      <th>fd6b5ddebf7ed34449bac5a96eb2acbdbf5e4a3e</th>\n      <td>Elisabeth Trummer</td>\n      <td>Q84091498</td>\n      <td>Elisabeth Trummer</td>\n      <td>True</td>\n      <td>76.470588</td>\n      <td>Q84091498</td>\n      <td>True</td>\n    </tr>\n    <tr>\n      <th>fdc8f2275cf8bea8331ea4a779755915d0c29363</th>\n      <td>Daniela Schmid</td>\n      <td>Q87653139</td>\n      <td>Daniela Schmid</td>\n      <td>False</td>\n      <td>69.230769</td>\n      <td>NaN</td>\n      <td>False</td>\n    </tr>\n    <tr>\n      <th>fe532c498a07fc06380579af855e68389239c43b</th>\n      <td>Andrea Michaela Schartel</td>\n      <td>Q19501935</td>\n      <td>Andrea-Michaela Schartel</td>\n      <td>True</td>\n      <td>76.470588</td>\n      <td>Q19501935</td>\n      <td>True</td>\n    </tr>\n    <tr>\n      <th>fea62afd157dd3f7ec3253d21547bb3b0a6f30bf</th>\n      <td>Irene Neumann-Hartberger</td>\n      <td>Q81616188</td>\n      <td>Irene Neumann-Hartberger</td>\n      <td>True</td>\n      <td>76.470588</td>\n      <td>Q81616188</td>\n      <td>True</td>\n    </tr>\n  </tbody>\n</table>\n<p>766 rows × 7 columns</p>\n</div>"
     },
     "metadata": {},
     "execution_count": 412
    }
   ],
   "source": [
    "#cd_table[\"is_match\"] = cd_table[\"match\"] and (cd_table[\"cd_wd_id\"] == cd_table[\"wikidata\"]] \n",
    "cd_first_candidate = cd_table.groupby(\"id\").first()\n",
    "cd_first_candidate"
   ]
  },
  {
   "cell_type": "code",
   "execution_count": 414,
   "metadata": {},
   "outputs": [
    {
     "output_type": "execute_result",
     "data": {
      "text/plain": [
       "Text(0.5, 1.0, 'Well known entities - Number of items existing on Wikidata')"
      ]
     },
     "metadata": {},
     "execution_count": 414
    },
    {
     "output_type": "display_data",
     "data": {
      "text/plain": "<Figure size 432x288 with 1 Axes>",
      "image/svg+xml": "<?xml version=\"1.0\" encoding=\"utf-8\" standalone=\"no\"?>\n<!DOCTYPE svg PUBLIC \"-//W3C//DTD SVG 1.1//EN\"\n  \"http://www.w3.org/Graphics/SVG/1.1/DTD/svg11.dtd\">\n<!-- Created with matplotlib (https://matplotlib.org/) -->\n<svg height=\"265.459875pt\" version=\"1.1\" viewBox=\"0 0 440.79075 265.459875\" width=\"440.79075pt\" xmlns=\"http://www.w3.org/2000/svg\" xmlns:xlink=\"http://www.w3.org/1999/xlink\">\n <metadata>\n  <rdf:RDF xmlns:cc=\"http://creativecommons.org/ns#\" xmlns:dc=\"http://purl.org/dc/elements/1.1/\" xmlns:rdf=\"http://www.w3.org/1999/02/22-rdf-syntax-ns#\">\n   <cc:Work>\n    <dc:type rdf:resource=\"http://purl.org/dc/dcmitype/StillImage\"/>\n    <dc:date>2021-04-16T22:19:20.075101</dc:date>\n    <dc:format>image/svg+xml</dc:format>\n    <dc:creator>\n     <cc:Agent>\n      <dc:title>Matplotlib v3.3.3, https://matplotlib.org/</dc:title>\n     </cc:Agent>\n    </dc:creator>\n   </cc:Work>\n  </rdf:RDF>\n </metadata>\n <defs>\n  <style type=\"text/css\">*{stroke-linecap:butt;stroke-linejoin:round;}</style>\n </defs>\n <g id=\"figure_1\">\n  <g id=\"patch_1\">\n   <path d=\"M 0 265.459875 \nL 440.79075 265.459875 \nL 440.79075 0 \nL 0 0 \nz\n\" style=\"fill:#ffffff;\"/>\n  </g>\n  <g id=\"axes_1\">\n   <g id=\"patch_2\">\n    <path d=\"M 52.995375 241.58175 \nL 387.795375 241.58175 \nL 387.795375 24.14175 \nL 52.995375 24.14175 \nz\n\" style=\"fill:#e5e5e5;\"/>\n   </g>\n   <g id=\"matplotlib.axis_1\">\n    <g id=\"xtick_1\">\n     <g id=\"line2d_1\">\n      <path clip-path=\"url(#p0a9a2aff77)\" d=\"M 135.84992 241.58175 \nL 135.84992 24.14175 \n\" style=\"fill:none;stroke:#ffffff;stroke-linecap:square;stroke-width:0.8;\"/>\n     </g>\n     <g id=\"line2d_2\">\n      <defs>\n       <path d=\"M 0 0 \nL 0 3.5 \n\" id=\"m5bbd650426\" style=\"stroke:#555555;stroke-width:0.8;\"/>\n      </defs>\n      <g>\n       <use style=\"fill:#555555;stroke:#555555;stroke-width:0.8;\" x=\"135.84992\" xlink:href=\"#m5bbd650426\" y=\"241.58175\"/>\n      </g>\n     </g>\n     <g id=\"text_1\">\n      <!-- True -->\n      <g style=\"fill:#555555;\" transform=\"translate(125.232733 256.180187)scale(0.1 -0.1)\">\n       <defs>\n        <path d=\"M -0.296875 72.90625 \nL 61.375 72.90625 \nL 61.375 64.59375 \nL 35.5 64.59375 \nL 35.5 0 \nL 25.59375 0 \nL 25.59375 64.59375 \nL -0.296875 64.59375 \nz\n\" id=\"DejaVuSans-84\"/>\n        <path d=\"M 41.109375 46.296875 \nQ 39.59375 47.171875 37.8125 47.578125 \nQ 36.03125 48 33.890625 48 \nQ 26.265625 48 22.1875 43.046875 \nQ 18.109375 38.09375 18.109375 28.8125 \nL 18.109375 0 \nL 9.078125 0 \nL 9.078125 54.6875 \nL 18.109375 54.6875 \nL 18.109375 46.1875 \nQ 20.953125 51.171875 25.484375 53.578125 \nQ 30.03125 56 36.53125 56 \nQ 37.453125 56 38.578125 55.875 \nQ 39.703125 55.765625 41.0625 55.515625 \nz\n\" id=\"DejaVuSans-114\"/>\n        <path d=\"M 8.5 21.578125 \nL 8.5 54.6875 \nL 17.484375 54.6875 \nL 17.484375 21.921875 \nQ 17.484375 14.15625 20.5 10.265625 \nQ 23.53125 6.390625 29.59375 6.390625 \nQ 36.859375 6.390625 41.078125 11.03125 \nQ 45.3125 15.671875 45.3125 23.6875 \nL 45.3125 54.6875 \nL 54.296875 54.6875 \nL 54.296875 0 \nL 45.3125 0 \nL 45.3125 8.40625 \nQ 42.046875 3.421875 37.71875 1 \nQ 33.40625 -1.421875 27.6875 -1.421875 \nQ 18.265625 -1.421875 13.375 4.4375 \nQ 8.5 10.296875 8.5 21.578125 \nz\nM 31.109375 56 \nz\n\" id=\"DejaVuSans-117\"/>\n        <path d=\"M 56.203125 29.59375 \nL 56.203125 25.203125 \nL 14.890625 25.203125 \nQ 15.484375 15.921875 20.484375 11.0625 \nQ 25.484375 6.203125 34.421875 6.203125 \nQ 39.59375 6.203125 44.453125 7.46875 \nQ 49.3125 8.734375 54.109375 11.28125 \nL 54.109375 2.78125 \nQ 49.265625 0.734375 44.1875 -0.34375 \nQ 39.109375 -1.421875 33.890625 -1.421875 \nQ 20.796875 -1.421875 13.15625 6.1875 \nQ 5.515625 13.8125 5.515625 26.8125 \nQ 5.515625 40.234375 12.765625 48.109375 \nQ 20.015625 56 32.328125 56 \nQ 43.359375 56 49.78125 48.890625 \nQ 56.203125 41.796875 56.203125 29.59375 \nz\nM 47.21875 32.234375 \nQ 47.125 39.59375 43.09375 43.984375 \nQ 39.0625 48.390625 32.421875 48.390625 \nQ 24.90625 48.390625 20.390625 44.140625 \nQ 15.875 39.890625 15.1875 32.171875 \nz\n\" id=\"DejaVuSans-101\"/>\n       </defs>\n       <use xlink:href=\"#DejaVuSans-84\"/>\n       <use x=\"46.333984\" xlink:href=\"#DejaVuSans-114\"/>\n       <use x=\"87.447266\" xlink:href=\"#DejaVuSans-117\"/>\n       <use x=\"150.826172\" xlink:href=\"#DejaVuSans-101\"/>\n      </g>\n     </g>\n    </g>\n    <g id=\"xtick_2\">\n     <g id=\"line2d_3\">\n      <path clip-path=\"url(#p0a9a2aff77)\" d=\"M 304.94083 241.58175 \nL 304.94083 24.14175 \n\" style=\"fill:none;stroke:#ffffff;stroke-linecap:square;stroke-width:0.8;\"/>\n     </g>\n     <g id=\"line2d_4\">\n      <g>\n       <use style=\"fill:#555555;stroke:#555555;stroke-width:0.8;\" x=\"304.94083\" xlink:href=\"#m5bbd650426\" y=\"241.58175\"/>\n      </g>\n     </g>\n     <g id=\"text_2\">\n      <!-- False -->\n      <g style=\"fill:#555555;\" transform=\"translate(292.386923 256.180187)scale(0.1 -0.1)\">\n       <defs>\n        <path d=\"M 9.8125 72.90625 \nL 51.703125 72.90625 \nL 51.703125 64.59375 \nL 19.671875 64.59375 \nL 19.671875 43.109375 \nL 48.578125 43.109375 \nL 48.578125 34.8125 \nL 19.671875 34.8125 \nL 19.671875 0 \nL 9.8125 0 \nz\n\" id=\"DejaVuSans-70\"/>\n        <path d=\"M 34.28125 27.484375 \nQ 23.390625 27.484375 19.1875 25 \nQ 14.984375 22.515625 14.984375 16.5 \nQ 14.984375 11.71875 18.140625 8.90625 \nQ 21.296875 6.109375 26.703125 6.109375 \nQ 34.1875 6.109375 38.703125 11.40625 \nQ 43.21875 16.703125 43.21875 25.484375 \nL 43.21875 27.484375 \nz\nM 52.203125 31.203125 \nL 52.203125 0 \nL 43.21875 0 \nL 43.21875 8.296875 \nQ 40.140625 3.328125 35.546875 0.953125 \nQ 30.953125 -1.421875 24.3125 -1.421875 \nQ 15.921875 -1.421875 10.953125 3.296875 \nQ 6 8.015625 6 15.921875 \nQ 6 25.140625 12.171875 29.828125 \nQ 18.359375 34.515625 30.609375 34.515625 \nL 43.21875 34.515625 \nL 43.21875 35.40625 \nQ 43.21875 41.609375 39.140625 45 \nQ 35.0625 48.390625 27.6875 48.390625 \nQ 23 48.390625 18.546875 47.265625 \nQ 14.109375 46.140625 10.015625 43.890625 \nL 10.015625 52.203125 \nQ 14.9375 54.109375 19.578125 55.046875 \nQ 24.21875 56 28.609375 56 \nQ 40.484375 56 46.34375 49.84375 \nQ 52.203125 43.703125 52.203125 31.203125 \nz\n\" id=\"DejaVuSans-97\"/>\n        <path d=\"M 9.421875 75.984375 \nL 18.40625 75.984375 \nL 18.40625 0 \nL 9.421875 0 \nz\n\" id=\"DejaVuSans-108\"/>\n        <path d=\"M 44.28125 53.078125 \nL 44.28125 44.578125 \nQ 40.484375 46.53125 36.375 47.5 \nQ 32.28125 48.484375 27.875 48.484375 \nQ 21.1875 48.484375 17.84375 46.4375 \nQ 14.5 44.390625 14.5 40.28125 \nQ 14.5 37.15625 16.890625 35.375 \nQ 19.28125 33.59375 26.515625 31.984375 \nL 29.59375 31.296875 \nQ 39.15625 29.25 43.1875 25.515625 \nQ 47.21875 21.78125 47.21875 15.09375 \nQ 47.21875 7.46875 41.1875 3.015625 \nQ 35.15625 -1.421875 24.609375 -1.421875 \nQ 20.21875 -1.421875 15.453125 -0.5625 \nQ 10.6875 0.296875 5.421875 2 \nL 5.421875 11.28125 \nQ 10.40625 8.6875 15.234375 7.390625 \nQ 20.0625 6.109375 24.8125 6.109375 \nQ 31.15625 6.109375 34.5625 8.28125 \nQ 37.984375 10.453125 37.984375 14.40625 \nQ 37.984375 18.0625 35.515625 20.015625 \nQ 33.0625 21.96875 24.703125 23.78125 \nL 21.578125 24.515625 \nQ 13.234375 26.265625 9.515625 29.90625 \nQ 5.8125 33.546875 5.8125 39.890625 \nQ 5.8125 47.609375 11.28125 51.796875 \nQ 16.75 56 26.8125 56 \nQ 31.78125 56 36.171875 55.265625 \nQ 40.578125 54.546875 44.28125 53.078125 \nz\n\" id=\"DejaVuSans-115\"/>\n       </defs>\n       <use xlink:href=\"#DejaVuSans-70\"/>\n       <use x=\"48.394531\" xlink:href=\"#DejaVuSans-97\"/>\n       <use x=\"109.673828\" xlink:href=\"#DejaVuSans-108\"/>\n       <use x=\"137.457031\" xlink:href=\"#DejaVuSans-115\"/>\n       <use x=\"189.556641\" xlink:href=\"#DejaVuSans-101\"/>\n      </g>\n     </g>\n    </g>\n   </g>\n   <g id=\"matplotlib.axis_2\">\n    <g id=\"ytick_1\">\n     <g id=\"line2d_5\">\n      <path clip-path=\"url(#p0a9a2aff77)\" d=\"M 52.995375 241.58175 \nL 387.795375 241.58175 \n\" style=\"fill:none;stroke:#ffffff;stroke-linecap:square;stroke-width:0.8;\"/>\n     </g>\n     <g id=\"line2d_6\">\n      <defs>\n       <path d=\"M 0 0 \nL -3.5 0 \n\" id=\"m524271bf45\" style=\"stroke:#555555;stroke-width:0.8;\"/>\n      </defs>\n      <g>\n       <use style=\"fill:#555555;stroke:#555555;stroke-width:0.8;\" x=\"52.995375\" xlink:href=\"#m524271bf45\" y=\"241.58175\"/>\n      </g>\n     </g>\n     <g id=\"text_3\">\n      <!-- 0 -->\n      <g style=\"fill:#555555;\" transform=\"translate(39.632875 245.380969)scale(0.1 -0.1)\">\n       <defs>\n        <path d=\"M 31.78125 66.40625 \nQ 24.171875 66.40625 20.328125 58.90625 \nQ 16.5 51.421875 16.5 36.375 \nQ 16.5 21.390625 20.328125 13.890625 \nQ 24.171875 6.390625 31.78125 6.390625 \nQ 39.453125 6.390625 43.28125 13.890625 \nQ 47.125 21.390625 47.125 36.375 \nQ 47.125 51.421875 43.28125 58.90625 \nQ 39.453125 66.40625 31.78125 66.40625 \nz\nM 31.78125 74.21875 \nQ 44.046875 74.21875 50.515625 64.515625 \nQ 56.984375 54.828125 56.984375 36.375 \nQ 56.984375 17.96875 50.515625 8.265625 \nQ 44.046875 -1.421875 31.78125 -1.421875 \nQ 19.53125 -1.421875 13.0625 8.265625 \nQ 6.59375 17.96875 6.59375 36.375 \nQ 6.59375 54.828125 13.0625 64.515625 \nQ 19.53125 74.21875 31.78125 74.21875 \nz\n\" id=\"DejaVuSans-48\"/>\n       </defs>\n       <use xlink:href=\"#DejaVuSans-48\"/>\n      </g>\n     </g>\n    </g>\n    <g id=\"ytick_2\">\n     <g id=\"line2d_7\">\n      <path clip-path=\"url(#p0a9a2aff77)\" d=\"M 52.995375 213.747649 \nL 387.795375 213.747649 \n\" style=\"fill:none;stroke:#ffffff;stroke-linecap:square;stroke-width:0.8;\"/>\n     </g>\n     <g id=\"line2d_8\">\n      <g>\n       <use style=\"fill:#555555;stroke:#555555;stroke-width:0.8;\" x=\"52.995375\" xlink:href=\"#m524271bf45\" y=\"213.747649\"/>\n      </g>\n     </g>\n     <g id=\"text_4\">\n      <!-- 100 -->\n      <g style=\"fill:#555555;\" transform=\"translate(26.907875 217.546867)scale(0.1 -0.1)\">\n       <defs>\n        <path d=\"M 12.40625 8.296875 \nL 28.515625 8.296875 \nL 28.515625 63.921875 \nL 10.984375 60.40625 \nL 10.984375 69.390625 \nL 28.421875 72.90625 \nL 38.28125 72.90625 \nL 38.28125 8.296875 \nL 54.390625 8.296875 \nL 54.390625 0 \nL 12.40625 0 \nz\n\" id=\"DejaVuSans-49\"/>\n       </defs>\n       <use xlink:href=\"#DejaVuSans-49\"/>\n       <use x=\"63.623047\" xlink:href=\"#DejaVuSans-48\"/>\n       <use x=\"127.246094\" xlink:href=\"#DejaVuSans-48\"/>\n      </g>\n     </g>\n    </g>\n    <g id=\"ytick_3\">\n     <g id=\"line2d_9\">\n      <path clip-path=\"url(#p0a9a2aff77)\" d=\"M 52.995375 185.913547 \nL 387.795375 185.913547 \n\" style=\"fill:none;stroke:#ffffff;stroke-linecap:square;stroke-width:0.8;\"/>\n     </g>\n     <g id=\"line2d_10\">\n      <g>\n       <use style=\"fill:#555555;stroke:#555555;stroke-width:0.8;\" x=\"52.995375\" xlink:href=\"#m524271bf45\" y=\"185.913547\"/>\n      </g>\n     </g>\n     <g id=\"text_5\">\n      <!-- 200 -->\n      <g style=\"fill:#555555;\" transform=\"translate(26.907875 189.712766)scale(0.1 -0.1)\">\n       <defs>\n        <path d=\"M 19.1875 8.296875 \nL 53.609375 8.296875 \nL 53.609375 0 \nL 7.328125 0 \nL 7.328125 8.296875 \nQ 12.9375 14.109375 22.625 23.890625 \nQ 32.328125 33.6875 34.8125 36.53125 \nQ 39.546875 41.84375 41.421875 45.53125 \nQ 43.3125 49.21875 43.3125 52.78125 \nQ 43.3125 58.59375 39.234375 62.25 \nQ 35.15625 65.921875 28.609375 65.921875 \nQ 23.96875 65.921875 18.8125 64.3125 \nQ 13.671875 62.703125 7.8125 59.421875 \nL 7.8125 69.390625 \nQ 13.765625 71.78125 18.9375 73 \nQ 24.125 74.21875 28.421875 74.21875 \nQ 39.75 74.21875 46.484375 68.546875 \nQ 53.21875 62.890625 53.21875 53.421875 \nQ 53.21875 48.921875 51.53125 44.890625 \nQ 49.859375 40.875 45.40625 35.40625 \nQ 44.1875 33.984375 37.640625 27.21875 \nQ 31.109375 20.453125 19.1875 8.296875 \nz\n\" id=\"DejaVuSans-50\"/>\n       </defs>\n       <use xlink:href=\"#DejaVuSans-50\"/>\n       <use x=\"63.623047\" xlink:href=\"#DejaVuSans-48\"/>\n       <use x=\"127.246094\" xlink:href=\"#DejaVuSans-48\"/>\n      </g>\n     </g>\n    </g>\n    <g id=\"ytick_4\">\n     <g id=\"line2d_11\">\n      <path clip-path=\"url(#p0a9a2aff77)\" d=\"M 52.995375 158.079446 \nL 387.795375 158.079446 \n\" style=\"fill:none;stroke:#ffffff;stroke-linecap:square;stroke-width:0.8;\"/>\n     </g>\n     <g id=\"line2d_12\">\n      <g>\n       <use style=\"fill:#555555;stroke:#555555;stroke-width:0.8;\" x=\"52.995375\" xlink:href=\"#m524271bf45\" y=\"158.079446\"/>\n      </g>\n     </g>\n     <g id=\"text_6\">\n      <!-- 300 -->\n      <g style=\"fill:#555555;\" transform=\"translate(26.907875 161.878665)scale(0.1 -0.1)\">\n       <defs>\n        <path d=\"M 40.578125 39.3125 \nQ 47.65625 37.796875 51.625 33 \nQ 55.609375 28.21875 55.609375 21.1875 \nQ 55.609375 10.40625 48.1875 4.484375 \nQ 40.765625 -1.421875 27.09375 -1.421875 \nQ 22.515625 -1.421875 17.65625 -0.515625 \nQ 12.796875 0.390625 7.625 2.203125 \nL 7.625 11.71875 \nQ 11.71875 9.328125 16.59375 8.109375 \nQ 21.484375 6.890625 26.8125 6.890625 \nQ 36.078125 6.890625 40.9375 10.546875 \nQ 45.796875 14.203125 45.796875 21.1875 \nQ 45.796875 27.640625 41.28125 31.265625 \nQ 36.765625 34.90625 28.71875 34.90625 \nL 20.21875 34.90625 \nL 20.21875 43.015625 \nL 29.109375 43.015625 \nQ 36.375 43.015625 40.234375 45.921875 \nQ 44.09375 48.828125 44.09375 54.296875 \nQ 44.09375 59.90625 40.109375 62.90625 \nQ 36.140625 65.921875 28.71875 65.921875 \nQ 24.65625 65.921875 20.015625 65.03125 \nQ 15.375 64.15625 9.8125 62.3125 \nL 9.8125 71.09375 \nQ 15.4375 72.65625 20.34375 73.4375 \nQ 25.25 74.21875 29.59375 74.21875 \nQ 40.828125 74.21875 47.359375 69.109375 \nQ 53.90625 64.015625 53.90625 55.328125 \nQ 53.90625 49.265625 50.4375 45.09375 \nQ 46.96875 40.921875 40.578125 39.3125 \nz\n\" id=\"DejaVuSans-51\"/>\n       </defs>\n       <use xlink:href=\"#DejaVuSans-51\"/>\n       <use x=\"63.623047\" xlink:href=\"#DejaVuSans-48\"/>\n       <use x=\"127.246094\" xlink:href=\"#DejaVuSans-48\"/>\n      </g>\n     </g>\n    </g>\n    <g id=\"ytick_5\">\n     <g id=\"line2d_13\">\n      <path clip-path=\"url(#p0a9a2aff77)\" d=\"M 52.995375 130.245344 \nL 387.795375 130.245344 \n\" style=\"fill:none;stroke:#ffffff;stroke-linecap:square;stroke-width:0.8;\"/>\n     </g>\n     <g id=\"line2d_14\">\n      <g>\n       <use style=\"fill:#555555;stroke:#555555;stroke-width:0.8;\" x=\"52.995375\" xlink:href=\"#m524271bf45\" y=\"130.245344\"/>\n      </g>\n     </g>\n     <g id=\"text_7\">\n      <!-- 400 -->\n      <g style=\"fill:#555555;\" transform=\"translate(26.907875 134.044563)scale(0.1 -0.1)\">\n       <defs>\n        <path d=\"M 37.796875 64.3125 \nL 12.890625 25.390625 \nL 37.796875 25.390625 \nz\nM 35.203125 72.90625 \nL 47.609375 72.90625 \nL 47.609375 25.390625 \nL 58.015625 25.390625 \nL 58.015625 17.1875 \nL 47.609375 17.1875 \nL 47.609375 0 \nL 37.796875 0 \nL 37.796875 17.1875 \nL 4.890625 17.1875 \nL 4.890625 26.703125 \nz\n\" id=\"DejaVuSans-52\"/>\n       </defs>\n       <use xlink:href=\"#DejaVuSans-52\"/>\n       <use x=\"63.623047\" xlink:href=\"#DejaVuSans-48\"/>\n       <use x=\"127.246094\" xlink:href=\"#DejaVuSans-48\"/>\n      </g>\n     </g>\n    </g>\n    <g id=\"ytick_6\">\n     <g id=\"line2d_15\">\n      <path clip-path=\"url(#p0a9a2aff77)\" d=\"M 52.995375 102.411243 \nL 387.795375 102.411243 \n\" style=\"fill:none;stroke:#ffffff;stroke-linecap:square;stroke-width:0.8;\"/>\n     </g>\n     <g id=\"line2d_16\">\n      <g>\n       <use style=\"fill:#555555;stroke:#555555;stroke-width:0.8;\" x=\"52.995375\" xlink:href=\"#m524271bf45\" y=\"102.411243\"/>\n      </g>\n     </g>\n     <g id=\"text_8\">\n      <!-- 500 -->\n      <g style=\"fill:#555555;\" transform=\"translate(26.907875 106.210462)scale(0.1 -0.1)\">\n       <defs>\n        <path d=\"M 10.796875 72.90625 \nL 49.515625 72.90625 \nL 49.515625 64.59375 \nL 19.828125 64.59375 \nL 19.828125 46.734375 \nQ 21.96875 47.46875 24.109375 47.828125 \nQ 26.265625 48.1875 28.421875 48.1875 \nQ 40.625 48.1875 47.75 41.5 \nQ 54.890625 34.8125 54.890625 23.390625 \nQ 54.890625 11.625 47.5625 5.09375 \nQ 40.234375 -1.421875 26.90625 -1.421875 \nQ 22.3125 -1.421875 17.546875 -0.640625 \nQ 12.796875 0.140625 7.71875 1.703125 \nL 7.71875 11.625 \nQ 12.109375 9.234375 16.796875 8.0625 \nQ 21.484375 6.890625 26.703125 6.890625 \nQ 35.15625 6.890625 40.078125 11.328125 \nQ 45.015625 15.765625 45.015625 23.390625 \nQ 45.015625 31 40.078125 35.4375 \nQ 35.15625 39.890625 26.703125 39.890625 \nQ 22.75 39.890625 18.8125 39.015625 \nQ 14.890625 38.140625 10.796875 36.28125 \nz\n\" id=\"DejaVuSans-53\"/>\n       </defs>\n       <use xlink:href=\"#DejaVuSans-53\"/>\n       <use x=\"63.623047\" xlink:href=\"#DejaVuSans-48\"/>\n       <use x=\"127.246094\" xlink:href=\"#DejaVuSans-48\"/>\n      </g>\n     </g>\n    </g>\n    <g id=\"ytick_7\">\n     <g id=\"line2d_17\">\n      <path clip-path=\"url(#p0a9a2aff77)\" d=\"M 52.995375 74.577142 \nL 387.795375 74.577142 \n\" style=\"fill:none;stroke:#ffffff;stroke-linecap:square;stroke-width:0.8;\"/>\n     </g>\n     <g id=\"line2d_18\">\n      <g>\n       <use style=\"fill:#555555;stroke:#555555;stroke-width:0.8;\" x=\"52.995375\" xlink:href=\"#m524271bf45\" y=\"74.577142\"/>\n      </g>\n     </g>\n     <g id=\"text_9\">\n      <!-- 600 -->\n      <g style=\"fill:#555555;\" transform=\"translate(26.907875 78.37636)scale(0.1 -0.1)\">\n       <defs>\n        <path d=\"M 33.015625 40.375 \nQ 26.375 40.375 22.484375 35.828125 \nQ 18.609375 31.296875 18.609375 23.390625 \nQ 18.609375 15.53125 22.484375 10.953125 \nQ 26.375 6.390625 33.015625 6.390625 \nQ 39.65625 6.390625 43.53125 10.953125 \nQ 47.40625 15.53125 47.40625 23.390625 \nQ 47.40625 31.296875 43.53125 35.828125 \nQ 39.65625 40.375 33.015625 40.375 \nz\nM 52.59375 71.296875 \nL 52.59375 62.3125 \nQ 48.875 64.0625 45.09375 64.984375 \nQ 41.3125 65.921875 37.59375 65.921875 \nQ 27.828125 65.921875 22.671875 59.328125 \nQ 17.53125 52.734375 16.796875 39.40625 \nQ 19.671875 43.65625 24.015625 45.921875 \nQ 28.375 48.1875 33.59375 48.1875 \nQ 44.578125 48.1875 50.953125 41.515625 \nQ 57.328125 34.859375 57.328125 23.390625 \nQ 57.328125 12.15625 50.6875 5.359375 \nQ 44.046875 -1.421875 33.015625 -1.421875 \nQ 20.359375 -1.421875 13.671875 8.265625 \nQ 6.984375 17.96875 6.984375 36.375 \nQ 6.984375 53.65625 15.1875 63.9375 \nQ 23.390625 74.21875 37.203125 74.21875 \nQ 40.921875 74.21875 44.703125 73.484375 \nQ 48.484375 72.75 52.59375 71.296875 \nz\n\" id=\"DejaVuSans-54\"/>\n       </defs>\n       <use xlink:href=\"#DejaVuSans-54\"/>\n       <use x=\"63.623047\" xlink:href=\"#DejaVuSans-48\"/>\n       <use x=\"127.246094\" xlink:href=\"#DejaVuSans-48\"/>\n      </g>\n     </g>\n    </g>\n    <g id=\"ytick_8\">\n     <g id=\"line2d_19\">\n      <path clip-path=\"url(#p0a9a2aff77)\" d=\"M 52.995375 46.74304 \nL 387.795375 46.74304 \n\" style=\"fill:none;stroke:#ffffff;stroke-linecap:square;stroke-width:0.8;\"/>\n     </g>\n     <g id=\"line2d_20\">\n      <g>\n       <use style=\"fill:#555555;stroke:#555555;stroke-width:0.8;\" x=\"52.995375\" xlink:href=\"#m524271bf45\" y=\"46.74304\"/>\n      </g>\n     </g>\n     <g id=\"text_10\">\n      <!-- 700 -->\n      <g style=\"fill:#555555;\" transform=\"translate(26.907875 50.542259)scale(0.1 -0.1)\">\n       <defs>\n        <path d=\"M 8.203125 72.90625 \nL 55.078125 72.90625 \nL 55.078125 68.703125 \nL 28.609375 0 \nL 18.3125 0 \nL 43.21875 64.59375 \nL 8.203125 64.59375 \nz\n\" id=\"DejaVuSans-55\"/>\n       </defs>\n       <use xlink:href=\"#DejaVuSans-55\"/>\n       <use x=\"63.623047\" xlink:href=\"#DejaVuSans-48\"/>\n       <use x=\"127.246094\" xlink:href=\"#DejaVuSans-48\"/>\n      </g>\n     </g>\n    </g>\n   </g>\n   <g id=\"patch_3\">\n    <path clip-path=\"url(#p0a9a2aff77)\" d=\"M 68.213557 241.58175 \nL 203.486284 241.58175 \nL 203.486284 34.496036 \nL 68.213557 34.496036 \nz\n\" style=\"fill:#e24a33;\"/>\n   </g>\n   <g id=\"patch_4\">\n    <path clip-path=\"url(#p0a9a2aff77)\" d=\"M 237.304466 241.58175 \nL 372.577193 241.58175 \nL 372.577193 235.458248 \nL 237.304466 235.458248 \nz\n\" style=\"fill:#e24a33;\"/>\n   </g>\n   <g id=\"patch_5\">\n    <path d=\"M 52.995375 241.58175 \nL 52.995375 24.14175 \n\" style=\"fill:none;stroke:#ffffff;stroke-linecap:square;stroke-linejoin:miter;\"/>\n   </g>\n   <g id=\"patch_6\">\n    <path d=\"M 387.795375 241.58175 \nL 387.795375 24.14175 \n\" style=\"fill:none;stroke:#ffffff;stroke-linecap:square;stroke-linejoin:miter;\"/>\n   </g>\n   <g id=\"patch_7\">\n    <path d=\"M 52.995375 241.58175 \nL 387.795375 241.58175 \n\" style=\"fill:none;stroke:#ffffff;stroke-linecap:square;stroke-linejoin:miter;\"/>\n   </g>\n   <g id=\"patch_8\">\n    <path d=\"M 52.995375 24.14175 \nL 387.795375 24.14175 \n\" style=\"fill:none;stroke:#ffffff;stroke-linecap:square;stroke-linejoin:miter;\"/>\n   </g>\n   <g id=\"text_11\">\n    <!-- Well known entities - Number of items existing on Wikidata -->\n    <g transform=\"translate(7.2 18.14175)scale(0.144 -0.144)\">\n     <defs>\n      <path d=\"M 3.328125 72.90625 \nL 13.28125 72.90625 \nL 28.609375 11.28125 \nL 43.890625 72.90625 \nL 54.984375 72.90625 \nL 70.3125 11.28125 \nL 85.59375 72.90625 \nL 95.609375 72.90625 \nL 77.296875 0 \nL 64.890625 0 \nL 49.515625 63.28125 \nL 33.984375 0 \nL 21.578125 0 \nz\n\" id=\"DejaVuSans-87\"/>\n      <path id=\"DejaVuSans-32\"/>\n      <path d=\"M 9.078125 75.984375 \nL 18.109375 75.984375 \nL 18.109375 31.109375 \nL 44.921875 54.6875 \nL 56.390625 54.6875 \nL 27.390625 29.109375 \nL 57.625 0 \nL 45.90625 0 \nL 18.109375 26.703125 \nL 18.109375 0 \nL 9.078125 0 \nz\n\" id=\"DejaVuSans-107\"/>\n      <path d=\"M 54.890625 33.015625 \nL 54.890625 0 \nL 45.90625 0 \nL 45.90625 32.71875 \nQ 45.90625 40.484375 42.875 44.328125 \nQ 39.84375 48.1875 33.796875 48.1875 \nQ 26.515625 48.1875 22.3125 43.546875 \nQ 18.109375 38.921875 18.109375 30.90625 \nL 18.109375 0 \nL 9.078125 0 \nL 9.078125 54.6875 \nL 18.109375 54.6875 \nL 18.109375 46.1875 \nQ 21.34375 51.125 25.703125 53.5625 \nQ 30.078125 56 35.796875 56 \nQ 45.21875 56 50.046875 50.171875 \nQ 54.890625 44.34375 54.890625 33.015625 \nz\n\" id=\"DejaVuSans-110\"/>\n      <path d=\"M 30.609375 48.390625 \nQ 23.390625 48.390625 19.1875 42.75 \nQ 14.984375 37.109375 14.984375 27.296875 \nQ 14.984375 17.484375 19.15625 11.84375 \nQ 23.34375 6.203125 30.609375 6.203125 \nQ 37.796875 6.203125 41.984375 11.859375 \nQ 46.1875 17.53125 46.1875 27.296875 \nQ 46.1875 37.015625 41.984375 42.703125 \nQ 37.796875 48.390625 30.609375 48.390625 \nz\nM 30.609375 56 \nQ 42.328125 56 49.015625 48.375 \nQ 55.71875 40.765625 55.71875 27.296875 \nQ 55.71875 13.875 49.015625 6.21875 \nQ 42.328125 -1.421875 30.609375 -1.421875 \nQ 18.84375 -1.421875 12.171875 6.21875 \nQ 5.515625 13.875 5.515625 27.296875 \nQ 5.515625 40.765625 12.171875 48.375 \nQ 18.84375 56 30.609375 56 \nz\n\" id=\"DejaVuSans-111\"/>\n      <path d=\"M 4.203125 54.6875 \nL 13.1875 54.6875 \nL 24.421875 12.015625 \nL 35.59375 54.6875 \nL 46.1875 54.6875 \nL 57.421875 12.015625 \nL 68.609375 54.6875 \nL 77.59375 54.6875 \nL 63.28125 0 \nL 52.6875 0 \nL 40.921875 44.828125 \nL 29.109375 0 \nL 18.5 0 \nz\n\" id=\"DejaVuSans-119\"/>\n      <path d=\"M 18.3125 70.21875 \nL 18.3125 54.6875 \nL 36.8125 54.6875 \nL 36.8125 47.703125 \nL 18.3125 47.703125 \nL 18.3125 18.015625 \nQ 18.3125 11.328125 20.140625 9.421875 \nQ 21.96875 7.515625 27.59375 7.515625 \nL 36.8125 7.515625 \nL 36.8125 0 \nL 27.59375 0 \nQ 17.1875 0 13.234375 3.875 \nQ 9.28125 7.765625 9.28125 18.015625 \nL 9.28125 47.703125 \nL 2.6875 47.703125 \nL 2.6875 54.6875 \nL 9.28125 54.6875 \nL 9.28125 70.21875 \nz\n\" id=\"DejaVuSans-116\"/>\n      <path d=\"M 9.421875 54.6875 \nL 18.40625 54.6875 \nL 18.40625 0 \nL 9.421875 0 \nz\nM 9.421875 75.984375 \nL 18.40625 75.984375 \nL 18.40625 64.59375 \nL 9.421875 64.59375 \nz\n\" id=\"DejaVuSans-105\"/>\n      <path d=\"M 4.890625 31.390625 \nL 31.203125 31.390625 \nL 31.203125 23.390625 \nL 4.890625 23.390625 \nz\n\" id=\"DejaVuSans-45\"/>\n      <path d=\"M 9.8125 72.90625 \nL 23.09375 72.90625 \nL 55.421875 11.921875 \nL 55.421875 72.90625 \nL 64.984375 72.90625 \nL 64.984375 0 \nL 51.703125 0 \nL 19.390625 60.984375 \nL 19.390625 0 \nL 9.8125 0 \nz\n\" id=\"DejaVuSans-78\"/>\n      <path d=\"M 52 44.1875 \nQ 55.375 50.25 60.0625 53.125 \nQ 64.75 56 71.09375 56 \nQ 79.640625 56 84.28125 50.015625 \nQ 88.921875 44.046875 88.921875 33.015625 \nL 88.921875 0 \nL 79.890625 0 \nL 79.890625 32.71875 \nQ 79.890625 40.578125 77.09375 44.375 \nQ 74.3125 48.1875 68.609375 48.1875 \nQ 61.625 48.1875 57.5625 43.546875 \nQ 53.515625 38.921875 53.515625 30.90625 \nL 53.515625 0 \nL 44.484375 0 \nL 44.484375 32.71875 \nQ 44.484375 40.625 41.703125 44.40625 \nQ 38.921875 48.1875 33.109375 48.1875 \nQ 26.21875 48.1875 22.15625 43.53125 \nQ 18.109375 38.875 18.109375 30.90625 \nL 18.109375 0 \nL 9.078125 0 \nL 9.078125 54.6875 \nL 18.109375 54.6875 \nL 18.109375 46.1875 \nQ 21.1875 51.21875 25.484375 53.609375 \nQ 29.78125 56 35.6875 56 \nQ 41.65625 56 45.828125 52.96875 \nQ 50 49.953125 52 44.1875 \nz\n\" id=\"DejaVuSans-109\"/>\n      <path d=\"M 48.6875 27.296875 \nQ 48.6875 37.203125 44.609375 42.84375 \nQ 40.53125 48.484375 33.40625 48.484375 \nQ 26.265625 48.484375 22.1875 42.84375 \nQ 18.109375 37.203125 18.109375 27.296875 \nQ 18.109375 17.390625 22.1875 11.75 \nQ 26.265625 6.109375 33.40625 6.109375 \nQ 40.53125 6.109375 44.609375 11.75 \nQ 48.6875 17.390625 48.6875 27.296875 \nz\nM 18.109375 46.390625 \nQ 20.953125 51.265625 25.265625 53.625 \nQ 29.59375 56 35.59375 56 \nQ 45.5625 56 51.78125 48.09375 \nQ 58.015625 40.1875 58.015625 27.296875 \nQ 58.015625 14.40625 51.78125 6.484375 \nQ 45.5625 -1.421875 35.59375 -1.421875 \nQ 29.59375 -1.421875 25.265625 0.953125 \nQ 20.953125 3.328125 18.109375 8.203125 \nL 18.109375 0 \nL 9.078125 0 \nL 9.078125 75.984375 \nL 18.109375 75.984375 \nz\n\" id=\"DejaVuSans-98\"/>\n      <path d=\"M 37.109375 75.984375 \nL 37.109375 68.5 \nL 28.515625 68.5 \nQ 23.6875 68.5 21.796875 66.546875 \nQ 19.921875 64.59375 19.921875 59.515625 \nL 19.921875 54.6875 \nL 34.71875 54.6875 \nL 34.71875 47.703125 \nL 19.921875 47.703125 \nL 19.921875 0 \nL 10.890625 0 \nL 10.890625 47.703125 \nL 2.296875 47.703125 \nL 2.296875 54.6875 \nL 10.890625 54.6875 \nL 10.890625 58.5 \nQ 10.890625 67.625 15.140625 71.796875 \nQ 19.390625 75.984375 28.609375 75.984375 \nz\n\" id=\"DejaVuSans-102\"/>\n      <path d=\"M 54.890625 54.6875 \nL 35.109375 28.078125 \nL 55.90625 0 \nL 45.3125 0 \nL 29.390625 21.484375 \nL 13.484375 0 \nL 2.875 0 \nL 24.125 28.609375 \nL 4.6875 54.6875 \nL 15.28125 54.6875 \nL 29.78125 35.203125 \nL 44.28125 54.6875 \nz\n\" id=\"DejaVuSans-120\"/>\n      <path d=\"M 45.40625 27.984375 \nQ 45.40625 37.75 41.375 43.109375 \nQ 37.359375 48.484375 30.078125 48.484375 \nQ 22.859375 48.484375 18.828125 43.109375 \nQ 14.796875 37.75 14.796875 27.984375 \nQ 14.796875 18.265625 18.828125 12.890625 \nQ 22.859375 7.515625 30.078125 7.515625 \nQ 37.359375 7.515625 41.375 12.890625 \nQ 45.40625 18.265625 45.40625 27.984375 \nz\nM 54.390625 6.78125 \nQ 54.390625 -7.171875 48.1875 -13.984375 \nQ 42 -20.796875 29.203125 -20.796875 \nQ 24.46875 -20.796875 20.265625 -20.09375 \nQ 16.0625 -19.390625 12.109375 -17.921875 \nL 12.109375 -9.1875 \nQ 16.0625 -11.328125 19.921875 -12.34375 \nQ 23.78125 -13.375 27.78125 -13.375 \nQ 36.625 -13.375 41.015625 -8.765625 \nQ 45.40625 -4.15625 45.40625 5.171875 \nL 45.40625 9.625 \nQ 42.625 4.78125 38.28125 2.390625 \nQ 33.9375 0 27.875 0 \nQ 17.828125 0 11.671875 7.65625 \nQ 5.515625 15.328125 5.515625 27.984375 \nQ 5.515625 40.671875 11.671875 48.328125 \nQ 17.828125 56 27.875 56 \nQ 33.9375 56 38.28125 53.609375 \nQ 42.625 51.21875 45.40625 46.390625 \nL 45.40625 54.6875 \nL 54.390625 54.6875 \nz\n\" id=\"DejaVuSans-103\"/>\n      <path d=\"M 45.40625 46.390625 \nL 45.40625 75.984375 \nL 54.390625 75.984375 \nL 54.390625 0 \nL 45.40625 0 \nL 45.40625 8.203125 \nQ 42.578125 3.328125 38.25 0.953125 \nQ 33.9375 -1.421875 27.875 -1.421875 \nQ 17.96875 -1.421875 11.734375 6.484375 \nQ 5.515625 14.40625 5.515625 27.296875 \nQ 5.515625 40.1875 11.734375 48.09375 \nQ 17.96875 56 27.875 56 \nQ 33.9375 56 38.25 53.625 \nQ 42.578125 51.265625 45.40625 46.390625 \nz\nM 14.796875 27.296875 \nQ 14.796875 17.390625 18.875 11.75 \nQ 22.953125 6.109375 30.078125 6.109375 \nQ 37.203125 6.109375 41.296875 11.75 \nQ 45.40625 17.390625 45.40625 27.296875 \nQ 45.40625 37.203125 41.296875 42.84375 \nQ 37.203125 48.484375 30.078125 48.484375 \nQ 22.953125 48.484375 18.875 42.84375 \nQ 14.796875 37.203125 14.796875 27.296875 \nz\n\" id=\"DejaVuSans-100\"/>\n     </defs>\n     <use xlink:href=\"#DejaVuSans-87\"/>\n     <use x=\"93.001953\" xlink:href=\"#DejaVuSans-101\"/>\n     <use x=\"154.525391\" xlink:href=\"#DejaVuSans-108\"/>\n     <use x=\"182.308594\" xlink:href=\"#DejaVuSans-108\"/>\n     <use x=\"210.091797\" xlink:href=\"#DejaVuSans-32\"/>\n     <use x=\"241.878906\" xlink:href=\"#DejaVuSans-107\"/>\n     <use x=\"299.789062\" xlink:href=\"#DejaVuSans-110\"/>\n     <use x=\"363.167969\" xlink:href=\"#DejaVuSans-111\"/>\n     <use x=\"424.349609\" xlink:href=\"#DejaVuSans-119\"/>\n     <use x=\"506.136719\" xlink:href=\"#DejaVuSans-110\"/>\n     <use x=\"569.515625\" xlink:href=\"#DejaVuSans-32\"/>\n     <use x=\"601.302734\" xlink:href=\"#DejaVuSans-101\"/>\n     <use x=\"662.826172\" xlink:href=\"#DejaVuSans-110\"/>\n     <use x=\"726.205078\" xlink:href=\"#DejaVuSans-116\"/>\n     <use x=\"765.414062\" xlink:href=\"#DejaVuSans-105\"/>\n     <use x=\"793.197266\" xlink:href=\"#DejaVuSans-116\"/>\n     <use x=\"832.40625\" xlink:href=\"#DejaVuSans-105\"/>\n     <use x=\"860.189453\" xlink:href=\"#DejaVuSans-101\"/>\n     <use x=\"921.712891\" xlink:href=\"#DejaVuSans-115\"/>\n     <use x=\"973.8125\" xlink:href=\"#DejaVuSans-32\"/>\n     <use x=\"1005.599609\" xlink:href=\"#DejaVuSans-45\"/>\n     <use x=\"1041.683594\" xlink:href=\"#DejaVuSans-32\"/>\n     <use x=\"1073.470703\" xlink:href=\"#DejaVuSans-78\"/>\n     <use x=\"1148.275391\" xlink:href=\"#DejaVuSans-117\"/>\n     <use x=\"1211.654297\" xlink:href=\"#DejaVuSans-109\"/>\n     <use x=\"1309.066406\" xlink:href=\"#DejaVuSans-98\"/>\n     <use x=\"1372.542969\" xlink:href=\"#DejaVuSans-101\"/>\n     <use x=\"1434.066406\" xlink:href=\"#DejaVuSans-114\"/>\n     <use x=\"1475.179688\" xlink:href=\"#DejaVuSans-32\"/>\n     <use x=\"1506.966797\" xlink:href=\"#DejaVuSans-111\"/>\n     <use x=\"1568.148438\" xlink:href=\"#DejaVuSans-102\"/>\n     <use x=\"1603.353516\" xlink:href=\"#DejaVuSans-32\"/>\n     <use x=\"1635.140625\" xlink:href=\"#DejaVuSans-105\"/>\n     <use x=\"1662.923828\" xlink:href=\"#DejaVuSans-116\"/>\n     <use x=\"1702.132812\" xlink:href=\"#DejaVuSans-101\"/>\n     <use x=\"1763.65625\" xlink:href=\"#DejaVuSans-109\"/>\n     <use x=\"1861.068359\" xlink:href=\"#DejaVuSans-115\"/>\n     <use x=\"1913.167969\" xlink:href=\"#DejaVuSans-32\"/>\n     <use x=\"1944.955078\" xlink:href=\"#DejaVuSans-101\"/>\n     <use x=\"2004.728516\" xlink:href=\"#DejaVuSans-120\"/>\n     <use x=\"2063.908203\" xlink:href=\"#DejaVuSans-105\"/>\n     <use x=\"2091.691406\" xlink:href=\"#DejaVuSans-115\"/>\n     <use x=\"2143.791016\" xlink:href=\"#DejaVuSans-116\"/>\n     <use x=\"2183\" xlink:href=\"#DejaVuSans-105\"/>\n     <use x=\"2210.783203\" xlink:href=\"#DejaVuSans-110\"/>\n     <use x=\"2274.162109\" xlink:href=\"#DejaVuSans-103\"/>\n     <use x=\"2337.638672\" xlink:href=\"#DejaVuSans-32\"/>\n     <use x=\"2369.425781\" xlink:href=\"#DejaVuSans-111\"/>\n     <use x=\"2430.607422\" xlink:href=\"#DejaVuSans-110\"/>\n     <use x=\"2493.986328\" xlink:href=\"#DejaVuSans-32\"/>\n     <use x=\"2525.773438\" xlink:href=\"#DejaVuSans-87\"/>\n     <use x=\"2622.400391\" xlink:href=\"#DejaVuSans-105\"/>\n     <use x=\"2650.183594\" xlink:href=\"#DejaVuSans-107\"/>\n     <use x=\"2708.09375\" xlink:href=\"#DejaVuSans-105\"/>\n     <use x=\"2735.876953\" xlink:href=\"#DejaVuSans-100\"/>\n     <use x=\"2799.353516\" xlink:href=\"#DejaVuSans-97\"/>\n     <use x=\"2860.632812\" xlink:href=\"#DejaVuSans-116\"/>\n     <use x=\"2899.841797\" xlink:href=\"#DejaVuSans-97\"/>\n    </g>\n   </g>\n  </g>\n </g>\n <defs>\n  <clipPath id=\"p0a9a2aff77\">\n   <rect height=\"217.44\" width=\"334.8\" x=\"52.995375\" y=\"24.14175\"/>\n  </clipPath>\n </defs>\n</svg>\n",
      "image/png": "[encoded data removed]"
     },
     "metadata": {}
    }
   ],
   "source": [
    "has_match = ~cd_first_candidate[\"wikidata\"].isna()\n",
    "has_match.value_counts()\n",
    "plt.bar([\"True\", \"False\"],has_match.value_counts())\n",
    "plt.title(\"Well known entities - Number of items existing on Wikidata\")\n",
    "\n"
   ]
  },
  {
   "source": [
    "## Overview \n",
    "The threshold of Wikidata's Reconciliation Service was automatically set by the service, following this equation:\n",
    "\n",
    "$t = t_{val} - d \\cdot |p| = 95 - 5 \\cdot |p|$\n",
    "\n",
    "where:<br>\n",
    "$t_{val}$ ... the fixed validation threshold set by the service. This value is statically set to 95<br>\n",
    "$d$ ... The fixed validation discount set by the service. This value is statically set to 5 <br>\n",
    "$p$ ... The set of properties queried\n",
    "\n",
    "In most cases the property size was 6, leading to a threshold of 65. \n",
    "\n",
    "Candidates that exceeded this threshold are considered as a match. Other candidates returned are potential matches for further human judgment. However, there is no minimum threshold, but a maximum of candidates set. In this case, not more than 10 Candidates are retrieved."
   ],
   "cell_type": "markdown",
   "metadata": {}
  },
  {
   "cell_type": "code",
   "execution_count": 415,
   "metadata": {},
   "outputs": [],
   "source": [
    "\n",
    "#cd_table[\"match_in_cd\"] = cd_table.groupby(\"id\").any(\"match\")\n",
    "cd_table[\"estimate\"] = np.select([\n",
    "    cd_table[\"cd_match_estimate\"] & cd_table[\"match\"],\n",
    "    cd_table[\"cd_wd_id\"].isna(),\n",
    "], [\n",
    "    \"match\",\n",
    "    \"no_match\"\n",
    "],default=\"par_match\")\n",
    "\n",
    "any(cd_table[\"estimate\"].isna()) # sanity check\n",
    "cd_first_candidate = cd_table.groupby(\"id\").first()\n"
   ]
  },
  {
   "source": [
    "In most cases, there was no match decision taken by the service"
   ],
   "cell_type": "code",
   "metadata": {},
   "execution_count": null,
   "outputs": []
  },
  {
   "cell_type": "code",
   "execution_count": 417,
   "metadata": {},
   "outputs": [
    {
     "output_type": "execute_result",
     "data": {
      "text/plain": [
       "par_match    986\n",
       "match        449\n",
       "no_match      16\n",
       "Name: estimate, dtype: int64"
      ]
     },
     "metadata": {},
     "execution_count": 417
    },
    {
     "output_type": "display_data",
     "data": {
      "text/plain": "<Figure size 432x288 with 1 Axes>",
      "image/svg+xml": "<?xml version=\"1.0\" encoding=\"utf-8\" standalone=\"no\"?>\n<!DOCTYPE svg PUBLIC \"-//W3C//DTD SVG 1.1//EN\"\n  \"http://www.w3.org/Graphics/SVG/1.1/DTD/svg11.dtd\">\n<!-- Created with matplotlib (https://matplotlib.org/) -->\n<svg height=\"248.518125pt\" version=\"1.1\" viewBox=\"0 0 375.2875 248.518125\" width=\"375.2875pt\" xmlns=\"http://www.w3.org/2000/svg\" xmlns:xlink=\"http://www.w3.org/1999/xlink\">\n <metadata>\n  <rdf:RDF xmlns:cc=\"http://creativecommons.org/ns#\" xmlns:dc=\"http://purl.org/dc/elements/1.1/\" xmlns:rdf=\"http://www.w3.org/1999/02/22-rdf-syntax-ns#\">\n   <cc:Work>\n    <dc:type rdf:resource=\"http://purl.org/dc/dcmitype/StillImage\"/>\n    <dc:date>2021-04-16T22:19:43.329325</dc:date>\n    <dc:format>image/svg+xml</dc:format>\n    <dc:creator>\n     <cc:Agent>\n      <dc:title>Matplotlib v3.3.3, https://matplotlib.org/</dc:title>\n     </cc:Agent>\n    </dc:creator>\n   </cc:Work>\n  </rdf:RDF>\n </metadata>\n <defs>\n  <style type=\"text/css\">*{stroke-linecap:butt;stroke-linejoin:round;}</style>\n </defs>\n <g id=\"figure_1\">\n  <g id=\"patch_1\">\n   <path d=\"M 0 248.518125 \nL 375.2875 248.518125 \nL 375.2875 0 \nL 0 0 \nz\n\" style=\"fill:#ffffff;\"/>\n  </g>\n  <g id=\"axes_1\">\n   <g id=\"patch_2\">\n    <path d=\"M 33.2875 224.64 \nL 368.0875 224.64 \nL 368.0875 7.2 \nL 33.2875 7.2 \nz\n\" style=\"fill:#e5e5e5;\"/>\n   </g>\n   <g id=\"matplotlib.axis_1\">\n    <g id=\"xtick_1\">\n     <g id=\"line2d_1\">\n      <path clip-path=\"url(#pfa353ee288)\" d=\"M 91.986201 224.64 \nL 91.986201 7.2 \n\" style=\"fill:none;stroke:#ffffff;stroke-linecap:square;stroke-width:0.8;\"/>\n     </g>\n     <g id=\"line2d_2\">\n      <defs>\n       <path d=\"M 0 0 \nL 0 3.5 \n\" id=\"m79d2987ba2\" style=\"stroke:#555555;stroke-width:0.8;\"/>\n      </defs>\n      <g>\n       <use style=\"fill:#555555;stroke:#555555;stroke-width:0.8;\" x=\"91.986201\" xlink:href=\"#m79d2987ba2\" y=\"224.64\"/>\n      </g>\n     </g>\n     <g id=\"text_1\">\n      <!-- partial -->\n      <g style=\"fill:#555555;\" transform=\"translate(75.890108 239.238437)scale(0.1 -0.1)\">\n       <defs>\n        <path d=\"M 18.109375 8.203125 \nL 18.109375 -20.796875 \nL 9.078125 -20.796875 \nL 9.078125 54.6875 \nL 18.109375 54.6875 \nL 18.109375 46.390625 \nQ 20.953125 51.265625 25.265625 53.625 \nQ 29.59375 56 35.59375 56 \nQ 45.5625 56 51.78125 48.09375 \nQ 58.015625 40.1875 58.015625 27.296875 \nQ 58.015625 14.40625 51.78125 6.484375 \nQ 45.5625 -1.421875 35.59375 -1.421875 \nQ 29.59375 -1.421875 25.265625 0.953125 \nQ 20.953125 3.328125 18.109375 8.203125 \nz\nM 48.6875 27.296875 \nQ 48.6875 37.203125 44.609375 42.84375 \nQ 40.53125 48.484375 33.40625 48.484375 \nQ 26.265625 48.484375 22.1875 42.84375 \nQ 18.109375 37.203125 18.109375 27.296875 \nQ 18.109375 17.390625 22.1875 11.75 \nQ 26.265625 6.109375 33.40625 6.109375 \nQ 40.53125 6.109375 44.609375 11.75 \nQ 48.6875 17.390625 48.6875 27.296875 \nz\n\" id=\"DejaVuSans-112\"/>\n        <path d=\"M 34.28125 27.484375 \nQ 23.390625 27.484375 19.1875 25 \nQ 14.984375 22.515625 14.984375 16.5 \nQ 14.984375 11.71875 18.140625 8.90625 \nQ 21.296875 6.109375 26.703125 6.109375 \nQ 34.1875 6.109375 38.703125 11.40625 \nQ 43.21875 16.703125 43.21875 25.484375 \nL 43.21875 27.484375 \nz\nM 52.203125 31.203125 \nL 52.203125 0 \nL 43.21875 0 \nL 43.21875 8.296875 \nQ 40.140625 3.328125 35.546875 0.953125 \nQ 30.953125 -1.421875 24.3125 -1.421875 \nQ 15.921875 -1.421875 10.953125 3.296875 \nQ 6 8.015625 6 15.921875 \nQ 6 25.140625 12.171875 29.828125 \nQ 18.359375 34.515625 30.609375 34.515625 \nL 43.21875 34.515625 \nL 43.21875 35.40625 \nQ 43.21875 41.609375 39.140625 45 \nQ 35.0625 48.390625 27.6875 48.390625 \nQ 23 48.390625 18.546875 47.265625 \nQ 14.109375 46.140625 10.015625 43.890625 \nL 10.015625 52.203125 \nQ 14.9375 54.109375 19.578125 55.046875 \nQ 24.21875 56 28.609375 56 \nQ 40.484375 56 46.34375 49.84375 \nQ 52.203125 43.703125 52.203125 31.203125 \nz\n\" id=\"DejaVuSans-97\"/>\n        <path d=\"M 41.109375 46.296875 \nQ 39.59375 47.171875 37.8125 47.578125 \nQ 36.03125 48 33.890625 48 \nQ 26.265625 48 22.1875 43.046875 \nQ 18.109375 38.09375 18.109375 28.8125 \nL 18.109375 0 \nL 9.078125 0 \nL 9.078125 54.6875 \nL 18.109375 54.6875 \nL 18.109375 46.1875 \nQ 20.953125 51.171875 25.484375 53.578125 \nQ 30.03125 56 36.53125 56 \nQ 37.453125 56 38.578125 55.875 \nQ 39.703125 55.765625 41.0625 55.515625 \nz\n\" id=\"DejaVuSans-114\"/>\n        <path d=\"M 18.3125 70.21875 \nL 18.3125 54.6875 \nL 36.8125 54.6875 \nL 36.8125 47.703125 \nL 18.3125 47.703125 \nL 18.3125 18.015625 \nQ 18.3125 11.328125 20.140625 9.421875 \nQ 21.96875 7.515625 27.59375 7.515625 \nL 36.8125 7.515625 \nL 36.8125 0 \nL 27.59375 0 \nQ 17.1875 0 13.234375 3.875 \nQ 9.28125 7.765625 9.28125 18.015625 \nL 9.28125 47.703125 \nL 2.6875 47.703125 \nL 2.6875 54.6875 \nL 9.28125 54.6875 \nL 9.28125 70.21875 \nz\n\" id=\"DejaVuSans-116\"/>\n        <path d=\"M 9.421875 54.6875 \nL 18.40625 54.6875 \nL 18.40625 0 \nL 9.421875 0 \nz\nM 9.421875 75.984375 \nL 18.40625 75.984375 \nL 18.40625 64.59375 \nL 9.421875 64.59375 \nz\n\" id=\"DejaVuSans-105\"/>\n        <path d=\"M 9.421875 75.984375 \nL 18.40625 75.984375 \nL 18.40625 0 \nL 9.421875 0 \nz\n\" id=\"DejaVuSans-108\"/>\n       </defs>\n       <use xlink:href=\"#DejaVuSans-112\"/>\n       <use x=\"63.476562\" xlink:href=\"#DejaVuSans-97\"/>\n       <use x=\"124.755859\" xlink:href=\"#DejaVuSans-114\"/>\n       <use x=\"165.869141\" xlink:href=\"#DejaVuSans-116\"/>\n       <use x=\"205.078125\" xlink:href=\"#DejaVuSans-105\"/>\n       <use x=\"232.861328\" xlink:href=\"#DejaVuSans-97\"/>\n       <use x=\"294.140625\" xlink:href=\"#DejaVuSans-108\"/>\n      </g>\n     </g>\n    </g>\n    <g id=\"xtick_2\">\n     <g id=\"line2d_3\">\n      <path clip-path=\"url(#pfa353ee288)\" d=\"M 200.6875 224.64 \nL 200.6875 7.2 \n\" style=\"fill:none;stroke:#ffffff;stroke-linecap:square;stroke-width:0.8;\"/>\n     </g>\n     <g id=\"line2d_4\">\n      <g>\n       <use style=\"fill:#555555;stroke:#555555;stroke-width:0.8;\" x=\"200.6875\" xlink:href=\"#m79d2987ba2\" y=\"224.64\"/>\n      </g>\n     </g>\n     <g id=\"text_2\">\n      <!-- match -->\n      <g style=\"fill:#555555;\" transform=\"translate(184.875 239.238437)scale(0.1 -0.1)\">\n       <defs>\n        <path d=\"M 52 44.1875 \nQ 55.375 50.25 60.0625 53.125 \nQ 64.75 56 71.09375 56 \nQ 79.640625 56 84.28125 50.015625 \nQ 88.921875 44.046875 88.921875 33.015625 \nL 88.921875 0 \nL 79.890625 0 \nL 79.890625 32.71875 \nQ 79.890625 40.578125 77.09375 44.375 \nQ 74.3125 48.1875 68.609375 48.1875 \nQ 61.625 48.1875 57.5625 43.546875 \nQ 53.515625 38.921875 53.515625 30.90625 \nL 53.515625 0 \nL 44.484375 0 \nL 44.484375 32.71875 \nQ 44.484375 40.625 41.703125 44.40625 \nQ 38.921875 48.1875 33.109375 48.1875 \nQ 26.21875 48.1875 22.15625 43.53125 \nQ 18.109375 38.875 18.109375 30.90625 \nL 18.109375 0 \nL 9.078125 0 \nL 9.078125 54.6875 \nL 18.109375 54.6875 \nL 18.109375 46.1875 \nQ 21.1875 51.21875 25.484375 53.609375 \nQ 29.78125 56 35.6875 56 \nQ 41.65625 56 45.828125 52.96875 \nQ 50 49.953125 52 44.1875 \nz\n\" id=\"DejaVuSans-109\"/>\n        <path d=\"M 48.78125 52.59375 \nL 48.78125 44.1875 \nQ 44.96875 46.296875 41.140625 47.34375 \nQ 37.3125 48.390625 33.40625 48.390625 \nQ 24.65625 48.390625 19.8125 42.84375 \nQ 14.984375 37.3125 14.984375 27.296875 \nQ 14.984375 17.28125 19.8125 11.734375 \nQ 24.65625 6.203125 33.40625 6.203125 \nQ 37.3125 6.203125 41.140625 7.25 \nQ 44.96875 8.296875 48.78125 10.40625 \nL 48.78125 2.09375 \nQ 45.015625 0.34375 40.984375 -0.53125 \nQ 36.96875 -1.421875 32.421875 -1.421875 \nQ 20.0625 -1.421875 12.78125 6.34375 \nQ 5.515625 14.109375 5.515625 27.296875 \nQ 5.515625 40.671875 12.859375 48.328125 \nQ 20.21875 56 33.015625 56 \nQ 37.15625 56 41.109375 55.140625 \nQ 45.0625 54.296875 48.78125 52.59375 \nz\n\" id=\"DejaVuSans-99\"/>\n        <path d=\"M 54.890625 33.015625 \nL 54.890625 0 \nL 45.90625 0 \nL 45.90625 32.71875 \nQ 45.90625 40.484375 42.875 44.328125 \nQ 39.84375 48.1875 33.796875 48.1875 \nQ 26.515625 48.1875 22.3125 43.546875 \nQ 18.109375 38.921875 18.109375 30.90625 \nL 18.109375 0 \nL 9.078125 0 \nL 9.078125 75.984375 \nL 18.109375 75.984375 \nL 18.109375 46.1875 \nQ 21.34375 51.125 25.703125 53.5625 \nQ 30.078125 56 35.796875 56 \nQ 45.21875 56 50.046875 50.171875 \nQ 54.890625 44.34375 54.890625 33.015625 \nz\n\" id=\"DejaVuSans-104\"/>\n       </defs>\n       <use xlink:href=\"#DejaVuSans-109\"/>\n       <use x=\"97.412109\" xlink:href=\"#DejaVuSans-97\"/>\n       <use x=\"158.691406\" xlink:href=\"#DejaVuSans-116\"/>\n       <use x=\"197.900391\" xlink:href=\"#DejaVuSans-99\"/>\n       <use x=\"252.880859\" xlink:href=\"#DejaVuSans-104\"/>\n      </g>\n     </g>\n    </g>\n    <g id=\"xtick_3\">\n     <g id=\"line2d_5\">\n      <path clip-path=\"url(#pfa353ee288)\" d=\"M 309.388799 224.64 \nL 309.388799 7.2 \n\" style=\"fill:none;stroke:#ffffff;stroke-linecap:square;stroke-width:0.8;\"/>\n     </g>\n     <g id=\"line2d_6\">\n      <g>\n       <use style=\"fill:#555555;stroke:#555555;stroke-width:0.8;\" x=\"309.388799\" xlink:href=\"#m79d2987ba2\" y=\"224.64\"/>\n      </g>\n     </g>\n     <g id=\"text_3\">\n      <!-- no match -->\n      <g style=\"fill:#555555;\" transform=\"translate(285.759111 239.238437)scale(0.1 -0.1)\">\n       <defs>\n        <path d=\"M 54.890625 33.015625 \nL 54.890625 0 \nL 45.90625 0 \nL 45.90625 32.71875 \nQ 45.90625 40.484375 42.875 44.328125 \nQ 39.84375 48.1875 33.796875 48.1875 \nQ 26.515625 48.1875 22.3125 43.546875 \nQ 18.109375 38.921875 18.109375 30.90625 \nL 18.109375 0 \nL 9.078125 0 \nL 9.078125 54.6875 \nL 18.109375 54.6875 \nL 18.109375 46.1875 \nQ 21.34375 51.125 25.703125 53.5625 \nQ 30.078125 56 35.796875 56 \nQ 45.21875 56 50.046875 50.171875 \nQ 54.890625 44.34375 54.890625 33.015625 \nz\n\" id=\"DejaVuSans-110\"/>\n        <path d=\"M 30.609375 48.390625 \nQ 23.390625 48.390625 19.1875 42.75 \nQ 14.984375 37.109375 14.984375 27.296875 \nQ 14.984375 17.484375 19.15625 11.84375 \nQ 23.34375 6.203125 30.609375 6.203125 \nQ 37.796875 6.203125 41.984375 11.859375 \nQ 46.1875 17.53125 46.1875 27.296875 \nQ 46.1875 37.015625 41.984375 42.703125 \nQ 37.796875 48.390625 30.609375 48.390625 \nz\nM 30.609375 56 \nQ 42.328125 56 49.015625 48.375 \nQ 55.71875 40.765625 55.71875 27.296875 \nQ 55.71875 13.875 49.015625 6.21875 \nQ 42.328125 -1.421875 30.609375 -1.421875 \nQ 18.84375 -1.421875 12.171875 6.21875 \nQ 5.515625 13.875 5.515625 27.296875 \nQ 5.515625 40.765625 12.171875 48.375 \nQ 18.84375 56 30.609375 56 \nz\n\" id=\"DejaVuSans-111\"/>\n        <path id=\"DejaVuSans-32\"/>\n       </defs>\n       <use xlink:href=\"#DejaVuSans-110\"/>\n       <use x=\"63.378906\" xlink:href=\"#DejaVuSans-111\"/>\n       <use x=\"124.560547\" xlink:href=\"#DejaVuSans-32\"/>\n       <use x=\"156.347656\" xlink:href=\"#DejaVuSans-109\"/>\n       <use x=\"253.759766\" xlink:href=\"#DejaVuSans-97\"/>\n       <use x=\"315.039062\" xlink:href=\"#DejaVuSans-116\"/>\n       <use x=\"354.248047\" xlink:href=\"#DejaVuSans-99\"/>\n       <use x=\"409.228516\" xlink:href=\"#DejaVuSans-104\"/>\n      </g>\n     </g>\n    </g>\n   </g>\n   <g id=\"matplotlib.axis_2\">\n    <g id=\"ytick_1\">\n     <g id=\"line2d_7\">\n      <path clip-path=\"url(#pfa353ee288)\" d=\"M 33.2875 224.64 \nL 368.0875 224.64 \n\" style=\"fill:none;stroke:#ffffff;stroke-linecap:square;stroke-width:0.8;\"/>\n     </g>\n     <g id=\"line2d_8\">\n      <defs>\n       <path d=\"M 0 0 \nL -3.5 0 \n\" id=\"m440a4917cf\" style=\"stroke:#555555;stroke-width:0.8;\"/>\n      </defs>\n      <g>\n       <use style=\"fill:#555555;stroke:#555555;stroke-width:0.8;\" x=\"33.2875\" xlink:href=\"#m440a4917cf\" y=\"224.64\"/>\n      </g>\n     </g>\n     <g id=\"text_4\">\n      <!-- 0 -->\n      <g style=\"fill:#555555;\" transform=\"translate(19.925 228.439219)scale(0.1 -0.1)\">\n       <defs>\n        <path d=\"M 31.78125 66.40625 \nQ 24.171875 66.40625 20.328125 58.90625 \nQ 16.5 51.421875 16.5 36.375 \nQ 16.5 21.390625 20.328125 13.890625 \nQ 24.171875 6.390625 31.78125 6.390625 \nQ 39.453125 6.390625 43.28125 13.890625 \nQ 47.125 21.390625 47.125 36.375 \nQ 47.125 51.421875 43.28125 58.90625 \nQ 39.453125 66.40625 31.78125 66.40625 \nz\nM 31.78125 74.21875 \nQ 44.046875 74.21875 50.515625 64.515625 \nQ 56.984375 54.828125 56.984375 36.375 \nQ 56.984375 17.96875 50.515625 8.265625 \nQ 44.046875 -1.421875 31.78125 -1.421875 \nQ 19.53125 -1.421875 13.0625 8.265625 \nQ 6.59375 17.96875 6.59375 36.375 \nQ 6.59375 54.828125 13.0625 64.515625 \nQ 19.53125 74.21875 31.78125 74.21875 \nz\n\" id=\"DejaVuSans-48\"/>\n       </defs>\n       <use xlink:href=\"#DejaVuSans-48\"/>\n      </g>\n     </g>\n    </g>\n    <g id=\"ytick_2\">\n     <g id=\"line2d_9\">\n      <path clip-path=\"url(#pfa353ee288)\" d=\"M 33.2875 178.51846 \nL 368.0875 178.51846 \n\" style=\"fill:none;stroke:#ffffff;stroke-linecap:square;stroke-width:0.8;\"/>\n     </g>\n     <g id=\"line2d_10\">\n      <g>\n       <use style=\"fill:#555555;stroke:#555555;stroke-width:0.8;\" x=\"33.2875\" xlink:href=\"#m440a4917cf\" y=\"178.51846\"/>\n      </g>\n     </g>\n     <g id=\"text_5\">\n      <!-- 100 -->\n      <g style=\"fill:#555555;\" transform=\"translate(7.2 182.317679)scale(0.1 -0.1)\">\n       <defs>\n        <path d=\"M 12.40625 8.296875 \nL 28.515625 8.296875 \nL 28.515625 63.921875 \nL 10.984375 60.40625 \nL 10.984375 69.390625 \nL 28.421875 72.90625 \nL 38.28125 72.90625 \nL 38.28125 8.296875 \nL 54.390625 8.296875 \nL 54.390625 0 \nL 12.40625 0 \nz\n\" id=\"DejaVuSans-49\"/>\n       </defs>\n       <use xlink:href=\"#DejaVuSans-49\"/>\n       <use x=\"63.623047\" xlink:href=\"#DejaVuSans-48\"/>\n       <use x=\"127.246094\" xlink:href=\"#DejaVuSans-48\"/>\n      </g>\n     </g>\n    </g>\n    <g id=\"ytick_3\">\n     <g id=\"line2d_11\">\n      <path clip-path=\"url(#pfa353ee288)\" d=\"M 33.2875 132.39692 \nL 368.0875 132.39692 \n\" style=\"fill:none;stroke:#ffffff;stroke-linecap:square;stroke-width:0.8;\"/>\n     </g>\n     <g id=\"line2d_12\">\n      <g>\n       <use style=\"fill:#555555;stroke:#555555;stroke-width:0.8;\" x=\"33.2875\" xlink:href=\"#m440a4917cf\" y=\"132.39692\"/>\n      </g>\n     </g>\n     <g id=\"text_6\">\n      <!-- 200 -->\n      <g style=\"fill:#555555;\" transform=\"translate(7.2 136.196139)scale(0.1 -0.1)\">\n       <defs>\n        <path d=\"M 19.1875 8.296875 \nL 53.609375 8.296875 \nL 53.609375 0 \nL 7.328125 0 \nL 7.328125 8.296875 \nQ 12.9375 14.109375 22.625 23.890625 \nQ 32.328125 33.6875 34.8125 36.53125 \nQ 39.546875 41.84375 41.421875 45.53125 \nQ 43.3125 49.21875 43.3125 52.78125 \nQ 43.3125 58.59375 39.234375 62.25 \nQ 35.15625 65.921875 28.609375 65.921875 \nQ 23.96875 65.921875 18.8125 64.3125 \nQ 13.671875 62.703125 7.8125 59.421875 \nL 7.8125 69.390625 \nQ 13.765625 71.78125 18.9375 73 \nQ 24.125 74.21875 28.421875 74.21875 \nQ 39.75 74.21875 46.484375 68.546875 \nQ 53.21875 62.890625 53.21875 53.421875 \nQ 53.21875 48.921875 51.53125 44.890625 \nQ 49.859375 40.875 45.40625 35.40625 \nQ 44.1875 33.984375 37.640625 27.21875 \nQ 31.109375 20.453125 19.1875 8.296875 \nz\n\" id=\"DejaVuSans-50\"/>\n       </defs>\n       <use xlink:href=\"#DejaVuSans-50\"/>\n       <use x=\"63.623047\" xlink:href=\"#DejaVuSans-48\"/>\n       <use x=\"127.246094\" xlink:href=\"#DejaVuSans-48\"/>\n      </g>\n     </g>\n    </g>\n    <g id=\"ytick_4\">\n     <g id=\"line2d_13\">\n      <path clip-path=\"url(#pfa353ee288)\" d=\"M 33.2875 86.27538 \nL 368.0875 86.27538 \n\" style=\"fill:none;stroke:#ffffff;stroke-linecap:square;stroke-width:0.8;\"/>\n     </g>\n     <g id=\"line2d_14\">\n      <g>\n       <use style=\"fill:#555555;stroke:#555555;stroke-width:0.8;\" x=\"33.2875\" xlink:href=\"#m440a4917cf\" y=\"86.27538\"/>\n      </g>\n     </g>\n     <g id=\"text_7\">\n      <!-- 300 -->\n      <g style=\"fill:#555555;\" transform=\"translate(7.2 90.074599)scale(0.1 -0.1)\">\n       <defs>\n        <path d=\"M 40.578125 39.3125 \nQ 47.65625 37.796875 51.625 33 \nQ 55.609375 28.21875 55.609375 21.1875 \nQ 55.609375 10.40625 48.1875 4.484375 \nQ 40.765625 -1.421875 27.09375 -1.421875 \nQ 22.515625 -1.421875 17.65625 -0.515625 \nQ 12.796875 0.390625 7.625 2.203125 \nL 7.625 11.71875 \nQ 11.71875 9.328125 16.59375 8.109375 \nQ 21.484375 6.890625 26.8125 6.890625 \nQ 36.078125 6.890625 40.9375 10.546875 \nQ 45.796875 14.203125 45.796875 21.1875 \nQ 45.796875 27.640625 41.28125 31.265625 \nQ 36.765625 34.90625 28.71875 34.90625 \nL 20.21875 34.90625 \nL 20.21875 43.015625 \nL 29.109375 43.015625 \nQ 36.375 43.015625 40.234375 45.921875 \nQ 44.09375 48.828125 44.09375 54.296875 \nQ 44.09375 59.90625 40.109375 62.90625 \nQ 36.140625 65.921875 28.71875 65.921875 \nQ 24.65625 65.921875 20.015625 65.03125 \nQ 15.375 64.15625 9.8125 62.3125 \nL 9.8125 71.09375 \nQ 15.4375 72.65625 20.34375 73.4375 \nQ 25.25 74.21875 29.59375 74.21875 \nQ 40.828125 74.21875 47.359375 69.109375 \nQ 53.90625 64.015625 53.90625 55.328125 \nQ 53.90625 49.265625 50.4375 45.09375 \nQ 46.96875 40.921875 40.578125 39.3125 \nz\n\" id=\"DejaVuSans-51\"/>\n       </defs>\n       <use xlink:href=\"#DejaVuSans-51\"/>\n       <use x=\"63.623047\" xlink:href=\"#DejaVuSans-48\"/>\n       <use x=\"127.246094\" xlink:href=\"#DejaVuSans-48\"/>\n      </g>\n     </g>\n    </g>\n    <g id=\"ytick_5\">\n     <g id=\"line2d_15\">\n      <path clip-path=\"url(#pfa353ee288)\" d=\"M 33.2875 40.15384 \nL 368.0875 40.15384 \n\" style=\"fill:none;stroke:#ffffff;stroke-linecap:square;stroke-width:0.8;\"/>\n     </g>\n     <g id=\"line2d_16\">\n      <g>\n       <use style=\"fill:#555555;stroke:#555555;stroke-width:0.8;\" x=\"33.2875\" xlink:href=\"#m440a4917cf\" y=\"40.15384\"/>\n      </g>\n     </g>\n     <g id=\"text_8\">\n      <!-- 400 -->\n      <g style=\"fill:#555555;\" transform=\"translate(7.2 43.953059)scale(0.1 -0.1)\">\n       <defs>\n        <path d=\"M 37.796875 64.3125 \nL 12.890625 25.390625 \nL 37.796875 25.390625 \nz\nM 35.203125 72.90625 \nL 47.609375 72.90625 \nL 47.609375 25.390625 \nL 58.015625 25.390625 \nL 58.015625 17.1875 \nL 47.609375 17.1875 \nL 47.609375 0 \nL 37.796875 0 \nL 37.796875 17.1875 \nL 4.890625 17.1875 \nL 4.890625 26.703125 \nz\n\" id=\"DejaVuSans-52\"/>\n       </defs>\n       <use xlink:href=\"#DejaVuSans-52\"/>\n       <use x=\"63.623047\" xlink:href=\"#DejaVuSans-48\"/>\n       <use x=\"127.246094\" xlink:href=\"#DejaVuSans-48\"/>\n      </g>\n     </g>\n    </g>\n   </g>\n   <g id=\"patch_3\">\n    <path clip-path=\"url(#pfa353ee288)\" d=\"M 48.505682 224.64 \nL 135.466721 224.64 \nL 135.466721 17.554286 \nL 48.505682 17.554286 \nz\n\" style=\"fill:#e24a33;\"/>\n   </g>\n   <g id=\"patch_4\">\n    <path clip-path=\"url(#pfa353ee288)\" d=\"M 157.206981 224.64 \nL 244.168019 224.64 \nL 244.168019 85.814165 \nL 157.206981 85.814165 \nz\n\" style=\"fill:#e24a33;\"/>\n   </g>\n   <g id=\"patch_5\">\n    <path clip-path=\"url(#pfa353ee288)\" d=\"M 265.908279 224.64 \nL 352.869318 224.64 \nL 352.869318 217.260554 \nL 265.908279 217.260554 \nz\n\" style=\"fill:#e24a33;\"/>\n   </g>\n   <g id=\"patch_6\">\n    <path d=\"M 33.2875 224.64 \nL 33.2875 7.2 \n\" style=\"fill:none;stroke:#ffffff;stroke-linecap:square;stroke-linejoin:miter;\"/>\n   </g>\n   <g id=\"patch_7\">\n    <path d=\"M 368.0875 224.64 \nL 368.0875 7.2 \n\" style=\"fill:none;stroke:#ffffff;stroke-linecap:square;stroke-linejoin:miter;\"/>\n   </g>\n   <g id=\"patch_8\">\n    <path d=\"M 33.2875 224.64 \nL 368.0875 224.64 \n\" style=\"fill:none;stroke:#ffffff;stroke-linecap:square;stroke-linejoin:miter;\"/>\n   </g>\n   <g id=\"patch_9\">\n    <path d=\"M 33.2875 7.2 \nL 368.0875 7.2 \n\" style=\"fill:none;stroke:#ffffff;stroke-linecap:square;stroke-linejoin:miter;\"/>\n   </g>\n  </g>\n </g>\n <defs>\n  <clipPath id=\"pfa353ee288\">\n   <rect height=\"217.44\" width=\"334.8\" x=\"33.2875\" y=\"7.2\"/>\n  </clipPath>\n </defs>\n</svg>\n",
      "image/png": "[encoded data removed]"
     },
     "metadata": {}
    }
   ],
   "source": [
    "cd_first_candidate[\"estimate\"].value_counts()\n",
    "plt.bar([\"partial\", \"match\", \"no match\"],cd_first_candidate[\"estimate\"].value_counts())\n",
    "cd_table[\"estimate\"].value_counts()"
   ]
  },
  {
   "cell_type": "code",
   "execution_count": 206,
   "metadata": {},
   "outputs": [
    {
     "output_type": "execute_result",
     "data": {
      "text/plain": [
       "{'precision:': 0.9673629242819843}"
      ]
     },
     "metadata": {},
     "execution_count": 206
    }
   ],
   "source": [
    "truth = cd_first_candidate[\"wikidata\"].values\r\n",
    "estimate \r\n",
    "{\"precision:\" : metrics.precision_score(cd_first_candidate[\"wikidata\"].values,cd_first_candidate[\"cd_wd_id\"].values, average=\"macro\")}"
   ]
  },
  {
   "cell_type": "code",
   "execution_count": 204,
   "metadata": {},
   "outputs": [
    {
     "output_type": "execute_result",
     "data": {
      "text/plain": [
       "0.9673629242819843"
      ]
     },
     "metadata": {},
     "execution_count": 204
    }
   ],
   "source": [
    "#metrics.top_k_accuracy_score(cd_first_candidate[\"wikidata\"].values,cd_first_candidate[\"cd_wd_id\"].values )\n",
    "\n",
    "metrics.accuracy_score(cd_first_candidate[\"wikidata\"].values,cd_first_candidate[\"cd_wd_id\"].values)"
   ]
  },
  {
   "cell_type": "code",
   "execution_count": 113,
   "metadata": {},
   "outputs": [],
   "source": [
    "onehot = OneHotEncoder(sparse=False)"
   ]
  },
  {
   "cell_type": "code",
   "execution_count": 128,
   "metadata": {},
   "outputs": [
    {
     "output_type": "execute_result",
     "data": {
      "text/plain": [
       "id\n",
       "00023638949ec143e690ae151d28e389574f07dc     Q51533040\n",
       "001d48bf2913572202d88f00e35262f490771b40     Q81526090\n",
       "00ad3c5b5a651f6e00080803ffefb1d306c6d027     Q20752545\n",
       "00def69ad3d13efe8151da80f1485a692954d183    Q102353097\n",
       "00e70efc17aff680e675349ca87d7b80be04c452     Q50843964\n",
       "                                               ...    \n",
       "fcc94a122228733902b6f601abc54631aa205a4b     Q54956531\n",
       "fd6b5ddebf7ed34449bac5a96eb2acbdbf5e4a3e     Q84091498\n",
       "fdc8f2275cf8bea8331ea4a779755915d0c29363     Q87653139\n",
       "fe532c498a07fc06380579af855e68389239c43b     Q19501935\n",
       "fea62afd157dd3f7ec3253d21547bb3b0a6f30bf     Q81616188\n",
       "Name: cd_wd_id, Length: 766, dtype: object"
      ]
     },
     "metadata": {},
     "execution_count": 128
    }
   ],
   "source": [
    "cd_first_candidate[\"cd_wd_id\"]"
   ]
  }
 ],
 "metadata": {
  "kernelspec": {
   "display_name": "Python 3",
   "language": "python",
   "name": "python3"
  },
  "language_info": {
   "codemirror_mode": {
    "name": "ipython",
    "version": 3
   },
   "file_extension": ".py",
   "mimetype": "text/x-python",
   "name": "python",
   "nbconvert_exporter": "python",
   "pygments_lexer": "ipython3",
   "version": "3.8.5-final"
  }
 },
 "nbformat": 4,
 "nbformat_minor": 5
}