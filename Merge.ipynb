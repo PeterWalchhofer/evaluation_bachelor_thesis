{
 "metadata": {
  "language_info": {
   "codemirror_mode": {
    "name": "ipython",
    "version": 3
   },
   "file_extension": ".py",
   "mimetype": "text/x-python",
   "name": "python",
   "nbconvert_exporter": "python",
   "pygments_lexer": "ipython3",
   "version": "3.9.2"
  },
  "orig_nbformat": 2,
  "kernelspec": {
   "name": "python392jvsc74a57bd0bb03fd57f0abe20aaa44405faada2d45c76eeb8f5b4a3cb120ceb3cb1a26d008",
   "display_name": "Python 3.9.2 64-bit ('bachelor_thesis': conda)"
  }
 },
 "nbformat": 4,
 "nbformat_minor": 2,
 "cells": [
  {
   "cell_type": "code",
   "execution_count": 2,
   "metadata": {},
   "outputs": [],
   "source": [
    "import followthemoney as ftm\n",
    "import followthemoney_enrich as ftm_enrich\n",
    "import followthemoney.model as model\n",
    "from followthemoney.dedupe import Match, Linker\n",
    "import json\n",
    "import pandas as pd\n",
    "import alephclient.api   as api"
   ]
  },
  {
   "cell_type": "code",
   "execution_count": 115,
   "metadata": {},
   "outputs": [],
   "source": [
    "def read_ftm_json(path, filter = \"Person\"):\n",
    "    entity_dict = {}\n",
    "    with open(path) as f:\n",
    "        for line in f:\n",
    "            entity = model.get_proxy(json.loads(line))\n",
    "            wd = entity.first(\"wikidataId\", True)\n",
    "            if entity.schema.name == filter:\n",
    "                if wd:\n",
    "                    entity_dict[wd] = entity\n",
    "    return entity_dict\n",
    "path = \"./data/output/\""
   ]
  },
  {
   "cell_type": "code",
   "execution_count": 116,
   "metadata": {
    "tags": []
   },
   "outputs": [],
   "source": [
    "path = \"./data/output/\"\n",
    "ep_path = path + \"everypolitician.json\"\n",
    "ma_path = path + \"meineabgeordneten_wikidata.json\"\n",
    "mein_abg = read_ftm_json(ma_path)\n",
    "every_polit = read_ftm_json(ep_path)"
   ]
  },
  {
   "cell_type": "code",
   "execution_count": 128,
   "metadata": {
    "tags": []
   },
   "outputs": [],
   "source": [
    "for _, every in every_polit.items():\n",
    "    if len(every) >1 :\n",
    "        print(every)"
   ]
  },
  {
   "source": [
    "# Matching\n",
    "We will check for equal Wikidata IDs and create a Match object. A match objects holds two entity IDs and a decision about the sameness."
   ],
   "cell_type": "markdown",
   "metadata": {}
  },
  {
   "cell_type": "code",
   "execution_count": 86,
   "metadata": {},
   "outputs": [],
   "source": [
    "enricher = ftm_enrich.enricher.Enricher()"
   ]
  },
  {
   "cell_type": "code",
   "execution_count": 113,
   "metadata": {
    "tags": []
   },
   "outputs": [],
   "source": [
    "matches = []\n",
    "for idx, abg in mein_abg.items():\n",
    "    polit = every_polit.get(idx)\n",
    "    if polit:\n",
    "        #print(polit.to_dict())\n",
    "        match = enricher.make_match(polit, abg)\n",
    "        match = Match(model, {})\n",
    "        match.entity=  polit\n",
    "        match.canonical =  abg\n",
    "        match.decision = match.SAME\n",
    "        matches.append(match)\n"
   ]
  },
  {
   "source": [
    "In total, there are 77 matching person entities with respect to the wikidata ID."
   ],
   "cell_type": "markdown",
   "metadata": {}
  },
  {
   "cell_type": "code",
   "execution_count": 114,
   "metadata": {},
   "outputs": [
    {
     "output_type": "execute_result",
     "data": {
      "text/plain": [
       "77"
      ]
     },
     "metadata": {},
     "execution_count": 114
    }
   ],
   "source": [
    "len(matches)"
   ]
  },
  {
   "source": [
    "# Merging\n",
    "The merging logic actually exists in the ftm [repository](https://github.com/alephdata/followthemoney/blob/6cb55e319f69443dff17bf1ee5dd1a37a31b5c4a/followthemoney/cli/dedupe.py) and works the following:\n",
    "\n",
    "1. Create a linker object, which takes match objects and checks if there is a sameness decision.\n",
    "2. If so, add the pair to a hashmap (Python dict) in the linker object.\n",
    "3. Iterate through both collection of to-be-merged entities and pass each entity to the linker object (which knows the links). If the entity's ID is stored in the hashmap, swap the entity ID. If not, keep the ID. This also applies for \"edges\", such as memberships.\n",
    "4. Write to file. \n",
    "5. As we have duplicates, we aggregate, which merges items with the same ID. Merging just unions both, properties and their values. Therefore, same properties are merged, and different ones are just added to the multi-valued list."
   ],
   "cell_type": "markdown",
   "metadata": {}
  },
  {
   "source": [
    "## Example"
   ],
   "cell_type": "markdown",
   "metadata": {}
  },
  {
   "cell_type": "code",
   "execution_count": 143,
   "metadata": {},
   "outputs": [
    {
     "output_type": "execute_result",
     "data": {
      "text/plain": [
       "{'a': '891bd4dbcf5506d489f8d6e757ace9411eccee55',\n",
       " 'b': '3ac4e58acef775a8f047f1381dd2947fb0ee4464',\n",
       " 'merged': '891bd4dbcf5506d489f8d6e757ace9411eccee55',\n",
       " 'result': {'name': ['hans keslen', 'Dr. Dr. hans keslen'],\n",
       "  'title': ['Dr'],\n",
       "  'birthDate': ['1908', '1908-07-06']}}"
      ]
     },
     "metadata": {},
     "execution_count": 143
    }
   ],
   "source": [
    "linker_exmpl = Linker(model)\n",
    "\n",
    "a = ftm.model.make_entity(\"Person\")\n",
    "a.add(\"name\", \"hans keslen\")\n",
    "a.add(\"title\", \"Dr\")\n",
    "a.add(\"birthDate\", \"1908-07-06\")\n",
    "a.make_id(\"hans kelsen\")\n",
    "\n",
    "b = ftm.model.make_entity(\"Person\")\n",
    "b.add(\"name\", \"Dr. Dr. hans keslen\")\n",
    "b.add(\"birthDate\", \"1908\")\n",
    "b.add(\"title\", \"Dr\")\n",
    "b.make_id(\"Dr. Dr. Hans Kelsen\")\n",
    "\n",
    "match = enricher.make_match(a, b)\n",
    "match.decision = match.SAME\n",
    "linker_exmpl.add(match)\n",
    "\n",
    "merged_ent  = a.merge(b)\n",
    "{\n",
    "    \"a\": a.id,\n",
    "    \"b\": b.id,\n",
    "    \"merged\": merged_ent.id,\n",
    "    \"result\": merged_ent.to_dict()[\"properties\"]}"
   ]
  },
  {
   "cell_type": "code",
   "execution_count": 90,
   "metadata": {},
   "outputs": [],
   "source": [
    "# logic adapted form https://github.com/alephdata/followthemoney/blob/6cb55e319f69443dff17bf1ee5dd1a37a31b5c4a/followthemoney/cli/dedupe.py\n",
    "\n",
    "linker = Linker(model)\n",
    "for match in matches: \n",
    "    linker.add(match)\n"
   ]
  },
  {
   "cell_type": "code",
   "execution_count": 91,
   "metadata": {},
   "outputs": [],
   "source": [
    "def mergeEntities(inpath, outfile, linker):\n",
    "    infile = open(inpath)\n",
    "\n",
    "    with infile as f:\n",
    "        for line in f:\n",
    "            entity = model.get_proxy(json.loads(line))\n",
    "            applied = linker.apply(entity)\n",
    "            \n",
    "\n",
    "            json_ent = json.dumps(applied.to_dict(), sort_keys=True)\n",
    "            outfile.write(json_ent + \"\\n\")\n",
    "\n",
    "merged_path  = path + \"/merged/merged.json\"\n",
    "outfile = open(merged_path,  \"w\")\n",
    "mergeEntities(ep_path , outfile, linker)\n",
    "mergeEntities(ma_path, outfile, linker)\n",
    "merged_aggr_path = path + \"/merged/merged_aggr.json\""
   ]
  },
  {
   "source": [
    "### Aggregate CLI command"
   ],
   "cell_type": "markdown",
   "metadata": {}
  },
  {
   "cell_type": "code",
   "execution_count": 92,
   "metadata": {
    "tags": []
   },
   "outputs": [],
   "source": [
    "%%bash -s \"$merged_path\" \"$merged_aggr_path\"\n",
    "cat $1 | ftm aggregate -o $1\n"
   ]
  },
  {
   "cell_type": "code",
   "execution_count": 6,
   "metadata": {},
   "outputs": [
    {
     "output_type": "execute_result",
     "data": {
      "text/plain": [
       "alephclient.api.AlephAPI"
      ]
     },
     "metadata": {},
     "execution_count": 6
    }
   ],
   "source": [
    "api.AlephAPI.get_collection()"
   ]
  }
 ]
}