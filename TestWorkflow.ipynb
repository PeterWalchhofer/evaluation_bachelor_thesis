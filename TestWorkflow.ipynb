{
 "metadata": {
  "language_info": {
   "codemirror_mode": {
    "name": "ipython",
    "version": 3
   },
   "file_extension": ".py",
   "mimetype": "text/x-python",
   "name": "python",
   "nbconvert_exporter": "python",
   "pygments_lexer": "ipython3",
   "version": "3.9.2"
  },
  "orig_nbformat": 2,
  "kernelspec": {
   "name": "python392jvsc74a57bd0bb03fd57f0abe20aaa44405faada2d45c76eeb8f5b4a3cb120ceb3cb1a26d008",
   "display_name": "Python 3.9.2 64-bit ('bachelor_thesis': conda)"
  }
 },
 "nbformat": 4,
 "nbformat_minor": 2,
 "cells": [
  {
   "cell_type": "code",
   "execution_count": 1,
   "metadata": {},
   "outputs": [],
   "source": [
    "import alephclient\n",
    "import os"
   ]
  },
  {
   "source": [
    "# Testing on the live instance\n",
    "This notebook has no scientific purpose, but ease testing on the live instance of Aleph."
   ],
   "cell_type": "markdown",
   "metadata": {}
  },
  {
   "cell_type": "code",
   "execution_count": 2,
   "metadata": {},
   "outputs": [],
   "source": [
    "path = \"data/testWorkflow\""
   ]
  },
  {
   "cell_type": "code",
   "execution_count": 3,
   "metadata": {},
   "outputs": [],
   "source": [
    "host=\"http://localhost:3000\"\n",
    "api_key=\"lUuPrgpmvqM24Mktqbtefw8cmPGY9U4ky0eotN44Kbc\" \n",
    "coll_1 = \"3b41686198c643e1913eafe2aed108d1\"#\"ce6318ac176844bf90410c83d7e1cd87\"\n",
    "coll_2 = \"edf9766479254e4fafbd2a3114774dec\"#\"a137123a9cf04445892a6fb127ba4013\"\n",
    "target_collection_id = \"4b713bcbe372492894529764d7f8096e\"\n",
    "unlabled = \"./data/meineabgeordneten_agg.json\""
   ]
  },
  {
   "cell_type": "code",
   "execution_count": 4,
   "metadata": {},
   "outputs": [],
   "source": [
    "collpath_1 = path + \"/coll1.json\"\n",
    "collpath_2 = path + \"/coll2.json\""
   ]
  },
  {
   "cell_type": "code",
   "execution_count": null,
   "metadata": {},
   "outputs": [],
   "source": [
    "%%bash\n",
    "pip install ./merger"
   ]
  },
  {
   "source": [
    "# Load Collections From Aleph\n"
   ],
   "cell_type": "markdown",
   "metadata": {}
  },
  {
   "source": [
    "Collection 1"
   ],
   "cell_type": "markdown",
   "metadata": {}
  },
  {
   "cell_type": "code",
   "execution_count": 14,
   "metadata": {},
   "outputs": [],
   "source": [
    "%%bash -s \"$host\" \"$api_key\" \"$coll_1\" \"$collpath_1\" \n",
    "alephclient --host $1 --api-key $2 stream-entities -f $3 | ftm aggregate -o $4"
   ]
  },
  {
   "source": [
    "Collection 2"
   ],
   "cell_type": "markdown",
   "metadata": {}
  },
  {
   "cell_type": "code",
   "execution_count": 15,
   "metadata": {
    "tags": []
   },
   "outputs": [],
   "source": [
    "%%bash -s \"$host\" \"$api_key\" \"$coll_2\" \"$collpath_2\" \n",
    "alephclient --host $1 --api-key $2 stream-entities -f $3 | ftm aggregate -o $4"
   ]
  },
  {
   "source": [
    "# Enrich"
   ],
   "cell_type": "markdown",
   "metadata": {}
  },
  {
   "cell_type": "code",
   "execution_count": 19,
   "metadata": {},
   "outputs": [],
   "source": [
    "enrich_path = path + \"/enrich.json\""
   ]
  },
  {
   "source": [
    "%%bash -s \"$path\" \"$enrich_path\"\n",
    "merger extract -i $1 -p wikidataId | merger enrich -o $2"
   ],
   "cell_type": "code",
   "metadata": {},
   "execution_count": 20,
   "outputs": [
    {
     "output_type": "stream",
     "name": "stderr",
     "text": [
      "Item with id 'Q12345' not matchable to FtM\n/home/peter/anaconda3/envs/bachelor_thesis/lib/python3.9/site-packages/countrynames/__init__.py:21: ICUWarning: Install 'pyicu' for better text transliteration.\n  return normalize(country, latinize=True)\nItem with id 'Q83822' not matchable to FtM\n"
     ]
    }
   ]
  },
  {
   "source": [
    "# Merge"
   ],
   "cell_type": "markdown",
   "metadata": {}
  },
  {
   "cell_type": "code",
   "execution_count": 21,
   "metadata": {},
   "outputs": [],
   "source": [
    "cli_merged = \"data/testWorkflow/mgd/merged.json\""
   ]
  },
  {
   "cell_type": "code",
   "execution_count": 22,
   "metadata": {},
   "outputs": [],
   "source": [
    "%%bash -s \"$path\" \"$cli_merged\"\n",
    "merger pmatch -i $1 | merger pmerge  -i $1 | ftm aggregate -o $2 "
   ]
  },
  {
   "source": [
    "# Upload"
   ],
   "cell_type": "markdown",
   "metadata": {}
  },
  {
   "cell_type": "code",
   "execution_count": 19,
   "metadata": {},
   "outputs": [],
   "source": [
    "%%bash -s \"$host\" \"$api_key\" \"$target_collection_id\" \"$cli_merged\" \n",
    "cat $4 | alephclient --host $1 --api-key $2 write-entities -f $3"
   ]
  },
  {
   "source": [
    "# Delete Target Collection"
   ],
   "cell_type": "markdown",
   "metadata": {}
  },
  {
   "cell_type": "code",
   "execution_count": 10,
   "metadata": {},
   "outputs": [],
   "source": [
    "%%bash -s \"$host\" \"$api_key\" \"$target_collection_id\"\n",
    "alephclient --host $1 --api-key $2 flush -f $3"
   ]
  },
  {
   "cell_type": "code",
   "execution_count": null,
   "metadata": {},
   "outputs": [],
   "source": []
  }
 ]
}