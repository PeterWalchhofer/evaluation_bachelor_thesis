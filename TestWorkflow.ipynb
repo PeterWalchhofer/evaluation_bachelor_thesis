{
 "metadata": {
  "language_info": {
   "codemirror_mode": {
    "name": "ipython",
    "version": 3
   },
   "file_extension": ".py",
   "mimetype": "text/x-python",
   "name": "python",
   "nbconvert_exporter": "python",
   "pygments_lexer": "ipython3",
   "version": "3.9.2"
  },
  "orig_nbformat": 2,
  "kernelspec": {
   "name": "python392jvsc74a57bd0bb03fd57f0abe20aaa44405faada2d45c76eeb8f5b4a3cb120ceb3cb1a26d008",
   "display_name": "Python 3.9.2 64-bit ('bachelor_thesis': conda)"
  }
 },
 "nbformat": 4,
 "nbformat_minor": 2,
 "cells": [
  {
   "cell_type": "code",
   "execution_count": 3,
   "metadata": {},
   "outputs": [],
   "source": [
    "import alephclient\n",
    "import os"
   ]
  },
  {
   "cell_type": "code",
   "execution_count": 28,
   "metadata": {},
   "outputs": [],
   "source": [
    "path = \"data/testWorkflow\""
   ]
  },
  {
   "cell_type": "code",
   "execution_count": 35,
   "metadata": {},
   "outputs": [],
   "source": [
    "host=\"http://localhost:3000\"\n",
    "api_key=\"lUuPrgpmvqM24Mktqbtefw8cmPGY9U4ky0eotN44Kbc\" \n",
    "coll_1 = \"ce6318ac176844bf90410c83d7e1cd87\"#\"3b41686198c643e1913eafe2aed108d1\"#\n",
    "coll_2 = \"a137123a9cf04445892a6fb127ba4013\"#\"edf9766479254e4fafbd2a3114774dec\"#\n",
    "target_collection_id = \"4b713bcbe372492894529764d7f8096e\"\n",
    "unlabled = \"./data/meineabgeordneten_agg.json\""
   ]
  },
  {
   "cell_type": "code",
   "execution_count": 36,
   "metadata": {},
   "outputs": [],
   "source": [
    "collpath_1 = path + \"/coll1.json\"\n",
    "collpath_2 = path + \"/coll2.json\""
   ]
  },
  {
   "source": [
    "# Load"
   ],
   "cell_type": "markdown",
   "metadata": {}
  },
  {
   "cell_type": "code",
   "execution_count": 37,
   "metadata": {},
   "outputs": [],
   "source": [
    "%%bash -s \"$host\" \"$api_key\" \"$coll_1\" \"$collpath_1\" \n",
    "alephclient --host $1 --api-key $2 stream-entities -f $3 | ftm aggregate -o $4"
   ]
  },
  {
   "cell_type": "code",
   "execution_count": 38,
   "metadata": {
    "tags": []
   },
   "outputs": [],
   "source": [
    "%%bash -s \"$host\" \"$api_key\" \"$coll_2\" \"$collpath_2\" \n",
    "alephclient --host $1 --api-key $2 stream-entities -f $3 | ftm aggregate -o $4"
   ]
  },
  {
   "source": [
    "# Merge"
   ],
   "cell_type": "markdown",
   "metadata": {}
  },
  {
   "cell_type": "code",
   "execution_count": 39,
   "metadata": {},
   "outputs": [],
   "source": [
    "%run -i wd_merger.py id-match -i data/testWorkflow -m data/testWorkflow/mgd/match.json"
   ]
  },
  {
   "cell_type": "code",
   "execution_count": 40,
   "metadata": {},
   "outputs": [],
   "source": [
    "%run -i wd_merger.py merger -i data/testWorkflow -o data/testWorkflow/mgd/mgd.json -m data/testWorkflow/mgd/match.json"
   ]
  },
  {
   "cell_type": "code",
   "execution_count": 48,
   "metadata": {},
   "outputs": [],
   "source": [
    "%%bash \n",
    "ftm aggregate -i data/testWorkflow/mgd/mgd.json -o data/testWorkflow/mgd/merged.json"
   ]
  },
  {
   "source": [
    "# Upload"
   ],
   "cell_type": "markdown",
   "metadata": {}
  },
  {
   "cell_type": "code",
   "execution_count": 49,
   "metadata": {},
   "outputs": [
    {
     "output_type": "stream",
     "name": "stderr",
     "text": [
      "INFO:alephclient.cli:[4b713bcbe372492894529764d7f8096e] Bulk load entities: 1000...\nINFO:alephclient.cli:[4b713bcbe372492894529764d7f8096e] Bulk load entities: 2000...\nINFO:alephclient.cli:[4b713bcbe372492894529764d7f8096e] Bulk load entities: 3000...\nINFO:alephclient.cli:[4b713bcbe372492894529764d7f8096e] Bulk load entities: 4000...\nINFO:alephclient.cli:[4b713bcbe372492894529764d7f8096e] Bulk load entities: 5000...\nINFO:alephclient.cli:[4b713bcbe372492894529764d7f8096e] Bulk load entities: 6000...\nINFO:alephclient.cli:[4b713bcbe372492894529764d7f8096e] Bulk load entities: 7000...\nINFO:alephclient.cli:[4b713bcbe372492894529764d7f8096e] Bulk load entities: 8000...\nINFO:alephclient.cli:[4b713bcbe372492894529764d7f8096e] Bulk load entities: 9000...\nINFO:alephclient.cli:[4b713bcbe372492894529764d7f8096e] Bulk load entities: 10000...\nINFO:alephclient.cli:[4b713bcbe372492894529764d7f8096e] Bulk load entities: 11000...\nINFO:alephclient.cli:[4b713bcbe372492894529764d7f8096e] Bulk load entities: 12000...\nINFO:alephclient.cli:[4b713bcbe372492894529764d7f8096e] Bulk load entities: 13000...\nINFO:alephclient.cli:[4b713bcbe372492894529764d7f8096e] Bulk load entities: 14000...\nINFO:alephclient.cli:[4b713bcbe372492894529764d7f8096e] Bulk load entities: 15000...\nINFO:alephclient.cli:[4b713bcbe372492894529764d7f8096e] Bulk load entities: 16000...\nINFO:alephclient.cli:[4b713bcbe372492894529764d7f8096e] Bulk load entities: 17000...\nINFO:alephclient.cli:[4b713bcbe372492894529764d7f8096e] Bulk load entities: 18000...\nINFO:alephclient.cli:[4b713bcbe372492894529764d7f8096e] Bulk load entities: 19000...\n"
     ]
    }
   ],
   "source": [
    "%%bash -s \"$host\" \"$api_key\" \"$target_collection_id\" \n",
    "cat data/testWorkflow/mgd/merged.json | alephclient --host $1 --api-key $2 write-entities -f $3"
   ]
  },
  {
   "cell_type": "code",
   "execution_count": 43,
   "metadata": {},
   "outputs": [],
   "source": [
    "%%bash -s \"$host\" \"$api_key\" \"$target_collection_id\"\n",
    "alephclient --host $1 --api-key $2 flush -f $3"
   ]
  }
 ]
}